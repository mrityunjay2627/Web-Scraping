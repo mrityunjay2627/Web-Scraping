{
  "nbformat": 4,
  "nbformat_minor": 0,
  "metadata": {
    "colab": {
      "provenance": [],
      "collapsed_sections": [
        "BPH_XDEevTBP"
      ],
      "authorship_tag": "ABX9TyMM0LeL0SRHCYLm5j1qT+NB"
    },
    "kernelspec": {
      "name": "python3",
      "display_name": "Python 3"
    },
    "language_info": {
      "name": "python"
    }
  },
  "cells": [
    {
      "cell_type": "markdown",
      "source": [
        "**Web scraping is, essentially, the practice of substituting a web browser for an application of your own design. Because of this, it’s important to understand the standards and frameworks that web browsers are built on. As a web scraper, you must both mimic and, at times, subvert the expected internet customs and practices.**"
      ],
      "metadata": {
        "id": "KYeGziGalauf"
      }
    },
    {
      "cell_type": "code",
      "source": [],
      "metadata": {
        "id": "IWFNxP4Ww0MC"
      },
      "execution_count": 3,
      "outputs": []
    },
    {
      "cell_type": "markdown",
      "source": [
        "### Web Scraping Freestyle Tryout"
      ],
      "metadata": {
        "id": "BPH_XDEevTBP"
      }
    },
    {
      "cell_type": "markdown",
      "source": [
        "urllib is a standard Python library and contains functions for requesting data across the web, handling cookies, and even changing metadata such as headers and your user agent. We will be using urllib extensively throughout the book, so I recommend you read the Python documentation for the library.\n",
        "\n",
        "urlopen is used to open a remote object across a network and read it. Because it is a fairly generic function (it can read HTML files, image files, or any other file stream with ease), it will be used quite frequently."
      ],
      "metadata": {
        "id": "CDFQOAkcw0eb"
      }
    },
    {
      "cell_type": "code",
      "execution_count": 4,
      "metadata": {
        "id": "LdRpVOI1lQzb",
        "colab": {
          "base_uri": "https://localhost:8080/"
        },
        "outputId": "b7a09667-5f1e-4d70-fd78-5a9baccd27ef"
      },
      "outputs": [
        {
          "output_type": "stream",
          "name": "stdout",
          "text": [
            "b'<html>\\n<head>\\n<style>\\nimg{\\n\\twidth:75px;\\n}\\ntable{\\n\\twidth:50%;\\n}\\ntd{\\n\\tmargin:10px;\\n\\tpadding:10px;\\n}\\n.wrapper{\\n\\twidth:800px;\\n}\\n.excitingNote{\\n\\tfont-style:italic;\\n\\tfont-weight:bold;\\n}\\n</style>\\n</head>\\n<body>\\n<div id=\"wrapper\">\\n<img src=\"../img/gifts/logo.jpg\" style=\"float:left;\">\\n<h1>Totally Normal Gifts</h1>\\n<div id=\"content\">Here is a collection of totally normal, totally reasonable gifts that your friends are sure to love! Our collection is\\nhand-curated by well-paid, free-range Tibetan monks.<p>\\nWe haven\\'t figured out how to make online shopping carts yet, but you can send us a check to:<br>\\n123 Main St.<br>\\nAbuja, Nigeria\\n</br>We will then send your totally amazing gift, pronto! Please include an extra $5.00 for gift wrapping.</div>\\n<table id=\"giftList\">\\n<tr><th>\\nItem Title\\n</th><th>\\nDescription\\n</th><th>\\nCost\\n</th><th>\\nImage\\n</th></tr>\\n\\n<tr id=\"gift1\" class=\"gift\"><td>\\nVegetable Basket\\n</td><td>\\nThis vegetable basket is the perfect gift for your health conscious (or overweight) friends!\\n<span class=\"excitingNote\">Now with super-colorful bell peppers!</span>\\n</td><td>\\n$15.00\\n</td><td>\\n<img src=\"../img/gifts/img1.jpg\">\\n</td></tr>\\n\\n<tr id=\"gift2\" class=\"gift\"><td>\\nRussian Nesting Dolls\\n</td><td>\\nHand-painted by trained monkeys, these exquisite dolls are priceless! And by \"priceless,\" we mean \"extremely expensive\"! <span class=\"excitingNote\">8 entire dolls per set! Octuple the presents!</span>\\n</td><td>\\n$10,000.52\\n</td><td>\\n<img src=\"../img/gifts/img2.jpg\">\\n</td></tr>\\n\\n<tr id=\"gift3\" class=\"gift\"><td>\\nFish Painting\\n</td><td>\\nIf something seems fishy about this painting, it\\'s because it\\'s a fish! <span class=\"excitingNote\">Also hand-painted by trained monkeys!</span>\\n</td><td>\\n$10,005.00\\n</td><td>\\n<img src=\"../img/gifts/img3.jpg\">\\n</td></tr>\\n\\n<tr id=\"gift4\" class=\"gift\"><td>\\nDead Parrot\\n</td><td>\\nThis is an ex-parrot! <span class=\"excitingNote\">Or maybe he\\'s only resting?</span>\\n</td><td>\\n$0.50\\n</td><td>\\n<img src=\"../img/gifts/img4.jpg\">\\n</td></tr>\\n\\n<tr id=\"gift5\" class=\"gift\"><td>\\nMystery Box\\n</td><td>\\nIf you love suprises, this mystery box is for you! Do not place on light-colored surfaces. May cause oil staining. <span class=\"excitingNote\">Keep your friends guessing!</span>\\n</td><td>\\n$1.50\\n</td><td>\\n<img src=\"../img/gifts/img6.jpg\">\\n</td></tr>\\n</table>\\n</p>\\n<div id=\"footer\">\\n&copy; Totally Normal Gifts, Inc. <br>\\n+234 (617) 863-0736\\n</div>\\n\\n</div>\\n</body>\\n</html>\\n'\n"
          ]
        }
      ],
      "source": [
        "from urllib.request import urlopen\n",
        "\n",
        "html = urlopen('http://pythonscraping.com/pages/page3.html')\n",
        "print(html.read())"
      ]
    },
    {
      "cell_type": "code",
      "source": [
        "# from urllib.request import Request, urlopen\n",
        "\n",
        "# url = 'https://www.zillow.com/tempe-az/'\n",
        "# headers = {'User-Agent': 'Mozilla/5.0 (Windows NT 10.0; Win64; x64) AppleWebKit/537.36 (KHTML, like Gecko) Chrome/114.0.0.0 Safari/537.36'}\n",
        "\n",
        "# req = Request(url, headers=headers)\n",
        "# html = urlopen(req).read()\n",
        "\n",
        "# print(html.decode('utf-8'))  # Decode to string\n"
      ],
      "metadata": {
        "id": "j4RUhCpUz9Nb"
      },
      "execution_count": 5,
      "outputs": []
    },
    {
      "cell_type": "code",
      "source": [
        "# import requests\n",
        "\n",
        "# url = 'https://www.zillow.com/tempe-az/'\n",
        "# headers = {'User-Agent': 'Mozilla/5.0 (Windows NT 10.0; Win64; x64) AppleWebKit/537.36 (KHTML, like Gecko) Chrome/114.0.0.0 Safari/537.36'}\n",
        "\n",
        "# response = requests.get(url, headers=headers)\n",
        "\n",
        "# if response.status_code == 200:\n",
        "#     print(response.text)\n",
        "# else:\n",
        "#     print(f\"Failed to fetch page, status code: {response.status_code}\")\n"
      ],
      "metadata": {
        "id": "lBbEdEBo0JvC"
      },
      "execution_count": 6,
      "outputs": []
    },
    {
      "cell_type": "code",
      "source": [
        "# !pip3 install selenium webdriver-manager"
      ],
      "metadata": {
        "id": "OOYgJzTs0iv1"
      },
      "execution_count": 7,
      "outputs": []
    },
    {
      "cell_type": "code",
      "source": [
        "# # Step 1: Install Chromium and ChromeDriver\n",
        "# !apt update\n",
        "# !apt install -y chromium-chromedriver\n",
        "\n",
        "# # Step 2: Set up environment variables\n",
        "# import os\n",
        "# os.environ[\"CHROME_BINARY\"] = \"/usr/bin/chromium-browser\"\n",
        "# os.environ[\"PATH\"] += os.pathsep + \"/usr/bin/\"\n",
        "\n",
        "# # Step 3: Import Selenium and Set Up WebDriver\n",
        "# from selenium import webdriver\n",
        "# from selenium.webdriver.chrome.service import Service\n",
        "\n",
        "# options = webdriver.ChromeOptions()\n",
        "# options.binary_location = \"/usr/bin/chromium-browser\"\n",
        "# options.add_argument(\"--headless\")  # Run in headless mode\n",
        "# options.add_argument(\"--no-sandbox\")\n",
        "# options.add_argument(\"--disable-dev-shm-usage\")\n",
        "\n",
        "# # Step 4: Correct WebDriver Path\n",
        "# driver = webdriver.Chrome(service=Service(\"/usr/bin/chromedriver\"), options=options)\n",
        "\n",
        "# # Step 5: Open Zillow (or any website)\n",
        "# driver.get(\"https://www.zillow.com\")\n",
        "\n",
        "# print(driver.page_source[:1000])  # Print first 1000 characters of the page source\n",
        "# driver.quit()\n"
      ],
      "metadata": {
        "id": "GDxMopJEwU0l"
      },
      "execution_count": 8,
      "outputs": []
    },
    {
      "cell_type": "code",
      "source": [
        "# !pip3 install httpx parsel loguru"
      ],
      "metadata": {
        "id": "eZorgv9P1goJ"
      },
      "execution_count": 9,
      "outputs": []
    },
    {
      "cell_type": "code",
      "source": [
        "# !pip3 install httpx[http2]"
      ],
      "metadata": {
        "id": "FpKsi7jv4f5p"
      },
      "execution_count": 10,
      "outputs": []
    },
    {
      "cell_type": "code",
      "source": [
        "# import asyncio\n",
        "# from typing import List\n",
        "# import httpx\n",
        "# import json\n",
        "# from parsel import Selector\n",
        "\n",
        "# client = httpx.AsyncClient(\n",
        "#     # enable http2\n",
        "#     http2=True,\n",
        "#     # add basic browser like headers to prevent being blocked\n",
        "#     headers={\n",
        "#         \"accept-language\": \"en-US,en;q=0.9\",\n",
        "#         \"user-agent\": \"Mozilla/5.0 (Windows NT 10.0; Win64; x64) AppleWebKit/537.36 (KHTML, like Gecko) Chrome/96.0.4664.110 Safari/537.36\",\n",
        "#         \"accept\": \"text/html,application/xhtml+xml,application/xml;q=0.9,image/webp,image/apng,*/*;q=0.8\",\n",
        "#         \"accept-language\": \"en-US;en;q=0.9\",\n",
        "#         \"accept-encoding\": \"gzip, deflate, br\",\n",
        "#     },\n",
        "# )\n",
        "\n",
        "# async def scrape_properties(urls: List[str]):\n",
        "#     \"\"\"scrape zillow property pages for property data\"\"\"\n",
        "#     to_scrape = [client.get(url) for url in urls]\n",
        "#     results = []\n",
        "#     for response in asyncio.as_completed(to_scrape):\n",
        "#         response = await response\n",
        "#         assert response.status_code == 200, \"request has been blocked\"\n",
        "#         selector = Selector(response.text)\n",
        "#         data = selector.css(\"script#__NEXT_DATA__::text\").get()\n",
        "#         if data:\n",
        "#             # Option 1: some properties are located in NEXT DATA cache\n",
        "#             data = json.loads(data)\n",
        "#             property_data = json.loads(data[\"props\"][\"pageProps\"][\"componentProps\"][\"gdpClientCache\"])\n",
        "#             property_data = property_data[list(property_data)[0]]['property']\n",
        "#         else:\n",
        "#             # Option 2: other times it's in Apollo cache\n",
        "#             data = selector.css(\"script#hdpApolloPreloadedData::text\").get()\n",
        "#             data = json.loads(json.loads(data)[\"apiCache\"])\n",
        "#             property_data = next(\n",
        "#                 v[\"property\"] for k, v in data.items() if \"ForSale\" in k\n",
        "#             )\n",
        "#         results.append(property_data)\n",
        "#     return results\n",
        "\n",
        "# async def run():\n",
        "#     data = await scrape_properties(\n",
        "#             [\"https://www.zillow.com/homedetails/1625-E-13th-St-APT-3K-Brooklyn-NY-11229/245001606_zpid/\"]\n",
        "#         )\n",
        "#     print(json.dumps(data, indent=2))\n",
        "# if __name__ == \"__main__\":\n",
        "#     asyncio.run(run())"
      ],
      "metadata": {
        "id": "qCwUPlaG4f2I"
      },
      "execution_count": 11,
      "outputs": []
    },
    {
      "cell_type": "code",
      "source": [],
      "metadata": {
        "id": "U6VGQyb54sGU"
      },
      "execution_count": 11,
      "outputs": []
    },
    {
      "cell_type": "code",
      "source": [],
      "metadata": {
        "id": "RJS3xm9S4f_d"
      },
      "execution_count": 11,
      "outputs": []
    },
    {
      "cell_type": "code",
      "source": [],
      "metadata": {
        "id": "4s2kZZwf4gCr"
      },
      "execution_count": 11,
      "outputs": []
    },
    {
      "cell_type": "code",
      "source": [],
      "metadata": {
        "id": "ZixZhH2X4gF5"
      },
      "execution_count": 11,
      "outputs": []
    },
    {
      "cell_type": "code",
      "source": [],
      "metadata": {
        "id": "55Oh5qLS4gJX"
      },
      "execution_count": 11,
      "outputs": []
    },
    {
      "cell_type": "markdown",
      "source": [
        "BeautifulSoup tries to make sense of the nonsensical; it helps format and organize the messy web by fixing bad HTML and presenting us with easily traversable Python objects representing XML structures."
      ],
      "metadata": {
        "id": "Tm4mwlb1xB_5"
      }
    },
    {
      "cell_type": "code",
      "source": [
        "!pip3 install bs4"
      ],
      "metadata": {
        "colab": {
          "base_uri": "https://localhost:8080/"
        },
        "id": "IZCU0RoAxCQm",
        "outputId": "9af4303c-66a0-45dc-dff1-add1baecb86e"
      },
      "execution_count": 12,
      "outputs": [
        {
          "output_type": "stream",
          "name": "stdout",
          "text": [
            "Collecting bs4\n",
            "  Downloading bs4-0.0.2-py2.py3-none-any.whl.metadata (411 bytes)\n",
            "Requirement already satisfied: beautifulsoup4 in /usr/local/lib/python3.11/dist-packages (from bs4) (4.13.3)\n",
            "Requirement already satisfied: soupsieve>1.2 in /usr/local/lib/python3.11/dist-packages (from beautifulsoup4->bs4) (2.6)\n",
            "Requirement already satisfied: typing-extensions>=4.0.0 in /usr/local/lib/python3.11/dist-packages (from beautifulsoup4->bs4) (4.12.2)\n",
            "Downloading bs4-0.0.2-py2.py3-none-any.whl (1.2 kB)\n",
            "Installing collected packages: bs4\n",
            "Successfully installed bs4-0.0.2\n"
          ]
        }
      ]
    },
    {
      "cell_type": "code",
      "source": [
        "from urllib.request import urlopen\n",
        "from bs4 import BeautifulSoup\n",
        "\n",
        "html = urlopen('http://www.pythonscraping.com/pages/page3.html')\n",
        "# bs = BeautifulSoup(html.read(), 'html.parser')\n",
        "bs = BeautifulSoup(html, 'html.parser')\n",
        "print(bs.h1)"
      ],
      "metadata": {
        "colab": {
          "base_uri": "https://localhost:8080/"
        },
        "id": "Hirx2qflxbsj",
        "outputId": "34602705-7680-464b-a198-4661ceab3021"
      },
      "execution_count": 13,
      "outputs": [
        {
          "output_type": "stream",
          "name": "stdout",
          "text": [
            "<h1>Totally Normal Gifts</h1>\n"
          ]
        }
      ]
    },
    {
      "cell_type": "code",
      "source": [
        "print(bs.html.body.h1)\n",
        "print(bs.body.h1)\n",
        "print(bs.html.h1)"
      ],
      "metadata": {
        "colab": {
          "base_uri": "https://localhost:8080/"
        },
        "id": "O02k6ahwx2ti",
        "outputId": "20aa4633-82fc-4927-e6fa-c1df52f2ab0d"
      },
      "execution_count": 14,
      "outputs": [
        {
          "output_type": "stream",
          "name": "stdout",
          "text": [
            "<h1>Totally Normal Gifts</h1>\n",
            "<h1>Totally Normal Gifts</h1>\n",
            "<h1>Totally Normal Gifts</h1>\n"
          ]
        }
      ]
    },
    {
      "cell_type": "markdown",
      "source": [
        "Another popular parser is lxml. lxml has some advantages over html.parser in that it is generally better at parsing “messy” or malformed HTML code. It is forgiving and fixes problems like unclosed tags, tags that are improperly nested, and missing head or body tags.\n",
        "\n",
        "lxml is also somewhat faster than html.parser, although speed is not necessarily an advantage in web scraping, given that the speed of the network itself will almost always be your largest bottleneck.\n",
        "\n",
        "Avoid Over-Optimizing Web Scraping Code\n",
        "Elegant algorithms are lovely to behold, but when it comes to web scraping, they may not have a practical impact. A few microseconds of processing time will likely be dwarfed by the—sometimes actual—seconds of network latency that a network request takes.\n",
        "\n",
        "Good web scraping code generally focuses on robust and easily readable implementations, rather than clever processing optimizations.\n",
        "\n",
        "One of the disadvantages of lxml is that it needs to be installed separately and depends on third-party C libraries to function. This can cause problems for portability and ease of use, compared to html.parser."
      ],
      "metadata": {
        "id": "C5LQFQzpya3x"
      }
    },
    {
      "cell_type": "code",
      "source": [
        "!pip3 install lxml"
      ],
      "metadata": {
        "colab": {
          "base_uri": "https://localhost:8080/"
        },
        "id": "ubxxl52cy8GS",
        "outputId": "7d1a45af-3a48-4431-9907-b49afe21d21b"
      },
      "execution_count": 15,
      "outputs": [
        {
          "output_type": "stream",
          "name": "stdout",
          "text": [
            "Requirement already satisfied: lxml in /usr/local/lib/python3.11/dist-packages (5.3.1)\n"
          ]
        }
      ]
    },
    {
      "cell_type": "code",
      "source": [
        "from urllib.request import urlopen\n",
        "from bs4 import BeautifulSoup\n",
        "\n",
        "html = urlopen('http://www.pythonscraping.com/pages/page3.html')\n",
        "# bs = BeautifulSoup(html.read(), 'html.parser')\n",
        "bs = BeautifulSoup(html, 'lxml')\n",
        "print(bs.h1)"
      ],
      "metadata": {
        "colab": {
          "base_uri": "https://localhost:8080/"
        },
        "id": "oOobLOuhyEIS",
        "outputId": "f71d27cf-98da-4223-f08e-e49aa0bb3839"
      },
      "execution_count": 16,
      "outputs": [
        {
          "output_type": "stream",
          "name": "stdout",
          "text": [
            "<h1>Totally Normal Gifts</h1>\n"
          ]
        }
      ]
    },
    {
      "cell_type": "code",
      "source": [],
      "metadata": {
        "id": "uHBCj7TSy1us"
      },
      "execution_count": 16,
      "outputs": []
    },
    {
      "cell_type": "markdown",
      "source": [
        "Another popular HTML parser is html5lib. Like lxml, html5lib is an extremely forgiving parser that takes even more initiative with correcting broken HTML. It also depends on an external dependency and is slower than both lxml and html.parser. Despite this, it may be a good choice if you are working with messy or handwritten HTML sites."
      ],
      "metadata": {
        "id": "AzZStLYoy2KJ"
      }
    },
    {
      "cell_type": "code",
      "source": [
        "from urllib.request import urlopen\n",
        "from bs4 import BeautifulSoup\n",
        "\n",
        "html = urlopen('http://www.pythonscraping.com/pages/page3.html')\n",
        "# bs = BeautifulSoup(html.read(), 'html.parser')\n",
        "bs = BeautifulSoup(html, 'html5lib')\n",
        "print(bs.h1)"
      ],
      "metadata": {
        "colab": {
          "base_uri": "https://localhost:8080/"
        },
        "id": "WVxypzixy2gj",
        "outputId": "8713c36b-5084-4afa-df16-230167d588ce"
      },
      "execution_count": 17,
      "outputs": [
        {
          "output_type": "stream",
          "name": "stdout",
          "text": [
            "<h1>Totally Normal Gifts</h1>\n"
          ]
        }
      ]
    },
    {
      "cell_type": "code",
      "source": [],
      "metadata": {
        "id": "tcJDe1zPzJIB"
      },
      "execution_count": 17,
      "outputs": []
    },
    {
      "cell_type": "markdown",
      "source": [
        "Searching for tags by attributes, working with lists of tags, and navigating parse trees."
      ],
      "metadata": {
        "id": "zc48kQjsGu4D"
      }
    },
    {
      "cell_type": "code",
      "source": [
        "from urllib.request import urlopen\n",
        "from bs4 import BeautifulSoup\n",
        "\n",
        "html = urlopen('http://www.pythonscraping.com/pages/warandpeace.html')\n",
        "bs = BeautifulSoup(html.read(), 'html.parser')"
      ],
      "metadata": {
        "id": "fjuf4AO7GwEb"
      },
      "execution_count": 18,
      "outputs": []
    },
    {
      "cell_type": "code",
      "source": [],
      "metadata": {
        "id": "yY0nA-7rG_2m"
      },
      "execution_count": 18,
      "outputs": []
    },
    {
      "cell_type": "markdown",
      "source": [
        "Using this BeautifulSoup object, you can use the find_all function to extract a Python list of proper nouns found by selecting only the text within tags.\n",
        "\n",
        ".get_text() strips all tags from the document you are working with and returns a Unicode string containing the text only. For example, if you are working with a large block of text that contains many hyperlinks, paragraphs, and other tags, all those will be stripped away, and you’ll be left with a tagless block of text."
      ],
      "metadata": {
        "id": "EQvCk0-YHGd7"
      }
    },
    {
      "cell_type": "code",
      "source": [
        "nameList = bs.find_all(name='span', attrs={'class':['red','green']})\n",
        "for name in nameList:\n",
        "    print(name.get_text())"
      ],
      "metadata": {
        "id": "57pTkVFkHJ14",
        "colab": {
          "base_uri": "https://localhost:8080/"
        },
        "outputId": "a03f428a-4653-4632-8b3a-a46e5a8e5113"
      },
      "execution_count": 19,
      "outputs": [
        {
          "output_type": "stream",
          "name": "stdout",
          "text": [
            "Well, Prince, so Genoa and Lucca are now just family estates of the\n",
            "Buonapartes. But I warn you, if you don't tell me that this means war,\n",
            "if you still try to defend the infamies and horrors perpetrated by\n",
            "that Antichrist- I really believe he is Antichrist- I will have\n",
            "nothing more to do with you and you are no longer my friend, no longer\n",
            "my 'faithful slave,' as you call yourself! But how do you do? I see\n",
            "I have frightened you- sit down and tell me all the news.\n",
            "Anna\n",
            "Pavlovna Scherer\n",
            "Empress Marya\n",
            "Fedorovna\n",
            "Prince Vasili Kuragin\n",
            "Anna Pavlovna\n",
            "St. Petersburg\n",
            "If you have nothing better to do, Count [or Prince], and if the\n",
            "prospect of spending an evening with a poor invalid is not too\n",
            "terrible, I shall be very charmed to see you tonight between 7 and 10-\n",
            "Annette Scherer.\n",
            "Heavens! what a virulent attack!\n",
            "the prince\n",
            "Anna Pavlovna\n",
            "First of all, dear friend, tell me how you are. Set your friend's\n",
            "mind at rest,\n",
            "Can one be well while suffering morally? Can one be calm in times\n",
            "like these if one has any feeling?\n",
            "Anna Pavlovna\n",
            "You are\n",
            "staying the whole evening, I hope?\n",
            "And the fete at the English ambassador's? Today is Wednesday. I\n",
            "must put in an appearance there,\n",
            "the prince\n",
            "My daughter is\n",
            "coming for me to take me there.\n",
            "I thought today's fete had been canceled. I confess all these\n",
            "festivities and fireworks are becoming wearisome.\n",
            "If they had known that you wished it, the entertainment would\n",
            "have been put off,\n",
            "the prince\n",
            "Don't tease! Well, and what has been decided about Novosiltsev's\n",
            "dispatch? You know everything.\n",
            "What can one say about it?\n",
            "the prince\n",
            "What has been decided? They have decided that\n",
            "Buonaparte has burnt his boats, and I believe that we are ready to\n",
            "burn ours.\n",
            "Prince Vasili\n",
            "Anna Pavlovna\n",
            "Anna Pavlovna\n",
            "Oh, don't speak to me of Austria. Perhaps I don't understand\n",
            "things, but Austria never has wished, and does not wish, for war.\n",
            "She is betraying us! Russia alone must save Europe. Our gracious\n",
            "sovereign recognizes his high vocation and will be true to it. That is\n",
            "the one thing I have faith in! Our good and wonderful sovereign has to\n",
            "perform the noblest role on earth, and he is so virtuous and noble\n",
            "that God will not forsake him. He will fulfill his vocation and\n",
            "crush the hydra of revolution, which has become more terrible than\n",
            "ever in the person of this murderer and villain! We alone must\n",
            "avenge the blood of the just one.... Whom, I ask you, can we rely\n",
            "on?... England with her commercial spirit will not and cannot\n",
            "understand the Emperor Alexander's loftiness of soul. She has\n",
            "refused to evacuate Malta. She wanted to find, and still seeks, some\n",
            "secret motive in our actions. What answer did Novosiltsev get? None.\n",
            "The English have not understood and cannot understand the\n",
            "self-abnegation of our Emperor who wants nothing for himself, but only\n",
            "desires the good of mankind. And what have they promised? Nothing! And\n",
            "what little they have promised they will not perform! Prussia has\n",
            "always declared that Buonaparte is invincible, and that all Europe\n",
            "is powerless before him.... And I don't believe a word that Hardenburg\n",
            "says, or Haugwitz either. This famous Prussian neutrality is just a\n",
            "trap. I have faith only in God and the lofty destiny of our adored\n",
            "monarch. He will save Europe!\n",
            "I think,\n",
            "the prince\n",
            "that if you had been\n",
            "sent instead of our dear Wintzingerode you would have captured the\n",
            "King of Prussia's consent by assault. You are so eloquent. Will you\n",
            "give me a cup of tea?\n",
            "Wintzingerode\n",
            "King of Prussia\n",
            "In a moment. A propos,\n",
            "I am\n",
            "expecting two very interesting men tonight, le Vicomte de Mortemart,\n",
            "who is connected with the Montmorencys through the Rohans, one of\n",
            "the best French families. He is one of the genuine emigres, the good\n",
            "ones. And also the Abbe Morio. Do you know that profound thinker? He\n",
            "has been received by the Emperor. Had you heard?\n",
            "le Vicomte de Mortemart\n",
            "Montmorencys\n",
            "Rohans\n",
            "Abbe Morio\n",
            "the Emperor\n",
            "I shall be delighted to meet them,\n",
            "the prince\n",
            "But tell me,\n",
            "is it true that the Dowager Empress wants Baron Funke\n",
            "to be appointed first secretary at Vienna? The baron by all accounts\n",
            "is a poor creature.\n",
            "Prince Vasili\n",
            "Dowager Empress Marya Fedorovna\n",
            "the baron\n",
            "Anna Pavlovna\n",
            "the Empress\n",
            "Baron Funke has been recommended to the Dowager Empress by her\n",
            "sister,\n",
            "the Empress\n",
            "Anna Pavlovna's\n",
            "Her Majesty\n",
            "Baron\n",
            "Funke\n",
            "The prince\n",
            "Anna\n",
            "Pavlovna\n",
            "the Empress\n",
            "Now about your family. Do you know that since your daughter came\n",
            "out everyone has been enraptured by her? They say she is amazingly\n",
            "beautiful.\n",
            "The prince\n",
            "I often think,\n",
            "I often think how unfairly sometimes the\n",
            "joys of life are distributed. Why has fate given you two such splendid\n",
            "children? I don't speak of Anatole, your youngest. I don't like\n",
            "him,\n",
            "Anatole\n",
            "Two such charming children. And really you appreciate\n",
            "them less than anyone, and so you don't deserve to have them.\n",
            "I can't help it,\n",
            "the prince\n",
            "Lavater would have said I\n",
            "lack the bump of paternity.\n",
            "Don't joke; I mean to have a serious talk with you. Do you know I\n",
            "am dissatisfied with your younger son? Between ourselves\n",
            "he was mentioned at Her\n",
            "Majesty's and you were pitied....\n",
            "The prince\n",
            "What would you have me do?\n",
            "You know I did all\n",
            "a father could for their education, and they have both turned out\n",
            "fools. Hippolyte is at least a quiet fool, but Anatole is an active\n",
            "one. That is the only difference between them.\n",
            "And why are children born to such men as you? If you were not a\n",
            "father there would be nothing I could reproach you with,\n",
            "Anna\n",
            "Pavlovna\n",
            "I am your faithful slave and to you alone I can confess that my\n",
            "children are the bane of my life. It is the cross I have to bear. That\n",
            "is how I explain it to myself. It can't be helped!\n",
            "Anna Pavlovna\n"
          ]
        }
      ]
    },
    {
      "cell_type": "code",
      "source": [
        "nameList = bs.find_all(string='the prince')\n",
        "print(len(nameList))"
      ],
      "metadata": {
        "colab": {
          "base_uri": "https://localhost:8080/"
        },
        "id": "s9bDyu33HO5N",
        "outputId": "c98f9aa8-e796-4ab3-9989-a8e98e56481e"
      },
      "execution_count": 20,
      "outputs": [
        {
          "output_type": "stream",
          "name": "stdout",
          "text": [
            "7\n"
          ]
        }
      ]
    },
    {
      "cell_type": "code",
      "source": [
        "title = bs.find_all(id='title', class_='text') # Since 'class' method is reserved in Python, we use class_ in bs4\n",
        "title"
      ],
      "metadata": {
        "colab": {
          "base_uri": "https://localhost:8080/"
        },
        "id": "_BE6Kuu9I8eT",
        "outputId": "db2a9e54-bd93-4e86-82b2-8d130d635ae8"
      },
      "execution_count": 21,
      "outputs": [
        {
          "output_type": "execute_result",
          "data": {
            "text/plain": [
              "[]"
            ]
          },
          "metadata": {},
          "execution_count": 21
        }
      ]
    },
    {
      "cell_type": "code",
      "source": [],
      "metadata": {
        "id": "OHEgZxEFJhFe"
      },
      "execution_count": 21,
      "outputs": []
    },
    {
      "cell_type": "markdown",
      "source": [
        "The find_all function is responsible for finding tags based on their name and attributes. But what if you need to find a tag based on its location in a document? That’s where tree navigation comes in handy"
      ],
      "metadata": {
        "id": "E1zZQl8hKJKp"
      }
    },
    {
      "cell_type": "code",
      "source": [],
      "metadata": {
        "id": "do-JrQvWLTaV"
      },
      "execution_count": 21,
      "outputs": []
    },
    {
      "cell_type": "markdown",
      "source": [
        "In the BeautifulSoup library, as well as many other libraries, there is a distinction drawn between children and descendants: much like in a human family tree, children are always exactly one tag below a parent, whereas descendants can be at any level in the tree below a parent. For example, the tr tags are children of the table tag, whereas tr, th, td, img, and span are all descendants of the table tag (at least in our example page). All children are descendants, but not all descendants are children."
      ],
      "metadata": {
        "id": "lsrZ5uQbLTnq"
      }
    },
    {
      "cell_type": "code",
      "source": [
        "from urllib.request import urlopen\n",
        "from bs4 import BeautifulSoup\n",
        "\n",
        "html = urlopen('http://www.pythonscraping.com/pages/page3.html')\n",
        "bs = BeautifulSoup(html, 'html.parser')\n",
        "\n",
        "\"\"\"\n",
        "This code prints the list of product rows in the giftList table, including the initial row of column labels.\n",
        "If you were to write it using the descendants() function instead of the children() function, about two dozen tags would be found within the table and printed, including img tags, span tags, and individual td tags.\n",
        "It’s definitely important to differentiate between children and descendants!\n",
        "\"\"\"\n",
        "\n",
        "for child in bs.find('table',{'id':'giftList'}).children:\n",
        "    print(child)"
      ],
      "metadata": {
        "colab": {
          "base_uri": "https://localhost:8080/"
        },
        "id": "fv5EQ86wKMBg",
        "outputId": "f21015e9-a7af-4342-9794-8321e8d3050b"
      },
      "execution_count": 22,
      "outputs": [
        {
          "output_type": "stream",
          "name": "stdout",
          "text": [
            "\n",
            "\n",
            "<tr><th>\n",
            "Item Title\n",
            "</th><th>\n",
            "Description\n",
            "</th><th>\n",
            "Cost\n",
            "</th><th>\n",
            "Image\n",
            "</th></tr>\n",
            "\n",
            "\n",
            "<tr class=\"gift\" id=\"gift1\"><td>\n",
            "Vegetable Basket\n",
            "</td><td>\n",
            "This vegetable basket is the perfect gift for your health conscious (or overweight) friends!\n",
            "<span class=\"excitingNote\">Now with super-colorful bell peppers!</span>\n",
            "</td><td>\n",
            "$15.00\n",
            "</td><td>\n",
            "<img src=\"../img/gifts/img1.jpg\"/>\n",
            "</td></tr>\n",
            "\n",
            "\n",
            "<tr class=\"gift\" id=\"gift2\"><td>\n",
            "Russian Nesting Dolls\n",
            "</td><td>\n",
            "Hand-painted by trained monkeys, these exquisite dolls are priceless! And by \"priceless,\" we mean \"extremely expensive\"! <span class=\"excitingNote\">8 entire dolls per set! Octuple the presents!</span>\n",
            "</td><td>\n",
            "$10,000.52\n",
            "</td><td>\n",
            "<img src=\"../img/gifts/img2.jpg\"/>\n",
            "</td></tr>\n",
            "\n",
            "\n",
            "<tr class=\"gift\" id=\"gift3\"><td>\n",
            "Fish Painting\n",
            "</td><td>\n",
            "If something seems fishy about this painting, it's because it's a fish! <span class=\"excitingNote\">Also hand-painted by trained monkeys!</span>\n",
            "</td><td>\n",
            "$10,005.00\n",
            "</td><td>\n",
            "<img src=\"../img/gifts/img3.jpg\"/>\n",
            "</td></tr>\n",
            "\n",
            "\n",
            "<tr class=\"gift\" id=\"gift4\"><td>\n",
            "Dead Parrot\n",
            "</td><td>\n",
            "This is an ex-parrot! <span class=\"excitingNote\">Or maybe he's only resting?</span>\n",
            "</td><td>\n",
            "$0.50\n",
            "</td><td>\n",
            "<img src=\"../img/gifts/img4.jpg\"/>\n",
            "</td></tr>\n",
            "\n",
            "\n",
            "<tr class=\"gift\" id=\"gift5\"><td>\n",
            "Mystery Box\n",
            "</td><td>\n",
            "If you love suprises, this mystery box is for you! Do not place on light-colored surfaces. May cause oil staining. <span class=\"excitingNote\">Keep your friends guessing!</span>\n",
            "</td><td>\n",
            "$1.50\n",
            "</td><td>\n",
            "<img src=\"../img/gifts/img6.jpg\"/>\n",
            "</td></tr>\n",
            "\n",
            "\n"
          ]
        }
      ]
    },
    {
      "cell_type": "code",
      "source": [],
      "metadata": {
        "id": "C9eI92y5LYxE"
      },
      "execution_count": 22,
      "outputs": []
    },
    {
      "cell_type": "markdown",
      "source": [
        "The BeautifulSoup next_siblings() function makes it trivial to collect data from tables, especially ones with title rows\n",
        "\n",
        "As a complement to next_siblings, the previous_siblings function often can be helpful if there is an easily selectable tag at the end of a list of sibling tags that you would like to get.\n",
        "\n",
        "And, of course, there are the next_sibling and previous_sibling functions, which perform nearly the same function as next_siblings and previous_siblings, except they return a single tag rather than a list of them."
      ],
      "metadata": {
        "id": "baBDGdU6LY-d"
      }
    },
    {
      "cell_type": "code",
      "source": [
        "from urllib.request import urlopen\n",
        "from bs4 import BeautifulSoup\n",
        "\n",
        "html = urlopen('http://www.pythonscraping.com/pages/page3.html')\n",
        "bs = BeautifulSoup(html, 'html.parser')\n",
        "\n",
        "\"\"\"\n",
        "The output of this code is to print all rows of products from the product table, except for the first title row. Why does the title row get skipped?\n",
        "Objects cannot be siblings with themselves. Anytime you get siblings of an object, the object itself will not be included in the list.\n",
        "As the name of the function implies, it calls next siblings only. If you were to select a row in the middle of the list, for example, and call next_siblings on it, only the subsequent siblings would be returned.\n",
        "So, by selecting the title row and calling next_siblings, you can select all the rows in the table without selecting the title row itself.\n",
        "\"\"\"\n",
        "\n",
        "for sibling in bs.find('table', {'id':'giftList'}).tr.next_siblings:\n",
        "    print(sibling)"
      ],
      "metadata": {
        "id": "ile-JV1yKPoT",
        "colab": {
          "base_uri": "https://localhost:8080/"
        },
        "outputId": "d5e0de6c-fad6-45c5-988b-fa8fef55012d"
      },
      "execution_count": 23,
      "outputs": [
        {
          "output_type": "stream",
          "name": "stdout",
          "text": [
            "\n",
            "\n",
            "<tr class=\"gift\" id=\"gift1\"><td>\n",
            "Vegetable Basket\n",
            "</td><td>\n",
            "This vegetable basket is the perfect gift for your health conscious (or overweight) friends!\n",
            "<span class=\"excitingNote\">Now with super-colorful bell peppers!</span>\n",
            "</td><td>\n",
            "$15.00\n",
            "</td><td>\n",
            "<img src=\"../img/gifts/img1.jpg\"/>\n",
            "</td></tr>\n",
            "\n",
            "\n",
            "<tr class=\"gift\" id=\"gift2\"><td>\n",
            "Russian Nesting Dolls\n",
            "</td><td>\n",
            "Hand-painted by trained monkeys, these exquisite dolls are priceless! And by \"priceless,\" we mean \"extremely expensive\"! <span class=\"excitingNote\">8 entire dolls per set! Octuple the presents!</span>\n",
            "</td><td>\n",
            "$10,000.52\n",
            "</td><td>\n",
            "<img src=\"../img/gifts/img2.jpg\"/>\n",
            "</td></tr>\n",
            "\n",
            "\n",
            "<tr class=\"gift\" id=\"gift3\"><td>\n",
            "Fish Painting\n",
            "</td><td>\n",
            "If something seems fishy about this painting, it's because it's a fish! <span class=\"excitingNote\">Also hand-painted by trained monkeys!</span>\n",
            "</td><td>\n",
            "$10,005.00\n",
            "</td><td>\n",
            "<img src=\"../img/gifts/img3.jpg\"/>\n",
            "</td></tr>\n",
            "\n",
            "\n",
            "<tr class=\"gift\" id=\"gift4\"><td>\n",
            "Dead Parrot\n",
            "</td><td>\n",
            "This is an ex-parrot! <span class=\"excitingNote\">Or maybe he's only resting?</span>\n",
            "</td><td>\n",
            "$0.50\n",
            "</td><td>\n",
            "<img src=\"../img/gifts/img4.jpg\"/>\n",
            "</td></tr>\n",
            "\n",
            "\n",
            "<tr class=\"gift\" id=\"gift5\"><td>\n",
            "Mystery Box\n",
            "</td><td>\n",
            "If you love suprises, this mystery box is for you! Do not place on light-colored surfaces. May cause oil staining. <span class=\"excitingNote\">Keep your friends guessing!</span>\n",
            "</td><td>\n",
            "$1.50\n",
            "</td><td>\n",
            "<img src=\"../img/gifts/img6.jpg\"/>\n",
            "</td></tr>\n",
            "\n",
            "\n"
          ]
        }
      ]
    },
    {
      "cell_type": "code",
      "source": [],
      "metadata": {
        "id": "pvDGVDZCKzj5"
      },
      "execution_count": 23,
      "outputs": []
    },
    {
      "cell_type": "markdown",
      "source": [
        "When scraping pages, you will likely discover that you need to find parents of tags less frequently than you need to find their children or siblings. Typically, when you look at HTML pages with the goal of crawling them, you start by looking at the top layer of tags, and then figure out how to drill your way down into the exact piece of data that you want. Occasionally, however, you can find yourself in odd situations that require BeautifulSoup’s parent-finding functions, .parent and .parents."
      ],
      "metadata": {
        "id": "DsZdBdQjNQnv"
      }
    },
    {
      "cell_type": "markdown",
      "source": [
        "![image.png](data:image/png;base64,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)"
      ],
      "metadata": {
        "id": "JC4OvBl_NeM_"
      }
    },
    {
      "cell_type": "code",
      "source": [
        "from urllib.request import urlopen\n",
        "from bs4 import BeautifulSoup\n",
        "\n",
        "html = urlopen('http://www.pythonscraping.com/pages/page3.html')\n",
        "bs = BeautifulSoup(html, 'html.parser')\n",
        "print(bs.find('img',\n",
        "              {'src':'../img/gifts/img1.jpg'})\n",
        "      .parent.previous_sibling.get_text())"
      ],
      "metadata": {
        "colab": {
          "base_uri": "https://localhost:8080/"
        },
        "id": "flgLWN42NP0h",
        "outputId": "477b0c70-0456-4970-abc2-7d7a87be6241"
      },
      "execution_count": 24,
      "outputs": [
        {
          "output_type": "stream",
          "name": "stdout",
          "text": [
            "\n",
            "$15.00\n",
            "\n"
          ]
        }
      ]
    },
    {
      "cell_type": "code",
      "source": [],
      "metadata": {
        "id": "SHuB0ah8NTI0"
      },
      "execution_count": 24,
      "outputs": []
    },
    {
      "cell_type": "markdown",
      "source": [
        "#### Regex"
      ],
      "metadata": {
        "id": "qObZPVzTN56w"
      }
    },
    {
      "cell_type": "code",
      "source": [
        "from urllib.request import urlopen\n",
        "from bs4 import BeautifulSoup\n",
        "import re\n",
        "\n",
        "html = urlopen('http://www.pythonscraping.com/pages/page3.html')\n",
        "bs = BeautifulSoup(html, 'html.parser')\n",
        "images = bs.find_all('img',\n",
        "    {'src':re.compile(r'..\\/img\\/gifts/img.*.jpg')})\n",
        "for image in images:\n",
        "    print(image['src'])"
      ],
      "metadata": {
        "colab": {
          "base_uri": "https://localhost:8080/"
        },
        "id": "BGf45PKFN7NU",
        "outputId": "5dfa2bc0-c00e-4599-abb8-c5a8c486cd68"
      },
      "execution_count": 25,
      "outputs": [
        {
          "output_type": "stream",
          "name": "stdout",
          "text": [
            "../img/gifts/img1.jpg\n",
            "../img/gifts/img2.jpg\n",
            "../img/gifts/img3.jpg\n",
            "../img/gifts/img4.jpg\n",
            "../img/gifts/img6.jpg\n"
          ]
        }
      ]
    },
    {
      "cell_type": "code",
      "source": [],
      "metadata": {
        "id": "Yk17gRC9O87c"
      },
      "execution_count": 25,
      "outputs": []
    },
    {
      "cell_type": "markdown",
      "source": [
        "So far, you’ve looked at how to access and filter tags and access content within them. However, often in web scraping you’re not looking for the content of a tag; you’re looking for its attributes. This becomes especially useful for tags such as a, where the URL it is pointing to is contained within the href attribute; or the img tag, where the target image is contained within the src attribute."
      ],
      "metadata": {
        "id": "yKN10-enO9Jw"
      }
    },
    {
      "cell_type": "code",
      "source": [
        "bs.img.attrs,bs.img.attrs['src'],bs.img.attrs['style']"
      ],
      "metadata": {
        "colab": {
          "base_uri": "https://localhost:8080/"
        },
        "id": "UhPAtIsXOwm9",
        "outputId": "4b9a3d92-f865-4c02-ec33-c32945a8a5ff"
      },
      "execution_count": 26,
      "outputs": [
        {
          "output_type": "execute_result",
          "data": {
            "text/plain": [
              "({'src': '../img/gifts/logo.jpg', 'style': 'float:left;'},\n",
              " '../img/gifts/logo.jpg',\n",
              " 'float:left;')"
            ]
          },
          "metadata": {},
          "execution_count": 26
        }
      ]
    },
    {
      "cell_type": "code",
      "source": [],
      "metadata": {
        "id": "dm4KRZnbO-Ce"
      },
      "execution_count": 26,
      "outputs": []
    },
    {
      "cell_type": "markdown",
      "source": [
        "Lambda Expression"
      ],
      "metadata": {
        "id": "mNR3NF7VOw1V"
      }
    },
    {
      "cell_type": "code",
      "source": [
        "bs.find_all(lambda tag: len(tag.attrs) == 2) # All the tags which have 2 attributes like <img src=\"../img/gifts/logo.jpg\" style=\"float:left;\"/> (src and style are 2 attributes of img tag)"
      ],
      "metadata": {
        "colab": {
          "base_uri": "https://localhost:8080/"
        },
        "id": "eRfPNm9gOb7-",
        "outputId": "8bb63d5b-7dec-43c8-9793-1d16fc7aa99e"
      },
      "execution_count": 27,
      "outputs": [
        {
          "output_type": "execute_result",
          "data": {
            "text/plain": [
              "[<img src=\"../img/gifts/logo.jpg\" style=\"float:left;\"/>,\n",
              " <tr class=\"gift\" id=\"gift1\"><td>\n",
              " Vegetable Basket\n",
              " </td><td>\n",
              " This vegetable basket is the perfect gift for your health conscious (or overweight) friends!\n",
              " <span class=\"excitingNote\">Now with super-colorful bell peppers!</span>\n",
              " </td><td>\n",
              " $15.00\n",
              " </td><td>\n",
              " <img src=\"../img/gifts/img1.jpg\"/>\n",
              " </td></tr>,\n",
              " <tr class=\"gift\" id=\"gift2\"><td>\n",
              " Russian Nesting Dolls\n",
              " </td><td>\n",
              " Hand-painted by trained monkeys, these exquisite dolls are priceless! And by \"priceless,\" we mean \"extremely expensive\"! <span class=\"excitingNote\">8 entire dolls per set! Octuple the presents!</span>\n",
              " </td><td>\n",
              " $10,000.52\n",
              " </td><td>\n",
              " <img src=\"../img/gifts/img2.jpg\"/>\n",
              " </td></tr>,\n",
              " <tr class=\"gift\" id=\"gift3\"><td>\n",
              " Fish Painting\n",
              " </td><td>\n",
              " If something seems fishy about this painting, it's because it's a fish! <span class=\"excitingNote\">Also hand-painted by trained monkeys!</span>\n",
              " </td><td>\n",
              " $10,005.00\n",
              " </td><td>\n",
              " <img src=\"../img/gifts/img3.jpg\"/>\n",
              " </td></tr>,\n",
              " <tr class=\"gift\" id=\"gift4\"><td>\n",
              " Dead Parrot\n",
              " </td><td>\n",
              " This is an ex-parrot! <span class=\"excitingNote\">Or maybe he's only resting?</span>\n",
              " </td><td>\n",
              " $0.50\n",
              " </td><td>\n",
              " <img src=\"../img/gifts/img4.jpg\"/>\n",
              " </td></tr>,\n",
              " <tr class=\"gift\" id=\"gift5\"><td>\n",
              " Mystery Box\n",
              " </td><td>\n",
              " If you love suprises, this mystery box is for you! Do not place on light-colored surfaces. May cause oil staining. <span class=\"excitingNote\">Keep your friends guessing!</span>\n",
              " </td><td>\n",
              " $1.50\n",
              " </td><td>\n",
              " <img src=\"../img/gifts/img6.jpg\"/>\n",
              " </td></tr>]"
            ]
          },
          "metadata": {},
          "execution_count": 27
        }
      ]
    },
    {
      "cell_type": "code",
      "source": [],
      "metadata": {
        "id": "xZYCkPBIaPka"
      },
      "execution_count": 27,
      "outputs": []
    },
    {
      "cell_type": "code",
      "source": [],
      "metadata": {
        "id": "UHG0bzO1vJNA"
      },
      "execution_count": 27,
      "outputs": []
    },
    {
      "cell_type": "code",
      "source": [],
      "metadata": {
        "id": "8ll-8rjNvJP6"
      },
      "execution_count": 27,
      "outputs": []
    },
    {
      "cell_type": "code",
      "source": [],
      "metadata": {
        "id": "GaZcMD5KvJS_"
      },
      "execution_count": 27,
      "outputs": []
    },
    {
      "cell_type": "code",
      "source": [],
      "metadata": {
        "id": "3c2mo6zIvJV5"
      },
      "execution_count": 27,
      "outputs": []
    },
    {
      "cell_type": "code",
      "source": [],
      "metadata": {
        "id": "4P5amAcZvJY1"
      },
      "execution_count": 27,
      "outputs": []
    },
    {
      "cell_type": "code",
      "source": [],
      "metadata": {
        "id": "6JlIi9OLvJcQ"
      },
      "execution_count": 27,
      "outputs": []
    },
    {
      "cell_type": "markdown",
      "source": [
        "### Urllib"
      ],
      "metadata": {
        "id": "l1pTb9uOvJzX"
      }
    },
    {
      "cell_type": "code",
      "source": [
        "from urllib.request import urlopen"
      ],
      "metadata": {
        "id": "b1Hnf0ukvO-J"
      },
      "execution_count": 28,
      "outputs": []
    },
    {
      "cell_type": "code",
      "source": [
        "url = \"https://quotes.toscrape.com/\""
      ],
      "metadata": {
        "id": "DbyQc2ZGvfen"
      },
      "execution_count": 29,
      "outputs": []
    },
    {
      "cell_type": "code",
      "source": [
        "resp = urlopen(url)"
      ],
      "metadata": {
        "id": "DijgdesUvmBY"
      },
      "execution_count": 30,
      "outputs": []
    },
    {
      "cell_type": "code",
      "source": [
        "resp"
      ],
      "metadata": {
        "colab": {
          "base_uri": "https://localhost:8080/"
        },
        "id": "MgaiuWgyvoJ4",
        "outputId": "0f78bfe4-4211-4a99-d475-2caca1700000"
      },
      "execution_count": 31,
      "outputs": [
        {
          "output_type": "execute_result",
          "data": {
            "text/plain": [
              "<http.client.HTTPResponse at 0x7fec6c1a0d30>"
            ]
          },
          "metadata": {},
          "execution_count": 31
        }
      ]
    },
    {
      "cell_type": "code",
      "source": [
        "resp.status"
      ],
      "metadata": {
        "colab": {
          "base_uri": "https://localhost:8080/"
        },
        "id": "rOONcgYlvozN",
        "outputId": "f8b31a07-c0e6-4d99-bff3-8b2b0eab5ba9"
      },
      "execution_count": 32,
      "outputs": [
        {
          "output_type": "execute_result",
          "data": {
            "text/plain": [
              "200"
            ]
          },
          "metadata": {},
          "execution_count": 32
        }
      ]
    },
    {
      "cell_type": "code",
      "source": [
        "content = resp.read()"
      ],
      "metadata": {
        "id": "Ihy5LaHCvp6Z"
      },
      "execution_count": 33,
      "outputs": []
    },
    {
      "cell_type": "code",
      "source": [
        "content # We get the byte string (Notice 'b' prefix in the beginning)"
      ],
      "metadata": {
        "colab": {
          "base_uri": "https://localhost:8080/"
        },
        "id": "Ok3zWVn2vtBe",
        "outputId": "4f7d4895-af71-4011-a66a-94f9c59b60a3"
      },
      "execution_count": 34,
      "outputs": [
        {
          "output_type": "execute_result",
          "data": {
            "text/plain": [
              "b'<!DOCTYPE html>\\n<html lang=\"en\">\\n<head>\\n\\t<meta charset=\"UTF-8\">\\n\\t<title>Quotes to Scrape</title>\\n    <link rel=\"stylesheet\" href=\"/static/bootstrap.min.css\">\\n    <link rel=\"stylesheet\" href=\"/static/main.css\">\\n    \\n    \\n</head>\\n<body>\\n    <div class=\"container\">\\n        <div class=\"row header-box\">\\n            <div class=\"col-md-8\">\\n                <h1>\\n                    <a href=\"/\" style=\"text-decoration: none\">Quotes to Scrape</a>\\n                </h1>\\n            </div>\\n            <div class=\"col-md-4\">\\n                <p>\\n                \\n                    <a href=\"/login\">Login</a>\\n                \\n                </p>\\n            </div>\\n        </div>\\n    \\n\\n<div class=\"row\">\\n    <div class=\"col-md-8\">\\n\\n    <div class=\"quote\" itemscope itemtype=\"http://schema.org/CreativeWork\">\\n        <span class=\"text\" itemprop=\"text\">\\xe2\\x80\\x9cThe world as we have created it is a process of our thinking. It cannot be changed without changing our thinking.\\xe2\\x80\\x9d</span>\\n        <span>by <small class=\"author\" itemprop=\"author\">Albert Einstein</small>\\n        <a href=\"/author/Albert-Einstein\">(about)</a>\\n        </span>\\n        <div class=\"tags\">\\n            Tags:\\n            <meta class=\"keywords\" itemprop=\"keywords\" content=\"change,deep-thoughts,thinking,world\" /    > \\n            \\n            <a class=\"tag\" href=\"/tag/change/page/1/\">change</a>\\n            \\n            <a class=\"tag\" href=\"/tag/deep-thoughts/page/1/\">deep-thoughts</a>\\n            \\n            <a class=\"tag\" href=\"/tag/thinking/page/1/\">thinking</a>\\n            \\n            <a class=\"tag\" href=\"/tag/world/page/1/\">world</a>\\n            \\n        </div>\\n    </div>\\n\\n    <div class=\"quote\" itemscope itemtype=\"http://schema.org/CreativeWork\">\\n        <span class=\"text\" itemprop=\"text\">\\xe2\\x80\\x9cIt is our choices, Harry, that show what we truly are, far more than our abilities.\\xe2\\x80\\x9d</span>\\n        <span>by <small class=\"author\" itemprop=\"author\">J.K. Rowling</small>\\n        <a href=\"/author/J-K-Rowling\">(about)</a>\\n        </span>\\n        <div class=\"tags\">\\n            Tags:\\n            <meta class=\"keywords\" itemprop=\"keywords\" content=\"abilities,choices\" /    > \\n            \\n            <a class=\"tag\" href=\"/tag/abilities/page/1/\">abilities</a>\\n            \\n            <a class=\"tag\" href=\"/tag/choices/page/1/\">choices</a>\\n            \\n        </div>\\n    </div>\\n\\n    <div class=\"quote\" itemscope itemtype=\"http://schema.org/CreativeWork\">\\n        <span class=\"text\" itemprop=\"text\">\\xe2\\x80\\x9cThere are only two ways to live your life. One is as though nothing is a miracle. The other is as though everything is a miracle.\\xe2\\x80\\x9d</span>\\n        <span>by <small class=\"author\" itemprop=\"author\">Albert Einstein</small>\\n        <a href=\"/author/Albert-Einstein\">(about)</a>\\n        </span>\\n        <div class=\"tags\">\\n            Tags:\\n            <meta class=\"keywords\" itemprop=\"keywords\" content=\"inspirational,life,live,miracle,miracles\" /    > \\n            \\n            <a class=\"tag\" href=\"/tag/inspirational/page/1/\">inspirational</a>\\n            \\n            <a class=\"tag\" href=\"/tag/life/page/1/\">life</a>\\n            \\n            <a class=\"tag\" href=\"/tag/live/page/1/\">live</a>\\n            \\n            <a class=\"tag\" href=\"/tag/miracle/page/1/\">miracle</a>\\n            \\n            <a class=\"tag\" href=\"/tag/miracles/page/1/\">miracles</a>\\n            \\n        </div>\\n    </div>\\n\\n    <div class=\"quote\" itemscope itemtype=\"http://schema.org/CreativeWork\">\\n        <span class=\"text\" itemprop=\"text\">\\xe2\\x80\\x9cThe person, be it gentleman or lady, who has not pleasure in a good novel, must be intolerably stupid.\\xe2\\x80\\x9d</span>\\n        <span>by <small class=\"author\" itemprop=\"author\">Jane Austen</small>\\n        <a href=\"/author/Jane-Austen\">(about)</a>\\n        </span>\\n        <div class=\"tags\">\\n            Tags:\\n            <meta class=\"keywords\" itemprop=\"keywords\" content=\"aliteracy,books,classic,humor\" /    > \\n            \\n            <a class=\"tag\" href=\"/tag/aliteracy/page/1/\">aliteracy</a>\\n            \\n            <a class=\"tag\" href=\"/tag/books/page/1/\">books</a>\\n            \\n            <a class=\"tag\" href=\"/tag/classic/page/1/\">classic</a>\\n            \\n            <a class=\"tag\" href=\"/tag/humor/page/1/\">humor</a>\\n            \\n        </div>\\n    </div>\\n\\n    <div class=\"quote\" itemscope itemtype=\"http://schema.org/CreativeWork\">\\n        <span class=\"text\" itemprop=\"text\">\\xe2\\x80\\x9cImperfection is beauty, madness is genius and it&#39;s better to be absolutely ridiculous than absolutely boring.\\xe2\\x80\\x9d</span>\\n        <span>by <small class=\"author\" itemprop=\"author\">Marilyn Monroe</small>\\n        <a href=\"/author/Marilyn-Monroe\">(about)</a>\\n        </span>\\n        <div class=\"tags\">\\n            Tags:\\n            <meta class=\"keywords\" itemprop=\"keywords\" content=\"be-yourself,inspirational\" /    > \\n            \\n            <a class=\"tag\" href=\"/tag/be-yourself/page/1/\">be-yourself</a>\\n            \\n            <a class=\"tag\" href=\"/tag/inspirational/page/1/\">inspirational</a>\\n            \\n        </div>\\n    </div>\\n\\n    <div class=\"quote\" itemscope itemtype=\"http://schema.org/CreativeWork\">\\n        <span class=\"text\" itemprop=\"text\">\\xe2\\x80\\x9cTry not to become a man of success. Rather become a man of value.\\xe2\\x80\\x9d</span>\\n        <span>by <small class=\"author\" itemprop=\"author\">Albert Einstein</small>\\n        <a href=\"/author/Albert-Einstein\">(about)</a>\\n        </span>\\n        <div class=\"tags\">\\n            Tags:\\n            <meta class=\"keywords\" itemprop=\"keywords\" content=\"adulthood,success,value\" /    > \\n            \\n            <a class=\"tag\" href=\"/tag/adulthood/page/1/\">adulthood</a>\\n            \\n            <a class=\"tag\" href=\"/tag/success/page/1/\">success</a>\\n            \\n            <a class=\"tag\" href=\"/tag/value/page/1/\">value</a>\\n            \\n        </div>\\n    </div>\\n\\n    <div class=\"quote\" itemscope itemtype=\"http://schema.org/CreativeWork\">\\n        <span class=\"text\" itemprop=\"text\">\\xe2\\x80\\x9cIt is better to be hated for what you are than to be loved for what you are not.\\xe2\\x80\\x9d</span>\\n        <span>by <small class=\"author\" itemprop=\"author\">Andr\\xc3\\xa9 Gide</small>\\n        <a href=\"/author/Andre-Gide\">(about)</a>\\n        </span>\\n        <div class=\"tags\">\\n            Tags:\\n            <meta class=\"keywords\" itemprop=\"keywords\" content=\"life,love\" /    > \\n            \\n            <a class=\"tag\" href=\"/tag/life/page/1/\">life</a>\\n            \\n            <a class=\"tag\" href=\"/tag/love/page/1/\">love</a>\\n            \\n        </div>\\n    </div>\\n\\n    <div class=\"quote\" itemscope itemtype=\"http://schema.org/CreativeWork\">\\n        <span class=\"text\" itemprop=\"text\">\\xe2\\x80\\x9cI have not failed. I&#39;ve just found 10,000 ways that won&#39;t work.\\xe2\\x80\\x9d</span>\\n        <span>by <small class=\"author\" itemprop=\"author\">Thomas A. Edison</small>\\n        <a href=\"/author/Thomas-A-Edison\">(about)</a>\\n        </span>\\n        <div class=\"tags\">\\n            Tags:\\n            <meta class=\"keywords\" itemprop=\"keywords\" content=\"edison,failure,inspirational,paraphrased\" /    > \\n            \\n            <a class=\"tag\" href=\"/tag/edison/page/1/\">edison</a>\\n            \\n            <a class=\"tag\" href=\"/tag/failure/page/1/\">failure</a>\\n            \\n            <a class=\"tag\" href=\"/tag/inspirational/page/1/\">inspirational</a>\\n            \\n            <a class=\"tag\" href=\"/tag/paraphrased/page/1/\">paraphrased</a>\\n            \\n        </div>\\n    </div>\\n\\n    <div class=\"quote\" itemscope itemtype=\"http://schema.org/CreativeWork\">\\n        <span class=\"text\" itemprop=\"text\">\\xe2\\x80\\x9cA woman is like a tea bag; you never know how strong it is until it&#39;s in hot water.\\xe2\\x80\\x9d</span>\\n        <span>by <small class=\"author\" itemprop=\"author\">Eleanor Roosevelt</small>\\n        <a href=\"/author/Eleanor-Roosevelt\">(about)</a>\\n        </span>\\n        <div class=\"tags\">\\n            Tags:\\n            <meta class=\"keywords\" itemprop=\"keywords\" content=\"misattributed-eleanor-roosevelt\" /    > \\n            \\n            <a class=\"tag\" href=\"/tag/misattributed-eleanor-roosevelt/page/1/\">misattributed-eleanor-roosevelt</a>\\n            \\n        </div>\\n    </div>\\n\\n    <div class=\"quote\" itemscope itemtype=\"http://schema.org/CreativeWork\">\\n        <span class=\"text\" itemprop=\"text\">\\xe2\\x80\\x9cA day without sunshine is like, you know, night.\\xe2\\x80\\x9d</span>\\n        <span>by <small class=\"author\" itemprop=\"author\">Steve Martin</small>\\n        <a href=\"/author/Steve-Martin\">(about)</a>\\n        </span>\\n        <div class=\"tags\">\\n            Tags:\\n            <meta class=\"keywords\" itemprop=\"keywords\" content=\"humor,obvious,simile\" /    > \\n            \\n            <a class=\"tag\" href=\"/tag/humor/page/1/\">humor</a>\\n            \\n            <a class=\"tag\" href=\"/tag/obvious/page/1/\">obvious</a>\\n            \\n            <a class=\"tag\" href=\"/tag/simile/page/1/\">simile</a>\\n            \\n        </div>\\n    </div>\\n\\n    <nav>\\n        <ul class=\"pager\">\\n            \\n            \\n            <li class=\"next\">\\n                <a href=\"/page/2/\">Next <span aria-hidden=\"true\">&rarr;</span></a>\\n            </li>\\n            \\n        </ul>\\n    </nav>\\n    </div>\\n    <div class=\"col-md-4 tags-box\">\\n        \\n            <h2>Top Ten tags</h2>\\n            \\n            <span class=\"tag-item\">\\n            <a class=\"tag\" style=\"font-size: 28px\" href=\"/tag/love/\">love</a>\\n            </span>\\n            \\n            <span class=\"tag-item\">\\n            <a class=\"tag\" style=\"font-size: 26px\" href=\"/tag/inspirational/\">inspirational</a>\\n            </span>\\n            \\n            <span class=\"tag-item\">\\n            <a class=\"tag\" style=\"font-size: 26px\" href=\"/tag/life/\">life</a>\\n            </span>\\n            \\n            <span class=\"tag-item\">\\n            <a class=\"tag\" style=\"font-size: 24px\" href=\"/tag/humor/\">humor</a>\\n            </span>\\n            \\n            <span class=\"tag-item\">\\n            <a class=\"tag\" style=\"font-size: 22px\" href=\"/tag/books/\">books</a>\\n            </span>\\n            \\n            <span class=\"tag-item\">\\n            <a class=\"tag\" style=\"font-size: 14px\" href=\"/tag/reading/\">reading</a>\\n            </span>\\n            \\n            <span class=\"tag-item\">\\n            <a class=\"tag\" style=\"font-size: 10px\" href=\"/tag/friendship/\">friendship</a>\\n            </span>\\n            \\n            <span class=\"tag-item\">\\n            <a class=\"tag\" style=\"font-size: 8px\" href=\"/tag/friends/\">friends</a>\\n            </span>\\n            \\n            <span class=\"tag-item\">\\n            <a class=\"tag\" style=\"font-size: 8px\" href=\"/tag/truth/\">truth</a>\\n            </span>\\n            \\n            <span class=\"tag-item\">\\n            <a class=\"tag\" style=\"font-size: 6px\" href=\"/tag/simile/\">simile</a>\\n            </span>\\n            \\n        \\n    </div>\\n</div>\\n\\n    </div>\\n    <footer class=\"footer\">\\n        <div class=\"container\">\\n            <p class=\"text-muted\">\\n                Quotes by: <a href=\"https://www.goodreads.com/quotes\">GoodReads.com</a>\\n            </p>\\n            <p class=\"copyright\">\\n                Made with <span class=\\'zyte\\'>\\xe2\\x9d\\xa4</span> by <a class=\\'zyte\\' href=\"https://www.zyte.com\">Zyte</a>\\n            </p>\\n        </div>\\n    </footer>\\n</body>\\n</html>'"
            ]
          },
          "metadata": {},
          "execution_count": 34
        }
      ]
    },
    {
      "cell_type": "code",
      "source": [
        "content.decode('utf-8') # content decoded to string"
      ],
      "metadata": {
        "colab": {
          "base_uri": "https://localhost:8080/",
          "height": 0
        },
        "id": "3tnqV3ffvtmF",
        "outputId": "bdb4a144-2b1b-4e67-daea-0b6d8362ab76"
      },
      "execution_count": 35,
      "outputs": [
        {
          "output_type": "execute_result",
          "data": {
            "text/plain": [
              "'<!DOCTYPE html>\\n<html lang=\"en\">\\n<head>\\n\\t<meta charset=\"UTF-8\">\\n\\t<title>Quotes to Scrape</title>\\n    <link rel=\"stylesheet\" href=\"/static/bootstrap.min.css\">\\n    <link rel=\"stylesheet\" href=\"/static/main.css\">\\n    \\n    \\n</head>\\n<body>\\n    <div class=\"container\">\\n        <div class=\"row header-box\">\\n            <div class=\"col-md-8\">\\n                <h1>\\n                    <a href=\"/\" style=\"text-decoration: none\">Quotes to Scrape</a>\\n                </h1>\\n            </div>\\n            <div class=\"col-md-4\">\\n                <p>\\n                \\n                    <a href=\"/login\">Login</a>\\n                \\n                </p>\\n            </div>\\n        </div>\\n    \\n\\n<div class=\"row\">\\n    <div class=\"col-md-8\">\\n\\n    <div class=\"quote\" itemscope itemtype=\"http://schema.org/CreativeWork\">\\n        <span class=\"text\" itemprop=\"text\">“The world as we have created it is a process of our thinking. It cannot be changed without changing our thinking.”</span>\\n        <span>by <small class=\"author\" itemprop=\"author\">Albert Einstein</small>\\n        <a href=\"/author/Albert-Einstein\">(about)</a>\\n        </span>\\n        <div class=\"tags\">\\n            Tags:\\n            <meta class=\"keywords\" itemprop=\"keywords\" content=\"change,deep-thoughts,thinking,world\" /    > \\n            \\n            <a class=\"tag\" href=\"/tag/change/page/1/\">change</a>\\n            \\n            <a class=\"tag\" href=\"/tag/deep-thoughts/page/1/\">deep-thoughts</a>\\n            \\n            <a class=\"tag\" href=\"/tag/thinking/page/1/\">thinking</a>\\n            \\n            <a class=\"tag\" href=\"/tag/world/page/1/\">world</a>\\n            \\n        </div>\\n    </div>\\n\\n    <div class=\"quote\" itemscope itemtype=\"http://schema.org/CreativeWork\">\\n        <span class=\"text\" itemprop=\"text\">“It is our choices, Harry, that show what we truly are, far more than our abilities.”</span>\\n        <span>by <small class=\"author\" itemprop=\"author\">J.K. Rowling</small>\\n        <a href=\"/author/J-K-Rowling\">(about)</a>\\n        </span>\\n        <div class=\"tags\">\\n            Tags:\\n            <meta class=\"keywords\" itemprop=\"keywords\" content=\"abilities,choices\" /    > \\n            \\n            <a class=\"tag\" href=\"/tag/abilities/page/1/\">abilities</a>\\n            \\n            <a class=\"tag\" href=\"/tag/choices/page/1/\">choices</a>\\n            \\n        </div>\\n    </div>\\n\\n    <div class=\"quote\" itemscope itemtype=\"http://schema.org/CreativeWork\">\\n        <span class=\"text\" itemprop=\"text\">“There are only two ways to live your life. One is as though nothing is a miracle. The other is as though everything is a miracle.”</span>\\n        <span>by <small class=\"author\" itemprop=\"author\">Albert Einstein</small>\\n        <a href=\"/author/Albert-Einstein\">(about)</a>\\n        </span>\\n        <div class=\"tags\">\\n            Tags:\\n            <meta class=\"keywords\" itemprop=\"keywords\" content=\"inspirational,life,live,miracle,miracles\" /    > \\n            \\n            <a class=\"tag\" href=\"/tag/inspirational/page/1/\">inspirational</a>\\n            \\n            <a class=\"tag\" href=\"/tag/life/page/1/\">life</a>\\n            \\n            <a class=\"tag\" href=\"/tag/live/page/1/\">live</a>\\n            \\n            <a class=\"tag\" href=\"/tag/miracle/page/1/\">miracle</a>\\n            \\n            <a class=\"tag\" href=\"/tag/miracles/page/1/\">miracles</a>\\n            \\n        </div>\\n    </div>\\n\\n    <div class=\"quote\" itemscope itemtype=\"http://schema.org/CreativeWork\">\\n        <span class=\"text\" itemprop=\"text\">“The person, be it gentleman or lady, who has not pleasure in a good novel, must be intolerably stupid.”</span>\\n        <span>by <small class=\"author\" itemprop=\"author\">Jane Austen</small>\\n        <a href=\"/author/Jane-Austen\">(about)</a>\\n        </span>\\n        <div class=\"tags\">\\n            Tags:\\n            <meta class=\"keywords\" itemprop=\"keywords\" content=\"aliteracy,books,classic,humor\" /    > \\n            \\n            <a class=\"tag\" href=\"/tag/aliteracy/page/1/\">aliteracy</a>\\n            \\n            <a class=\"tag\" href=\"/tag/books/page/1/\">books</a>\\n            \\n            <a class=\"tag\" href=\"/tag/classic/page/1/\">classic</a>\\n            \\n            <a class=\"tag\" href=\"/tag/humor/page/1/\">humor</a>\\n            \\n        </div>\\n    </div>\\n\\n    <div class=\"quote\" itemscope itemtype=\"http://schema.org/CreativeWork\">\\n        <span class=\"text\" itemprop=\"text\">“Imperfection is beauty, madness is genius and it&#39;s better to be absolutely ridiculous than absolutely boring.”</span>\\n        <span>by <small class=\"author\" itemprop=\"author\">Marilyn Monroe</small>\\n        <a href=\"/author/Marilyn-Monroe\">(about)</a>\\n        </span>\\n        <div class=\"tags\">\\n            Tags:\\n            <meta class=\"keywords\" itemprop=\"keywords\" content=\"be-yourself,inspirational\" /    > \\n            \\n            <a class=\"tag\" href=\"/tag/be-yourself/page/1/\">be-yourself</a>\\n            \\n            <a class=\"tag\" href=\"/tag/inspirational/page/1/\">inspirational</a>\\n            \\n        </div>\\n    </div>\\n\\n    <div class=\"quote\" itemscope itemtype=\"http://schema.org/CreativeWork\">\\n        <span class=\"text\" itemprop=\"text\">“Try not to become a man of success. Rather become a man of value.”</span>\\n        <span>by <small class=\"author\" itemprop=\"author\">Albert Einstein</small>\\n        <a href=\"/author/Albert-Einstein\">(about)</a>\\n        </span>\\n        <div class=\"tags\">\\n            Tags:\\n            <meta class=\"keywords\" itemprop=\"keywords\" content=\"adulthood,success,value\" /    > \\n            \\n            <a class=\"tag\" href=\"/tag/adulthood/page/1/\">adulthood</a>\\n            \\n            <a class=\"tag\" href=\"/tag/success/page/1/\">success</a>\\n            \\n            <a class=\"tag\" href=\"/tag/value/page/1/\">value</a>\\n            \\n        </div>\\n    </div>\\n\\n    <div class=\"quote\" itemscope itemtype=\"http://schema.org/CreativeWork\">\\n        <span class=\"text\" itemprop=\"text\">“It is better to be hated for what you are than to be loved for what you are not.”</span>\\n        <span>by <small class=\"author\" itemprop=\"author\">André Gide</small>\\n        <a href=\"/author/Andre-Gide\">(about)</a>\\n        </span>\\n        <div class=\"tags\">\\n            Tags:\\n            <meta class=\"keywords\" itemprop=\"keywords\" content=\"life,love\" /    > \\n            \\n            <a class=\"tag\" href=\"/tag/life/page/1/\">life</a>\\n            \\n            <a class=\"tag\" href=\"/tag/love/page/1/\">love</a>\\n            \\n        </div>\\n    </div>\\n\\n    <div class=\"quote\" itemscope itemtype=\"http://schema.org/CreativeWork\">\\n        <span class=\"text\" itemprop=\"text\">“I have not failed. I&#39;ve just found 10,000 ways that won&#39;t work.”</span>\\n        <span>by <small class=\"author\" itemprop=\"author\">Thomas A. Edison</small>\\n        <a href=\"/author/Thomas-A-Edison\">(about)</a>\\n        </span>\\n        <div class=\"tags\">\\n            Tags:\\n            <meta class=\"keywords\" itemprop=\"keywords\" content=\"edison,failure,inspirational,paraphrased\" /    > \\n            \\n            <a class=\"tag\" href=\"/tag/edison/page/1/\">edison</a>\\n            \\n            <a class=\"tag\" href=\"/tag/failure/page/1/\">failure</a>\\n            \\n            <a class=\"tag\" href=\"/tag/inspirational/page/1/\">inspirational</a>\\n            \\n            <a class=\"tag\" href=\"/tag/paraphrased/page/1/\">paraphrased</a>\\n            \\n        </div>\\n    </div>\\n\\n    <div class=\"quote\" itemscope itemtype=\"http://schema.org/CreativeWork\">\\n        <span class=\"text\" itemprop=\"text\">“A woman is like a tea bag; you never know how strong it is until it&#39;s in hot water.”</span>\\n        <span>by <small class=\"author\" itemprop=\"author\">Eleanor Roosevelt</small>\\n        <a href=\"/author/Eleanor-Roosevelt\">(about)</a>\\n        </span>\\n        <div class=\"tags\">\\n            Tags:\\n            <meta class=\"keywords\" itemprop=\"keywords\" content=\"misattributed-eleanor-roosevelt\" /    > \\n            \\n            <a class=\"tag\" href=\"/tag/misattributed-eleanor-roosevelt/page/1/\">misattributed-eleanor-roosevelt</a>\\n            \\n        </div>\\n    </div>\\n\\n    <div class=\"quote\" itemscope itemtype=\"http://schema.org/CreativeWork\">\\n        <span class=\"text\" itemprop=\"text\">“A day without sunshine is like, you know, night.”</span>\\n        <span>by <small class=\"author\" itemprop=\"author\">Steve Martin</small>\\n        <a href=\"/author/Steve-Martin\">(about)</a>\\n        </span>\\n        <div class=\"tags\">\\n            Tags:\\n            <meta class=\"keywords\" itemprop=\"keywords\" content=\"humor,obvious,simile\" /    > \\n            \\n            <a class=\"tag\" href=\"/tag/humor/page/1/\">humor</a>\\n            \\n            <a class=\"tag\" href=\"/tag/obvious/page/1/\">obvious</a>\\n            \\n            <a class=\"tag\" href=\"/tag/simile/page/1/\">simile</a>\\n            \\n        </div>\\n    </div>\\n\\n    <nav>\\n        <ul class=\"pager\">\\n            \\n            \\n            <li class=\"next\">\\n                <a href=\"/page/2/\">Next <span aria-hidden=\"true\">&rarr;</span></a>\\n            </li>\\n            \\n        </ul>\\n    </nav>\\n    </div>\\n    <div class=\"col-md-4 tags-box\">\\n        \\n            <h2>Top Ten tags</h2>\\n            \\n            <span class=\"tag-item\">\\n            <a class=\"tag\" style=\"font-size: 28px\" href=\"/tag/love/\">love</a>\\n            </span>\\n            \\n            <span class=\"tag-item\">\\n            <a class=\"tag\" style=\"font-size: 26px\" href=\"/tag/inspirational/\">inspirational</a>\\n            </span>\\n            \\n            <span class=\"tag-item\">\\n            <a class=\"tag\" style=\"font-size: 26px\" href=\"/tag/life/\">life</a>\\n            </span>\\n            \\n            <span class=\"tag-item\">\\n            <a class=\"tag\" style=\"font-size: 24px\" href=\"/tag/humor/\">humor</a>\\n            </span>\\n            \\n            <span class=\"tag-item\">\\n            <a class=\"tag\" style=\"font-size: 22px\" href=\"/tag/books/\">books</a>\\n            </span>\\n            \\n            <span class=\"tag-item\">\\n            <a class=\"tag\" style=\"font-size: 14px\" href=\"/tag/reading/\">reading</a>\\n            </span>\\n            \\n            <span class=\"tag-item\">\\n            <a class=\"tag\" style=\"font-size: 10px\" href=\"/tag/friendship/\">friendship</a>\\n            </span>\\n            \\n            <span class=\"tag-item\">\\n            <a class=\"tag\" style=\"font-size: 8px\" href=\"/tag/friends/\">friends</a>\\n            </span>\\n            \\n            <span class=\"tag-item\">\\n            <a class=\"tag\" style=\"font-size: 8px\" href=\"/tag/truth/\">truth</a>\\n            </span>\\n            \\n            <span class=\"tag-item\">\\n            <a class=\"tag\" style=\"font-size: 6px\" href=\"/tag/simile/\">simile</a>\\n            </span>\\n            \\n        \\n    </div>\\n</div>\\n\\n    </div>\\n    <footer class=\"footer\">\\n        <div class=\"container\">\\n            <p class=\"text-muted\">\\n                Quotes by: <a href=\"https://www.goodreads.com/quotes\">GoodReads.com</a>\\n            </p>\\n            <p class=\"copyright\">\\n                Made with <span class=\\'zyte\\'>❤</span> by <a class=\\'zyte\\' href=\"https://www.zyte.com\">Zyte</a>\\n            </p>\\n        </div>\\n    </footer>\\n</body>\\n</html>'"
            ],
            "application/vnd.google.colaboratory.intrinsic+json": {
              "type": "string"
            }
          },
          "metadata": {},
          "execution_count": 35
        }
      ]
    },
    {
      "cell_type": "code",
      "source": [
        "print(content.decode('utf-8')) # To get indentation right"
      ],
      "metadata": {
        "colab": {
          "base_uri": "https://localhost:8080/"
        },
        "id": "WodBnWncwFPt",
        "outputId": "1909324d-d95b-4810-94ee-6fc06555f3e3"
      },
      "execution_count": 36,
      "outputs": [
        {
          "output_type": "stream",
          "name": "stdout",
          "text": [
            "<!DOCTYPE html>\n",
            "<html lang=\"en\">\n",
            "<head>\n",
            "\t<meta charset=\"UTF-8\">\n",
            "\t<title>Quotes to Scrape</title>\n",
            "    <link rel=\"stylesheet\" href=\"/static/bootstrap.min.css\">\n",
            "    <link rel=\"stylesheet\" href=\"/static/main.css\">\n",
            "    \n",
            "    \n",
            "</head>\n",
            "<body>\n",
            "    <div class=\"container\">\n",
            "        <div class=\"row header-box\">\n",
            "            <div class=\"col-md-8\">\n",
            "                <h1>\n",
            "                    <a href=\"/\" style=\"text-decoration: none\">Quotes to Scrape</a>\n",
            "                </h1>\n",
            "            </div>\n",
            "            <div class=\"col-md-4\">\n",
            "                <p>\n",
            "                \n",
            "                    <a href=\"/login\">Login</a>\n",
            "                \n",
            "                </p>\n",
            "            </div>\n",
            "        </div>\n",
            "    \n",
            "\n",
            "<div class=\"row\">\n",
            "    <div class=\"col-md-8\">\n",
            "\n",
            "    <div class=\"quote\" itemscope itemtype=\"http://schema.org/CreativeWork\">\n",
            "        <span class=\"text\" itemprop=\"text\">“The world as we have created it is a process of our thinking. It cannot be changed without changing our thinking.”</span>\n",
            "        <span>by <small class=\"author\" itemprop=\"author\">Albert Einstein</small>\n",
            "        <a href=\"/author/Albert-Einstein\">(about)</a>\n",
            "        </span>\n",
            "        <div class=\"tags\">\n",
            "            Tags:\n",
            "            <meta class=\"keywords\" itemprop=\"keywords\" content=\"change,deep-thoughts,thinking,world\" /    > \n",
            "            \n",
            "            <a class=\"tag\" href=\"/tag/change/page/1/\">change</a>\n",
            "            \n",
            "            <a class=\"tag\" href=\"/tag/deep-thoughts/page/1/\">deep-thoughts</a>\n",
            "            \n",
            "            <a class=\"tag\" href=\"/tag/thinking/page/1/\">thinking</a>\n",
            "            \n",
            "            <a class=\"tag\" href=\"/tag/world/page/1/\">world</a>\n",
            "            \n",
            "        </div>\n",
            "    </div>\n",
            "\n",
            "    <div class=\"quote\" itemscope itemtype=\"http://schema.org/CreativeWork\">\n",
            "        <span class=\"text\" itemprop=\"text\">“It is our choices, Harry, that show what we truly are, far more than our abilities.”</span>\n",
            "        <span>by <small class=\"author\" itemprop=\"author\">J.K. Rowling</small>\n",
            "        <a href=\"/author/J-K-Rowling\">(about)</a>\n",
            "        </span>\n",
            "        <div class=\"tags\">\n",
            "            Tags:\n",
            "            <meta class=\"keywords\" itemprop=\"keywords\" content=\"abilities,choices\" /    > \n",
            "            \n",
            "            <a class=\"tag\" href=\"/tag/abilities/page/1/\">abilities</a>\n",
            "            \n",
            "            <a class=\"tag\" href=\"/tag/choices/page/1/\">choices</a>\n",
            "            \n",
            "        </div>\n",
            "    </div>\n",
            "\n",
            "    <div class=\"quote\" itemscope itemtype=\"http://schema.org/CreativeWork\">\n",
            "        <span class=\"text\" itemprop=\"text\">“There are only two ways to live your life. One is as though nothing is a miracle. The other is as though everything is a miracle.”</span>\n",
            "        <span>by <small class=\"author\" itemprop=\"author\">Albert Einstein</small>\n",
            "        <a href=\"/author/Albert-Einstein\">(about)</a>\n",
            "        </span>\n",
            "        <div class=\"tags\">\n",
            "            Tags:\n",
            "            <meta class=\"keywords\" itemprop=\"keywords\" content=\"inspirational,life,live,miracle,miracles\" /    > \n",
            "            \n",
            "            <a class=\"tag\" href=\"/tag/inspirational/page/1/\">inspirational</a>\n",
            "            \n",
            "            <a class=\"tag\" href=\"/tag/life/page/1/\">life</a>\n",
            "            \n",
            "            <a class=\"tag\" href=\"/tag/live/page/1/\">live</a>\n",
            "            \n",
            "            <a class=\"tag\" href=\"/tag/miracle/page/1/\">miracle</a>\n",
            "            \n",
            "            <a class=\"tag\" href=\"/tag/miracles/page/1/\">miracles</a>\n",
            "            \n",
            "        </div>\n",
            "    </div>\n",
            "\n",
            "    <div class=\"quote\" itemscope itemtype=\"http://schema.org/CreativeWork\">\n",
            "        <span class=\"text\" itemprop=\"text\">“The person, be it gentleman or lady, who has not pleasure in a good novel, must be intolerably stupid.”</span>\n",
            "        <span>by <small class=\"author\" itemprop=\"author\">Jane Austen</small>\n",
            "        <a href=\"/author/Jane-Austen\">(about)</a>\n",
            "        </span>\n",
            "        <div class=\"tags\">\n",
            "            Tags:\n",
            "            <meta class=\"keywords\" itemprop=\"keywords\" content=\"aliteracy,books,classic,humor\" /    > \n",
            "            \n",
            "            <a class=\"tag\" href=\"/tag/aliteracy/page/1/\">aliteracy</a>\n",
            "            \n",
            "            <a class=\"tag\" href=\"/tag/books/page/1/\">books</a>\n",
            "            \n",
            "            <a class=\"tag\" href=\"/tag/classic/page/1/\">classic</a>\n",
            "            \n",
            "            <a class=\"tag\" href=\"/tag/humor/page/1/\">humor</a>\n",
            "            \n",
            "        </div>\n",
            "    </div>\n",
            "\n",
            "    <div class=\"quote\" itemscope itemtype=\"http://schema.org/CreativeWork\">\n",
            "        <span class=\"text\" itemprop=\"text\">“Imperfection is beauty, madness is genius and it&#39;s better to be absolutely ridiculous than absolutely boring.”</span>\n",
            "        <span>by <small class=\"author\" itemprop=\"author\">Marilyn Monroe</small>\n",
            "        <a href=\"/author/Marilyn-Monroe\">(about)</a>\n",
            "        </span>\n",
            "        <div class=\"tags\">\n",
            "            Tags:\n",
            "            <meta class=\"keywords\" itemprop=\"keywords\" content=\"be-yourself,inspirational\" /    > \n",
            "            \n",
            "            <a class=\"tag\" href=\"/tag/be-yourself/page/1/\">be-yourself</a>\n",
            "            \n",
            "            <a class=\"tag\" href=\"/tag/inspirational/page/1/\">inspirational</a>\n",
            "            \n",
            "        </div>\n",
            "    </div>\n",
            "\n",
            "    <div class=\"quote\" itemscope itemtype=\"http://schema.org/CreativeWork\">\n",
            "        <span class=\"text\" itemprop=\"text\">“Try not to become a man of success. Rather become a man of value.”</span>\n",
            "        <span>by <small class=\"author\" itemprop=\"author\">Albert Einstein</small>\n",
            "        <a href=\"/author/Albert-Einstein\">(about)</a>\n",
            "        </span>\n",
            "        <div class=\"tags\">\n",
            "            Tags:\n",
            "            <meta class=\"keywords\" itemprop=\"keywords\" content=\"adulthood,success,value\" /    > \n",
            "            \n",
            "            <a class=\"tag\" href=\"/tag/adulthood/page/1/\">adulthood</a>\n",
            "            \n",
            "            <a class=\"tag\" href=\"/tag/success/page/1/\">success</a>\n",
            "            \n",
            "            <a class=\"tag\" href=\"/tag/value/page/1/\">value</a>\n",
            "            \n",
            "        </div>\n",
            "    </div>\n",
            "\n",
            "    <div class=\"quote\" itemscope itemtype=\"http://schema.org/CreativeWork\">\n",
            "        <span class=\"text\" itemprop=\"text\">“It is better to be hated for what you are than to be loved for what you are not.”</span>\n",
            "        <span>by <small class=\"author\" itemprop=\"author\">André Gide</small>\n",
            "        <a href=\"/author/Andre-Gide\">(about)</a>\n",
            "        </span>\n",
            "        <div class=\"tags\">\n",
            "            Tags:\n",
            "            <meta class=\"keywords\" itemprop=\"keywords\" content=\"life,love\" /    > \n",
            "            \n",
            "            <a class=\"tag\" href=\"/tag/life/page/1/\">life</a>\n",
            "            \n",
            "            <a class=\"tag\" href=\"/tag/love/page/1/\">love</a>\n",
            "            \n",
            "        </div>\n",
            "    </div>\n",
            "\n",
            "    <div class=\"quote\" itemscope itemtype=\"http://schema.org/CreativeWork\">\n",
            "        <span class=\"text\" itemprop=\"text\">“I have not failed. I&#39;ve just found 10,000 ways that won&#39;t work.”</span>\n",
            "        <span>by <small class=\"author\" itemprop=\"author\">Thomas A. Edison</small>\n",
            "        <a href=\"/author/Thomas-A-Edison\">(about)</a>\n",
            "        </span>\n",
            "        <div class=\"tags\">\n",
            "            Tags:\n",
            "            <meta class=\"keywords\" itemprop=\"keywords\" content=\"edison,failure,inspirational,paraphrased\" /    > \n",
            "            \n",
            "            <a class=\"tag\" href=\"/tag/edison/page/1/\">edison</a>\n",
            "            \n",
            "            <a class=\"tag\" href=\"/tag/failure/page/1/\">failure</a>\n",
            "            \n",
            "            <a class=\"tag\" href=\"/tag/inspirational/page/1/\">inspirational</a>\n",
            "            \n",
            "            <a class=\"tag\" href=\"/tag/paraphrased/page/1/\">paraphrased</a>\n",
            "            \n",
            "        </div>\n",
            "    </div>\n",
            "\n",
            "    <div class=\"quote\" itemscope itemtype=\"http://schema.org/CreativeWork\">\n",
            "        <span class=\"text\" itemprop=\"text\">“A woman is like a tea bag; you never know how strong it is until it&#39;s in hot water.”</span>\n",
            "        <span>by <small class=\"author\" itemprop=\"author\">Eleanor Roosevelt</small>\n",
            "        <a href=\"/author/Eleanor-Roosevelt\">(about)</a>\n",
            "        </span>\n",
            "        <div class=\"tags\">\n",
            "            Tags:\n",
            "            <meta class=\"keywords\" itemprop=\"keywords\" content=\"misattributed-eleanor-roosevelt\" /    > \n",
            "            \n",
            "            <a class=\"tag\" href=\"/tag/misattributed-eleanor-roosevelt/page/1/\">misattributed-eleanor-roosevelt</a>\n",
            "            \n",
            "        </div>\n",
            "    </div>\n",
            "\n",
            "    <div class=\"quote\" itemscope itemtype=\"http://schema.org/CreativeWork\">\n",
            "        <span class=\"text\" itemprop=\"text\">“A day without sunshine is like, you know, night.”</span>\n",
            "        <span>by <small class=\"author\" itemprop=\"author\">Steve Martin</small>\n",
            "        <a href=\"/author/Steve-Martin\">(about)</a>\n",
            "        </span>\n",
            "        <div class=\"tags\">\n",
            "            Tags:\n",
            "            <meta class=\"keywords\" itemprop=\"keywords\" content=\"humor,obvious,simile\" /    > \n",
            "            \n",
            "            <a class=\"tag\" href=\"/tag/humor/page/1/\">humor</a>\n",
            "            \n",
            "            <a class=\"tag\" href=\"/tag/obvious/page/1/\">obvious</a>\n",
            "            \n",
            "            <a class=\"tag\" href=\"/tag/simile/page/1/\">simile</a>\n",
            "            \n",
            "        </div>\n",
            "    </div>\n",
            "\n",
            "    <nav>\n",
            "        <ul class=\"pager\">\n",
            "            \n",
            "            \n",
            "            <li class=\"next\">\n",
            "                <a href=\"/page/2/\">Next <span aria-hidden=\"true\">&rarr;</span></a>\n",
            "            </li>\n",
            "            \n",
            "        </ul>\n",
            "    </nav>\n",
            "    </div>\n",
            "    <div class=\"col-md-4 tags-box\">\n",
            "        \n",
            "            <h2>Top Ten tags</h2>\n",
            "            \n",
            "            <span class=\"tag-item\">\n",
            "            <a class=\"tag\" style=\"font-size: 28px\" href=\"/tag/love/\">love</a>\n",
            "            </span>\n",
            "            \n",
            "            <span class=\"tag-item\">\n",
            "            <a class=\"tag\" style=\"font-size: 26px\" href=\"/tag/inspirational/\">inspirational</a>\n",
            "            </span>\n",
            "            \n",
            "            <span class=\"tag-item\">\n",
            "            <a class=\"tag\" style=\"font-size: 26px\" href=\"/tag/life/\">life</a>\n",
            "            </span>\n",
            "            \n",
            "            <span class=\"tag-item\">\n",
            "            <a class=\"tag\" style=\"font-size: 24px\" href=\"/tag/humor/\">humor</a>\n",
            "            </span>\n",
            "            \n",
            "            <span class=\"tag-item\">\n",
            "            <a class=\"tag\" style=\"font-size: 22px\" href=\"/tag/books/\">books</a>\n",
            "            </span>\n",
            "            \n",
            "            <span class=\"tag-item\">\n",
            "            <a class=\"tag\" style=\"font-size: 14px\" href=\"/tag/reading/\">reading</a>\n",
            "            </span>\n",
            "            \n",
            "            <span class=\"tag-item\">\n",
            "            <a class=\"tag\" style=\"font-size: 10px\" href=\"/tag/friendship/\">friendship</a>\n",
            "            </span>\n",
            "            \n",
            "            <span class=\"tag-item\">\n",
            "            <a class=\"tag\" style=\"font-size: 8px\" href=\"/tag/friends/\">friends</a>\n",
            "            </span>\n",
            "            \n",
            "            <span class=\"tag-item\">\n",
            "            <a class=\"tag\" style=\"font-size: 8px\" href=\"/tag/truth/\">truth</a>\n",
            "            </span>\n",
            "            \n",
            "            <span class=\"tag-item\">\n",
            "            <a class=\"tag\" style=\"font-size: 6px\" href=\"/tag/simile/\">simile</a>\n",
            "            </span>\n",
            "            \n",
            "        \n",
            "    </div>\n",
            "</div>\n",
            "\n",
            "    </div>\n",
            "    <footer class=\"footer\">\n",
            "        <div class=\"container\">\n",
            "            <p class=\"text-muted\">\n",
            "                Quotes by: <a href=\"https://www.goodreads.com/quotes\">GoodReads.com</a>\n",
            "            </p>\n",
            "            <p class=\"copyright\">\n",
            "                Made with <span class='zyte'>❤</span> by <a class='zyte' href=\"https://www.zyte.com\">Zyte</a>\n",
            "            </p>\n",
            "        </div>\n",
            "    </footer>\n",
            "</body>\n",
            "</html>\n"
          ]
        }
      ]
    },
    {
      "cell_type": "code",
      "source": [],
      "metadata": {
        "id": "RiCYCiSVwPNx"
      },
      "execution_count": 36,
      "outputs": []
    },
    {
      "cell_type": "code",
      "source": [
        "with urlopen(url) as resp:\n",
        "   content = resp.read()\n",
        "   print(content.decode('utf-8'))"
      ],
      "metadata": {
        "colab": {
          "base_uri": "https://localhost:8080/"
        },
        "id": "OmwEdvVWwWri",
        "outputId": "b2fc1930-2fe9-4ab7-fb5a-32e3867c8a9c"
      },
      "execution_count": 37,
      "outputs": [
        {
          "output_type": "stream",
          "name": "stdout",
          "text": [
            "<!DOCTYPE html>\n",
            "<html lang=\"en\">\n",
            "<head>\n",
            "\t<meta charset=\"UTF-8\">\n",
            "\t<title>Quotes to Scrape</title>\n",
            "    <link rel=\"stylesheet\" href=\"/static/bootstrap.min.css\">\n",
            "    <link rel=\"stylesheet\" href=\"/static/main.css\">\n",
            "    \n",
            "    \n",
            "</head>\n",
            "<body>\n",
            "    <div class=\"container\">\n",
            "        <div class=\"row header-box\">\n",
            "            <div class=\"col-md-8\">\n",
            "                <h1>\n",
            "                    <a href=\"/\" style=\"text-decoration: none\">Quotes to Scrape</a>\n",
            "                </h1>\n",
            "            </div>\n",
            "            <div class=\"col-md-4\">\n",
            "                <p>\n",
            "                \n",
            "                    <a href=\"/login\">Login</a>\n",
            "                \n",
            "                </p>\n",
            "            </div>\n",
            "        </div>\n",
            "    \n",
            "\n",
            "<div class=\"row\">\n",
            "    <div class=\"col-md-8\">\n",
            "\n",
            "    <div class=\"quote\" itemscope itemtype=\"http://schema.org/CreativeWork\">\n",
            "        <span class=\"text\" itemprop=\"text\">“The world as we have created it is a process of our thinking. It cannot be changed without changing our thinking.”</span>\n",
            "        <span>by <small class=\"author\" itemprop=\"author\">Albert Einstein</small>\n",
            "        <a href=\"/author/Albert-Einstein\">(about)</a>\n",
            "        </span>\n",
            "        <div class=\"tags\">\n",
            "            Tags:\n",
            "            <meta class=\"keywords\" itemprop=\"keywords\" content=\"change,deep-thoughts,thinking,world\" /    > \n",
            "            \n",
            "            <a class=\"tag\" href=\"/tag/change/page/1/\">change</a>\n",
            "            \n",
            "            <a class=\"tag\" href=\"/tag/deep-thoughts/page/1/\">deep-thoughts</a>\n",
            "            \n",
            "            <a class=\"tag\" href=\"/tag/thinking/page/1/\">thinking</a>\n",
            "            \n",
            "            <a class=\"tag\" href=\"/tag/world/page/1/\">world</a>\n",
            "            \n",
            "        </div>\n",
            "    </div>\n",
            "\n",
            "    <div class=\"quote\" itemscope itemtype=\"http://schema.org/CreativeWork\">\n",
            "        <span class=\"text\" itemprop=\"text\">“It is our choices, Harry, that show what we truly are, far more than our abilities.”</span>\n",
            "        <span>by <small class=\"author\" itemprop=\"author\">J.K. Rowling</small>\n",
            "        <a href=\"/author/J-K-Rowling\">(about)</a>\n",
            "        </span>\n",
            "        <div class=\"tags\">\n",
            "            Tags:\n",
            "            <meta class=\"keywords\" itemprop=\"keywords\" content=\"abilities,choices\" /    > \n",
            "            \n",
            "            <a class=\"tag\" href=\"/tag/abilities/page/1/\">abilities</a>\n",
            "            \n",
            "            <a class=\"tag\" href=\"/tag/choices/page/1/\">choices</a>\n",
            "            \n",
            "        </div>\n",
            "    </div>\n",
            "\n",
            "    <div class=\"quote\" itemscope itemtype=\"http://schema.org/CreativeWork\">\n",
            "        <span class=\"text\" itemprop=\"text\">“There are only two ways to live your life. One is as though nothing is a miracle. The other is as though everything is a miracle.”</span>\n",
            "        <span>by <small class=\"author\" itemprop=\"author\">Albert Einstein</small>\n",
            "        <a href=\"/author/Albert-Einstein\">(about)</a>\n",
            "        </span>\n",
            "        <div class=\"tags\">\n",
            "            Tags:\n",
            "            <meta class=\"keywords\" itemprop=\"keywords\" content=\"inspirational,life,live,miracle,miracles\" /    > \n",
            "            \n",
            "            <a class=\"tag\" href=\"/tag/inspirational/page/1/\">inspirational</a>\n",
            "            \n",
            "            <a class=\"tag\" href=\"/tag/life/page/1/\">life</a>\n",
            "            \n",
            "            <a class=\"tag\" href=\"/tag/live/page/1/\">live</a>\n",
            "            \n",
            "            <a class=\"tag\" href=\"/tag/miracle/page/1/\">miracle</a>\n",
            "            \n",
            "            <a class=\"tag\" href=\"/tag/miracles/page/1/\">miracles</a>\n",
            "            \n",
            "        </div>\n",
            "    </div>\n",
            "\n",
            "    <div class=\"quote\" itemscope itemtype=\"http://schema.org/CreativeWork\">\n",
            "        <span class=\"text\" itemprop=\"text\">“The person, be it gentleman or lady, who has not pleasure in a good novel, must be intolerably stupid.”</span>\n",
            "        <span>by <small class=\"author\" itemprop=\"author\">Jane Austen</small>\n",
            "        <a href=\"/author/Jane-Austen\">(about)</a>\n",
            "        </span>\n",
            "        <div class=\"tags\">\n",
            "            Tags:\n",
            "            <meta class=\"keywords\" itemprop=\"keywords\" content=\"aliteracy,books,classic,humor\" /    > \n",
            "            \n",
            "            <a class=\"tag\" href=\"/tag/aliteracy/page/1/\">aliteracy</a>\n",
            "            \n",
            "            <a class=\"tag\" href=\"/tag/books/page/1/\">books</a>\n",
            "            \n",
            "            <a class=\"tag\" href=\"/tag/classic/page/1/\">classic</a>\n",
            "            \n",
            "            <a class=\"tag\" href=\"/tag/humor/page/1/\">humor</a>\n",
            "            \n",
            "        </div>\n",
            "    </div>\n",
            "\n",
            "    <div class=\"quote\" itemscope itemtype=\"http://schema.org/CreativeWork\">\n",
            "        <span class=\"text\" itemprop=\"text\">“Imperfection is beauty, madness is genius and it&#39;s better to be absolutely ridiculous than absolutely boring.”</span>\n",
            "        <span>by <small class=\"author\" itemprop=\"author\">Marilyn Monroe</small>\n",
            "        <a href=\"/author/Marilyn-Monroe\">(about)</a>\n",
            "        </span>\n",
            "        <div class=\"tags\">\n",
            "            Tags:\n",
            "            <meta class=\"keywords\" itemprop=\"keywords\" content=\"be-yourself,inspirational\" /    > \n",
            "            \n",
            "            <a class=\"tag\" href=\"/tag/be-yourself/page/1/\">be-yourself</a>\n",
            "            \n",
            "            <a class=\"tag\" href=\"/tag/inspirational/page/1/\">inspirational</a>\n",
            "            \n",
            "        </div>\n",
            "    </div>\n",
            "\n",
            "    <div class=\"quote\" itemscope itemtype=\"http://schema.org/CreativeWork\">\n",
            "        <span class=\"text\" itemprop=\"text\">“Try not to become a man of success. Rather become a man of value.”</span>\n",
            "        <span>by <small class=\"author\" itemprop=\"author\">Albert Einstein</small>\n",
            "        <a href=\"/author/Albert-Einstein\">(about)</a>\n",
            "        </span>\n",
            "        <div class=\"tags\">\n",
            "            Tags:\n",
            "            <meta class=\"keywords\" itemprop=\"keywords\" content=\"adulthood,success,value\" /    > \n",
            "            \n",
            "            <a class=\"tag\" href=\"/tag/adulthood/page/1/\">adulthood</a>\n",
            "            \n",
            "            <a class=\"tag\" href=\"/tag/success/page/1/\">success</a>\n",
            "            \n",
            "            <a class=\"tag\" href=\"/tag/value/page/1/\">value</a>\n",
            "            \n",
            "        </div>\n",
            "    </div>\n",
            "\n",
            "    <div class=\"quote\" itemscope itemtype=\"http://schema.org/CreativeWork\">\n",
            "        <span class=\"text\" itemprop=\"text\">“It is better to be hated for what you are than to be loved for what you are not.”</span>\n",
            "        <span>by <small class=\"author\" itemprop=\"author\">André Gide</small>\n",
            "        <a href=\"/author/Andre-Gide\">(about)</a>\n",
            "        </span>\n",
            "        <div class=\"tags\">\n",
            "            Tags:\n",
            "            <meta class=\"keywords\" itemprop=\"keywords\" content=\"life,love\" /    > \n",
            "            \n",
            "            <a class=\"tag\" href=\"/tag/life/page/1/\">life</a>\n",
            "            \n",
            "            <a class=\"tag\" href=\"/tag/love/page/1/\">love</a>\n",
            "            \n",
            "        </div>\n",
            "    </div>\n",
            "\n",
            "    <div class=\"quote\" itemscope itemtype=\"http://schema.org/CreativeWork\">\n",
            "        <span class=\"text\" itemprop=\"text\">“I have not failed. I&#39;ve just found 10,000 ways that won&#39;t work.”</span>\n",
            "        <span>by <small class=\"author\" itemprop=\"author\">Thomas A. Edison</small>\n",
            "        <a href=\"/author/Thomas-A-Edison\">(about)</a>\n",
            "        </span>\n",
            "        <div class=\"tags\">\n",
            "            Tags:\n",
            "            <meta class=\"keywords\" itemprop=\"keywords\" content=\"edison,failure,inspirational,paraphrased\" /    > \n",
            "            \n",
            "            <a class=\"tag\" href=\"/tag/edison/page/1/\">edison</a>\n",
            "            \n",
            "            <a class=\"tag\" href=\"/tag/failure/page/1/\">failure</a>\n",
            "            \n",
            "            <a class=\"tag\" href=\"/tag/inspirational/page/1/\">inspirational</a>\n",
            "            \n",
            "            <a class=\"tag\" href=\"/tag/paraphrased/page/1/\">paraphrased</a>\n",
            "            \n",
            "        </div>\n",
            "    </div>\n",
            "\n",
            "    <div class=\"quote\" itemscope itemtype=\"http://schema.org/CreativeWork\">\n",
            "        <span class=\"text\" itemprop=\"text\">“A woman is like a tea bag; you never know how strong it is until it&#39;s in hot water.”</span>\n",
            "        <span>by <small class=\"author\" itemprop=\"author\">Eleanor Roosevelt</small>\n",
            "        <a href=\"/author/Eleanor-Roosevelt\">(about)</a>\n",
            "        </span>\n",
            "        <div class=\"tags\">\n",
            "            Tags:\n",
            "            <meta class=\"keywords\" itemprop=\"keywords\" content=\"misattributed-eleanor-roosevelt\" /    > \n",
            "            \n",
            "            <a class=\"tag\" href=\"/tag/misattributed-eleanor-roosevelt/page/1/\">misattributed-eleanor-roosevelt</a>\n",
            "            \n",
            "        </div>\n",
            "    </div>\n",
            "\n",
            "    <div class=\"quote\" itemscope itemtype=\"http://schema.org/CreativeWork\">\n",
            "        <span class=\"text\" itemprop=\"text\">“A day without sunshine is like, you know, night.”</span>\n",
            "        <span>by <small class=\"author\" itemprop=\"author\">Steve Martin</small>\n",
            "        <a href=\"/author/Steve-Martin\">(about)</a>\n",
            "        </span>\n",
            "        <div class=\"tags\">\n",
            "            Tags:\n",
            "            <meta class=\"keywords\" itemprop=\"keywords\" content=\"humor,obvious,simile\" /    > \n",
            "            \n",
            "            <a class=\"tag\" href=\"/tag/humor/page/1/\">humor</a>\n",
            "            \n",
            "            <a class=\"tag\" href=\"/tag/obvious/page/1/\">obvious</a>\n",
            "            \n",
            "            <a class=\"tag\" href=\"/tag/simile/page/1/\">simile</a>\n",
            "            \n",
            "        </div>\n",
            "    </div>\n",
            "\n",
            "    <nav>\n",
            "        <ul class=\"pager\">\n",
            "            \n",
            "            \n",
            "            <li class=\"next\">\n",
            "                <a href=\"/page/2/\">Next <span aria-hidden=\"true\">&rarr;</span></a>\n",
            "            </li>\n",
            "            \n",
            "        </ul>\n",
            "    </nav>\n",
            "    </div>\n",
            "    <div class=\"col-md-4 tags-box\">\n",
            "        \n",
            "            <h2>Top Ten tags</h2>\n",
            "            \n",
            "            <span class=\"tag-item\">\n",
            "            <a class=\"tag\" style=\"font-size: 28px\" href=\"/tag/love/\">love</a>\n",
            "            </span>\n",
            "            \n",
            "            <span class=\"tag-item\">\n",
            "            <a class=\"tag\" style=\"font-size: 26px\" href=\"/tag/inspirational/\">inspirational</a>\n",
            "            </span>\n",
            "            \n",
            "            <span class=\"tag-item\">\n",
            "            <a class=\"tag\" style=\"font-size: 26px\" href=\"/tag/life/\">life</a>\n",
            "            </span>\n",
            "            \n",
            "            <span class=\"tag-item\">\n",
            "            <a class=\"tag\" style=\"font-size: 24px\" href=\"/tag/humor/\">humor</a>\n",
            "            </span>\n",
            "            \n",
            "            <span class=\"tag-item\">\n",
            "            <a class=\"tag\" style=\"font-size: 22px\" href=\"/tag/books/\">books</a>\n",
            "            </span>\n",
            "            \n",
            "            <span class=\"tag-item\">\n",
            "            <a class=\"tag\" style=\"font-size: 14px\" href=\"/tag/reading/\">reading</a>\n",
            "            </span>\n",
            "            \n",
            "            <span class=\"tag-item\">\n",
            "            <a class=\"tag\" style=\"font-size: 10px\" href=\"/tag/friendship/\">friendship</a>\n",
            "            </span>\n",
            "            \n",
            "            <span class=\"tag-item\">\n",
            "            <a class=\"tag\" style=\"font-size: 8px\" href=\"/tag/friends/\">friends</a>\n",
            "            </span>\n",
            "            \n",
            "            <span class=\"tag-item\">\n",
            "            <a class=\"tag\" style=\"font-size: 8px\" href=\"/tag/truth/\">truth</a>\n",
            "            </span>\n",
            "            \n",
            "            <span class=\"tag-item\">\n",
            "            <a class=\"tag\" style=\"font-size: 6px\" href=\"/tag/simile/\">simile</a>\n",
            "            </span>\n",
            "            \n",
            "        \n",
            "    </div>\n",
            "</div>\n",
            "\n",
            "    </div>\n",
            "    <footer class=\"footer\">\n",
            "        <div class=\"container\">\n",
            "            <p class=\"text-muted\">\n",
            "                Quotes by: <a href=\"https://www.goodreads.com/quotes\">GoodReads.com</a>\n",
            "            </p>\n",
            "            <p class=\"copyright\">\n",
            "                Made with <span class='zyte'>❤</span> by <a class='zyte' href=\"https://www.zyte.com\">Zyte</a>\n",
            "            </p>\n",
            "        </div>\n",
            "    </footer>\n",
            "</body>\n",
            "</html>\n"
          ]
        }
      ]
    },
    {
      "cell_type": "code",
      "source": [],
      "metadata": {
        "id": "LrUiQaQowfP-"
      },
      "execution_count": 37,
      "outputs": []
    },
    {
      "cell_type": "markdown",
      "source": [
        "### Requests (Better than Urllib)"
      ],
      "metadata": {
        "id": "oVx4vh63w1dn"
      }
    },
    {
      "cell_type": "code",
      "source": [
        "# !pip3 install requests"
      ],
      "metadata": {
        "id": "1gs8mwNaw3pI"
      },
      "execution_count": 38,
      "outputs": []
    },
    {
      "cell_type": "code",
      "source": [
        "import requests"
      ],
      "metadata": {
        "id": "tt1z2mksxH_l"
      },
      "execution_count": 39,
      "outputs": []
    },
    {
      "cell_type": "code",
      "source": [
        "resp = requests.get(url)"
      ],
      "metadata": {
        "id": "woxeDnccxL5O"
      },
      "execution_count": 40,
      "outputs": []
    },
    {
      "cell_type": "code",
      "source": [
        "resp"
      ],
      "metadata": {
        "colab": {
          "base_uri": "https://localhost:8080/"
        },
        "id": "01_j_E1cxOAn",
        "outputId": "f598d12f-64ac-4954-8c96-2c4302ab29f4"
      },
      "execution_count": 41,
      "outputs": [
        {
          "output_type": "execute_result",
          "data": {
            "text/plain": [
              "<Response [200]>"
            ]
          },
          "metadata": {},
          "execution_count": 41
        }
      ]
    },
    {
      "cell_type": "code",
      "source": [
        "resp.status_code"
      ],
      "metadata": {
        "colab": {
          "base_uri": "https://localhost:8080/"
        },
        "id": "J9XIR3_dxOrT",
        "outputId": "70b9adef-67d1-470b-99f8-be82c0812ba3"
      },
      "execution_count": 42,
      "outputs": [
        {
          "output_type": "execute_result",
          "data": {
            "text/plain": [
              "200"
            ]
          },
          "metadata": {},
          "execution_count": 42
        }
      ]
    },
    {
      "cell_type": "code",
      "source": [
        "resp.content # Byte String"
      ],
      "metadata": {
        "colab": {
          "base_uri": "https://localhost:8080/"
        },
        "id": "ZGd6B3xnxTv4",
        "outputId": "38545c3d-34fe-46cf-e9e3-0c48ad8ed68c"
      },
      "execution_count": 43,
      "outputs": [
        {
          "output_type": "execute_result",
          "data": {
            "text/plain": [
              "b'<!DOCTYPE html>\\n<html lang=\"en\">\\n<head>\\n\\t<meta charset=\"UTF-8\">\\n\\t<title>Quotes to Scrape</title>\\n    <link rel=\"stylesheet\" href=\"/static/bootstrap.min.css\">\\n    <link rel=\"stylesheet\" href=\"/static/main.css\">\\n    \\n    \\n</head>\\n<body>\\n    <div class=\"container\">\\n        <div class=\"row header-box\">\\n            <div class=\"col-md-8\">\\n                <h1>\\n                    <a href=\"/\" style=\"text-decoration: none\">Quotes to Scrape</a>\\n                </h1>\\n            </div>\\n            <div class=\"col-md-4\">\\n                <p>\\n                \\n                    <a href=\"/login\">Login</a>\\n                \\n                </p>\\n            </div>\\n        </div>\\n    \\n\\n<div class=\"row\">\\n    <div class=\"col-md-8\">\\n\\n    <div class=\"quote\" itemscope itemtype=\"http://schema.org/CreativeWork\">\\n        <span class=\"text\" itemprop=\"text\">\\xe2\\x80\\x9cThe world as we have created it is a process of our thinking. It cannot be changed without changing our thinking.\\xe2\\x80\\x9d</span>\\n        <span>by <small class=\"author\" itemprop=\"author\">Albert Einstein</small>\\n        <a href=\"/author/Albert-Einstein\">(about)</a>\\n        </span>\\n        <div class=\"tags\">\\n            Tags:\\n            <meta class=\"keywords\" itemprop=\"keywords\" content=\"change,deep-thoughts,thinking,world\" /    > \\n            \\n            <a class=\"tag\" href=\"/tag/change/page/1/\">change</a>\\n            \\n            <a class=\"tag\" href=\"/tag/deep-thoughts/page/1/\">deep-thoughts</a>\\n            \\n            <a class=\"tag\" href=\"/tag/thinking/page/1/\">thinking</a>\\n            \\n            <a class=\"tag\" href=\"/tag/world/page/1/\">world</a>\\n            \\n        </div>\\n    </div>\\n\\n    <div class=\"quote\" itemscope itemtype=\"http://schema.org/CreativeWork\">\\n        <span class=\"text\" itemprop=\"text\">\\xe2\\x80\\x9cIt is our choices, Harry, that show what we truly are, far more than our abilities.\\xe2\\x80\\x9d</span>\\n        <span>by <small class=\"author\" itemprop=\"author\">J.K. Rowling</small>\\n        <a href=\"/author/J-K-Rowling\">(about)</a>\\n        </span>\\n        <div class=\"tags\">\\n            Tags:\\n            <meta class=\"keywords\" itemprop=\"keywords\" content=\"abilities,choices\" /    > \\n            \\n            <a class=\"tag\" href=\"/tag/abilities/page/1/\">abilities</a>\\n            \\n            <a class=\"tag\" href=\"/tag/choices/page/1/\">choices</a>\\n            \\n        </div>\\n    </div>\\n\\n    <div class=\"quote\" itemscope itemtype=\"http://schema.org/CreativeWork\">\\n        <span class=\"text\" itemprop=\"text\">\\xe2\\x80\\x9cThere are only two ways to live your life. One is as though nothing is a miracle. The other is as though everything is a miracle.\\xe2\\x80\\x9d</span>\\n        <span>by <small class=\"author\" itemprop=\"author\">Albert Einstein</small>\\n        <a href=\"/author/Albert-Einstein\">(about)</a>\\n        </span>\\n        <div class=\"tags\">\\n            Tags:\\n            <meta class=\"keywords\" itemprop=\"keywords\" content=\"inspirational,life,live,miracle,miracles\" /    > \\n            \\n            <a class=\"tag\" href=\"/tag/inspirational/page/1/\">inspirational</a>\\n            \\n            <a class=\"tag\" href=\"/tag/life/page/1/\">life</a>\\n            \\n            <a class=\"tag\" href=\"/tag/live/page/1/\">live</a>\\n            \\n            <a class=\"tag\" href=\"/tag/miracle/page/1/\">miracle</a>\\n            \\n            <a class=\"tag\" href=\"/tag/miracles/page/1/\">miracles</a>\\n            \\n        </div>\\n    </div>\\n\\n    <div class=\"quote\" itemscope itemtype=\"http://schema.org/CreativeWork\">\\n        <span class=\"text\" itemprop=\"text\">\\xe2\\x80\\x9cThe person, be it gentleman or lady, who has not pleasure in a good novel, must be intolerably stupid.\\xe2\\x80\\x9d</span>\\n        <span>by <small class=\"author\" itemprop=\"author\">Jane Austen</small>\\n        <a href=\"/author/Jane-Austen\">(about)</a>\\n        </span>\\n        <div class=\"tags\">\\n            Tags:\\n            <meta class=\"keywords\" itemprop=\"keywords\" content=\"aliteracy,books,classic,humor\" /    > \\n            \\n            <a class=\"tag\" href=\"/tag/aliteracy/page/1/\">aliteracy</a>\\n            \\n            <a class=\"tag\" href=\"/tag/books/page/1/\">books</a>\\n            \\n            <a class=\"tag\" href=\"/tag/classic/page/1/\">classic</a>\\n            \\n            <a class=\"tag\" href=\"/tag/humor/page/1/\">humor</a>\\n            \\n        </div>\\n    </div>\\n\\n    <div class=\"quote\" itemscope itemtype=\"http://schema.org/CreativeWork\">\\n        <span class=\"text\" itemprop=\"text\">\\xe2\\x80\\x9cImperfection is beauty, madness is genius and it&#39;s better to be absolutely ridiculous than absolutely boring.\\xe2\\x80\\x9d</span>\\n        <span>by <small class=\"author\" itemprop=\"author\">Marilyn Monroe</small>\\n        <a href=\"/author/Marilyn-Monroe\">(about)</a>\\n        </span>\\n        <div class=\"tags\">\\n            Tags:\\n            <meta class=\"keywords\" itemprop=\"keywords\" content=\"be-yourself,inspirational\" /    > \\n            \\n            <a class=\"tag\" href=\"/tag/be-yourself/page/1/\">be-yourself</a>\\n            \\n            <a class=\"tag\" href=\"/tag/inspirational/page/1/\">inspirational</a>\\n            \\n        </div>\\n    </div>\\n\\n    <div class=\"quote\" itemscope itemtype=\"http://schema.org/CreativeWork\">\\n        <span class=\"text\" itemprop=\"text\">\\xe2\\x80\\x9cTry not to become a man of success. Rather become a man of value.\\xe2\\x80\\x9d</span>\\n        <span>by <small class=\"author\" itemprop=\"author\">Albert Einstein</small>\\n        <a href=\"/author/Albert-Einstein\">(about)</a>\\n        </span>\\n        <div class=\"tags\">\\n            Tags:\\n            <meta class=\"keywords\" itemprop=\"keywords\" content=\"adulthood,success,value\" /    > \\n            \\n            <a class=\"tag\" href=\"/tag/adulthood/page/1/\">adulthood</a>\\n            \\n            <a class=\"tag\" href=\"/tag/success/page/1/\">success</a>\\n            \\n            <a class=\"tag\" href=\"/tag/value/page/1/\">value</a>\\n            \\n        </div>\\n    </div>\\n\\n    <div class=\"quote\" itemscope itemtype=\"http://schema.org/CreativeWork\">\\n        <span class=\"text\" itemprop=\"text\">\\xe2\\x80\\x9cIt is better to be hated for what you are than to be loved for what you are not.\\xe2\\x80\\x9d</span>\\n        <span>by <small class=\"author\" itemprop=\"author\">Andr\\xc3\\xa9 Gide</small>\\n        <a href=\"/author/Andre-Gide\">(about)</a>\\n        </span>\\n        <div class=\"tags\">\\n            Tags:\\n            <meta class=\"keywords\" itemprop=\"keywords\" content=\"life,love\" /    > \\n            \\n            <a class=\"tag\" href=\"/tag/life/page/1/\">life</a>\\n            \\n            <a class=\"tag\" href=\"/tag/love/page/1/\">love</a>\\n            \\n        </div>\\n    </div>\\n\\n    <div class=\"quote\" itemscope itemtype=\"http://schema.org/CreativeWork\">\\n        <span class=\"text\" itemprop=\"text\">\\xe2\\x80\\x9cI have not failed. I&#39;ve just found 10,000 ways that won&#39;t work.\\xe2\\x80\\x9d</span>\\n        <span>by <small class=\"author\" itemprop=\"author\">Thomas A. Edison</small>\\n        <a href=\"/author/Thomas-A-Edison\">(about)</a>\\n        </span>\\n        <div class=\"tags\">\\n            Tags:\\n            <meta class=\"keywords\" itemprop=\"keywords\" content=\"edison,failure,inspirational,paraphrased\" /    > \\n            \\n            <a class=\"tag\" href=\"/tag/edison/page/1/\">edison</a>\\n            \\n            <a class=\"tag\" href=\"/tag/failure/page/1/\">failure</a>\\n            \\n            <a class=\"tag\" href=\"/tag/inspirational/page/1/\">inspirational</a>\\n            \\n            <a class=\"tag\" href=\"/tag/paraphrased/page/1/\">paraphrased</a>\\n            \\n        </div>\\n    </div>\\n\\n    <div class=\"quote\" itemscope itemtype=\"http://schema.org/CreativeWork\">\\n        <span class=\"text\" itemprop=\"text\">\\xe2\\x80\\x9cA woman is like a tea bag; you never know how strong it is until it&#39;s in hot water.\\xe2\\x80\\x9d</span>\\n        <span>by <small class=\"author\" itemprop=\"author\">Eleanor Roosevelt</small>\\n        <a href=\"/author/Eleanor-Roosevelt\">(about)</a>\\n        </span>\\n        <div class=\"tags\">\\n            Tags:\\n            <meta class=\"keywords\" itemprop=\"keywords\" content=\"misattributed-eleanor-roosevelt\" /    > \\n            \\n            <a class=\"tag\" href=\"/tag/misattributed-eleanor-roosevelt/page/1/\">misattributed-eleanor-roosevelt</a>\\n            \\n        </div>\\n    </div>\\n\\n    <div class=\"quote\" itemscope itemtype=\"http://schema.org/CreativeWork\">\\n        <span class=\"text\" itemprop=\"text\">\\xe2\\x80\\x9cA day without sunshine is like, you know, night.\\xe2\\x80\\x9d</span>\\n        <span>by <small class=\"author\" itemprop=\"author\">Steve Martin</small>\\n        <a href=\"/author/Steve-Martin\">(about)</a>\\n        </span>\\n        <div class=\"tags\">\\n            Tags:\\n            <meta class=\"keywords\" itemprop=\"keywords\" content=\"humor,obvious,simile\" /    > \\n            \\n            <a class=\"tag\" href=\"/tag/humor/page/1/\">humor</a>\\n            \\n            <a class=\"tag\" href=\"/tag/obvious/page/1/\">obvious</a>\\n            \\n            <a class=\"tag\" href=\"/tag/simile/page/1/\">simile</a>\\n            \\n        </div>\\n    </div>\\n\\n    <nav>\\n        <ul class=\"pager\">\\n            \\n            \\n            <li class=\"next\">\\n                <a href=\"/page/2/\">Next <span aria-hidden=\"true\">&rarr;</span></a>\\n            </li>\\n            \\n        </ul>\\n    </nav>\\n    </div>\\n    <div class=\"col-md-4 tags-box\">\\n        \\n            <h2>Top Ten tags</h2>\\n            \\n            <span class=\"tag-item\">\\n            <a class=\"tag\" style=\"font-size: 28px\" href=\"/tag/love/\">love</a>\\n            </span>\\n            \\n            <span class=\"tag-item\">\\n            <a class=\"tag\" style=\"font-size: 26px\" href=\"/tag/inspirational/\">inspirational</a>\\n            </span>\\n            \\n            <span class=\"tag-item\">\\n            <a class=\"tag\" style=\"font-size: 26px\" href=\"/tag/life/\">life</a>\\n            </span>\\n            \\n            <span class=\"tag-item\">\\n            <a class=\"tag\" style=\"font-size: 24px\" href=\"/tag/humor/\">humor</a>\\n            </span>\\n            \\n            <span class=\"tag-item\">\\n            <a class=\"tag\" style=\"font-size: 22px\" href=\"/tag/books/\">books</a>\\n            </span>\\n            \\n            <span class=\"tag-item\">\\n            <a class=\"tag\" style=\"font-size: 14px\" href=\"/tag/reading/\">reading</a>\\n            </span>\\n            \\n            <span class=\"tag-item\">\\n            <a class=\"tag\" style=\"font-size: 10px\" href=\"/tag/friendship/\">friendship</a>\\n            </span>\\n            \\n            <span class=\"tag-item\">\\n            <a class=\"tag\" style=\"font-size: 8px\" href=\"/tag/friends/\">friends</a>\\n            </span>\\n            \\n            <span class=\"tag-item\">\\n            <a class=\"tag\" style=\"font-size: 8px\" href=\"/tag/truth/\">truth</a>\\n            </span>\\n            \\n            <span class=\"tag-item\">\\n            <a class=\"tag\" style=\"font-size: 6px\" href=\"/tag/simile/\">simile</a>\\n            </span>\\n            \\n        \\n    </div>\\n</div>\\n\\n    </div>\\n    <footer class=\"footer\">\\n        <div class=\"container\">\\n            <p class=\"text-muted\">\\n                Quotes by: <a href=\"https://www.goodreads.com/quotes\">GoodReads.com</a>\\n            </p>\\n            <p class=\"copyright\">\\n                Made with <span class=\\'zyte\\'>\\xe2\\x9d\\xa4</span> by <a class=\\'zyte\\' href=\"https://www.zyte.com\">Zyte</a>\\n            </p>\\n        </div>\\n    </footer>\\n</body>\\n</html>'"
            ]
          },
          "metadata": {},
          "execution_count": 43
        }
      ]
    },
    {
      "cell_type": "code",
      "source": [
        "print(resp.content.decode('utf-8'))"
      ],
      "metadata": {
        "colab": {
          "base_uri": "https://localhost:8080/"
        },
        "id": "MXgzPE9vxWf5",
        "outputId": "72673fd2-2b30-487d-b4aa-ffb0698b86cf"
      },
      "execution_count": 44,
      "outputs": [
        {
          "output_type": "stream",
          "name": "stdout",
          "text": [
            "<!DOCTYPE html>\n",
            "<html lang=\"en\">\n",
            "<head>\n",
            "\t<meta charset=\"UTF-8\">\n",
            "\t<title>Quotes to Scrape</title>\n",
            "    <link rel=\"stylesheet\" href=\"/static/bootstrap.min.css\">\n",
            "    <link rel=\"stylesheet\" href=\"/static/main.css\">\n",
            "    \n",
            "    \n",
            "</head>\n",
            "<body>\n",
            "    <div class=\"container\">\n",
            "        <div class=\"row header-box\">\n",
            "            <div class=\"col-md-8\">\n",
            "                <h1>\n",
            "                    <a href=\"/\" style=\"text-decoration: none\">Quotes to Scrape</a>\n",
            "                </h1>\n",
            "            </div>\n",
            "            <div class=\"col-md-4\">\n",
            "                <p>\n",
            "                \n",
            "                    <a href=\"/login\">Login</a>\n",
            "                \n",
            "                </p>\n",
            "            </div>\n",
            "        </div>\n",
            "    \n",
            "\n",
            "<div class=\"row\">\n",
            "    <div class=\"col-md-8\">\n",
            "\n",
            "    <div class=\"quote\" itemscope itemtype=\"http://schema.org/CreativeWork\">\n",
            "        <span class=\"text\" itemprop=\"text\">“The world as we have created it is a process of our thinking. It cannot be changed without changing our thinking.”</span>\n",
            "        <span>by <small class=\"author\" itemprop=\"author\">Albert Einstein</small>\n",
            "        <a href=\"/author/Albert-Einstein\">(about)</a>\n",
            "        </span>\n",
            "        <div class=\"tags\">\n",
            "            Tags:\n",
            "            <meta class=\"keywords\" itemprop=\"keywords\" content=\"change,deep-thoughts,thinking,world\" /    > \n",
            "            \n",
            "            <a class=\"tag\" href=\"/tag/change/page/1/\">change</a>\n",
            "            \n",
            "            <a class=\"tag\" href=\"/tag/deep-thoughts/page/1/\">deep-thoughts</a>\n",
            "            \n",
            "            <a class=\"tag\" href=\"/tag/thinking/page/1/\">thinking</a>\n",
            "            \n",
            "            <a class=\"tag\" href=\"/tag/world/page/1/\">world</a>\n",
            "            \n",
            "        </div>\n",
            "    </div>\n",
            "\n",
            "    <div class=\"quote\" itemscope itemtype=\"http://schema.org/CreativeWork\">\n",
            "        <span class=\"text\" itemprop=\"text\">“It is our choices, Harry, that show what we truly are, far more than our abilities.”</span>\n",
            "        <span>by <small class=\"author\" itemprop=\"author\">J.K. Rowling</small>\n",
            "        <a href=\"/author/J-K-Rowling\">(about)</a>\n",
            "        </span>\n",
            "        <div class=\"tags\">\n",
            "            Tags:\n",
            "            <meta class=\"keywords\" itemprop=\"keywords\" content=\"abilities,choices\" /    > \n",
            "            \n",
            "            <a class=\"tag\" href=\"/tag/abilities/page/1/\">abilities</a>\n",
            "            \n",
            "            <a class=\"tag\" href=\"/tag/choices/page/1/\">choices</a>\n",
            "            \n",
            "        </div>\n",
            "    </div>\n",
            "\n",
            "    <div class=\"quote\" itemscope itemtype=\"http://schema.org/CreativeWork\">\n",
            "        <span class=\"text\" itemprop=\"text\">“There are only two ways to live your life. One is as though nothing is a miracle. The other is as though everything is a miracle.”</span>\n",
            "        <span>by <small class=\"author\" itemprop=\"author\">Albert Einstein</small>\n",
            "        <a href=\"/author/Albert-Einstein\">(about)</a>\n",
            "        </span>\n",
            "        <div class=\"tags\">\n",
            "            Tags:\n",
            "            <meta class=\"keywords\" itemprop=\"keywords\" content=\"inspirational,life,live,miracle,miracles\" /    > \n",
            "            \n",
            "            <a class=\"tag\" href=\"/tag/inspirational/page/1/\">inspirational</a>\n",
            "            \n",
            "            <a class=\"tag\" href=\"/tag/life/page/1/\">life</a>\n",
            "            \n",
            "            <a class=\"tag\" href=\"/tag/live/page/1/\">live</a>\n",
            "            \n",
            "            <a class=\"tag\" href=\"/tag/miracle/page/1/\">miracle</a>\n",
            "            \n",
            "            <a class=\"tag\" href=\"/tag/miracles/page/1/\">miracles</a>\n",
            "            \n",
            "        </div>\n",
            "    </div>\n",
            "\n",
            "    <div class=\"quote\" itemscope itemtype=\"http://schema.org/CreativeWork\">\n",
            "        <span class=\"text\" itemprop=\"text\">“The person, be it gentleman or lady, who has not pleasure in a good novel, must be intolerably stupid.”</span>\n",
            "        <span>by <small class=\"author\" itemprop=\"author\">Jane Austen</small>\n",
            "        <a href=\"/author/Jane-Austen\">(about)</a>\n",
            "        </span>\n",
            "        <div class=\"tags\">\n",
            "            Tags:\n",
            "            <meta class=\"keywords\" itemprop=\"keywords\" content=\"aliteracy,books,classic,humor\" /    > \n",
            "            \n",
            "            <a class=\"tag\" href=\"/tag/aliteracy/page/1/\">aliteracy</a>\n",
            "            \n",
            "            <a class=\"tag\" href=\"/tag/books/page/1/\">books</a>\n",
            "            \n",
            "            <a class=\"tag\" href=\"/tag/classic/page/1/\">classic</a>\n",
            "            \n",
            "            <a class=\"tag\" href=\"/tag/humor/page/1/\">humor</a>\n",
            "            \n",
            "        </div>\n",
            "    </div>\n",
            "\n",
            "    <div class=\"quote\" itemscope itemtype=\"http://schema.org/CreativeWork\">\n",
            "        <span class=\"text\" itemprop=\"text\">“Imperfection is beauty, madness is genius and it&#39;s better to be absolutely ridiculous than absolutely boring.”</span>\n",
            "        <span>by <small class=\"author\" itemprop=\"author\">Marilyn Monroe</small>\n",
            "        <a href=\"/author/Marilyn-Monroe\">(about)</a>\n",
            "        </span>\n",
            "        <div class=\"tags\">\n",
            "            Tags:\n",
            "            <meta class=\"keywords\" itemprop=\"keywords\" content=\"be-yourself,inspirational\" /    > \n",
            "            \n",
            "            <a class=\"tag\" href=\"/tag/be-yourself/page/1/\">be-yourself</a>\n",
            "            \n",
            "            <a class=\"tag\" href=\"/tag/inspirational/page/1/\">inspirational</a>\n",
            "            \n",
            "        </div>\n",
            "    </div>\n",
            "\n",
            "    <div class=\"quote\" itemscope itemtype=\"http://schema.org/CreativeWork\">\n",
            "        <span class=\"text\" itemprop=\"text\">“Try not to become a man of success. Rather become a man of value.”</span>\n",
            "        <span>by <small class=\"author\" itemprop=\"author\">Albert Einstein</small>\n",
            "        <a href=\"/author/Albert-Einstein\">(about)</a>\n",
            "        </span>\n",
            "        <div class=\"tags\">\n",
            "            Tags:\n",
            "            <meta class=\"keywords\" itemprop=\"keywords\" content=\"adulthood,success,value\" /    > \n",
            "            \n",
            "            <a class=\"tag\" href=\"/tag/adulthood/page/1/\">adulthood</a>\n",
            "            \n",
            "            <a class=\"tag\" href=\"/tag/success/page/1/\">success</a>\n",
            "            \n",
            "            <a class=\"tag\" href=\"/tag/value/page/1/\">value</a>\n",
            "            \n",
            "        </div>\n",
            "    </div>\n",
            "\n",
            "    <div class=\"quote\" itemscope itemtype=\"http://schema.org/CreativeWork\">\n",
            "        <span class=\"text\" itemprop=\"text\">“It is better to be hated for what you are than to be loved for what you are not.”</span>\n",
            "        <span>by <small class=\"author\" itemprop=\"author\">André Gide</small>\n",
            "        <a href=\"/author/Andre-Gide\">(about)</a>\n",
            "        </span>\n",
            "        <div class=\"tags\">\n",
            "            Tags:\n",
            "            <meta class=\"keywords\" itemprop=\"keywords\" content=\"life,love\" /    > \n",
            "            \n",
            "            <a class=\"tag\" href=\"/tag/life/page/1/\">life</a>\n",
            "            \n",
            "            <a class=\"tag\" href=\"/tag/love/page/1/\">love</a>\n",
            "            \n",
            "        </div>\n",
            "    </div>\n",
            "\n",
            "    <div class=\"quote\" itemscope itemtype=\"http://schema.org/CreativeWork\">\n",
            "        <span class=\"text\" itemprop=\"text\">“I have not failed. I&#39;ve just found 10,000 ways that won&#39;t work.”</span>\n",
            "        <span>by <small class=\"author\" itemprop=\"author\">Thomas A. Edison</small>\n",
            "        <a href=\"/author/Thomas-A-Edison\">(about)</a>\n",
            "        </span>\n",
            "        <div class=\"tags\">\n",
            "            Tags:\n",
            "            <meta class=\"keywords\" itemprop=\"keywords\" content=\"edison,failure,inspirational,paraphrased\" /    > \n",
            "            \n",
            "            <a class=\"tag\" href=\"/tag/edison/page/1/\">edison</a>\n",
            "            \n",
            "            <a class=\"tag\" href=\"/tag/failure/page/1/\">failure</a>\n",
            "            \n",
            "            <a class=\"tag\" href=\"/tag/inspirational/page/1/\">inspirational</a>\n",
            "            \n",
            "            <a class=\"tag\" href=\"/tag/paraphrased/page/1/\">paraphrased</a>\n",
            "            \n",
            "        </div>\n",
            "    </div>\n",
            "\n",
            "    <div class=\"quote\" itemscope itemtype=\"http://schema.org/CreativeWork\">\n",
            "        <span class=\"text\" itemprop=\"text\">“A woman is like a tea bag; you never know how strong it is until it&#39;s in hot water.”</span>\n",
            "        <span>by <small class=\"author\" itemprop=\"author\">Eleanor Roosevelt</small>\n",
            "        <a href=\"/author/Eleanor-Roosevelt\">(about)</a>\n",
            "        </span>\n",
            "        <div class=\"tags\">\n",
            "            Tags:\n",
            "            <meta class=\"keywords\" itemprop=\"keywords\" content=\"misattributed-eleanor-roosevelt\" /    > \n",
            "            \n",
            "            <a class=\"tag\" href=\"/tag/misattributed-eleanor-roosevelt/page/1/\">misattributed-eleanor-roosevelt</a>\n",
            "            \n",
            "        </div>\n",
            "    </div>\n",
            "\n",
            "    <div class=\"quote\" itemscope itemtype=\"http://schema.org/CreativeWork\">\n",
            "        <span class=\"text\" itemprop=\"text\">“A day without sunshine is like, you know, night.”</span>\n",
            "        <span>by <small class=\"author\" itemprop=\"author\">Steve Martin</small>\n",
            "        <a href=\"/author/Steve-Martin\">(about)</a>\n",
            "        </span>\n",
            "        <div class=\"tags\">\n",
            "            Tags:\n",
            "            <meta class=\"keywords\" itemprop=\"keywords\" content=\"humor,obvious,simile\" /    > \n",
            "            \n",
            "            <a class=\"tag\" href=\"/tag/humor/page/1/\">humor</a>\n",
            "            \n",
            "            <a class=\"tag\" href=\"/tag/obvious/page/1/\">obvious</a>\n",
            "            \n",
            "            <a class=\"tag\" href=\"/tag/simile/page/1/\">simile</a>\n",
            "            \n",
            "        </div>\n",
            "    </div>\n",
            "\n",
            "    <nav>\n",
            "        <ul class=\"pager\">\n",
            "            \n",
            "            \n",
            "            <li class=\"next\">\n",
            "                <a href=\"/page/2/\">Next <span aria-hidden=\"true\">&rarr;</span></a>\n",
            "            </li>\n",
            "            \n",
            "        </ul>\n",
            "    </nav>\n",
            "    </div>\n",
            "    <div class=\"col-md-4 tags-box\">\n",
            "        \n",
            "            <h2>Top Ten tags</h2>\n",
            "            \n",
            "            <span class=\"tag-item\">\n",
            "            <a class=\"tag\" style=\"font-size: 28px\" href=\"/tag/love/\">love</a>\n",
            "            </span>\n",
            "            \n",
            "            <span class=\"tag-item\">\n",
            "            <a class=\"tag\" style=\"font-size: 26px\" href=\"/tag/inspirational/\">inspirational</a>\n",
            "            </span>\n",
            "            \n",
            "            <span class=\"tag-item\">\n",
            "            <a class=\"tag\" style=\"font-size: 26px\" href=\"/tag/life/\">life</a>\n",
            "            </span>\n",
            "            \n",
            "            <span class=\"tag-item\">\n",
            "            <a class=\"tag\" style=\"font-size: 24px\" href=\"/tag/humor/\">humor</a>\n",
            "            </span>\n",
            "            \n",
            "            <span class=\"tag-item\">\n",
            "            <a class=\"tag\" style=\"font-size: 22px\" href=\"/tag/books/\">books</a>\n",
            "            </span>\n",
            "            \n",
            "            <span class=\"tag-item\">\n",
            "            <a class=\"tag\" style=\"font-size: 14px\" href=\"/tag/reading/\">reading</a>\n",
            "            </span>\n",
            "            \n",
            "            <span class=\"tag-item\">\n",
            "            <a class=\"tag\" style=\"font-size: 10px\" href=\"/tag/friendship/\">friendship</a>\n",
            "            </span>\n",
            "            \n",
            "            <span class=\"tag-item\">\n",
            "            <a class=\"tag\" style=\"font-size: 8px\" href=\"/tag/friends/\">friends</a>\n",
            "            </span>\n",
            "            \n",
            "            <span class=\"tag-item\">\n",
            "            <a class=\"tag\" style=\"font-size: 8px\" href=\"/tag/truth/\">truth</a>\n",
            "            </span>\n",
            "            \n",
            "            <span class=\"tag-item\">\n",
            "            <a class=\"tag\" style=\"font-size: 6px\" href=\"/tag/simile/\">simile</a>\n",
            "            </span>\n",
            "            \n",
            "        \n",
            "    </div>\n",
            "</div>\n",
            "\n",
            "    </div>\n",
            "    <footer class=\"footer\">\n",
            "        <div class=\"container\">\n",
            "            <p class=\"text-muted\">\n",
            "                Quotes by: <a href=\"https://www.goodreads.com/quotes\">GoodReads.com</a>\n",
            "            </p>\n",
            "            <p class=\"copyright\">\n",
            "                Made with <span class='zyte'>❤</span> by <a class='zyte' href=\"https://www.zyte.com\">Zyte</a>\n",
            "            </p>\n",
            "        </div>\n",
            "    </footer>\n",
            "</body>\n",
            "</html>\n"
          ]
        }
      ]
    },
    {
      "cell_type": "code",
      "source": [
        "resp.text"
      ],
      "metadata": {
        "colab": {
          "base_uri": "https://localhost:8080/",
          "height": 0
        },
        "id": "19UI8FFpxegI",
        "outputId": "0ea968da-e222-495d-d367-eead4bd5fc6c"
      },
      "execution_count": 45,
      "outputs": [
        {
          "output_type": "execute_result",
          "data": {
            "text/plain": [
              "'<!DOCTYPE html>\\n<html lang=\"en\">\\n<head>\\n\\t<meta charset=\"UTF-8\">\\n\\t<title>Quotes to Scrape</title>\\n    <link rel=\"stylesheet\" href=\"/static/bootstrap.min.css\">\\n    <link rel=\"stylesheet\" href=\"/static/main.css\">\\n    \\n    \\n</head>\\n<body>\\n    <div class=\"container\">\\n        <div class=\"row header-box\">\\n            <div class=\"col-md-8\">\\n                <h1>\\n                    <a href=\"/\" style=\"text-decoration: none\">Quotes to Scrape</a>\\n                </h1>\\n            </div>\\n            <div class=\"col-md-4\">\\n                <p>\\n                \\n                    <a href=\"/login\">Login</a>\\n                \\n                </p>\\n            </div>\\n        </div>\\n    \\n\\n<div class=\"row\">\\n    <div class=\"col-md-8\">\\n\\n    <div class=\"quote\" itemscope itemtype=\"http://schema.org/CreativeWork\">\\n        <span class=\"text\" itemprop=\"text\">“The world as we have created it is a process of our thinking. It cannot be changed without changing our thinking.”</span>\\n        <span>by <small class=\"author\" itemprop=\"author\">Albert Einstein</small>\\n        <a href=\"/author/Albert-Einstein\">(about)</a>\\n        </span>\\n        <div class=\"tags\">\\n            Tags:\\n            <meta class=\"keywords\" itemprop=\"keywords\" content=\"change,deep-thoughts,thinking,world\" /    > \\n            \\n            <a class=\"tag\" href=\"/tag/change/page/1/\">change</a>\\n            \\n            <a class=\"tag\" href=\"/tag/deep-thoughts/page/1/\">deep-thoughts</a>\\n            \\n            <a class=\"tag\" href=\"/tag/thinking/page/1/\">thinking</a>\\n            \\n            <a class=\"tag\" href=\"/tag/world/page/1/\">world</a>\\n            \\n        </div>\\n    </div>\\n\\n    <div class=\"quote\" itemscope itemtype=\"http://schema.org/CreativeWork\">\\n        <span class=\"text\" itemprop=\"text\">“It is our choices, Harry, that show what we truly are, far more than our abilities.”</span>\\n        <span>by <small class=\"author\" itemprop=\"author\">J.K. Rowling</small>\\n        <a href=\"/author/J-K-Rowling\">(about)</a>\\n        </span>\\n        <div class=\"tags\">\\n            Tags:\\n            <meta class=\"keywords\" itemprop=\"keywords\" content=\"abilities,choices\" /    > \\n            \\n            <a class=\"tag\" href=\"/tag/abilities/page/1/\">abilities</a>\\n            \\n            <a class=\"tag\" href=\"/tag/choices/page/1/\">choices</a>\\n            \\n        </div>\\n    </div>\\n\\n    <div class=\"quote\" itemscope itemtype=\"http://schema.org/CreativeWork\">\\n        <span class=\"text\" itemprop=\"text\">“There are only two ways to live your life. One is as though nothing is a miracle. The other is as though everything is a miracle.”</span>\\n        <span>by <small class=\"author\" itemprop=\"author\">Albert Einstein</small>\\n        <a href=\"/author/Albert-Einstein\">(about)</a>\\n        </span>\\n        <div class=\"tags\">\\n            Tags:\\n            <meta class=\"keywords\" itemprop=\"keywords\" content=\"inspirational,life,live,miracle,miracles\" /    > \\n            \\n            <a class=\"tag\" href=\"/tag/inspirational/page/1/\">inspirational</a>\\n            \\n            <a class=\"tag\" href=\"/tag/life/page/1/\">life</a>\\n            \\n            <a class=\"tag\" href=\"/tag/live/page/1/\">live</a>\\n            \\n            <a class=\"tag\" href=\"/tag/miracle/page/1/\">miracle</a>\\n            \\n            <a class=\"tag\" href=\"/tag/miracles/page/1/\">miracles</a>\\n            \\n        </div>\\n    </div>\\n\\n    <div class=\"quote\" itemscope itemtype=\"http://schema.org/CreativeWork\">\\n        <span class=\"text\" itemprop=\"text\">“The person, be it gentleman or lady, who has not pleasure in a good novel, must be intolerably stupid.”</span>\\n        <span>by <small class=\"author\" itemprop=\"author\">Jane Austen</small>\\n        <a href=\"/author/Jane-Austen\">(about)</a>\\n        </span>\\n        <div class=\"tags\">\\n            Tags:\\n            <meta class=\"keywords\" itemprop=\"keywords\" content=\"aliteracy,books,classic,humor\" /    > \\n            \\n            <a class=\"tag\" href=\"/tag/aliteracy/page/1/\">aliteracy</a>\\n            \\n            <a class=\"tag\" href=\"/tag/books/page/1/\">books</a>\\n            \\n            <a class=\"tag\" href=\"/tag/classic/page/1/\">classic</a>\\n            \\n            <a class=\"tag\" href=\"/tag/humor/page/1/\">humor</a>\\n            \\n        </div>\\n    </div>\\n\\n    <div class=\"quote\" itemscope itemtype=\"http://schema.org/CreativeWork\">\\n        <span class=\"text\" itemprop=\"text\">“Imperfection is beauty, madness is genius and it&#39;s better to be absolutely ridiculous than absolutely boring.”</span>\\n        <span>by <small class=\"author\" itemprop=\"author\">Marilyn Monroe</small>\\n        <a href=\"/author/Marilyn-Monroe\">(about)</a>\\n        </span>\\n        <div class=\"tags\">\\n            Tags:\\n            <meta class=\"keywords\" itemprop=\"keywords\" content=\"be-yourself,inspirational\" /    > \\n            \\n            <a class=\"tag\" href=\"/tag/be-yourself/page/1/\">be-yourself</a>\\n            \\n            <a class=\"tag\" href=\"/tag/inspirational/page/1/\">inspirational</a>\\n            \\n        </div>\\n    </div>\\n\\n    <div class=\"quote\" itemscope itemtype=\"http://schema.org/CreativeWork\">\\n        <span class=\"text\" itemprop=\"text\">“Try not to become a man of success. Rather become a man of value.”</span>\\n        <span>by <small class=\"author\" itemprop=\"author\">Albert Einstein</small>\\n        <a href=\"/author/Albert-Einstein\">(about)</a>\\n        </span>\\n        <div class=\"tags\">\\n            Tags:\\n            <meta class=\"keywords\" itemprop=\"keywords\" content=\"adulthood,success,value\" /    > \\n            \\n            <a class=\"tag\" href=\"/tag/adulthood/page/1/\">adulthood</a>\\n            \\n            <a class=\"tag\" href=\"/tag/success/page/1/\">success</a>\\n            \\n            <a class=\"tag\" href=\"/tag/value/page/1/\">value</a>\\n            \\n        </div>\\n    </div>\\n\\n    <div class=\"quote\" itemscope itemtype=\"http://schema.org/CreativeWork\">\\n        <span class=\"text\" itemprop=\"text\">“It is better to be hated for what you are than to be loved for what you are not.”</span>\\n        <span>by <small class=\"author\" itemprop=\"author\">André Gide</small>\\n        <a href=\"/author/Andre-Gide\">(about)</a>\\n        </span>\\n        <div class=\"tags\">\\n            Tags:\\n            <meta class=\"keywords\" itemprop=\"keywords\" content=\"life,love\" /    > \\n            \\n            <a class=\"tag\" href=\"/tag/life/page/1/\">life</a>\\n            \\n            <a class=\"tag\" href=\"/tag/love/page/1/\">love</a>\\n            \\n        </div>\\n    </div>\\n\\n    <div class=\"quote\" itemscope itemtype=\"http://schema.org/CreativeWork\">\\n        <span class=\"text\" itemprop=\"text\">“I have not failed. I&#39;ve just found 10,000 ways that won&#39;t work.”</span>\\n        <span>by <small class=\"author\" itemprop=\"author\">Thomas A. Edison</small>\\n        <a href=\"/author/Thomas-A-Edison\">(about)</a>\\n        </span>\\n        <div class=\"tags\">\\n            Tags:\\n            <meta class=\"keywords\" itemprop=\"keywords\" content=\"edison,failure,inspirational,paraphrased\" /    > \\n            \\n            <a class=\"tag\" href=\"/tag/edison/page/1/\">edison</a>\\n            \\n            <a class=\"tag\" href=\"/tag/failure/page/1/\">failure</a>\\n            \\n            <a class=\"tag\" href=\"/tag/inspirational/page/1/\">inspirational</a>\\n            \\n            <a class=\"tag\" href=\"/tag/paraphrased/page/1/\">paraphrased</a>\\n            \\n        </div>\\n    </div>\\n\\n    <div class=\"quote\" itemscope itemtype=\"http://schema.org/CreativeWork\">\\n        <span class=\"text\" itemprop=\"text\">“A woman is like a tea bag; you never know how strong it is until it&#39;s in hot water.”</span>\\n        <span>by <small class=\"author\" itemprop=\"author\">Eleanor Roosevelt</small>\\n        <a href=\"/author/Eleanor-Roosevelt\">(about)</a>\\n        </span>\\n        <div class=\"tags\">\\n            Tags:\\n            <meta class=\"keywords\" itemprop=\"keywords\" content=\"misattributed-eleanor-roosevelt\" /    > \\n            \\n            <a class=\"tag\" href=\"/tag/misattributed-eleanor-roosevelt/page/1/\">misattributed-eleanor-roosevelt</a>\\n            \\n        </div>\\n    </div>\\n\\n    <div class=\"quote\" itemscope itemtype=\"http://schema.org/CreativeWork\">\\n        <span class=\"text\" itemprop=\"text\">“A day without sunshine is like, you know, night.”</span>\\n        <span>by <small class=\"author\" itemprop=\"author\">Steve Martin</small>\\n        <a href=\"/author/Steve-Martin\">(about)</a>\\n        </span>\\n        <div class=\"tags\">\\n            Tags:\\n            <meta class=\"keywords\" itemprop=\"keywords\" content=\"humor,obvious,simile\" /    > \\n            \\n            <a class=\"tag\" href=\"/tag/humor/page/1/\">humor</a>\\n            \\n            <a class=\"tag\" href=\"/tag/obvious/page/1/\">obvious</a>\\n            \\n            <a class=\"tag\" href=\"/tag/simile/page/1/\">simile</a>\\n            \\n        </div>\\n    </div>\\n\\n    <nav>\\n        <ul class=\"pager\">\\n            \\n            \\n            <li class=\"next\">\\n                <a href=\"/page/2/\">Next <span aria-hidden=\"true\">&rarr;</span></a>\\n            </li>\\n            \\n        </ul>\\n    </nav>\\n    </div>\\n    <div class=\"col-md-4 tags-box\">\\n        \\n            <h2>Top Ten tags</h2>\\n            \\n            <span class=\"tag-item\">\\n            <a class=\"tag\" style=\"font-size: 28px\" href=\"/tag/love/\">love</a>\\n            </span>\\n            \\n            <span class=\"tag-item\">\\n            <a class=\"tag\" style=\"font-size: 26px\" href=\"/tag/inspirational/\">inspirational</a>\\n            </span>\\n            \\n            <span class=\"tag-item\">\\n            <a class=\"tag\" style=\"font-size: 26px\" href=\"/tag/life/\">life</a>\\n            </span>\\n            \\n            <span class=\"tag-item\">\\n            <a class=\"tag\" style=\"font-size: 24px\" href=\"/tag/humor/\">humor</a>\\n            </span>\\n            \\n            <span class=\"tag-item\">\\n            <a class=\"tag\" style=\"font-size: 22px\" href=\"/tag/books/\">books</a>\\n            </span>\\n            \\n            <span class=\"tag-item\">\\n            <a class=\"tag\" style=\"font-size: 14px\" href=\"/tag/reading/\">reading</a>\\n            </span>\\n            \\n            <span class=\"tag-item\">\\n            <a class=\"tag\" style=\"font-size: 10px\" href=\"/tag/friendship/\">friendship</a>\\n            </span>\\n            \\n            <span class=\"tag-item\">\\n            <a class=\"tag\" style=\"font-size: 8px\" href=\"/tag/friends/\">friends</a>\\n            </span>\\n            \\n            <span class=\"tag-item\">\\n            <a class=\"tag\" style=\"font-size: 8px\" href=\"/tag/truth/\">truth</a>\\n            </span>\\n            \\n            <span class=\"tag-item\">\\n            <a class=\"tag\" style=\"font-size: 6px\" href=\"/tag/simile/\">simile</a>\\n            </span>\\n            \\n        \\n    </div>\\n</div>\\n\\n    </div>\\n    <footer class=\"footer\">\\n        <div class=\"container\">\\n            <p class=\"text-muted\">\\n                Quotes by: <a href=\"https://www.goodreads.com/quotes\">GoodReads.com</a>\\n            </p>\\n            <p class=\"copyright\">\\n                Made with <span class=\\'zyte\\'>❤</span> by <a class=\\'zyte\\' href=\"https://www.zyte.com\">Zyte</a>\\n            </p>\\n        </div>\\n    </footer>\\n</body>\\n</html>'"
            ],
            "application/vnd.google.colaboratory.intrinsic+json": {
              "type": "string"
            }
          },
          "metadata": {},
          "execution_count": 45
        }
      ]
    },
    {
      "cell_type": "code",
      "source": [
        "type(resp)"
      ],
      "metadata": {
        "colab": {
          "base_uri": "https://localhost:8080/",
          "height": 0
        },
        "id": "MdguKIeWxq-r",
        "outputId": "8123db6b-2255-4caa-db02-25874981b5fe"
      },
      "execution_count": 46,
      "outputs": [
        {
          "output_type": "execute_result",
          "data": {
            "text/plain": [
              "requests.models.Response"
            ],
            "text/html": [
              "<div style=\"max-width:800px; border: 1px solid var(--colab-border-color);\"><style>\n",
              "      pre.function-repr-contents {\n",
              "        overflow-x: auto;\n",
              "        padding: 8px 12px;\n",
              "        max-height: 500px;\n",
              "      }\n",
              "\n",
              "      pre.function-repr-contents.function-repr-contents-collapsed {\n",
              "        cursor: pointer;\n",
              "        max-height: 100px;\n",
              "      }\n",
              "    </style>\n",
              "    <pre style=\"white-space: initial; background:\n",
              "         var(--colab-secondary-surface-color); padding: 8px 12px;\n",
              "         border-bottom: 1px solid var(--colab-border-color);\"><b>requests.models.Response</b><br/>def __init__()</pre><pre class=\"function-repr-contents function-repr-contents-collapsed\" style=\"\"><a class=\"filepath\" style=\"display:none\" href=\"#\">/usr/local/lib/python3.11/dist-packages/requests/models.py</a>The :class:`Response &lt;Response&gt;` object, which contains a\n",
              "server&#x27;s response to an HTTP request.</pre>\n",
              "      <script>\n",
              "      if (google.colab.kernel.accessAllowed && google.colab.files && google.colab.files.view) {\n",
              "        for (const element of document.querySelectorAll('.filepath')) {\n",
              "          element.style.display = 'block'\n",
              "          element.onclick = (event) => {\n",
              "            event.preventDefault();\n",
              "            event.stopPropagation();\n",
              "            google.colab.files.view(element.textContent, 640);\n",
              "          };\n",
              "        }\n",
              "      }\n",
              "      for (const element of document.querySelectorAll('.function-repr-contents')) {\n",
              "        element.onclick = (event) => {\n",
              "          event.preventDefault();\n",
              "          event.stopPropagation();\n",
              "          element.classList.toggle('function-repr-contents-collapsed');\n",
              "        };\n",
              "      }\n",
              "      </script>\n",
              "      </div>"
            ]
          },
          "metadata": {},
          "execution_count": 46
        }
      ]
    },
    {
      "cell_type": "code",
      "source": [],
      "metadata": {
        "id": "1BukOOY_yCVI"
      },
      "execution_count": 46,
      "outputs": []
    },
    {
      "cell_type": "markdown",
      "source": [
        "### Setting Headers"
      ],
      "metadata": {
        "id": "5DNKEV7ax96n"
      }
    },
    {
      "cell_type": "code",
      "source": [
        "resp.headers"
      ],
      "metadata": {
        "colab": {
          "base_uri": "https://localhost:8080/"
        },
        "id": "clB1stMmxhfV",
        "outputId": "05a08514-1391-4d9c-81be-62385cd33ff8"
      },
      "execution_count": 47,
      "outputs": [
        {
          "output_type": "execute_result",
          "data": {
            "text/plain": [
              "{'Date': 'Sun, 16 Feb 2025 03:05:14 GMT', 'Content-Type': 'text/html; charset=utf-8', 'Content-Length': '11064', 'Connection': 'keep-alive', 'Strict-Transport-Security': 'max-age=0; includeSubDomains; preload'}"
            ]
          },
          "metadata": {},
          "execution_count": 47
        }
      ]
    },
    {
      "cell_type": "code",
      "source": [
        "resp.headers['Content-Type'] # Keys are case insensitive"
      ],
      "metadata": {
        "colab": {
          "base_uri": "https://localhost:8080/",
          "height": 0
        },
        "id": "jd-v20xLx_da",
        "outputId": "228138c6-9e6e-4c8f-87b1-6df0e15d541d"
      },
      "execution_count": 48,
      "outputs": [
        {
          "output_type": "execute_result",
          "data": {
            "text/plain": [
              "'text/html; charset=utf-8'"
            ],
            "application/vnd.google.colaboratory.intrinsic+json": {
              "type": "string"
            }
          },
          "metadata": {},
          "execution_count": 48
        }
      ]
    },
    {
      "cell_type": "code",
      "source": [
        "resp = requests.get(url, headers={\"User-Agent\": \"Mozilla/5.0\"})"
      ],
      "metadata": {
        "id": "04WaQGsCyHds"
      },
      "execution_count": 49,
      "outputs": []
    },
    {
      "cell_type": "code",
      "source": [
        "resp = requests.get(\"https://httpbin.org/headers\")"
      ],
      "metadata": {
        "id": "KOA5KVX_ym-f"
      },
      "execution_count": 50,
      "outputs": []
    },
    {
      "cell_type": "code",
      "source": [
        "resp.json()"
      ],
      "metadata": {
        "colab": {
          "base_uri": "https://localhost:8080/"
        },
        "id": "6ThaqV9gy66b",
        "outputId": "e15a0953-64fb-4499-ae68-dcd1b8d35762"
      },
      "execution_count": 51,
      "outputs": [
        {
          "output_type": "execute_result",
          "data": {
            "text/plain": [
              "{'headers': {'Accept': '*/*',\n",
              "  'Accept-Encoding': 'gzip, deflate, zstd',\n",
              "  'Host': 'httpbin.org',\n",
              "  'User-Agent': 'python-requests/2.32.3',\n",
              "  'X-Amzn-Trace-Id': 'Root=1-67b155eb-27b7508f612e85e66f38b9d3'}}"
            ]
          },
          "metadata": {},
          "execution_count": 51
        }
      ]
    },
    {
      "cell_type": "code",
      "source": [
        "resp = requests.get(\"https://httpbin.org/headers\", headers={\"User-Agent\": \"Mozilla/5.0\"})"
      ],
      "metadata": {
        "id": "Y9J_6lO_zG7Q"
      },
      "execution_count": 52,
      "outputs": []
    },
    {
      "cell_type": "code",
      "source": [
        "resp.json()"
      ],
      "metadata": {
        "colab": {
          "base_uri": "https://localhost:8080/"
        },
        "id": "QJJ8VG5IzPtl",
        "outputId": "cf200418-a34b-4fba-e13b-6fecd422ade9"
      },
      "execution_count": 53,
      "outputs": [
        {
          "output_type": "execute_result",
          "data": {
            "text/plain": [
              "{'headers': {'Accept': '*/*',\n",
              "  'Accept-Encoding': 'gzip, deflate, zstd',\n",
              "  'Host': 'httpbin.org',\n",
              "  'User-Agent': 'Mozilla/5.0',\n",
              "  'X-Amzn-Trace-Id': 'Root=1-67b155eb-077ff0c80c7b0c0b02bd1801'}}"
            ]
          },
          "metadata": {},
          "execution_count": 53
        }
      ]
    },
    {
      "cell_type": "code",
      "source": [
        "resp.request.headers"
      ],
      "metadata": {
        "colab": {
          "base_uri": "https://localhost:8080/"
        },
        "id": "lRUJNWFmzRH-",
        "outputId": "01fdc87b-98a0-4c71-b4e1-1e077e5d4907"
      },
      "execution_count": 54,
      "outputs": [
        {
          "output_type": "execute_result",
          "data": {
            "text/plain": [
              "{'User-Agent': 'Mozilla/5.0', 'Accept-Encoding': 'gzip, deflate, zstd', 'Accept': '*/*', 'Connection': 'keep-alive'}"
            ]
          },
          "metadata": {},
          "execution_count": 54
        }
      ]
    },
    {
      "cell_type": "code",
      "source": [],
      "metadata": {
        "id": "zw31R6a9zn0N"
      },
      "execution_count": 54,
      "outputs": []
    },
    {
      "cell_type": "markdown",
      "source": [
        "### Query Parameters\n",
        "\n",
        "Eg. books.com?author=JKRowling&title=HarryPotter&price=10"
      ],
      "metadata": {
        "id": "phcWLG2kz7cl"
      }
    },
    {
      "cell_type": "code",
      "source": [
        "url = \"https://api.coinbase.com/v2/exchange-rates?currency=BTC\""
      ],
      "metadata": {
        "id": "yXqfUvZhz-am"
      },
      "execution_count": 55,
      "outputs": []
    },
    {
      "cell_type": "code",
      "source": [
        "import requests as r"
      ],
      "metadata": {
        "id": "ytFX8G1q0F9e"
      },
      "execution_count": 56,
      "outputs": []
    },
    {
      "cell_type": "code",
      "source": [
        "resp = r.get(url)"
      ],
      "metadata": {
        "id": "i4YKg6eg07bK"
      },
      "execution_count": 57,
      "outputs": []
    },
    {
      "cell_type": "code",
      "source": [
        "resp.json()"
      ],
      "metadata": {
        "colab": {
          "base_uri": "https://localhost:8080/"
        },
        "id": "GAT7rsXK09Kp",
        "outputId": "71d3124d-3587-460a-eca4-7f5b0f9a325d"
      },
      "execution_count": 58,
      "outputs": [
        {
          "output_type": "execute_result",
          "data": {
            "text/plain": [
              "{'data': {'currency': 'BTC',\n",
              "  'rates': {'00': '3119471.84',\n",
              "   '1INCH': '365791.7260787992489274005',\n",
              "   'AAVE': '388.3495145631067961',\n",
              "   'ABT': '106574.2811850880091187235',\n",
              "   'ACH': '3962099.455373110059185481',\n",
              "   'ACS': '40634207.290385777702352134',\n",
              "   'ACX': '296302.416413373864863949',\n",
              "   'ADA': '125944.5843828715365239',\n",
              "   'AED': '358060.1265848333300838835',\n",
              "   'AERGO': '1095320.1685393258445586735',\n",
              "   'AERO': '117159.917313158386386377',\n",
              "   'AFN': '7157218.745589273944772423',\n",
              "   'AGLD': '87586.2488769092510533295',\n",
              "   'AIOZ': '228378.809886376949504213',\n",
              "   'AKT': '51797.818809776836927098',\n",
              "   'ALCX': '7727.585810543006114051',\n",
              "   'ALEO': '215433.1381215469642881725',\n",
              "   'ALEPH': '1025602.2619673855892666335',\n",
              "   'ALGO': '349650.3496503496503497',\n",
              "   'ALICE': '130762.5687458081807868305',\n",
              "   'ALL': '9226276.3988187625',\n",
              "   'AMD': '38875883.6577629600715840755',\n",
              "   'AMP': '17162587.1478873239451722795',\n",
              "   'ANG': '174837.5743757025',\n",
              "   'ANKR': '4344184.2691622103429382275',\n",
              "   'ANT': '43337.404227238626099435',\n",
              "   'AOA': '89099887.7660209757901712345',\n",
              "   'APE': '137591.383203952015983327',\n",
              "   'API3': '111155.638540478906226193',\n",
              "   'APT': '16411.362794612799470558',\n",
              "   'ARB': '206226.9832874973541668945',\n",
              "   'ARKM': '143147.569750367107138042',\n",
              "   'ARPA': '2663483.4699453551957847525',\n",
              "   'ARS': '102954118.5937215145374426845',\n",
              "   'ARSMEP': '115398524.293621530250465766',\n",
              "   'ASM': '2327964.0597014925339669845',\n",
              "   'AST': '1241827.961783439492805333',\n",
              "   'ATA': '1359598.792884302524268882',\n",
              "   'ATOM': '20470.8290685772773797',\n",
              "   'AUCTION': '9179.236817325797476009',\n",
              "   'AUD': '153486.885526045',\n",
              "   'AUDIO': '939599.9518072289176593005',\n",
              "   'AURORA': '789340.04048582995872483',\n",
              "   'AVAX': '3870.343492985002419',\n",
              "   'AVT': '41306.56567796609839039',\n",
              "   'AWG': '175470.291',\n",
              "   'AXL': '206927.3933347484581619725',\n",
              "   'AXS': '22396.4165733482642777',\n",
              "   'AZN': '165721.9414999999902516505',\n",
              "   'B3': '12538070.0964630225036189155',\n",
              "   'BADGER': '27268.1104895104875335515',\n",
              "   'BAL': '49066.8151503712084946875',\n",
              "   'BAM': '181676.272286221434396333',\n",
              "   'BAND': '101281.553246753250551305',\n",
              "   'BAT': '536193.0294906166219839',\n",
              "   'BBD': '194966.99',\n",
              "   'BCH': '293.2121389825538777',\n",
              "   'BDT': '11815518.303676895',\n",
              "   'BERA': '17594.710766176337266866',\n",
              "   'BGN': '181718.15417440919102289',\n",
              "   'BHD': '36725.831060011392981752',\n",
              "   'BICO': '559446.1692969870860214155',\n",
              "   'BIF': '285456044.23375',\n",
              "   'BIGTIME': '1558987.6059491444068742655',\n",
              "   'BIT': '97118.698249506868240315',\n",
              "   'BLAST': '23863768.6658506731981820765',\n",
              "   'BLUR': '702583.747747747747045164',\n",
              "   'BLZ': '2421950.1863354037230146005',\n",
              "   'BMD': '97483.495',\n",
              "   'BND': '130715.131028025',\n",
              "   'BNT': '186678.466104940636473646',\n",
              "   'BOB': '673605.6213522733300838835',\n",
              "   'BOBA': '608701.186387761469168877',\n",
              "   'BOND': '300440.9263159227661741665',\n",
              "   'BONK': '5478139645.967968530483982515',\n",
              "   'BRL': '556118.643127406885936706',\n",
              "   'BSD': '97483.495',\n",
              "   'BSV': '2481.409785499219086545',\n",
              "   'BTC': '1.0',\n",
              "   'BTN': '8439274.06049544',\n",
              "   'BTRST': '281337.64790764790736657',\n",
              "   'BUSD': '96539.3404626842184558525',\n",
              "   'BWP': '1343735.4524430725',\n",
              "   'BYN': '318116.5732063175',\n",
              "   'BYR': '3181315369.228',\n",
              "   'BZD': '195309.038963332541781559',\n",
              "   'C98': '969502.6852312282490607905',\n",
              "   'CAD': '137896.3',\n",
              "   'CBETH': '33.228006578553176227',\n",
              "   'CDF': '278783563.936652129921838366',\n",
              "   'CELR': '7858403.466344216046413588',\n",
              "   'CGLD': '218579.2349726775956284',\n",
              "   'CHF': '87695.37223404',\n",
              "   'CHZ': '1669237.9280821917796200665',\n",
              "   'CLF': '2481.5438047560934601555',\n",
              "   'CLP': '92390307.3312333333300838835',\n",
              "   'CLV': '2063142.75132275132068818',\n",
              "   'CNH': '707746.739501477148995482',\n",
              "   'CNY': '708316.1709279296115524155',\n",
              "   'COMP': '1739.1304347826086957',\n",
              "   'COP': '401951516.562208636720155816',\n",
              "   'CORECHAIN': '179527.6151012891352820855',\n",
              "   'COTI': '1126325.7654534950909684185',\n",
              "   'COVAL': '93006574.9768206107920975185',\n",
              "   'COW': '300411.386748844380288944',\n",
              "   'CRC': '49345530.340597035',\n",
              "   'CRO': '1110923.01994301994190902',\n",
              "   'CRPT': '1624756.47382347258190684',\n",
              "   'CRV': '190476.1904761904761905',\n",
              "   'CTSI': '869999.9553770638119254005',\n",
              "   'CTX': '35030.722653442573177392',\n",
              "   'CUC': '97483.495',\n",
              "   'CUP': '2473103.444581277012252605',\n",
              "   'CVC': '825781.4061838204105984925',\n",
              "   'CVE': '10291625.017635',\n",
              "   'CVX': '41019.774879023777173746',\n",
              "   'CZK': '2325137.324396629719665971',\n",
              "   'DAI': '25018.7640730547910933',\n",
              "   'DAR': '764576.431372549021136996',\n",
              "   'DASH': '3616.6365280289330922',\n",
              "   'DDX': '2667029.9331907532809859815',\n",
              "   'DEGEN': '23928202.012763868438785881',\n",
              "   'DESO': '9616.269836314301064119',\n",
              "   'DEXT': '230894.114163903364055302',\n",
              "   'DIA': '190943.804048694019291331',\n",
              "   'DIMO': '1056273.6482825874925217885',\n",
              "   'DJF': '17316416.68515228',\n",
              "   'DKK': '693210.8194822083300838835',\n",
              "   'DNT': '2753771.0451977401104058055',\n",
              "   'DOGE': '361010.8303249097472924',\n",
              "   'DOP': '6061939.2262501883300838835',\n",
              "   'DOT': '19646.3654223968565815',\n",
              "   'DREP': '37230226.6884722512875844145',\n",
              "   'DRIFT': '125139.274711168168467846',\n",
              "   'DYP': '503813.423077938843744659',\n",
              "   'DZD': '13191980.92984487852821387',\n",
              "   'EEK': '1453790.857634',\n",
              "   'EGLD': '4366.5619260918225242675',\n",
              "   'EGP': '4933671.46156937',\n",
              "   'EIGEN': '61972.978385251114234294',\n",
              "   'ELA': '54037.414079822619088238',\n",
              "   'ENJ': '790219.765292422575954783',\n",
              "   'ENS': '3710.1235014272095725155',\n",
              "   'EOS': '153609.8310291858678955',\n",
              "   'ERN': '67842.922263205512194182',\n",
              "   'ETB': '12352081.6602526666699161165',\n",
              "   'ETC': '4716.9811320754716981',\n",
              "   'ETH': '36.2647325475974615',\n",
              "   'ETH2': '36.2647325475974615',\n",
              "   'ETHFI': '89352.4243813015597314095',\n",
              "   'EUR': '93002.275',\n",
              "   'EURC': '92953.204447291433511561',\n",
              "   'FARM': '2734.0764268686062850835',\n",
              "   'FET': '127956.2840454157658402355',\n",
              "   'FIDA': '680513.0541012216377155655',\n",
              "   'FIL': '28939.3720156272608884',\n",
              "   'FIS': '386839.2658730158775032085',\n",
              "   'FJD': '223919.588015',\n",
              "   'FKP': '77454.212287314646564202',\n",
              "   'FLOKI': '1019701830.5439330543922857375',\n",
              "   'FLOW': '190026.306042884990063385',\n",
              "   'FLR': '4540451.5603167210038437605',\n",
              "   'FORT': '1251392.747111681645685062',\n",
              "   'FORTH': '24893.6401940755862685665',\n",
              "   'FOX': '2357521.0399032648119744065',\n",
              "   'FTM': '188356.542712077732017002',\n",
              "   'FX': '606429.206842923794833572',\n",
              "   'G': '5102512.169589112802319814',\n",
              "   'GAL': '73739.4062027231505965495',\n",
              "   'GALA': '4205154.3500177073517859925',\n",
              "   'GBP': '77497.43',\n",
              "   'GEL': '275845.7963516666699161165',\n",
              "   'GFI': '79672.669690654239968917',\n",
              "   'GGP': '77454.212287314646564202',\n",
              "   'GHS': '1503645.8016579033300838835',\n",
              "   'GHST': '169979.9389712292895519415',\n",
              "   'GIGA': '3081020.701643489249474868',\n",
              "   'GIP': '77454.398383280047060164',\n",
              "   'GLM': '373213.9931087289475930775',\n",
              "   'GMD': '6969948.2818399875',\n",
              "   'GMT': '1400624.928160919541350385',\n",
              "   'GNF': '841905214.7865694582382381805',\n",
              "   'GNO': '567.787844370671704055',\n",
              "   'GNT': '373398.9892720946157321695',\n",
              "   'GODS': '779836.76652933882445056',\n",
              "   'GRT': '709219.8581560283687943',\n",
              "   'GST': '7339519.274205691912758658',\n",
              "   'GTC': '211920.6413043478290538455',\n",
              "   'GTQ': '751564.6020617',\n",
              "   'GUSD': '95901.1264141662563941845',\n",
              "   'GYD': '20361508.131049805',\n",
              "   'GYEN': '15450272.604802282275175081',\n",
              "   'HBAR': '430809.1523775852885203495',\n",
              "   'HFT': '915337.981220657275256163',\n",
              "   'HIGH': '102398.6292016806731700155',\n",
              "   'HKD': '758862.216487381679708947',\n",
              "   'HNL': '2488013.8738481925',\n",
              "   'HNT': '25018.2201976132407285115',\n",
              "   'HONEY': '2223112.770809578105027161',\n",
              "   'HOPR': '938695.185363505059207583',\n",
              "   'HRK': '700064.071653200077986796',\n",
              "   'HTG': '12727809.0618285825',\n",
              "   'HUF': '37382642.92308981',\n",
              "   'ICP': '13869.6255201109570042',\n",
              "   'IDEX': '2525479.145077720208466116',\n",
              "   'IDR': '1579955621.5879166666699161165',\n",
              "   'ILS': '345718.8782267995035108395',\n",
              "   'ILV': '4888.841273821465703389',\n",
              "   'IMP': '77454.220777930943768961',\n",
              "   'IMX': '123069.681858351221118507',\n",
              "   'INDEX': '46091.486997635935834172',\n",
              "   'INJ': '6501.2834706058888951415',\n",
              "   'INR': '8448508.535473882905464882',\n",
              "   'INV': '2760.399122186035189532',\n",
              "   'IO': '69284.6446339729916761695',\n",
              "   'IOTX': '3051126.6040688575939355595',\n",
              "   'IP': '69161.7559418233434744095',\n",
              "   'IQD': '127517190.1802137141350309055',\n",
              "   'IRR': '4102836595.8166028365958125',\n",
              "   'ISK': '13659874.736875',\n",
              "   'JASMY': '4417013.819664703216268141',\n",
              "   'JEP': '77454.2208769452903293925',\n",
              "   'JMD': '15368008.1715660425287948095',\n",
              "   'JOD': '69158.0408028333300838835',\n",
              "   'JPY': '13845500',\n",
              "   'JTO': '30648.4405948376137820565',\n",
              "   'JUP': '92899959.8179563576599342455',\n",
              "   'KARRAT': '652937.006028131283521389',\n",
              "   'KAVA': '207898.2618895286845639635',\n",
              "   'KEEP': '990887.035425729130595145',\n",
              "   'KES': '12585772.6984341144698337295',\n",
              "   'KGS': '8524931.637750012107450079',\n",
              "   'KHR': '391041392.5032',\n",
              "   'KMF': '45744548.335326675965989932',\n",
              "   'KNC': '230022.404436054740061342',\n",
              "   'KPW': '13160271.825000013160271825',\n",
              "   'KRL': '232657.5059665871137771745',\n",
              "   'KRW': '140518558.7027',\n",
              "   'KSM': '4836.6903994046154077035',\n",
              "   'KWD': '30051.0745311583300838835',\n",
              "   'KYD': '81116.698573965',\n",
              "   'KZT': '48399067.88067583409221492',\n",
              "   'LAK': '2114888837.684400867293889956',\n",
              "   'LBP': '8720269603.627309875',\n",
              "   'LCX': '554513.623435722413140279',\n",
              "   'LDO': '55231.4419263456048399505',\n",
              "   'LINK': '5194.9401283150211694',\n",
              "   'LIT': '105564.4539498619333856015',\n",
              "   'LKR': '28756725.6307929383300838835',\n",
              "   'LOKA': '715475.1926605504616669315',\n",
              "   'LOOM': '2044070.2319279038617516845',\n",
              "   'LPT': '12530.0122107969104307505',\n",
              "   'LQTY': '100234.9442188062283994115',\n",
              "   'LRC': '714285.7142857142857143',\n",
              "   'LRD': '19340513.6251071125',\n",
              "   'LRDS': '294378.6652574362116005235',\n",
              "   'LSETH': '33.3195458204216594825',\n",
              "   'LSL': '1789312.7189385875',\n",
              "   'LTC': '724.6376811594202899',\n",
              "   'LTL': '297996.4306791955304454515',\n",
              "   'LVL': '65300.68389468',\n",
              "   'LYD': '478400.2517125',\n",
              "   'MAD': '970982.6459863375',\n",
              "   'MAGIC': '395390.367065503958016959',\n",
              "   'MANA': '298754.198590254371741637',\n",
              "   'MASK': '43229.9312638580933209205',\n",
              "   'MATH': '539029.5548797345868061015',\n",
              "   'MATIC': '307692.3076923076923077',\n",
              "   'MCO2': '422720.0023199290240903815',\n",
              "   'MDL': '1822638.3290557925',\n",
              "   'MDT': '2530067.35011679211449704',\n",
              "   'ME': '61348.958464443043131061',\n",
              "   'MEDIA': '5340.0983292248713431545',\n",
              "   'METIS': '4313.4289823008879751525',\n",
              "   'MGA': '459123954.122404191624433594',\n",
              "   'MINA': '277777.7777777777777778',\n",
              "   'MIR': '4835635.2915638092645310825',\n",
              "   'MKD': '5713898.063347475',\n",
              "   'MKR': '97.4658869395711501',\n",
              "   'MLN': '7575.7575757575757576',\n",
              "   'MMK': '204563256.2540489762475498165',\n",
              "   'MNDE': '779930.3544283542656405685',\n",
              "   'MNT': '334339284.905632437811612801',\n",
              "   'MOBILE': '151607301.7107309486791479515',\n",
              "   'MOG': '124182796178.343949044584248702',\n",
              "   'MONA': '3912.9878509873477074405',\n",
              "   'MOODENG': '1609966.8868703550784717135',\n",
              "   'MOP': '780451.2737939560251925465',\n",
              "   'MOVE': '177452.4346955492867019705',\n",
              "   'MPL': '7387.911708980673818228',\n",
              "   'MRO': '36962085.6729375',\n",
              "   'MRU': '3888365.713665214862800481',\n",
              "   'MSOL': '396.6129419423067252545',\n",
              "   'MTL': '105496.4744877618910902635',\n",
              "   'MULTI': '110027.186667253181316942',\n",
              "   'MUR': '4529804.6388538322440941385',\n",
              "   'MUSE': '9642.2843719089982024995',\n",
              "   'MVR': '1501489.5317375',\n",
              "   'MWK': '168637350.1060009343583819845',\n",
              "   'MXC': '30366291.9978189217020027545',\n",
              "   'MXN': '1979574.5868161666699161165',\n",
              "   'MYR': '432302.744014375',\n",
              "   'MZN': '6225781.1975173964488041995',\n",
              "   'NAD': '1789312.7189385875',\n",
              "   'NCT': '3439784.580098800282602981',\n",
              "   'NEAR': '28696.9370032381505782075',\n",
              "   'NEON': '520828.631725169629049019',\n",
              "   'NEST': '86969856.750313738160697618',\n",
              "   'NGN': '147382059.6059715016699161165',\n",
              "   'NIO': '3582752.401638',\n",
              "   'NKN': '1551050.039777247412183364',\n",
              "   'NMR': '8750.7625673249533140395',\n",
              "   'NOK': '1084017.90050417328912902',\n",
              "   'NPR': '13541704.1069285583300838835',\n",
              "   'NU': '1449377.250208147944249963',\n",
              "   'NZD': '170102.8497653',\n",
              "   'OCEAN': '282806.7740063823643216095',\n",
              "   'OGN': '1237335.723805292888491785',\n",
              "   'OMG': '378517.1358785764549323925',\n",
              "   'OMR': '37531.2430521649190005245',\n",
              "   'ONDO': '77086.4265380357472742635',\n",
              "   'OOKI': '1160397289.5299986385087902775',\n",
              "   'OP': '87233.5525727069336618805',\n",
              "   'ORCA': '45925.373942948671256378',\n",
              "   'ORN': '77862.2164536741209385775',\n",
              "   'OSMO': '293890.5486885740140462685',\n",
              "   'OXT': '970951.145418326693537796',\n",
              "   'PAB': '97483.495',\n",
              "   'PAX': '97216.150585888809565802',\n",
              "   'PEN': '361231.8652133401619605765',\n",
              "   'PENGU': '9851793.329964628598273714',\n",
              "   'PEPE': '9901827831.386490604368778639',\n",
              "   'PERP': '205098.8743951188761203805',\n",
              "   'PGK': '390956.38689556',\n",
              "   'PHP': '5629762.8208453333300838835',\n",
              "   'PKR': '27192233.0361489116699161165',\n",
              "   'PLA': '3911812.425751203599960871',\n",
              "   'PLN': '387090.842242564785496751',\n",
              "   'PLU': '82264.552742616034906978',\n",
              "   'PNG': '586772.775152737230334098',\n",
              "   'PNUT': '637563.7344669718812453645',\n",
              "   'POL': '308589.7277619499871130665',\n",
              "   'POLS': '325107.537101884271810358',\n",
              "   'POLY': '432524.803765651434927123',\n",
              "   'POND': '7469999.6168582375441203705',\n",
              "   'POPCAT': '332367.8656665530182890565',\n",
              "   'POWR': '453095.4915175459012032465',\n",
              "   'PRCL': '679801.2203626220328496015',\n",
              "   'PRIME': '15106.6937858360469074755',\n",
              "   'PRO': '92414.5565720244555201085',\n",
              "   'PRQ': '532987.944231820669045859',\n",
              "   'PUNDIX': '272224.225076794195257962',\n",
              "   'PYG': '766206547.418474028280268716',\n",
              "   'PYR': '49110.0730478589375719195',\n",
              "   'PYUSD': '97478.133702646351121432',\n",
              "   'QAR': '354669.13071676',\n",
              "   'QI': '9871746.329113924052360467',\n",
              "   'QNT': '1044.5592820787538982',\n",
              "   'QUICK': '3562.171033200724302858',\n",
              "   'RAD': '109532.0168539325815313625',\n",
              "   'RAI': '32352.300805417956075818',\n",
              "   'RARE': '1367229.943899018231205743',\n",
              "   'RARI': '58548.645645645645587097',\n",
              "   'RBN': '465414.981738320884011667',\n",
              "   'REN': '4058390.743932803255884792',\n",
              "   'RENDER': '21548.075817860305135398',\n",
              "   'REP': '151114.521189972603474785',\n",
              "   'REPV2': '151114.521189972603474785',\n",
              "   'REQ': '988175.3167764825151684435',\n",
              "   'RGT': '689746.2702252064519725545',\n",
              "   'RLC': '75951.3011297234150843965',\n",
              "   'RLY': '56384728.465610699838751473',\n",
              "   'RNDR': '21548.5521342204760471745',\n",
              "   'RON': '462505.56785275',\n",
              "   'RONIN': '78268.562826174231397526',\n",
              "   'ROSE': '2243062.4712379199272663',\n",
              "   'RPL': '12627.3957253886026020665',\n",
              "   'RSD': '10880497.6276937916699161165',\n",
              "   'RUB': '8877851.4921379816699161165',\n",
              "   'RUNE': '73777.1298512455754007015',\n",
              "   'RWF': '136810461.4126027410929382495',\n",
              "   'SAFE': '162161.6817765948560597995',\n",
              "   'SAND': '248872.8491192238958710055',\n",
              "   'SAR': '365619.159259625',\n",
              "   'SBD': '822413.949008285',\n",
              "   'SCR': '1402523.0359018538899559885',\n",
              "   'SD': '122129.159358556750094652',\n",
              "   'SDG': '58587580.4950002753616283265',\n",
              "   'SEAM': '157574.5494221288250702155',\n",
              "   'SEI': '415707.867803837950057017',\n",
              "   'SEK': '1042407.2567112955875523625',\n",
              "   'SGD': '130566.142620942111912795',\n",
              "   'SHDW': '355131.129326047359437967',\n",
              "   'SHIB': '6043614073.1556106633629482325',\n",
              "   'SHP': '77453.0854069174448194225',\n",
              "   'SHPING': '11313583.8217373643576637485',\n",
              "   'SKK': '2799141.075430000916344853',\n",
              "   'SKL': '2707874.861111111113277411',\n",
              "   'SLL': '1984739587.32625',\n",
              "   'SNT': '3135756.476195655301593946',\n",
              "   'SNX': '98522.167487684729064',\n",
              "   'SOL': '503.8671806111908901',\n",
              "   'SOS': '55584829.7920290518506904085',\n",
              "   'SPA': '3994079.3624779776341267705',\n",
              "   'SPELL': '111876392.953463017157669528',\n",
              "   'SRD': '3431978.730156046850391195',\n",
              "   'SSP': '425427418.3306655',\n",
              "   'STD': '2233362988.446468672066725528',\n",
              "   'STG': '360649.260081391042923921',\n",
              "   'STORJ': '288029.2362239621802710955',\n",
              "   'STRK': '428498.879120879120450622',\n",
              "   'STX': '104990.301561658586277003',\n",
              "   'SUI': '28837.004880934777097806',\n",
              "   'SUKU': '1817026.933830382109805548',\n",
              "   'SUPER': '130962.83384383899968909',\n",
              "   'SUSHI': '109439.792309851248493341',\n",
              "   'SVC': '851718.36495674',\n",
              "   'SWELL': '6071846.465275615068613823',\n",
              "   'SWFTC': '4894486.8705126274028351535',\n",
              "   'SYLO': '152301441.1967126829859192245',\n",
              "   'SYN': '235467.379227053136894262',\n",
              "   'SYP': '49989048.818525307579923424',\n",
              "   'SZL': '1789120.4045236543465983925',\n",
              "   'T': '4758774.469123749080541709',\n",
              "   'THB': '3287374.7309918875',\n",
              "   'THETA': '71766.116494969605317147',\n",
              "   'TIA': '32279.3029801324467804025',\n",
              "   'TIME': '5690.805312317573537894',\n",
              "   'TJS': '1061871.5775165775',\n",
              "   'TMM': '1708398249.875',\n",
              "   'TMT': '341435.9412375',\n",
              "   'TND': '309948.005852303435947503',\n",
              "   'TNSR': '255862.1916010498699689565',\n",
              "   'TONE': '292432949.3441537988955836705',\n",
              "   'TOP': '234716.8599212',\n",
              "   'TOSHI': '143706781.160168054841363157',\n",
              "   'TRAC': '210229.6635755876666645465',\n",
              "   'TRB': '2718.06761466610556799',\n",
              "   'TRIBE': '181640.0086355623032911555',\n",
              "   'TRU': '2168709.5661846496064387045',\n",
              "   'TRUMP': '5296.576745449606747375',\n",
              "   'TRY': '3531047.1233955016699161165',\n",
              "   'TTD': '660012.815322866856746409',\n",
              "   'TURBO': '26803270.5526532856701528015',\n",
              "   'TVK': '2147860.2851453461518769305',\n",
              "   'TWD': '3185819.106697',\n",
              "   'TZS': '252474069.855957378214273884',\n",
              "   'UAH': '4051540.9370238910318873025',\n",
              "   'UGX': '358189730.37152386',\n",
              "   'UMA': '58955.848200786209870629',\n",
              "   'UNFI': '280027.523187481481888566',\n",
              "   'UNI': '9970.0897308075772682',\n",
              "   'UPI': '632044026.3220530946882164985',\n",
              "   'USD': '97483.495',\n",
              "   'USDC': '97483.495',\n",
              "   'USDT': '97463.48',\n",
              "   'UST': '5383321.310432157780112957',\n",
              "   'UYU': '4225131.5186937282025775025',\n",
              "   'UZS': '1248112409.738087844304780952',\n",
              "   'VARA': '6711428.22719449225506879',\n",
              "   'VEF': '604331380326.0106337283118333565',\n",
              "   'VELO': '1345992.3369002416252033985',\n",
              "   'VES': '6042786.2865480566699161165',\n",
              "   'VET': '2903887.2505212987776753995',\n",
              "   'VGX': '10216011.89499177599096116',\n",
              "   'VND': '2475003438.931698755',\n",
              "   'VOXEL': '844378.4755305326974495535',\n",
              "   'VTHO': '27425374.87691658461015137',\n",
              "   'VUV': '11294808.90980102049374874',\n",
              "   'VVV': '17692.1043557168824190115',\n",
              "   'WAMPL': '6946.3413597009961388705',\n",
              "   'WAXL': '204389.33850508439511871',\n",
              "   'WBTC': '1.001251187016587917',\n",
              "   'WCFG': '509052.1932114882479802175',\n",
              "   'WELL': '3028895.741739035869565318',\n",
              "   'WIF': '142519.7295321637474217135',\n",
              "   'WLUNA': '2293601696.6002162111299098935',\n",
              "   'WST': '274713.850502225',\n",
              "   'XAF': '61375998.285109038125430262',\n",
              "   'XAG': '3032.525335974238052816',\n",
              "   'XAU': '33.81760924452718069',\n",
              "   'XBC': '36399.139998710094566812',\n",
              "   'XCD': '263329.669290640530977352',\n",
              "   'XCN': '4043280.5889672335164412575',\n",
              "   'XDR': '74422.99438979',\n",
              "   'XLM': '280898.8764044943820225',\n",
              "   'XMON': '221.407595217847398274',\n",
              "   'XOF': '60990137.752546532682391184',\n",
              "   'XPD': '98.5129207072',\n",
              "   'XPF': '11087741.3803563575',\n",
              "   'XPT': '97.35189228175',\n",
              "   'XRP': '35197.044752947124286193',\n",
              "   'XTZ': '111544.8968209704406023',\n",
              "   'XYO': '5704124.9268578115815529295',\n",
              "   'YER': '24165764.5771802',\n",
              "   'YFI': '16.1812297734627832',\n",
              "   'YFII': '341.3347066076275681105',\n",
              "   'ZAR': '1791075.8049221273498859985',\n",
              "   'ZEC': '3043.6304423916848016',\n",
              "   'ZEN': '5966.855087987757941517',\n",
              "   'ZETA': '310012.7047225313999295795',\n",
              "   'ZETACHAIN': '308443.268470178768744102',\n",
              "   'ZK': '914264.9003516998809953175',\n",
              "   'ZMK': '509231844.093625',\n",
              "   'ZMW': '2740564.4780754366699161165',\n",
              "   'ZRO': '33073.2807463952535276405',\n",
              "   'ZRX': '95057.0342205323193916',\n",
              "   'ZWD': '36788524.8857444816159126635'}}}"
            ]
          },
          "metadata": {},
          "execution_count": 58
        }
      ]
    },
    {
      "cell_type": "code",
      "source": [
        "resp.json()['data']['rates']['USD']"
      ],
      "metadata": {
        "colab": {
          "base_uri": "https://localhost:8080/",
          "height": 0
        },
        "id": "1dbWD4k31Dec",
        "outputId": "ec3a45ee-5ed9-4a5e-e8bc-349ef8ea0835"
      },
      "execution_count": 59,
      "outputs": [
        {
          "output_type": "execute_result",
          "data": {
            "text/plain": [
              "'97483.495'"
            ],
            "application/vnd.google.colaboratory.intrinsic+json": {
              "type": "string"
            }
          },
          "metadata": {},
          "execution_count": 59
        }
      ]
    },
    {
      "cell_type": "code",
      "source": [
        "url = \"https://api.coinbase.com/v2/exchange-rates\"\n",
        "params = {'currency':'BTC'}"
      ],
      "metadata": {
        "id": "Jt6v8W9U1Ztf"
      },
      "execution_count": 60,
      "outputs": []
    },
    {
      "cell_type": "code",
      "source": [
        "resp = r.get(url, params=params)"
      ],
      "metadata": {
        "id": "CgKmysIB1MpC"
      },
      "execution_count": 61,
      "outputs": []
    },
    {
      "cell_type": "code",
      "source": [
        "resp.json()['data']['rates']['USD']"
      ],
      "metadata": {
        "colab": {
          "base_uri": "https://localhost:8080/",
          "height": 0
        },
        "id": "efsXHvQT1nlq",
        "outputId": "8254a106-0889-4279-e4fb-d7104a91d1c2"
      },
      "execution_count": 62,
      "outputs": [
        {
          "output_type": "execute_result",
          "data": {
            "text/plain": [
              "'97483.495'"
            ],
            "application/vnd.google.colaboratory.intrinsic+json": {
              "type": "string"
            }
          },
          "metadata": {},
          "execution_count": 62
        }
      ]
    },
    {
      "cell_type": "code",
      "source": [],
      "metadata": {
        "id": "O08NDb3x1ozS"
      },
      "execution_count": 62,
      "outputs": []
    },
    {
      "cell_type": "code",
      "source": [
        "url = \"https://api.sunrisesunset.io/json\""
      ],
      "metadata": {
        "id": "Ugb5jHr82GCb"
      },
      "execution_count": 63,
      "outputs": []
    },
    {
      "cell_type": "code",
      "source": [
        "params = {\n",
        "    \"lat\": 43.6532,\n",
        "    \"lng\": -79.3832,\n",
        "    \"timezone\": \"EST\",\n",
        "    \"date\": \"today\"\n",
        "}\n",
        "headers={\n",
        "    \"User-Agent\": \"Mozilla/5.0 (Windows NT 10.0; Win64; x64) AppleWebKit/537.36 (KHTML, like Gecko) Chrome/133.0.0.0 Safari/537.36\"\n",
        "}"
      ],
      "metadata": {
        "id": "pEhDzAAY2GFN"
      },
      "execution_count": 64,
      "outputs": []
    },
    {
      "cell_type": "code",
      "source": [
        "resp = r.get(url, params=params, headers=headers)"
      ],
      "metadata": {
        "id": "eu3rbm1B2GIK"
      },
      "execution_count": 65,
      "outputs": []
    },
    {
      "cell_type": "code",
      "source": [
        "resp.request.url"
      ],
      "metadata": {
        "colab": {
          "base_uri": "https://localhost:8080/",
          "height": 0
        },
        "id": "wtn1rQ5G2GLP",
        "outputId": "3026acad-6c93-405b-9e14-e0126efc4038"
      },
      "execution_count": 66,
      "outputs": [
        {
          "output_type": "execute_result",
          "data": {
            "text/plain": [
              "'https://api.sunrisesunset.io/json?lat=43.6532&lng=-79.3832&timezone=EST&date=today'"
            ],
            "application/vnd.google.colaboratory.intrinsic+json": {
              "type": "string"
            }
          },
          "metadata": {},
          "execution_count": 66
        }
      ]
    },
    {
      "cell_type": "code",
      "source": [
        "resp.json()"
      ],
      "metadata": {
        "colab": {
          "base_uri": "https://localhost:8080/"
        },
        "id": "lrPB3ysj2GOC",
        "outputId": "40fb16b2-935c-4b34-ba15-20c61b03f593"
      },
      "execution_count": 67,
      "outputs": [
        {
          "output_type": "execute_result",
          "data": {
            "text/plain": [
              "{'results': {'date': '2025-02-16',\n",
              "  'sunrise': '7:17:22 AM',\n",
              "  'sunset': '5:48:48 PM',\n",
              "  'first_light': '5:41:05 AM',\n",
              "  'last_light': '7:25:05 PM',\n",
              "  'dawn': '6:47:54 AM',\n",
              "  'dusk': '6:18:16 PM',\n",
              "  'solar_noon': '12:33:05 PM',\n",
              "  'golden_hour': '5:08:32 PM',\n",
              "  'day_length': '10:31:26',\n",
              "  'timezone': 'EST',\n",
              "  'utc_offset': -300},\n",
              " 'status': 'OK'}"
            ]
          },
          "metadata": {},
          "execution_count": 67
        }
      ]
    },
    {
      "cell_type": "code",
      "source": [],
      "metadata": {
        "id": "l0o8aces2GRH"
      },
      "execution_count": 67,
      "outputs": []
    },
    {
      "cell_type": "markdown",
      "source": [
        "### Authentication And Authorization\n",
        "\n",
        "Authentication: Who we are\n",
        "\n",
        "Authorization: What we can do, given who we are"
      ],
      "metadata": {
        "id": "nZKwEnwO3YD2"
      }
    },
    {
      "cell_type": "code",
      "source": [
        "API_KEY = \"YOUR_API_KEY_HERE\""
      ],
      "metadata": {
        "id": "i9cvZ2nK2GUq"
      },
      "execution_count": 68,
      "outputs": []
    },
    {
      "cell_type": "code",
      "source": [
        "url = \"https://api.exchange.coinbase.com/fills\""
      ],
      "metadata": {
        "id": "eu1lQZTh4JP3"
      },
      "execution_count": 69,
      "outputs": []
    },
    {
      "cell_type": "code",
      "source": [
        "headers = {\n",
        "    \"Authorization\": f\"Bearer {API_KEY}\",\n",
        "    \"Content-Type\": \"application/json\"\n",
        "}"
      ],
      "metadata": {
        "id": "NBkC8AGo4QRR"
      },
      "execution_count": 70,
      "outputs": []
    },
    {
      "cell_type": "code",
      "source": [
        "# Not Authorized\n",
        "r.get(url, headers=headers) # 500 Internal Servor Error since we don't actually have an API Key and are hence not authorized"
      ],
      "metadata": {
        "colab": {
          "base_uri": "https://localhost:8080/"
        },
        "id": "6cq7tAS64a6X",
        "outputId": "594d6eb8-02b3-49ba-bcce-d0be62c5fa03"
      },
      "execution_count": 71,
      "outputs": [
        {
          "output_type": "execute_result",
          "data": {
            "text/plain": [
              "<Response [500]>"
            ]
          },
          "metadata": {},
          "execution_count": 71
        }
      ]
    },
    {
      "cell_type": "code",
      "source": [
        "# Basic authentication\n",
        "auth = (\"user1\",\"pass1\")\n",
        "url = \"https://www.httpbin.org/basic-auth/user1/pass1\"\n",
        "r.get(url, auth=auth) # Password Matches"
      ],
      "metadata": {
        "colab": {
          "base_uri": "https://localhost:8080/"
        },
        "id": "h5lxZEsX4hvZ",
        "outputId": "af7c596e-52cf-4016-c359-30dc218bc247"
      },
      "execution_count": 72,
      "outputs": [
        {
          "output_type": "execute_result",
          "data": {
            "text/plain": [
              "<Response [200]>"
            ]
          },
          "metadata": {},
          "execution_count": 72
        }
      ]
    },
    {
      "cell_type": "code",
      "source": [
        "auth = (\"user1\",\"pass1\")\n",
        "url = \"https://www.httpbin.org/basic-auth/user1/pass2\"\n",
        "r.get(url, auth=auth) # Password doesn't match"
      ],
      "metadata": {
        "colab": {
          "base_uri": "https://localhost:8080/"
        },
        "id": "8Xf7vygG5Oj2",
        "outputId": "6b10e1f1-1e6e-4d65-cf21-68200b55d7da"
      },
      "execution_count": 73,
      "outputs": [
        {
          "output_type": "execute_result",
          "data": {
            "text/plain": [
              "<Response [401]>"
            ]
          },
          "metadata": {},
          "execution_count": 73
        }
      ]
    },
    {
      "cell_type": "code",
      "source": [],
      "metadata": {
        "id": "T-ZwS4_H5b5x"
      },
      "execution_count": 73,
      "outputs": []
    },
    {
      "cell_type": "markdown",
      "source": [
        "### Aside From GET"
      ],
      "metadata": {
        "id": "9yXTglSx5oK6"
      }
    },
    {
      "cell_type": "code",
      "source": [
        "import requests as r"
      ],
      "metadata": {
        "id": "TryaBmPk5qdz"
      },
      "execution_count": 74,
      "outputs": []
    },
    {
      "cell_type": "code",
      "source": [
        "r.delete(\"https://www.httpbin.org/delete\").json()"
      ],
      "metadata": {
        "colab": {
          "base_uri": "https://localhost:8080/"
        },
        "id": "IzFf964U5ztK",
        "outputId": "a77f5960-9cd1-4b17-8c09-49169e8603d7"
      },
      "execution_count": 75,
      "outputs": [
        {
          "output_type": "execute_result",
          "data": {
            "text/plain": [
              "{'args': {},\n",
              " 'data': '',\n",
              " 'files': {},\n",
              " 'form': {},\n",
              " 'headers': {'Accept': '*/*',\n",
              "  'Accept-Encoding': 'gzip, deflate, zstd',\n",
              "  'Content-Length': '0',\n",
              "  'Host': 'www.httpbin.org',\n",
              "  'User-Agent': 'python-requests/2.32.3',\n",
              "  'X-Amzn-Trace-Id': 'Root=1-67b155ed-47d3e99520bfb9580cf6abf0'},\n",
              " 'json': None,\n",
              " 'origin': '34.28.229.123',\n",
              " 'url': 'https://www.httpbin.org/delete'}"
            ]
          },
          "metadata": {},
          "execution_count": 75
        }
      ]
    },
    {
      "cell_type": "code",
      "source": [
        "r.patch(\"https://www.httpbin.org/patch\").json()"
      ],
      "metadata": {
        "colab": {
          "base_uri": "https://localhost:8080/"
        },
        "id": "S6eL4tfl56bw",
        "outputId": "7b795db2-4fb4-40fc-af20-1e9d102a6403"
      },
      "execution_count": 76,
      "outputs": [
        {
          "output_type": "execute_result",
          "data": {
            "text/plain": [
              "{'args': {},\n",
              " 'data': '',\n",
              " 'files': {},\n",
              " 'form': {},\n",
              " 'headers': {'Accept': '*/*',\n",
              "  'Accept-Encoding': 'gzip, deflate, zstd',\n",
              "  'Content-Length': '0',\n",
              "  'Host': 'www.httpbin.org',\n",
              "  'User-Agent': 'python-requests/2.32.3',\n",
              "  'X-Amzn-Trace-Id': 'Root=1-67b155ed-6e4941c1414fcb7858461dc2'},\n",
              " 'json': None,\n",
              " 'origin': '34.28.229.123',\n",
              " 'url': 'https://www.httpbin.org/patch'}"
            ]
          },
          "metadata": {},
          "execution_count": 76
        }
      ]
    },
    {
      "cell_type": "code",
      "source": [
        "r.put(\"https://www.httpbin.org/put\").json()"
      ],
      "metadata": {
        "colab": {
          "base_uri": "https://localhost:8080/"
        },
        "id": "iDvUJX026R3O",
        "outputId": "44aca363-d88b-4b37-d320-0b312124c29a"
      },
      "execution_count": 77,
      "outputs": [
        {
          "output_type": "execute_result",
          "data": {
            "text/plain": [
              "{'args': {},\n",
              " 'data': '',\n",
              " 'files': {},\n",
              " 'form': {},\n",
              " 'headers': {'Accept': '*/*',\n",
              "  'Accept-Encoding': 'gzip, deflate, zstd',\n",
              "  'Content-Length': '0',\n",
              "  'Host': 'www.httpbin.org',\n",
              "  'User-Agent': 'python-requests/2.32.3',\n",
              "  'X-Amzn-Trace-Id': 'Root=1-67b155ee-34aff708256f59fd3044dce4'},\n",
              " 'json': None,\n",
              " 'origin': '34.28.229.123',\n",
              " 'url': 'https://www.httpbin.org/put'}"
            ]
          },
          "metadata": {},
          "execution_count": 77
        }
      ]
    },
    {
      "cell_type": "code",
      "source": [
        "r.post(\"https://www.httpbin.org/post\").json()"
      ],
      "metadata": {
        "colab": {
          "base_uri": "https://localhost:8080/"
        },
        "id": "lyPV_syJ6V34",
        "outputId": "a1ba1e2c-7b18-4f38-c15f-6ccc2222016a"
      },
      "execution_count": 78,
      "outputs": [
        {
          "output_type": "execute_result",
          "data": {
            "text/plain": [
              "{'args': {},\n",
              " 'data': '',\n",
              " 'files': {},\n",
              " 'form': {},\n",
              " 'headers': {'Accept': '*/*',\n",
              "  'Accept-Encoding': 'gzip, deflate, zstd',\n",
              "  'Content-Length': '0',\n",
              "  'Host': 'www.httpbin.org',\n",
              "  'User-Agent': 'python-requests/2.32.3',\n",
              "  'X-Amzn-Trace-Id': 'Root=1-67b155ee-44e940c345ae77c8032723e3'},\n",
              " 'json': None,\n",
              " 'origin': '34.28.229.123',\n",
              " 'url': 'https://www.httpbin.org/post'}"
            ]
          },
          "metadata": {},
          "execution_count": 78
        }
      ]
    },
    {
      "cell_type": "code",
      "source": [],
      "metadata": {
        "id": "xX9DZK6w6Zqi"
      },
      "execution_count": 78,
      "outputs": []
    },
    {
      "cell_type": "markdown",
      "source": [
        "### POSTing Data"
      ],
      "metadata": {
        "id": "pfXWNIw_6qAW"
      }
    },
    {
      "cell_type": "code",
      "source": [],
      "metadata": {
        "id": "jGmeg8d46s4_"
      },
      "execution_count": 78,
      "outputs": []
    },
    {
      "cell_type": "markdown",
      "source": [
        "Client sends data to server via:\n",
        "\n",
        "1. headers\n",
        "2. query params\n",
        "3. body\n",
        "\n",
        "We have seen headers and query params. Now, we will see body"
      ],
      "metadata": {
        "id": "bHbKBlke60Ie"
      }
    },
    {
      "cell_type": "code",
      "source": [
        "resp = r.post(\"https://www.httpbin.org/post\",\n",
        "              data={\n",
        "                  'key1':'value1',\n",
        "                  'key2':'a value with spaces and apostrophe \"'\n",
        "                })\n",
        "resp.json()"
      ],
      "metadata": {
        "colab": {
          "base_uri": "https://localhost:8080/"
        },
        "id": "EfLVgeEA6_rz",
        "outputId": "04a007b0-0b91-4446-b1e5-0815e32b8b35"
      },
      "execution_count": 79,
      "outputs": [
        {
          "output_type": "execute_result",
          "data": {
            "text/plain": [
              "{'args': {},\n",
              " 'data': '',\n",
              " 'files': {},\n",
              " 'form': {'key1': 'value1', 'key2': 'a value with spaces and apostrophe \"'},\n",
              " 'headers': {'Accept': '*/*',\n",
              "  'Accept-Encoding': 'gzip, deflate, zstd',\n",
              "  'Content-Length': '55',\n",
              "  'Content-Type': 'application/x-www-form-urlencoded',\n",
              "  'Host': 'www.httpbin.org',\n",
              "  'User-Agent': 'python-requests/2.32.3',\n",
              "  'X-Amzn-Trace-Id': 'Root=1-67b155ee-157f99d81c9561184dda3661'},\n",
              " 'json': None,\n",
              " 'origin': '34.28.229.123',\n",
              " 'url': 'https://www.httpbin.org/post'}"
            ]
          },
          "metadata": {},
          "execution_count": 79
        }
      ]
    },
    {
      "cell_type": "code",
      "source": [
        "resp.request.body"
      ],
      "metadata": {
        "colab": {
          "base_uri": "https://localhost:8080/",
          "height": 0
        },
        "id": "FEsFB7eJ7RmG",
        "outputId": "07694b93-ec0b-4d54-e0a9-8fb76b7a9909"
      },
      "execution_count": 80,
      "outputs": [
        {
          "output_type": "execute_result",
          "data": {
            "text/plain": [
              "'key1=value1&key2=a+value+with+spaces+and+apostrophe+%22'"
            ],
            "application/vnd.google.colaboratory.intrinsic+json": {
              "type": "string"
            }
          },
          "metadata": {},
          "execution_count": 80
        }
      ]
    },
    {
      "cell_type": "code",
      "source": [
        "resp = r.post(\"https://www.httpbin.org/post\",\n",
        "              data=\"some text\")\n",
        "resp.json()"
      ],
      "metadata": {
        "colab": {
          "base_uri": "https://localhost:8080/"
        },
        "id": "pG5_R30q7gTm",
        "outputId": "42ed737a-c420-40dc-c07b-a95caddbf9b9"
      },
      "execution_count": 81,
      "outputs": [
        {
          "output_type": "execute_result",
          "data": {
            "text/plain": [
              "{'args': {},\n",
              " 'data': 'some text',\n",
              " 'files': {},\n",
              " 'form': {},\n",
              " 'headers': {'Accept': '*/*',\n",
              "  'Accept-Encoding': 'gzip, deflate, zstd',\n",
              "  'Content-Length': '9',\n",
              "  'Host': 'www.httpbin.org',\n",
              "  'User-Agent': 'python-requests/2.32.3',\n",
              "  'X-Amzn-Trace-Id': 'Root=1-67b155ee-56eb7eb31957950b75bf4250'},\n",
              " 'json': None,\n",
              " 'origin': '34.28.229.123',\n",
              " 'url': 'https://www.httpbin.org/post'}"
            ]
          },
          "metadata": {},
          "execution_count": 81
        }
      ]
    },
    {
      "cell_type": "code",
      "source": [
        "resp.request.body"
      ],
      "metadata": {
        "colab": {
          "base_uri": "https://localhost:8080/",
          "height": 0
        },
        "id": "MSnRLPt877fm",
        "outputId": "fa351866-97d3-42ca-e02a-1da3b26ef866"
      },
      "execution_count": 82,
      "outputs": [
        {
          "output_type": "execute_result",
          "data": {
            "text/plain": [
              "'some text'"
            ],
            "application/vnd.google.colaboratory.intrinsic+json": {
              "type": "string"
            }
          },
          "metadata": {},
          "execution_count": 82
        }
      ]
    },
    {
      "cell_type": "code",
      "source": [
        "resp = r.post(\"https://www.httpbin.org/post\",\n",
        "              json={\n",
        "                  'key1':'value1',\n",
        "                  'key2':'a value with spaces and apostrophe \"'\n",
        "                })\n",
        "resp.json()"
      ],
      "metadata": {
        "colab": {
          "base_uri": "https://localhost:8080/"
        },
        "id": "K0qp8slU781U",
        "outputId": "1c846ab6-5cdf-4382-e3f5-8cdafab402f0"
      },
      "execution_count": 83,
      "outputs": [
        {
          "output_type": "execute_result",
          "data": {
            "text/plain": [
              "{'args': {},\n",
              " 'data': '{\"key1\": \"value1\", \"key2\": \"a value with spaces and apostrophe \\\\\"\"}',\n",
              " 'files': {},\n",
              " 'form': {},\n",
              " 'headers': {'Accept': '*/*',\n",
              "  'Accept-Encoding': 'gzip, deflate, zstd',\n",
              "  'Content-Length': '67',\n",
              "  'Content-Type': 'application/json',\n",
              "  'Host': 'www.httpbin.org',\n",
              "  'User-Agent': 'python-requests/2.32.3',\n",
              "  'X-Amzn-Trace-Id': 'Root=1-67b155ee-064bb81259591b681b949390'},\n",
              " 'json': {'key1': 'value1', 'key2': 'a value with spaces and apostrophe \"'},\n",
              " 'origin': '34.28.229.123',\n",
              " 'url': 'https://www.httpbin.org/post'}"
            ]
          },
          "metadata": {},
          "execution_count": 83
        }
      ]
    },
    {
      "cell_type": "code",
      "source": [
        "resp.request.body"
      ],
      "metadata": {
        "colab": {
          "base_uri": "https://localhost:8080/"
        },
        "id": "fl_LpeQM8A4U",
        "outputId": "229a92cf-36b4-46ad-942c-8ade1775894b"
      },
      "execution_count": 84,
      "outputs": [
        {
          "output_type": "execute_result",
          "data": {
            "text/plain": [
              "b'{\"key1\": \"value1\", \"key2\": \"a value with spaces and apostrophe \\\\\"\"}'"
            ]
          },
          "metadata": {},
          "execution_count": 84
        }
      ]
    },
    {
      "cell_type": "code",
      "source": [],
      "metadata": {
        "id": "VP3IAaOk8CuQ"
      },
      "execution_count": 84,
      "outputs": []
    },
    {
      "cell_type": "markdown",
      "source": [
        "### BeautifulSoup"
      ],
      "metadata": {
        "id": "XbmPIdEptVF5"
      }
    },
    {
      "cell_type": "code",
      "source": [
        "!pip3 install beautifulsoup4"
      ],
      "metadata": {
        "colab": {
          "base_uri": "https://localhost:8080/"
        },
        "id": "N3824VWMtZAt",
        "outputId": "b57f2b73-9db4-48f9-846f-93a01a465419"
      },
      "execution_count": 85,
      "outputs": [
        {
          "output_type": "stream",
          "name": "stdout",
          "text": [
            "Requirement already satisfied: beautifulsoup4 in /usr/local/lib/python3.11/dist-packages (4.13.3)\n",
            "Requirement already satisfied: soupsieve>1.2 in /usr/local/lib/python3.11/dist-packages (from beautifulsoup4) (2.6)\n",
            "Requirement already satisfied: typing-extensions>=4.0.0 in /usr/local/lib/python3.11/dist-packages (from beautifulsoup4) (4.12.2)\n"
          ]
        }
      ]
    },
    {
      "cell_type": "code",
      "source": [
        "import requests as r"
      ],
      "metadata": {
        "id": "hmuDXpSVtqqr"
      },
      "execution_count": 86,
      "outputs": []
    },
    {
      "cell_type": "code",
      "source": [
        "resp = r.get(\"https://books.toscrape.com/\")"
      ],
      "metadata": {
        "id": "Nf2w1cdut1uW"
      },
      "execution_count": 88,
      "outputs": []
    },
    {
      "cell_type": "code",
      "source": [
        "resp.content"
      ],
      "metadata": {
        "colab": {
          "base_uri": "https://localhost:8080/"
        },
        "collapsed": true,
        "id": "qR0R6LjKuBzc",
        "outputId": "8dd79a03-e936-4a36-bdb2-2ef990c866c1"
      },
      "execution_count": 89,
      "outputs": [
        {
          "output_type": "execute_result",
          "data": {
            "text/plain": [
              "b'<!DOCTYPE html>\\n<!--[if lt IE 7]>      <html lang=\"en-us\" class=\"no-js lt-ie9 lt-ie8 lt-ie7\"> <![endif]-->\\n<!--[if IE 7]>         <html lang=\"en-us\" class=\"no-js lt-ie9 lt-ie8\"> <![endif]-->\\n<!--[if IE 8]>         <html lang=\"en-us\" class=\"no-js lt-ie9\"> <![endif]-->\\n<!--[if gt IE 8]><!--> <html lang=\"en-us\" class=\"no-js\"> <!--<![endif]-->\\n    <head>\\n        <title>\\n    All products | Books to Scrape - Sandbox\\n</title>\\n\\n        <meta http-equiv=\"content-type\" content=\"text/html; charset=UTF-8\" />\\n        <meta name=\"created\" content=\"24th Jun 2016 09:29\" />\\n        <meta name=\"description\" content=\"\" />\\n        <meta name=\"viewport\" content=\"width=device-width\" />\\n        <meta name=\"robots\" content=\"NOARCHIVE,NOCACHE\" />\\n\\n        <!-- Le HTML5 shim, for IE6-8 support of HTML elements -->\\n        <!--[if lt IE 9]>\\n        <script src=\"//html5shim.googlecode.com/svn/trunk/html5.js\"></script>\\n        <![endif]-->\\n\\n        \\n            <link rel=\"shortcut icon\" href=\"static/oscar/favicon.ico\" />\\n        \\n\\n        \\n        \\n    \\n    \\n        <link rel=\"stylesheet\" type=\"text/css\" href=\"static/oscar/css/styles.css\" />\\n    \\n    <link rel=\"stylesheet\" href=\"static/oscar/js/bootstrap-datetimepicker/bootstrap-datetimepicker.css\" />\\n    <link rel=\"stylesheet\" type=\"text/css\" href=\"static/oscar/css/datetimepicker.css\" />\\n\\n\\n        \\n        \\n\\n        \\n\\n        \\n            \\n            \\n\\n        \\n    </head>\\n\\n    <body id=\"default\" class=\"default\">\\n        \\n        \\n    \\n    \\n    <header class=\"header container-fluid\">\\n        <div class=\"page_inner\">\\n            <div class=\"row\">\\n                <div class=\"col-sm-8 h1\"><a href=\"index.html\">Books to Scrape</a><small> We love being scraped!</small>\\n</div>\\n\\n                \\n            </div>\\n        </div>\\n    </header>\\n\\n    \\n    \\n<div class=\"container-fluid page\">\\n    <div class=\"page_inner\">\\n        \\n    <ul class=\"breadcrumb\">\\n        <li>\\n            <a href=\"index.html\">Home</a>\\n        </li>\\n        <li class=\"active\">All products</li>\\n    </ul>\\n\\n        <div class=\"row\">\\n\\n            <aside class=\"sidebar col-sm-4 col-md-3\">\\n                \\n                <div id=\"promotions_left\">\\n                    \\n                </div>\\n                \\n    \\n    \\n        \\n        <div class=\"side_categories\">\\n            <ul class=\"nav nav-list\">\\n                \\n                    <li>\\n                        <a href=\"catalogue/category/books_1/index.html\">\\n                            \\n                                Books\\n                            \\n                        </a>\\n\\n                        <ul>\\n                        \\n                \\n                    <li>\\n                        <a href=\"catalogue/category/books/travel_2/index.html\">\\n                            \\n                                Travel\\n                            \\n                        </a>\\n\\n                        </li>\\n                        \\n                \\n                    <li>\\n                        <a href=\"catalogue/category/books/mystery_3/index.html\">\\n                            \\n                                Mystery\\n                            \\n                        </a>\\n\\n                        </li>\\n                        \\n                \\n                    <li>\\n                        <a href=\"catalogue/category/books/historical-fiction_4/index.html\">\\n                            \\n                                Historical Fiction\\n                            \\n                        </a>\\n\\n                        </li>\\n                        \\n                \\n                    <li>\\n                        <a href=\"catalogue/category/books/sequential-art_5/index.html\">\\n                            \\n                                Sequential Art\\n                            \\n                        </a>\\n\\n                        </li>\\n                        \\n                \\n                    <li>\\n                        <a href=\"catalogue/category/books/classics_6/index.html\">\\n                            \\n                                Classics\\n                            \\n                        </a>\\n\\n                        </li>\\n                        \\n                \\n                    <li>\\n                        <a href=\"catalogue/category/books/philosophy_7/index.html\">\\n                            \\n                                Philosophy\\n                            \\n                        </a>\\n\\n                        </li>\\n                        \\n                \\n                    <li>\\n                        <a href=\"catalogue/category/books/romance_8/index.html\">\\n                            \\n                                Romance\\n                            \\n                        </a>\\n\\n                        </li>\\n                        \\n                \\n                    <li>\\n                        <a href=\"catalogue/category/books/womens-fiction_9/index.html\">\\n                            \\n                                Womens Fiction\\n                            \\n                        </a>\\n\\n                        </li>\\n                        \\n                \\n                    <li>\\n                        <a href=\"catalogue/category/books/fiction_10/index.html\">\\n                            \\n                                Fiction\\n                            \\n                        </a>\\n\\n                        </li>\\n                        \\n                \\n                    <li>\\n                        <a href=\"catalogue/category/books/childrens_11/index.html\">\\n                            \\n                                Childrens\\n                            \\n                        </a>\\n\\n                        </li>\\n                        \\n                \\n                    <li>\\n                        <a href=\"catalogue/category/books/religion_12/index.html\">\\n                            \\n                                Religion\\n                            \\n                        </a>\\n\\n                        </li>\\n                        \\n                \\n                    <li>\\n                        <a href=\"catalogue/category/books/nonfiction_13/index.html\">\\n                            \\n                                Nonfiction\\n                            \\n                        </a>\\n\\n                        </li>\\n                        \\n                \\n                    <li>\\n                        <a href=\"catalogue/category/books/music_14/index.html\">\\n                            \\n                                Music\\n                            \\n                        </a>\\n\\n                        </li>\\n                        \\n                \\n                    <li>\\n                        <a href=\"catalogue/category/books/default_15/index.html\">\\n                            \\n                                Default\\n                            \\n                        </a>\\n\\n                        </li>\\n                        \\n                \\n                    <li>\\n                        <a href=\"catalogue/category/books/science-fiction_16/index.html\">\\n                            \\n                                Science Fiction\\n                            \\n                        </a>\\n\\n                        </li>\\n                        \\n                \\n                    <li>\\n                        <a href=\"catalogue/category/books/sports-and-games_17/index.html\">\\n                            \\n                                Sports and Games\\n                            \\n                        </a>\\n\\n                        </li>\\n                        \\n                \\n                    <li>\\n                        <a href=\"catalogue/category/books/add-a-comment_18/index.html\">\\n                            \\n                                Add a comment\\n                            \\n                        </a>\\n\\n                        </li>\\n                        \\n                \\n                    <li>\\n                        <a href=\"catalogue/category/books/fantasy_19/index.html\">\\n                            \\n                                Fantasy\\n                            \\n                        </a>\\n\\n                        </li>\\n                        \\n                \\n                    <li>\\n                        <a href=\"catalogue/category/books/new-adult_20/index.html\">\\n                            \\n                                New Adult\\n                            \\n                        </a>\\n\\n                        </li>\\n                        \\n                \\n                    <li>\\n                        <a href=\"catalogue/category/books/young-adult_21/index.html\">\\n                            \\n                                Young Adult\\n                            \\n                        </a>\\n\\n                        </li>\\n                        \\n                \\n                    <li>\\n                        <a href=\"catalogue/category/books/science_22/index.html\">\\n                            \\n                                Science\\n                            \\n                        </a>\\n\\n                        </li>\\n                        \\n                \\n                    <li>\\n                        <a href=\"catalogue/category/books/poetry_23/index.html\">\\n                            \\n                                Poetry\\n                            \\n                        </a>\\n\\n                        </li>\\n                        \\n                \\n                    <li>\\n                        <a href=\"catalogue/category/books/paranormal_24/index.html\">\\n                            \\n                                Paranormal\\n                            \\n                        </a>\\n\\n                        </li>\\n                        \\n                \\n                    <li>\\n                        <a href=\"catalogue/category/books/art_25/index.html\">\\n                            \\n                                Art\\n                            \\n                        </a>\\n\\n                        </li>\\n                        \\n                \\n                    <li>\\n                        <a href=\"catalogue/category/books/psychology_26/index.html\">\\n                            \\n                                Psychology\\n                            \\n                        </a>\\n\\n                        </li>\\n                        \\n                \\n                    <li>\\n                        <a href=\"catalogue/category/books/autobiography_27/index.html\">\\n                            \\n                                Autobiography\\n                            \\n                        </a>\\n\\n                        </li>\\n                        \\n                \\n                    <li>\\n                        <a href=\"catalogue/category/books/parenting_28/index.html\">\\n                            \\n                                Parenting\\n                            \\n                        </a>\\n\\n                        </li>\\n                        \\n                \\n                    <li>\\n                        <a href=\"catalogue/category/books/adult-fiction_29/index.html\">\\n                            \\n                                Adult Fiction\\n                            \\n                        </a>\\n\\n                        </li>\\n                        \\n                \\n                    <li>\\n                        <a href=\"catalogue/category/books/humor_30/index.html\">\\n                            \\n                                Humor\\n                            \\n                        </a>\\n\\n                        </li>\\n                        \\n                \\n                    <li>\\n                        <a href=\"catalogue/category/books/horror_31/index.html\">\\n                            \\n                                Horror\\n                            \\n                        </a>\\n\\n                        </li>\\n                        \\n                \\n                    <li>\\n                        <a href=\"catalogue/category/books/history_32/index.html\">\\n                            \\n                                History\\n                            \\n                        </a>\\n\\n                        </li>\\n                        \\n                \\n                    <li>\\n                        <a href=\"catalogue/category/books/food-and-drink_33/index.html\">\\n                            \\n                                Food and Drink\\n                            \\n                        </a>\\n\\n                        </li>\\n                        \\n                \\n                    <li>\\n                        <a href=\"catalogue/category/books/christian-fiction_34/index.html\">\\n                            \\n                                Christian Fiction\\n                            \\n                        </a>\\n\\n                        </li>\\n                        \\n                \\n                    <li>\\n                        <a href=\"catalogue/category/books/business_35/index.html\">\\n                            \\n                                Business\\n                            \\n                        </a>\\n\\n                        </li>\\n                        \\n                \\n                    <li>\\n                        <a href=\"catalogue/category/books/biography_36/index.html\">\\n                            \\n                                Biography\\n                            \\n                        </a>\\n\\n                        </li>\\n                        \\n                \\n                    <li>\\n                        <a href=\"catalogue/category/books/thriller_37/index.html\">\\n                            \\n                                Thriller\\n                            \\n                        </a>\\n\\n                        </li>\\n                        \\n                \\n                    <li>\\n                        <a href=\"catalogue/category/books/contemporary_38/index.html\">\\n                            \\n                                Contemporary\\n                            \\n                        </a>\\n\\n                        </li>\\n                        \\n                \\n                    <li>\\n                        <a href=\"catalogue/category/books/spirituality_39/index.html\">\\n                            \\n                                Spirituality\\n                            \\n                        </a>\\n\\n                        </li>\\n                        \\n                \\n                    <li>\\n                        <a href=\"catalogue/category/books/academic_40/index.html\">\\n                            \\n                                Academic\\n                            \\n                        </a>\\n\\n                        </li>\\n                        \\n                \\n                    <li>\\n                        <a href=\"catalogue/category/books/self-help_41/index.html\">\\n                            \\n                                Self Help\\n                            \\n                        </a>\\n\\n                        </li>\\n                        \\n                \\n                    <li>\\n                        <a href=\"catalogue/category/books/historical_42/index.html\">\\n                            \\n                                Historical\\n                            \\n                        </a>\\n\\n                        </li>\\n                        \\n                \\n                    <li>\\n                        <a href=\"catalogue/category/books/christian_43/index.html\">\\n                            \\n                                Christian\\n                            \\n                        </a>\\n\\n                        </li>\\n                        \\n                \\n                    <li>\\n                        <a href=\"catalogue/category/books/suspense_44/index.html\">\\n                            \\n                                Suspense\\n                            \\n                        </a>\\n\\n                        </li>\\n                        \\n                \\n                    <li>\\n                        <a href=\"catalogue/category/books/short-stories_45/index.html\">\\n                            \\n                                Short Stories\\n                            \\n                        </a>\\n\\n                        </li>\\n                        \\n                \\n                    <li>\\n                        <a href=\"catalogue/category/books/novels_46/index.html\">\\n                            \\n                                Novels\\n                            \\n                        </a>\\n\\n                        </li>\\n                        \\n                \\n                    <li>\\n                        <a href=\"catalogue/category/books/health_47/index.html\">\\n                            \\n                                Health\\n                            \\n                        </a>\\n\\n                        </li>\\n                        \\n                \\n                    <li>\\n                        <a href=\"catalogue/category/books/politics_48/index.html\">\\n                            \\n                                Politics\\n                            \\n                        </a>\\n\\n                        </li>\\n                        \\n                \\n                    <li>\\n                        <a href=\"catalogue/category/books/cultural_49/index.html\">\\n                            \\n                                Cultural\\n                            \\n                        </a>\\n\\n                        </li>\\n                        \\n                \\n                    <li>\\n                        <a href=\"catalogue/category/books/erotica_50/index.html\">\\n                            \\n                                Erotica\\n                            \\n                        </a>\\n\\n                        </li>\\n                        \\n                \\n                    <li>\\n                        <a href=\"catalogue/category/books/crime_51/index.html\">\\n                            \\n                                Crime\\n                            \\n                        </a>\\n\\n                        </li>\\n                        \\n                            </ul></li>\\n                        \\n                \\n            </ul>\\n        </div>\\n    \\n    \\n\\n            </aside>\\n\\n            <div class=\"col-sm-8 col-md-9\">\\n                \\n                <div class=\"page-header action\">\\n                    <h1>All products</h1>\\n                </div>\\n                \\n\\n                \\n\\n\\n\\n<div id=\"messages\">\\n\\n</div>\\n\\n\\n                <div id=\"promotions\">\\n                    \\n                </div>\\n\\n                \\n    <form method=\"get\" class=\"form-horizontal\">\\n        \\n        <div style=\"display:none\">\\n            \\n            \\n        </div>\\n\\n        \\n            \\n                \\n                    <strong>1000</strong> results - showing <strong>1</strong> to <strong>20</strong>.\\n                \\n            \\n            \\n        \\n    </form>\\n    \\n        <section>\\n            <div class=\"alert alert-warning\" role=\"alert\"><strong>Warning!</strong> This is a demo website for web scraping purposes. Prices and ratings here were randomly assigned and have no real meaning.</div>\\n\\n            <div>\\n                <ol class=\"row\">\\n                    \\n                        <li class=\"col-xs-6 col-sm-4 col-md-3 col-lg-3\">\\n\\n\\n\\n\\n\\n\\n    <article class=\"product_pod\">\\n        \\n            <div class=\"image_container\">\\n                \\n                    \\n                    <a href=\"catalogue/a-light-in-the-attic_1000/index.html\"><img src=\"media/cache/2c/da/2cdad67c44b002e7ead0cc35693c0e8b.jpg\" alt=\"A Light in the Attic\" class=\"thumbnail\"></a>\\n                    \\n                \\n            </div>\\n        \\n\\n        \\n            \\n                <p class=\"star-rating Three\">\\n                    <i class=\"icon-star\"></i>\\n                    <i class=\"icon-star\"></i>\\n                    <i class=\"icon-star\"></i>\\n                    <i class=\"icon-star\"></i>\\n                    <i class=\"icon-star\"></i>\\n                </p>\\n            \\n        \\n\\n        \\n            <h3><a href=\"catalogue/a-light-in-the-attic_1000/index.html\" title=\"A Light in the Attic\">A Light in the ...</a></h3>\\n        \\n\\n        \\n            <div class=\"product_price\">\\n                \\n\\n\\n\\n\\n\\n\\n    \\n        <p class=\"price_color\">\\xc2\\xa351.77</p>\\n    \\n\\n<p class=\"instock availability\">\\n    <i class=\"icon-ok\"></i>\\n    \\n        In stock\\n    \\n</p>\\n\\n                \\n                    \\n\\n\\n\\n\\n\\n\\n    \\n    <form>\\n        <button type=\"submit\" class=\"btn btn-primary btn-block\" data-loading-text=\"Adding...\">Add to basket</button>\\n    </form>\\n\\n\\n                \\n            </div>\\n        \\n    </article>\\n\\n</li>\\n                    \\n                        <li class=\"col-xs-6 col-sm-4 col-md-3 col-lg-3\">\\n\\n\\n\\n\\n\\n\\n    <article class=\"product_pod\">\\n        \\n            <div class=\"image_container\">\\n                \\n                    \\n                    <a href=\"catalogue/tipping-the-velvet_999/index.html\"><img src=\"media/cache/26/0c/260c6ae16bce31c8f8c95daddd9f4a1c.jpg\" alt=\"Tipping the Velvet\" class=\"thumbnail\"></a>\\n                    \\n                \\n            </div>\\n        \\n\\n        \\n            \\n                <p class=\"star-rating One\">\\n                    <i class=\"icon-star\"></i>\\n                    <i class=\"icon-star\"></i>\\n                    <i class=\"icon-star\"></i>\\n                    <i class=\"icon-star\"></i>\\n                    <i class=\"icon-star\"></i>\\n                </p>\\n            \\n        \\n\\n        \\n            <h3><a href=\"catalogue/tipping-the-velvet_999/index.html\" title=\"Tipping the Velvet\">Tipping the Velvet</a></h3>\\n        \\n\\n        \\n            <div class=\"product_price\">\\n                \\n\\n\\n\\n\\n\\n\\n    \\n        <p class=\"price_color\">\\xc2\\xa353.74</p>\\n    \\n\\n<p class=\"instock availability\">\\n    <i class=\"icon-ok\"></i>\\n    \\n        In stock\\n    \\n</p>\\n\\n                \\n                    \\n\\n\\n\\n\\n\\n\\n    \\n    <form>\\n        <button type=\"submit\" class=\"btn btn-primary btn-block\" data-loading-text=\"Adding...\">Add to basket</button>\\n    </form>\\n\\n\\n                \\n            </div>\\n        \\n    </article>\\n\\n</li>\\n                    \\n                        <li class=\"col-xs-6 col-sm-4 col-md-3 col-lg-3\">\\n\\n\\n\\n\\n\\n\\n    <article class=\"product_pod\">\\n        \\n            <div class=\"image_container\">\\n                \\n                    \\n                    <a href=\"catalogue/soumission_998/index.html\"><img src=\"media/cache/3e/ef/3eef99c9d9adef34639f510662022830.jpg\" alt=\"Soumission\" class=\"thumbnail\"></a>\\n                    \\n                \\n            </div>\\n        \\n\\n        \\n            \\n                <p class=\"star-rating One\">\\n                    <i class=\"icon-star\"></i>\\n                    <i class=\"icon-star\"></i>\\n                    <i class=\"icon-star\"></i>\\n                    <i class=\"icon-star\"></i>\\n                    <i class=\"icon-star\"></i>\\n                </p>\\n            \\n        \\n\\n        \\n            <h3><a href=\"catalogue/soumission_998/index.html\" title=\"Soumission\">Soumission</a></h3>\\n        \\n\\n        \\n            <div class=\"product_price\">\\n                \\n\\n\\n\\n\\n\\n\\n    \\n        <p class=\"price_color\">\\xc2\\xa350.10</p>\\n    \\n\\n<p class=\"instock availability\">\\n    <i class=\"icon-ok\"></i>\\n    \\n        In stock\\n    \\n</p>\\n\\n                \\n                    \\n\\n\\n\\n\\n\\n\\n    \\n    <form>\\n        <button type=\"submit\" class=\"btn btn-primary btn-block\" data-loading-text=\"Adding...\">Add to basket</button>\\n    </form>\\n\\n\\n                \\n            </div>\\n        \\n    </article>\\n\\n</li>\\n                    \\n                        <li class=\"col-xs-6 col-sm-4 col-md-3 col-lg-3\">\\n\\n\\n\\n\\n\\n\\n    <article class=\"product_pod\">\\n        \\n            <div class=\"image_container\">\\n                \\n                    \\n                    <a href=\"catalogue/sharp-objects_997/index.html\"><img src=\"media/cache/32/51/3251cf3a3412f53f339e42cac2134093.jpg\" alt=\"Sharp Objects\" class=\"thumbnail\"></a>\\n                    \\n                \\n            </div>\\n        \\n\\n        \\n            \\n                <p class=\"star-rating Four\">\\n                    <i class=\"icon-star\"></i>\\n                    <i class=\"icon-star\"></i>\\n                    <i class=\"icon-star\"></i>\\n                    <i class=\"icon-star\"></i>\\n                    <i class=\"icon-star\"></i>\\n                </p>\\n            \\n        \\n\\n        \\n            <h3><a href=\"catalogue/sharp-objects_997/index.html\" title=\"Sharp Objects\">Sharp Objects</a></h3>\\n        \\n\\n        \\n            <div class=\"product_price\">\\n                \\n\\n\\n\\n\\n\\n\\n    \\n        <p class=\"price_color\">\\xc2\\xa347.82</p>\\n    \\n\\n<p class=\"instock availability\">\\n    <i class=\"icon-ok\"></i>\\n    \\n        In stock\\n    \\n</p>\\n\\n                \\n                    \\n\\n\\n\\n\\n\\n\\n    \\n    <form>\\n        <button type=\"submit\" class=\"btn btn-primary btn-block\" data-loading-text=\"Adding...\">Add to basket</button>\\n    </form>\\n\\n\\n                \\n            </div>\\n        \\n    </article>\\n\\n</li>\\n                    \\n                        <li class=\"col-xs-6 col-sm-4 col-md-3 col-lg-3\">\\n\\n\\n\\n\\n\\n\\n    <article class=\"product_pod\">\\n        \\n            <div class=\"image_container\">\\n                \\n                    \\n                    <a href=\"catalogue/sapiens-a-brief-history-of-humankind_996/index.html\"><img src=\"media/cache/be/a5/bea5697f2534a2f86a3ef27b5a8c12a6.jpg\" alt=\"Sapiens: A Brief History of Humankind\" class=\"thumbnail\"></a>\\n                    \\n                \\n            </div>\\n        \\n\\n        \\n            \\n                <p class=\"star-rating Five\">\\n                    <i class=\"icon-star\"></i>\\n                    <i class=\"icon-star\"></i>\\n                    <i class=\"icon-star\"></i>\\n                    <i class=\"icon-star\"></i>\\n                    <i class=\"icon-star\"></i>\\n                </p>\\n            \\n        \\n\\n        \\n            <h3><a href=\"catalogue/sapiens-a-brief-history-of-humankind_996/index.html\" title=\"Sapiens: A Brief History of Humankind\">Sapiens: A Brief History ...</a></h3>\\n        \\n\\n        \\n            <div class=\"product_price\">\\n                \\n\\n\\n\\n\\n\\n\\n    \\n        <p class=\"price_color\">\\xc2\\xa354.23</p>\\n    \\n\\n<p class=\"instock availability\">\\n    <i class=\"icon-ok\"></i>\\n    \\n        In stock\\n    \\n</p>\\n\\n                \\n                    \\n\\n\\n\\n\\n\\n\\n    \\n    <form>\\n        <button type=\"submit\" class=\"btn btn-primary btn-block\" data-loading-text=\"Adding...\">Add to basket</button>\\n    </form>\\n\\n\\n                \\n            </div>\\n        \\n    </article>\\n\\n</li>\\n                    \\n                        <li class=\"col-xs-6 col-sm-4 col-md-3 col-lg-3\">\\n\\n\\n\\n\\n\\n\\n    <article class=\"product_pod\">\\n        \\n            <div class=\"image_container\">\\n                \\n                    \\n                    <a href=\"catalogue/the-requiem-red_995/index.html\"><img src=\"media/cache/68/33/68339b4c9bc034267e1da611ab3b34f8.jpg\" alt=\"The Requiem Red\" class=\"thumbnail\"></a>\\n                    \\n                \\n            </div>\\n        \\n\\n        \\n            \\n                <p class=\"star-rating One\">\\n                    <i class=\"icon-star\"></i>\\n                    <i class=\"icon-star\"></i>\\n                    <i class=\"icon-star\"></i>\\n                    <i class=\"icon-star\"></i>\\n                    <i class=\"icon-star\"></i>\\n                </p>\\n            \\n        \\n\\n        \\n            <h3><a href=\"catalogue/the-requiem-red_995/index.html\" title=\"The Requiem Red\">The Requiem Red</a></h3>\\n        \\n\\n        \\n            <div class=\"product_price\">\\n                \\n\\n\\n\\n\\n\\n\\n    \\n        <p class=\"price_color\">\\xc2\\xa322.65</p>\\n    \\n\\n<p class=\"instock availability\">\\n    <i class=\"icon-ok\"></i>\\n    \\n        In stock\\n    \\n</p>\\n\\n                \\n                    \\n\\n\\n\\n\\n\\n\\n    \\n    <form>\\n        <button type=\"submit\" class=\"btn btn-primary btn-block\" data-loading-text=\"Adding...\">Add to basket</button>\\n    </form>\\n\\n\\n                \\n            </div>\\n        \\n    </article>\\n\\n</li>\\n                    \\n                        <li class=\"col-xs-6 col-sm-4 col-md-3 col-lg-3\">\\n\\n\\n\\n\\n\\n\\n    <article class=\"product_pod\">\\n        \\n            <div class=\"image_container\">\\n                \\n                    \\n                    <a href=\"catalogue/the-dirty-little-secrets-of-getting-your-dream-job_994/index.html\"><img src=\"media/cache/92/27/92274a95b7c251fea59a2b8a78275ab4.jpg\" alt=\"The Dirty Little Secrets of Getting Your Dream Job\" class=\"thumbnail\"></a>\\n                    \\n                \\n            </div>\\n        \\n\\n        \\n            \\n                <p class=\"star-rating Four\">\\n                    <i class=\"icon-star\"></i>\\n                    <i class=\"icon-star\"></i>\\n                    <i class=\"icon-star\"></i>\\n                    <i class=\"icon-star\"></i>\\n                    <i class=\"icon-star\"></i>\\n                </p>\\n            \\n        \\n\\n        \\n            <h3><a href=\"catalogue/the-dirty-little-secrets-of-getting-your-dream-job_994/index.html\" title=\"The Dirty Little Secrets of Getting Your Dream Job\">The Dirty Little Secrets ...</a></h3>\\n        \\n\\n        \\n            <div class=\"product_price\">\\n                \\n\\n\\n\\n\\n\\n\\n    \\n        <p class=\"price_color\">\\xc2\\xa333.34</p>\\n    \\n\\n<p class=\"instock availability\">\\n    <i class=\"icon-ok\"></i>\\n    \\n        In stock\\n    \\n</p>\\n\\n                \\n                    \\n\\n\\n\\n\\n\\n\\n    \\n    <form>\\n        <button type=\"submit\" class=\"btn btn-primary btn-block\" data-loading-text=\"Adding...\">Add to basket</button>\\n    </form>\\n\\n\\n                \\n            </div>\\n        \\n    </article>\\n\\n</li>\\n                    \\n                        <li class=\"col-xs-6 col-sm-4 col-md-3 col-lg-3\">\\n\\n\\n\\n\\n\\n\\n    <article class=\"product_pod\">\\n        \\n            <div class=\"image_container\">\\n                \\n                    \\n                    <a href=\"catalogue/the-coming-woman-a-novel-based-on-the-life-of-the-infamous-feminist-victoria-woodhull_993/index.html\"><img src=\"media/cache/3d/54/3d54940e57e662c4dd1f3ff00c78cc64.jpg\" alt=\"The Coming Woman: A Novel Based on the Life of the Infamous Feminist, Victoria Woodhull\" class=\"thumbnail\"></a>\\n                    \\n                \\n            </div>\\n        \\n\\n        \\n            \\n                <p class=\"star-rating Three\">\\n                    <i class=\"icon-star\"></i>\\n                    <i class=\"icon-star\"></i>\\n                    <i class=\"icon-star\"></i>\\n                    <i class=\"icon-star\"></i>\\n                    <i class=\"icon-star\"></i>\\n                </p>\\n            \\n        \\n\\n        \\n            <h3><a href=\"catalogue/the-coming-woman-a-novel-based-on-the-life-of-the-infamous-feminist-victoria-woodhull_993/index.html\" title=\"The Coming Woman: A Novel Based on the Life of the Infamous Feminist, Victoria Woodhull\">The Coming Woman: A ...</a></h3>\\n        \\n\\n        \\n            <div class=\"product_price\">\\n                \\n\\n\\n\\n\\n\\n\\n    \\n        <p class=\"price_color\">\\xc2\\xa317.93</p>\\n    \\n\\n<p class=\"instock availability\">\\n    <i class=\"icon-ok\"></i>\\n    \\n        In stock\\n    \\n</p>\\n\\n                \\n                    \\n\\n\\n\\n\\n\\n\\n    \\n    <form>\\n        <button type=\"submit\" class=\"btn btn-primary btn-block\" data-loading-text=\"Adding...\">Add to basket</button>\\n    </form>\\n\\n\\n                \\n            </div>\\n        \\n    </article>\\n\\n</li>\\n                    \\n                        <li class=\"col-xs-6 col-sm-4 col-md-3 col-lg-3\">\\n\\n\\n\\n\\n\\n\\n    <article class=\"product_pod\">\\n        \\n            <div class=\"image_container\">\\n                \\n                    \\n                    <a href=\"catalogue/the-boys-in-the-boat-nine-americans-and-their-epic-quest-for-gold-at-the-1936-berlin-olympics_992/index.html\"><img src=\"media/cache/66/88/66883b91f6804b2323c8369331cb7dd1.jpg\" alt=\"The Boys in the Boat: Nine Americans and Their Epic Quest for Gold at the 1936 Berlin Olympics\" class=\"thumbnail\"></a>\\n                    \\n                \\n            </div>\\n        \\n\\n        \\n            \\n                <p class=\"star-rating Four\">\\n                    <i class=\"icon-star\"></i>\\n                    <i class=\"icon-star\"></i>\\n                    <i class=\"icon-star\"></i>\\n                    <i class=\"icon-star\"></i>\\n                    <i class=\"icon-star\"></i>\\n                </p>\\n            \\n        \\n\\n        \\n            <h3><a href=\"catalogue/the-boys-in-the-boat-nine-americans-and-their-epic-quest-for-gold-at-the-1936-berlin-olympics_992/index.html\" title=\"The Boys in the Boat: Nine Americans and Their Epic Quest for Gold at the 1936 Berlin Olympics\">The Boys in the ...</a></h3>\\n        \\n\\n        \\n            <div class=\"product_price\">\\n                \\n\\n\\n\\n\\n\\n\\n    \\n        <p class=\"price_color\">\\xc2\\xa322.60</p>\\n    \\n\\n<p class=\"instock availability\">\\n    <i class=\"icon-ok\"></i>\\n    \\n        In stock\\n    \\n</p>\\n\\n                \\n                    \\n\\n\\n\\n\\n\\n\\n    \\n    <form>\\n        <button type=\"submit\" class=\"btn btn-primary btn-block\" data-loading-text=\"Adding...\">Add to basket</button>\\n    </form>\\n\\n\\n                \\n            </div>\\n        \\n    </article>\\n\\n</li>\\n                    \\n                        <li class=\"col-xs-6 col-sm-4 col-md-3 col-lg-3\">\\n\\n\\n\\n\\n\\n\\n    <article class=\"product_pod\">\\n        \\n            <div class=\"image_container\">\\n                \\n                    \\n                    <a href=\"catalogue/the-black-maria_991/index.html\"><img src=\"media/cache/58/46/5846057e28022268153beff6d352b06c.jpg\" alt=\"The Black Maria\" class=\"thumbnail\"></a>\\n                    \\n                \\n            </div>\\n        \\n\\n        \\n            \\n                <p class=\"star-rating One\">\\n                    <i class=\"icon-star\"></i>\\n                    <i class=\"icon-star\"></i>\\n                    <i class=\"icon-star\"></i>\\n                    <i class=\"icon-star\"></i>\\n                    <i class=\"icon-star\"></i>\\n                </p>\\n            \\n        \\n\\n        \\n            <h3><a href=\"catalogue/the-black-maria_991/index.html\" title=\"The Black Maria\">The Black Maria</a></h3>\\n        \\n\\n        \\n            <div class=\"product_price\">\\n                \\n\\n\\n\\n\\n\\n\\n    \\n        <p class=\"price_color\">\\xc2\\xa352.15</p>\\n    \\n\\n<p class=\"instock availability\">\\n    <i class=\"icon-ok\"></i>\\n    \\n        In stock\\n    \\n</p>\\n\\n                \\n                    \\n\\n\\n\\n\\n\\n\\n    \\n    <form>\\n        <button type=\"submit\" class=\"btn btn-primary btn-block\" data-loading-text=\"Adding...\">Add to basket</button>\\n    </form>\\n\\n\\n                \\n            </div>\\n        \\n    </article>\\n\\n</li>\\n                    \\n                        <li class=\"col-xs-6 col-sm-4 col-md-3 col-lg-3\">\\n\\n\\n\\n\\n\\n\\n    <article class=\"product_pod\">\\n        \\n            <div class=\"image_container\">\\n                \\n                    \\n                    <a href=\"catalogue/starving-hearts-triangular-trade-trilogy-1_990/index.html\"><img src=\"media/cache/be/f4/bef44da28c98f905a3ebec0b87be8530.jpg\" alt=\"Starving Hearts (Triangular Trade Trilogy, #1)\" class=\"thumbnail\"></a>\\n                    \\n                \\n            </div>\\n        \\n\\n        \\n            \\n                <p class=\"star-rating Two\">\\n                    <i class=\"icon-star\"></i>\\n                    <i class=\"icon-star\"></i>\\n                    <i class=\"icon-star\"></i>\\n                    <i class=\"icon-star\"></i>\\n                    <i class=\"icon-star\"></i>\\n                </p>\\n            \\n        \\n\\n        \\n            <h3><a href=\"catalogue/starving-hearts-triangular-trade-trilogy-1_990/index.html\" title=\"Starving Hearts (Triangular Trade Trilogy, #1)\">Starving Hearts (Triangular Trade ...</a></h3>\\n        \\n\\n        \\n            <div class=\"product_price\">\\n                \\n\\n\\n\\n\\n\\n\\n    \\n        <p class=\"price_color\">\\xc2\\xa313.99</p>\\n    \\n\\n<p class=\"instock availability\">\\n    <i class=\"icon-ok\"></i>\\n    \\n        In stock\\n    \\n</p>\\n\\n                \\n                    \\n\\n\\n\\n\\n\\n\\n    \\n    <form>\\n        <button type=\"submit\" class=\"btn btn-primary btn-block\" data-loading-text=\"Adding...\">Add to basket</button>\\n    </form>\\n\\n\\n                \\n            </div>\\n        \\n    </article>\\n\\n</li>\\n                    \\n                        <li class=\"col-xs-6 col-sm-4 col-md-3 col-lg-3\">\\n\\n\\n\\n\\n\\n\\n    <article class=\"product_pod\">\\n        \\n            <div class=\"image_container\">\\n                \\n                    \\n                    <a href=\"catalogue/shakespeares-sonnets_989/index.html\"><img src=\"media/cache/10/48/1048f63d3b5061cd2f424d20b3f9b666.jpg\" alt=\"Shakespeare&#39;s Sonnets\" class=\"thumbnail\"></a>\\n                    \\n                \\n            </div>\\n        \\n\\n        \\n            \\n                <p class=\"star-rating Four\">\\n                    <i class=\"icon-star\"></i>\\n                    <i class=\"icon-star\"></i>\\n                    <i class=\"icon-star\"></i>\\n                    <i class=\"icon-star\"></i>\\n                    <i class=\"icon-star\"></i>\\n                </p>\\n            \\n        \\n\\n        \\n            <h3><a href=\"catalogue/shakespeares-sonnets_989/index.html\" title=\"Shakespeare&#39;s Sonnets\">Shakespeare&#39;s Sonnets</a></h3>\\n        \\n\\n        \\n            <div class=\"product_price\">\\n                \\n\\n\\n\\n\\n\\n\\n    \\n        <p class=\"price_color\">\\xc2\\xa320.66</p>\\n    \\n\\n<p class=\"instock availability\">\\n    <i class=\"icon-ok\"></i>\\n    \\n        In stock\\n    \\n</p>\\n\\n                \\n                    \\n\\n\\n\\n\\n\\n\\n    \\n    <form>\\n        <button type=\"submit\" class=\"btn btn-primary btn-block\" data-loading-text=\"Adding...\">Add to basket</button>\\n    </form>\\n\\n\\n                \\n            </div>\\n        \\n    </article>\\n\\n</li>\\n                    \\n                        <li class=\"col-xs-6 col-sm-4 col-md-3 col-lg-3\">\\n\\n\\n\\n\\n\\n\\n    <article class=\"product_pod\">\\n        \\n            <div class=\"image_container\">\\n                \\n                    \\n                    <a href=\"catalogue/set-me-free_988/index.html\"><img src=\"media/cache/5b/88/5b88c52633f53cacf162c15f4f823153.jpg\" alt=\"Set Me Free\" class=\"thumbnail\"></a>\\n                    \\n                \\n            </div>\\n        \\n\\n        \\n            \\n                <p class=\"star-rating Five\">\\n                    <i class=\"icon-star\"></i>\\n                    <i class=\"icon-star\"></i>\\n                    <i class=\"icon-star\"></i>\\n                    <i class=\"icon-star\"></i>\\n                    <i class=\"icon-star\"></i>\\n                </p>\\n            \\n        \\n\\n        \\n            <h3><a href=\"catalogue/set-me-free_988/index.html\" title=\"Set Me Free\">Set Me Free</a></h3>\\n        \\n\\n        \\n            <div class=\"product_price\">\\n                \\n\\n\\n\\n\\n\\n\\n    \\n        <p class=\"price_color\">\\xc2\\xa317.46</p>\\n    \\n\\n<p class=\"instock availability\">\\n    <i class=\"icon-ok\"></i>\\n    \\n        In stock\\n    \\n</p>\\n\\n                \\n                    \\n\\n\\n\\n\\n\\n\\n    \\n    <form>\\n        <button type=\"submit\" class=\"btn btn-primary btn-block\" data-loading-text=\"Adding...\">Add to basket</button>\\n    </form>\\n\\n\\n                \\n            </div>\\n        \\n    </article>\\n\\n</li>\\n                    \\n                        <li class=\"col-xs-6 col-sm-4 col-md-3 col-lg-3\">\\n\\n\\n\\n\\n\\n\\n    <article class=\"product_pod\">\\n        \\n            <div class=\"image_container\">\\n                \\n                    \\n                    <a href=\"catalogue/scott-pilgrims-precious-little-life-scott-pilgrim-1_987/index.html\"><img src=\"media/cache/94/b1/94b1b8b244bce9677c2f29ccc890d4d2.jpg\" alt=\"Scott Pilgrim&#39;s Precious Little Life (Scott Pilgrim #1)\" class=\"thumbnail\"></a>\\n                    \\n                \\n            </div>\\n        \\n\\n        \\n            \\n                <p class=\"star-rating Five\">\\n                    <i class=\"icon-star\"></i>\\n                    <i class=\"icon-star\"></i>\\n                    <i class=\"icon-star\"></i>\\n                    <i class=\"icon-star\"></i>\\n                    <i class=\"icon-star\"></i>\\n                </p>\\n            \\n        \\n\\n        \\n            <h3><a href=\"catalogue/scott-pilgrims-precious-little-life-scott-pilgrim-1_987/index.html\" title=\"Scott Pilgrim&#39;s Precious Little Life (Scott Pilgrim #1)\">Scott Pilgrim&#39;s Precious Little ...</a></h3>\\n        \\n\\n        \\n            <div class=\"product_price\">\\n                \\n\\n\\n\\n\\n\\n\\n    \\n        <p class=\"price_color\">\\xc2\\xa352.29</p>\\n    \\n\\n<p class=\"instock availability\">\\n    <i class=\"icon-ok\"></i>\\n    \\n        In stock\\n    \\n</p>\\n\\n                \\n                    \\n\\n\\n\\n\\n\\n\\n    \\n    <form>\\n        <button type=\"submit\" class=\"btn btn-primary btn-block\" data-loading-text=\"Adding...\">Add to basket</button>\\n    </form>\\n\\n\\n                \\n            </div>\\n        \\n    </article>\\n\\n</li>\\n                    \\n                        <li class=\"col-xs-6 col-sm-4 col-md-3 col-lg-3\">\\n\\n\\n\\n\\n\\n\\n    <article class=\"product_pod\">\\n        \\n            <div class=\"image_container\">\\n                \\n                    \\n                    <a href=\"catalogue/rip-it-up-and-start-again_986/index.html\"><img src=\"media/cache/81/c4/81c4a973364e17d01f217e1188253d5e.jpg\" alt=\"Rip it Up and Start Again\" class=\"thumbnail\"></a>\\n                    \\n                \\n            </div>\\n        \\n\\n        \\n            \\n                <p class=\"star-rating Five\">\\n                    <i class=\"icon-star\"></i>\\n                    <i class=\"icon-star\"></i>\\n                    <i class=\"icon-star\"></i>\\n                    <i class=\"icon-star\"></i>\\n                    <i class=\"icon-star\"></i>\\n                </p>\\n            \\n        \\n\\n        \\n            <h3><a href=\"catalogue/rip-it-up-and-start-again_986/index.html\" title=\"Rip it Up and Start Again\">Rip it Up and ...</a></h3>\\n        \\n\\n        \\n            <div class=\"product_price\">\\n                \\n\\n\\n\\n\\n\\n\\n    \\n        <p class=\"price_color\">\\xc2\\xa335.02</p>\\n    \\n\\n<p class=\"instock availability\">\\n    <i class=\"icon-ok\"></i>\\n    \\n        In stock\\n    \\n</p>\\n\\n                \\n                    \\n\\n\\n\\n\\n\\n\\n    \\n    <form>\\n        <button type=\"submit\" class=\"btn btn-primary btn-block\" data-loading-text=\"Adding...\">Add to basket</button>\\n    </form>\\n\\n\\n                \\n            </div>\\n        \\n    </article>\\n\\n</li>\\n                    \\n                        <li class=\"col-xs-6 col-sm-4 col-md-3 col-lg-3\">\\n\\n\\n\\n\\n\\n\\n    <article class=\"product_pod\">\\n        \\n            <div class=\"image_container\">\\n                \\n                    \\n                    <a href=\"catalogue/our-band-could-be-your-life-scenes-from-the-american-indie-underground-1981-1991_985/index.html\"><img src=\"media/cache/54/60/54607fe8945897cdcced0044103b10b6.jpg\" alt=\"Our Band Could Be Your Life: Scenes from the American Indie Underground, 1981-1991\" class=\"thumbnail\"></a>\\n                    \\n                \\n            </div>\\n        \\n\\n        \\n            \\n                <p class=\"star-rating Three\">\\n                    <i class=\"icon-star\"></i>\\n                    <i class=\"icon-star\"></i>\\n                    <i class=\"icon-star\"></i>\\n                    <i class=\"icon-star\"></i>\\n                    <i class=\"icon-star\"></i>\\n                </p>\\n            \\n        \\n\\n        \\n            <h3><a href=\"catalogue/our-band-could-be-your-life-scenes-from-the-american-indie-underground-1981-1991_985/index.html\" title=\"Our Band Could Be Your Life: Scenes from the American Indie Underground, 1981-1991\">Our Band Could Be ...</a></h3>\\n        \\n\\n        \\n            <div class=\"product_price\">\\n                \\n\\n\\n\\n\\n\\n\\n    \\n        <p class=\"price_color\">\\xc2\\xa357.25</p>\\n    \\n\\n<p class=\"instock availability\">\\n    <i class=\"icon-ok\"></i>\\n    \\n        In stock\\n    \\n</p>\\n\\n                \\n                    \\n\\n\\n\\n\\n\\n\\n    \\n    <form>\\n        <button type=\"submit\" class=\"btn btn-primary btn-block\" data-loading-text=\"Adding...\">Add to basket</button>\\n    </form>\\n\\n\\n                \\n            </div>\\n        \\n    </article>\\n\\n</li>\\n                    \\n                        <li class=\"col-xs-6 col-sm-4 col-md-3 col-lg-3\">\\n\\n\\n\\n\\n\\n\\n    <article class=\"product_pod\">\\n        \\n            <div class=\"image_container\">\\n                \\n                    \\n                    <a href=\"catalogue/olio_984/index.html\"><img src=\"media/cache/55/33/553310a7162dfbc2c6d19a84da0df9e1.jpg\" alt=\"Olio\" class=\"thumbnail\"></a>\\n                    \\n                \\n            </div>\\n        \\n\\n        \\n            \\n                <p class=\"star-rating One\">\\n                    <i class=\"icon-star\"></i>\\n                    <i class=\"icon-star\"></i>\\n                    <i class=\"icon-star\"></i>\\n                    <i class=\"icon-star\"></i>\\n                    <i class=\"icon-star\"></i>\\n                </p>\\n            \\n        \\n\\n        \\n            <h3><a href=\"catalogue/olio_984/index.html\" title=\"Olio\">Olio</a></h3>\\n        \\n\\n        \\n            <div class=\"product_price\">\\n                \\n\\n\\n\\n\\n\\n\\n    \\n        <p class=\"price_color\">\\xc2\\xa323.88</p>\\n    \\n\\n<p class=\"instock availability\">\\n    <i class=\"icon-ok\"></i>\\n    \\n        In stock\\n    \\n</p>\\n\\n                \\n                    \\n\\n\\n\\n\\n\\n\\n    \\n    <form>\\n        <button type=\"submit\" class=\"btn btn-primary btn-block\" data-loading-text=\"Adding...\">Add to basket</button>\\n    </form>\\n\\n\\n                \\n            </div>\\n        \\n    </article>\\n\\n</li>\\n                    \\n                        <li class=\"col-xs-6 col-sm-4 col-md-3 col-lg-3\">\\n\\n\\n\\n\\n\\n\\n    <article class=\"product_pod\">\\n        \\n            <div class=\"image_container\">\\n                \\n                    \\n                    <a href=\"catalogue/mesaerion-the-best-science-fiction-stories-1800-1849_983/index.html\"><img src=\"media/cache/09/a3/09a3aef48557576e1a85ba7efea8ecb7.jpg\" alt=\"Mesaerion: The Best Science Fiction Stories 1800-1849\" class=\"thumbnail\"></a>\\n                    \\n                \\n            </div>\\n        \\n\\n        \\n            \\n                <p class=\"star-rating One\">\\n                    <i class=\"icon-star\"></i>\\n                    <i class=\"icon-star\"></i>\\n                    <i class=\"icon-star\"></i>\\n                    <i class=\"icon-star\"></i>\\n                    <i class=\"icon-star\"></i>\\n                </p>\\n            \\n        \\n\\n        \\n            <h3><a href=\"catalogue/mesaerion-the-best-science-fiction-stories-1800-1849_983/index.html\" title=\"Mesaerion: The Best Science Fiction Stories 1800-1849\">Mesaerion: The Best Science ...</a></h3>\\n        \\n\\n        \\n            <div class=\"product_price\">\\n                \\n\\n\\n\\n\\n\\n\\n    \\n        <p class=\"price_color\">\\xc2\\xa337.59</p>\\n    \\n\\n<p class=\"instock availability\">\\n    <i class=\"icon-ok\"></i>\\n    \\n        In stock\\n    \\n</p>\\n\\n                \\n                    \\n\\n\\n\\n\\n\\n\\n    \\n    <form>\\n        <button type=\"submit\" class=\"btn btn-primary btn-block\" data-loading-text=\"Adding...\">Add to basket</button>\\n    </form>\\n\\n\\n                \\n            </div>\\n        \\n    </article>\\n\\n</li>\\n                    \\n                        <li class=\"col-xs-6 col-sm-4 col-md-3 col-lg-3\">\\n\\n\\n\\n\\n\\n\\n    <article class=\"product_pod\">\\n        \\n            <div class=\"image_container\">\\n                \\n                    \\n                    <a href=\"catalogue/libertarianism-for-beginners_982/index.html\"><img src=\"media/cache/0b/bc/0bbcd0a6f4bcd81ccb1049a52736406e.jpg\" alt=\"Libertarianism for Beginners\" class=\"thumbnail\"></a>\\n                    \\n                \\n            </div>\\n        \\n\\n        \\n            \\n                <p class=\"star-rating Two\">\\n                    <i class=\"icon-star\"></i>\\n                    <i class=\"icon-star\"></i>\\n                    <i class=\"icon-star\"></i>\\n                    <i class=\"icon-star\"></i>\\n                    <i class=\"icon-star\"></i>\\n                </p>\\n            \\n        \\n\\n        \\n            <h3><a href=\"catalogue/libertarianism-for-beginners_982/index.html\" title=\"Libertarianism for Beginners\">Libertarianism for Beginners</a></h3>\\n        \\n\\n        \\n            <div class=\"product_price\">\\n                \\n\\n\\n\\n\\n\\n\\n    \\n        <p class=\"price_color\">\\xc2\\xa351.33</p>\\n    \\n\\n<p class=\"instock availability\">\\n    <i class=\"icon-ok\"></i>\\n    \\n        In stock\\n    \\n</p>\\n\\n                \\n                    \\n\\n\\n\\n\\n\\n\\n    \\n    <form>\\n        <button type=\"submit\" class=\"btn btn-primary btn-block\" data-loading-text=\"Adding...\">Add to basket</button>\\n    </form>\\n\\n\\n                \\n            </div>\\n        \\n    </article>\\n\\n</li>\\n                    \\n                        <li class=\"col-xs-6 col-sm-4 col-md-3 col-lg-3\">\\n\\n\\n\\n\\n\\n\\n    <article class=\"product_pod\">\\n        \\n            <div class=\"image_container\">\\n                \\n                    \\n                    <a href=\"catalogue/its-only-the-himalayas_981/index.html\"><img src=\"media/cache/27/a5/27a53d0bb95bdd88288eaf66c9230d7e.jpg\" alt=\"It&#39;s Only the Himalayas\" class=\"thumbnail\"></a>\\n                    \\n                \\n            </div>\\n        \\n\\n        \\n            \\n                <p class=\"star-rating Two\">\\n                    <i class=\"icon-star\"></i>\\n                    <i class=\"icon-star\"></i>\\n                    <i class=\"icon-star\"></i>\\n                    <i class=\"icon-star\"></i>\\n                    <i class=\"icon-star\"></i>\\n                </p>\\n            \\n        \\n\\n        \\n            <h3><a href=\"catalogue/its-only-the-himalayas_981/index.html\" title=\"It&#39;s Only the Himalayas\">It&#39;s Only the Himalayas</a></h3>\\n        \\n\\n        \\n            <div class=\"product_price\">\\n                \\n\\n\\n\\n\\n\\n\\n    \\n        <p class=\"price_color\">\\xc2\\xa345.17</p>\\n    \\n\\n<p class=\"instock availability\">\\n    <i class=\"icon-ok\"></i>\\n    \\n        In stock\\n    \\n</p>\\n\\n                \\n                    \\n\\n\\n\\n\\n\\n\\n    \\n    <form>\\n        <button type=\"submit\" class=\"btn btn-primary btn-block\" data-loading-text=\"Adding...\">Add to basket</button>\\n    </form>\\n\\n\\n                \\n            </div>\\n        \\n    </article>\\n\\n</li>\\n                    \\n                </ol>\\n                \\n\\n\\n\\n    <div>\\n        <ul class=\"pager\">\\n            \\n            <li class=\"current\">\\n            \\n                Page 1 of 50\\n            \\n            </li>\\n            \\n                <li class=\"next\"><a href=\"catalogue/page-2.html\">next</a></li>\\n            \\n        </ul>\\n    </div>\\n\\n\\n            </div>\\n        </section>\\n    \\n\\n\\n            </div>\\n\\n        </div><!-- /row -->\\n    </div><!-- /page_inner -->\\n</div><!-- /container-fluid -->\\n\\n\\n    \\n<footer class=\"footer container-fluid\">\\n    \\n        \\n    \\n</footer>\\n\\n\\n        \\n        \\n  \\n            <!-- jQuery -->\\n            <script src=\"http://ajax.googleapis.com/ajax/libs/jquery/1.9.1/jquery.min.js\"></script>\\n            <script>window.jQuery || document.write(\\'<script src=\"static/oscar/js/jquery/jquery-1.9.1.min.js\"><\\\\/script>\\')</script>\\n        \\n  \\n\\n\\n        \\n        \\n    \\n        \\n    <!-- Twitter Bootstrap -->\\n    <script type=\"text/javascript\" src=\"static/oscar/js/bootstrap3/bootstrap.min.js\"></script>\\n    <!-- Oscar -->\\n    <script src=\"static/oscar/js/oscar/ui.js\" type=\"text/javascript\" charset=\"utf-8\"></script>\\n\\n    <script src=\"static/oscar/js/bootstrap-datetimepicker/bootstrap-datetimepicker.js\" type=\"text/javascript\" charset=\"utf-8\"></script>\\n    <script src=\"static/oscar/js/bootstrap-datetimepicker/locales/bootstrap-datetimepicker.all.js\" type=\"text/javascript\" charset=\"utf-8\"></script>\\n\\n\\n        \\n        \\n    \\n\\n    \\n\\n\\n        \\n        <script type=\"text/javascript\">\\n            $(function() {\\n                \\n    \\n    \\n    oscar.init();\\n\\n    oscar.search.init();\\n\\n            });\\n        </script>\\n\\n        \\n        <!-- Version: N/A -->\\n        \\n    </body>\\n</html>\\n'"
            ]
          },
          "metadata": {},
          "execution_count": 89
        }
      ]
    },
    {
      "cell_type": "code",
      "source": [
        "from bs4 import BeautifulSoup"
      ],
      "metadata": {
        "id": "pRubJB5XuGnB"
      },
      "execution_count": 90,
      "outputs": []
    },
    {
      "cell_type": "code",
      "source": [
        "soup = BeautifulSoup(resp.content, \"lxml\")"
      ],
      "metadata": {
        "id": "a0Wm-pC3uS8K"
      },
      "execution_count": 91,
      "outputs": []
    },
    {
      "cell_type": "code",
      "source": [
        "soup.title"
      ],
      "metadata": {
        "colab": {
          "base_uri": "https://localhost:8080/"
        },
        "id": "0lhxlgAFuYuf",
        "outputId": "955d76d4-8fb3-4e76-e8c4-6ded150d9a8a"
      },
      "execution_count": 95,
      "outputs": [
        {
          "output_type": "execute_result",
          "data": {
            "text/plain": [
              "<title>\n",
              "    All products | Books to Scrape - Sandbox\n",
              "</title>"
            ]
          },
          "metadata": {},
          "execution_count": 95
        }
      ]
    },
    {
      "cell_type": "code",
      "source": [
        "print(soup.prettify())"
      ],
      "metadata": {
        "colab": {
          "base_uri": "https://localhost:8080/"
        },
        "collapsed": true,
        "id": "AZ_5bfo0ujg_",
        "outputId": "4a005765-d4c9-44c3-d1f2-2bfd262c4eb7"
      },
      "execution_count": 97,
      "outputs": [
        {
          "output_type": "stream",
          "name": "stdout",
          "text": [
            "<!DOCTYPE html>\n",
            "<!--[if lt IE 7]>      <html lang=\"en-us\" class=\"no-js lt-ie9 lt-ie8 lt-ie7\"> <![endif]-->\n",
            "<!--[if IE 7]>         <html lang=\"en-us\" class=\"no-js lt-ie9 lt-ie8\"> <![endif]-->\n",
            "<!--[if IE 8]>         <html lang=\"en-us\" class=\"no-js lt-ie9\"> <![endif]-->\n",
            "<!--[if gt IE 8]><!-->\n",
            "<html class=\"no-js\" lang=\"en-us\">\n",
            " <!--<![endif]-->\n",
            " <head>\n",
            "  <title>\n",
            "   All products | Books to Scrape - Sandbox\n",
            "  </title>\n",
            "  <meta content=\"text/html; charset=utf-8\" http-equiv=\"content-type\"/>\n",
            "  <meta content=\"24th Jun 2016 09:29\" name=\"created\"/>\n",
            "  <meta content=\"\" name=\"description\"/>\n",
            "  <meta content=\"width=device-width\" name=\"viewport\"/>\n",
            "  <meta content=\"NOARCHIVE,NOCACHE\" name=\"robots\"/>\n",
            "  <!-- Le HTML5 shim, for IE6-8 support of HTML elements -->\n",
            "  <!--[if lt IE 9]>\n",
            "        <script src=\"//html5shim.googlecode.com/svn/trunk/html5.js\"></script>\n",
            "        <![endif]-->\n",
            "  <link href=\"static/oscar/favicon.ico\" rel=\"shortcut icon\"/>\n",
            "  <link href=\"static/oscar/css/styles.css\" rel=\"stylesheet\" type=\"text/css\"/>\n",
            "  <link href=\"static/oscar/js/bootstrap-datetimepicker/bootstrap-datetimepicker.css\" rel=\"stylesheet\"/>\n",
            "  <link href=\"static/oscar/css/datetimepicker.css\" rel=\"stylesheet\" type=\"text/css\"/>\n",
            " </head>\n",
            " <body class=\"default\" id=\"default\">\n",
            "  <header class=\"header container-fluid\">\n",
            "   <div class=\"page_inner\">\n",
            "    <div class=\"row\">\n",
            "     <div class=\"col-sm-8 h1\">\n",
            "      <a href=\"index.html\">\n",
            "       Books to Scrape\n",
            "      </a>\n",
            "      <small>\n",
            "       We love being scraped!\n",
            "      </small>\n",
            "     </div>\n",
            "    </div>\n",
            "   </div>\n",
            "  </header>\n",
            "  <div class=\"container-fluid page\">\n",
            "   <div class=\"page_inner\">\n",
            "    <ul class=\"breadcrumb\">\n",
            "     <li>\n",
            "      <a href=\"index.html\">\n",
            "       Home\n",
            "      </a>\n",
            "     </li>\n",
            "     <li class=\"active\">\n",
            "      All products\n",
            "     </li>\n",
            "    </ul>\n",
            "    <div class=\"row\">\n",
            "     <aside class=\"sidebar col-sm-4 col-md-3\">\n",
            "      <div id=\"promotions_left\">\n",
            "      </div>\n",
            "      <div class=\"side_categories\">\n",
            "       <ul class=\"nav nav-list\">\n",
            "        <li>\n",
            "         <a href=\"catalogue/category/books_1/index.html\">\n",
            "          Books\n",
            "         </a>\n",
            "         <ul>\n",
            "          <li>\n",
            "           <a href=\"catalogue/category/books/travel_2/index.html\">\n",
            "            Travel\n",
            "           </a>\n",
            "          </li>\n",
            "          <li>\n",
            "           <a href=\"catalogue/category/books/mystery_3/index.html\">\n",
            "            Mystery\n",
            "           </a>\n",
            "          </li>\n",
            "          <li>\n",
            "           <a href=\"catalogue/category/books/historical-fiction_4/index.html\">\n",
            "            Historical Fiction\n",
            "           </a>\n",
            "          </li>\n",
            "          <li>\n",
            "           <a href=\"catalogue/category/books/sequential-art_5/index.html\">\n",
            "            Sequential Art\n",
            "           </a>\n",
            "          </li>\n",
            "          <li>\n",
            "           <a href=\"catalogue/category/books/classics_6/index.html\">\n",
            "            Classics\n",
            "           </a>\n",
            "          </li>\n",
            "          <li>\n",
            "           <a href=\"catalogue/category/books/philosophy_7/index.html\">\n",
            "            Philosophy\n",
            "           </a>\n",
            "          </li>\n",
            "          <li>\n",
            "           <a href=\"catalogue/category/books/romance_8/index.html\">\n",
            "            Romance\n",
            "           </a>\n",
            "          </li>\n",
            "          <li>\n",
            "           <a href=\"catalogue/category/books/womens-fiction_9/index.html\">\n",
            "            Womens Fiction\n",
            "           </a>\n",
            "          </li>\n",
            "          <li>\n",
            "           <a href=\"catalogue/category/books/fiction_10/index.html\">\n",
            "            Fiction\n",
            "           </a>\n",
            "          </li>\n",
            "          <li>\n",
            "           <a href=\"catalogue/category/books/childrens_11/index.html\">\n",
            "            Childrens\n",
            "           </a>\n",
            "          </li>\n",
            "          <li>\n",
            "           <a href=\"catalogue/category/books/religion_12/index.html\">\n",
            "            Religion\n",
            "           </a>\n",
            "          </li>\n",
            "          <li>\n",
            "           <a href=\"catalogue/category/books/nonfiction_13/index.html\">\n",
            "            Nonfiction\n",
            "           </a>\n",
            "          </li>\n",
            "          <li>\n",
            "           <a href=\"catalogue/category/books/music_14/index.html\">\n",
            "            Music\n",
            "           </a>\n",
            "          </li>\n",
            "          <li>\n",
            "           <a href=\"catalogue/category/books/default_15/index.html\">\n",
            "            Default\n",
            "           </a>\n",
            "          </li>\n",
            "          <li>\n",
            "           <a href=\"catalogue/category/books/science-fiction_16/index.html\">\n",
            "            Science Fiction\n",
            "           </a>\n",
            "          </li>\n",
            "          <li>\n",
            "           <a href=\"catalogue/category/books/sports-and-games_17/index.html\">\n",
            "            Sports and Games\n",
            "           </a>\n",
            "          </li>\n",
            "          <li>\n",
            "           <a href=\"catalogue/category/books/add-a-comment_18/index.html\">\n",
            "            Add a comment\n",
            "           </a>\n",
            "          </li>\n",
            "          <li>\n",
            "           <a href=\"catalogue/category/books/fantasy_19/index.html\">\n",
            "            Fantasy\n",
            "           </a>\n",
            "          </li>\n",
            "          <li>\n",
            "           <a href=\"catalogue/category/books/new-adult_20/index.html\">\n",
            "            New Adult\n",
            "           </a>\n",
            "          </li>\n",
            "          <li>\n",
            "           <a href=\"catalogue/category/books/young-adult_21/index.html\">\n",
            "            Young Adult\n",
            "           </a>\n",
            "          </li>\n",
            "          <li>\n",
            "           <a href=\"catalogue/category/books/science_22/index.html\">\n",
            "            Science\n",
            "           </a>\n",
            "          </li>\n",
            "          <li>\n",
            "           <a href=\"catalogue/category/books/poetry_23/index.html\">\n",
            "            Poetry\n",
            "           </a>\n",
            "          </li>\n",
            "          <li>\n",
            "           <a href=\"catalogue/category/books/paranormal_24/index.html\">\n",
            "            Paranormal\n",
            "           </a>\n",
            "          </li>\n",
            "          <li>\n",
            "           <a href=\"catalogue/category/books/art_25/index.html\">\n",
            "            Art\n",
            "           </a>\n",
            "          </li>\n",
            "          <li>\n",
            "           <a href=\"catalogue/category/books/psychology_26/index.html\">\n",
            "            Psychology\n",
            "           </a>\n",
            "          </li>\n",
            "          <li>\n",
            "           <a href=\"catalogue/category/books/autobiography_27/index.html\">\n",
            "            Autobiography\n",
            "           </a>\n",
            "          </li>\n",
            "          <li>\n",
            "           <a href=\"catalogue/category/books/parenting_28/index.html\">\n",
            "            Parenting\n",
            "           </a>\n",
            "          </li>\n",
            "          <li>\n",
            "           <a href=\"catalogue/category/books/adult-fiction_29/index.html\">\n",
            "            Adult Fiction\n",
            "           </a>\n",
            "          </li>\n",
            "          <li>\n",
            "           <a href=\"catalogue/category/books/humor_30/index.html\">\n",
            "            Humor\n",
            "           </a>\n",
            "          </li>\n",
            "          <li>\n",
            "           <a href=\"catalogue/category/books/horror_31/index.html\">\n",
            "            Horror\n",
            "           </a>\n",
            "          </li>\n",
            "          <li>\n",
            "           <a href=\"catalogue/category/books/history_32/index.html\">\n",
            "            History\n",
            "           </a>\n",
            "          </li>\n",
            "          <li>\n",
            "           <a href=\"catalogue/category/books/food-and-drink_33/index.html\">\n",
            "            Food and Drink\n",
            "           </a>\n",
            "          </li>\n",
            "          <li>\n",
            "           <a href=\"catalogue/category/books/christian-fiction_34/index.html\">\n",
            "            Christian Fiction\n",
            "           </a>\n",
            "          </li>\n",
            "          <li>\n",
            "           <a href=\"catalogue/category/books/business_35/index.html\">\n",
            "            Business\n",
            "           </a>\n",
            "          </li>\n",
            "          <li>\n",
            "           <a href=\"catalogue/category/books/biography_36/index.html\">\n",
            "            Biography\n",
            "           </a>\n",
            "          </li>\n",
            "          <li>\n",
            "           <a href=\"catalogue/category/books/thriller_37/index.html\">\n",
            "            Thriller\n",
            "           </a>\n",
            "          </li>\n",
            "          <li>\n",
            "           <a href=\"catalogue/category/books/contemporary_38/index.html\">\n",
            "            Contemporary\n",
            "           </a>\n",
            "          </li>\n",
            "          <li>\n",
            "           <a href=\"catalogue/category/books/spirituality_39/index.html\">\n",
            "            Spirituality\n",
            "           </a>\n",
            "          </li>\n",
            "          <li>\n",
            "           <a href=\"catalogue/category/books/academic_40/index.html\">\n",
            "            Academic\n",
            "           </a>\n",
            "          </li>\n",
            "          <li>\n",
            "           <a href=\"catalogue/category/books/self-help_41/index.html\">\n",
            "            Self Help\n",
            "           </a>\n",
            "          </li>\n",
            "          <li>\n",
            "           <a href=\"catalogue/category/books/historical_42/index.html\">\n",
            "            Historical\n",
            "           </a>\n",
            "          </li>\n",
            "          <li>\n",
            "           <a href=\"catalogue/category/books/christian_43/index.html\">\n",
            "            Christian\n",
            "           </a>\n",
            "          </li>\n",
            "          <li>\n",
            "           <a href=\"catalogue/category/books/suspense_44/index.html\">\n",
            "            Suspense\n",
            "           </a>\n",
            "          </li>\n",
            "          <li>\n",
            "           <a href=\"catalogue/category/books/short-stories_45/index.html\">\n",
            "            Short Stories\n",
            "           </a>\n",
            "          </li>\n",
            "          <li>\n",
            "           <a href=\"catalogue/category/books/novels_46/index.html\">\n",
            "            Novels\n",
            "           </a>\n",
            "          </li>\n",
            "          <li>\n",
            "           <a href=\"catalogue/category/books/health_47/index.html\">\n",
            "            Health\n",
            "           </a>\n",
            "          </li>\n",
            "          <li>\n",
            "           <a href=\"catalogue/category/books/politics_48/index.html\">\n",
            "            Politics\n",
            "           </a>\n",
            "          </li>\n",
            "          <li>\n",
            "           <a href=\"catalogue/category/books/cultural_49/index.html\">\n",
            "            Cultural\n",
            "           </a>\n",
            "          </li>\n",
            "          <li>\n",
            "           <a href=\"catalogue/category/books/erotica_50/index.html\">\n",
            "            Erotica\n",
            "           </a>\n",
            "          </li>\n",
            "          <li>\n",
            "           <a href=\"catalogue/category/books/crime_51/index.html\">\n",
            "            Crime\n",
            "           </a>\n",
            "          </li>\n",
            "         </ul>\n",
            "        </li>\n",
            "       </ul>\n",
            "      </div>\n",
            "     </aside>\n",
            "     <div class=\"col-sm-8 col-md-9\">\n",
            "      <div class=\"page-header action\">\n",
            "       <h1>\n",
            "        All products\n",
            "       </h1>\n",
            "      </div>\n",
            "      <div id=\"messages\">\n",
            "      </div>\n",
            "      <div id=\"promotions\">\n",
            "      </div>\n",
            "      <form class=\"form-horizontal\" method=\"get\">\n",
            "       <div style=\"display:none\">\n",
            "       </div>\n",
            "       <strong>\n",
            "        1000\n",
            "       </strong>\n",
            "       results - showing\n",
            "       <strong>\n",
            "        1\n",
            "       </strong>\n",
            "       to\n",
            "       <strong>\n",
            "        20\n",
            "       </strong>\n",
            "       .\n",
            "      </form>\n",
            "      <section>\n",
            "       <div class=\"alert alert-warning\" role=\"alert\">\n",
            "        <strong>\n",
            "         Warning!\n",
            "        </strong>\n",
            "        This is a demo website for web scraping purposes. Prices and ratings here were randomly assigned and have no real meaning.\n",
            "       </div>\n",
            "       <div>\n",
            "        <ol class=\"row\">\n",
            "         <li class=\"col-xs-6 col-sm-4 col-md-3 col-lg-3\">\n",
            "          <article class=\"product_pod\">\n",
            "           <div class=\"image_container\">\n",
            "            <a href=\"catalogue/a-light-in-the-attic_1000/index.html\">\n",
            "             <img alt=\"A Light in the Attic\" class=\"thumbnail\" src=\"media/cache/2c/da/2cdad67c44b002e7ead0cc35693c0e8b.jpg\"/>\n",
            "            </a>\n",
            "           </div>\n",
            "           <p class=\"star-rating Three\">\n",
            "            <i class=\"icon-star\">\n",
            "            </i>\n",
            "            <i class=\"icon-star\">\n",
            "            </i>\n",
            "            <i class=\"icon-star\">\n",
            "            </i>\n",
            "            <i class=\"icon-star\">\n",
            "            </i>\n",
            "            <i class=\"icon-star\">\n",
            "            </i>\n",
            "           </p>\n",
            "           <h3>\n",
            "            <a href=\"catalogue/a-light-in-the-attic_1000/index.html\" title=\"A Light in the Attic\">\n",
            "             A Light in the ...\n",
            "            </a>\n",
            "           </h3>\n",
            "           <div class=\"product_price\">\n",
            "            <p class=\"price_color\">\n",
            "             £51.77\n",
            "            </p>\n",
            "            <p class=\"instock availability\">\n",
            "             <i class=\"icon-ok\">\n",
            "             </i>\n",
            "             In stock\n",
            "            </p>\n",
            "            <form>\n",
            "             <button class=\"btn btn-primary btn-block\" data-loading-text=\"Adding...\" type=\"submit\">\n",
            "              Add to basket\n",
            "             </button>\n",
            "            </form>\n",
            "           </div>\n",
            "          </article>\n",
            "         </li>\n",
            "         <li class=\"col-xs-6 col-sm-4 col-md-3 col-lg-3\">\n",
            "          <article class=\"product_pod\">\n",
            "           <div class=\"image_container\">\n",
            "            <a href=\"catalogue/tipping-the-velvet_999/index.html\">\n",
            "             <img alt=\"Tipping the Velvet\" class=\"thumbnail\" src=\"media/cache/26/0c/260c6ae16bce31c8f8c95daddd9f4a1c.jpg\"/>\n",
            "            </a>\n",
            "           </div>\n",
            "           <p class=\"star-rating One\">\n",
            "            <i class=\"icon-star\">\n",
            "            </i>\n",
            "            <i class=\"icon-star\">\n",
            "            </i>\n",
            "            <i class=\"icon-star\">\n",
            "            </i>\n",
            "            <i class=\"icon-star\">\n",
            "            </i>\n",
            "            <i class=\"icon-star\">\n",
            "            </i>\n",
            "           </p>\n",
            "           <h3>\n",
            "            <a href=\"catalogue/tipping-the-velvet_999/index.html\" title=\"Tipping the Velvet\">\n",
            "             Tipping the Velvet\n",
            "            </a>\n",
            "           </h3>\n",
            "           <div class=\"product_price\">\n",
            "            <p class=\"price_color\">\n",
            "             £53.74\n",
            "            </p>\n",
            "            <p class=\"instock availability\">\n",
            "             <i class=\"icon-ok\">\n",
            "             </i>\n",
            "             In stock\n",
            "            </p>\n",
            "            <form>\n",
            "             <button class=\"btn btn-primary btn-block\" data-loading-text=\"Adding...\" type=\"submit\">\n",
            "              Add to basket\n",
            "             </button>\n",
            "            </form>\n",
            "           </div>\n",
            "          </article>\n",
            "         </li>\n",
            "         <li class=\"col-xs-6 col-sm-4 col-md-3 col-lg-3\">\n",
            "          <article class=\"product_pod\">\n",
            "           <div class=\"image_container\">\n",
            "            <a href=\"catalogue/soumission_998/index.html\">\n",
            "             <img alt=\"Soumission\" class=\"thumbnail\" src=\"media/cache/3e/ef/3eef99c9d9adef34639f510662022830.jpg\"/>\n",
            "            </a>\n",
            "           </div>\n",
            "           <p class=\"star-rating One\">\n",
            "            <i class=\"icon-star\">\n",
            "            </i>\n",
            "            <i class=\"icon-star\">\n",
            "            </i>\n",
            "            <i class=\"icon-star\">\n",
            "            </i>\n",
            "            <i class=\"icon-star\">\n",
            "            </i>\n",
            "            <i class=\"icon-star\">\n",
            "            </i>\n",
            "           </p>\n",
            "           <h3>\n",
            "            <a href=\"catalogue/soumission_998/index.html\" title=\"Soumission\">\n",
            "             Soumission\n",
            "            </a>\n",
            "           </h3>\n",
            "           <div class=\"product_price\">\n",
            "            <p class=\"price_color\">\n",
            "             £50.10\n",
            "            </p>\n",
            "            <p class=\"instock availability\">\n",
            "             <i class=\"icon-ok\">\n",
            "             </i>\n",
            "             In stock\n",
            "            </p>\n",
            "            <form>\n",
            "             <button class=\"btn btn-primary btn-block\" data-loading-text=\"Adding...\" type=\"submit\">\n",
            "              Add to basket\n",
            "             </button>\n",
            "            </form>\n",
            "           </div>\n",
            "          </article>\n",
            "         </li>\n",
            "         <li class=\"col-xs-6 col-sm-4 col-md-3 col-lg-3\">\n",
            "          <article class=\"product_pod\">\n",
            "           <div class=\"image_container\">\n",
            "            <a href=\"catalogue/sharp-objects_997/index.html\">\n",
            "             <img alt=\"Sharp Objects\" class=\"thumbnail\" src=\"media/cache/32/51/3251cf3a3412f53f339e42cac2134093.jpg\"/>\n",
            "            </a>\n",
            "           </div>\n",
            "           <p class=\"star-rating Four\">\n",
            "            <i class=\"icon-star\">\n",
            "            </i>\n",
            "            <i class=\"icon-star\">\n",
            "            </i>\n",
            "            <i class=\"icon-star\">\n",
            "            </i>\n",
            "            <i class=\"icon-star\">\n",
            "            </i>\n",
            "            <i class=\"icon-star\">\n",
            "            </i>\n",
            "           </p>\n",
            "           <h3>\n",
            "            <a href=\"catalogue/sharp-objects_997/index.html\" title=\"Sharp Objects\">\n",
            "             Sharp Objects\n",
            "            </a>\n",
            "           </h3>\n",
            "           <div class=\"product_price\">\n",
            "            <p class=\"price_color\">\n",
            "             £47.82\n",
            "            </p>\n",
            "            <p class=\"instock availability\">\n",
            "             <i class=\"icon-ok\">\n",
            "             </i>\n",
            "             In stock\n",
            "            </p>\n",
            "            <form>\n",
            "             <button class=\"btn btn-primary btn-block\" data-loading-text=\"Adding...\" type=\"submit\">\n",
            "              Add to basket\n",
            "             </button>\n",
            "            </form>\n",
            "           </div>\n",
            "          </article>\n",
            "         </li>\n",
            "         <li class=\"col-xs-6 col-sm-4 col-md-3 col-lg-3\">\n",
            "          <article class=\"product_pod\">\n",
            "           <div class=\"image_container\">\n",
            "            <a href=\"catalogue/sapiens-a-brief-history-of-humankind_996/index.html\">\n",
            "             <img alt=\"Sapiens: A Brief History of Humankind\" class=\"thumbnail\" src=\"media/cache/be/a5/bea5697f2534a2f86a3ef27b5a8c12a6.jpg\"/>\n",
            "            </a>\n",
            "           </div>\n",
            "           <p class=\"star-rating Five\">\n",
            "            <i class=\"icon-star\">\n",
            "            </i>\n",
            "            <i class=\"icon-star\">\n",
            "            </i>\n",
            "            <i class=\"icon-star\">\n",
            "            </i>\n",
            "            <i class=\"icon-star\">\n",
            "            </i>\n",
            "            <i class=\"icon-star\">\n",
            "            </i>\n",
            "           </p>\n",
            "           <h3>\n",
            "            <a href=\"catalogue/sapiens-a-brief-history-of-humankind_996/index.html\" title=\"Sapiens: A Brief History of Humankind\">\n",
            "             Sapiens: A Brief History ...\n",
            "            </a>\n",
            "           </h3>\n",
            "           <div class=\"product_price\">\n",
            "            <p class=\"price_color\">\n",
            "             £54.23\n",
            "            </p>\n",
            "            <p class=\"instock availability\">\n",
            "             <i class=\"icon-ok\">\n",
            "             </i>\n",
            "             In stock\n",
            "            </p>\n",
            "            <form>\n",
            "             <button class=\"btn btn-primary btn-block\" data-loading-text=\"Adding...\" type=\"submit\">\n",
            "              Add to basket\n",
            "             </button>\n",
            "            </form>\n",
            "           </div>\n",
            "          </article>\n",
            "         </li>\n",
            "         <li class=\"col-xs-6 col-sm-4 col-md-3 col-lg-3\">\n",
            "          <article class=\"product_pod\">\n",
            "           <div class=\"image_container\">\n",
            "            <a href=\"catalogue/the-requiem-red_995/index.html\">\n",
            "             <img alt=\"The Requiem Red\" class=\"thumbnail\" src=\"media/cache/68/33/68339b4c9bc034267e1da611ab3b34f8.jpg\"/>\n",
            "            </a>\n",
            "           </div>\n",
            "           <p class=\"star-rating One\">\n",
            "            <i class=\"icon-star\">\n",
            "            </i>\n",
            "            <i class=\"icon-star\">\n",
            "            </i>\n",
            "            <i class=\"icon-star\">\n",
            "            </i>\n",
            "            <i class=\"icon-star\">\n",
            "            </i>\n",
            "            <i class=\"icon-star\">\n",
            "            </i>\n",
            "           </p>\n",
            "           <h3>\n",
            "            <a href=\"catalogue/the-requiem-red_995/index.html\" title=\"The Requiem Red\">\n",
            "             The Requiem Red\n",
            "            </a>\n",
            "           </h3>\n",
            "           <div class=\"product_price\">\n",
            "            <p class=\"price_color\">\n",
            "             £22.65\n",
            "            </p>\n",
            "            <p class=\"instock availability\">\n",
            "             <i class=\"icon-ok\">\n",
            "             </i>\n",
            "             In stock\n",
            "            </p>\n",
            "            <form>\n",
            "             <button class=\"btn btn-primary btn-block\" data-loading-text=\"Adding...\" type=\"submit\">\n",
            "              Add to basket\n",
            "             </button>\n",
            "            </form>\n",
            "           </div>\n",
            "          </article>\n",
            "         </li>\n",
            "         <li class=\"col-xs-6 col-sm-4 col-md-3 col-lg-3\">\n",
            "          <article class=\"product_pod\">\n",
            "           <div class=\"image_container\">\n",
            "            <a href=\"catalogue/the-dirty-little-secrets-of-getting-your-dream-job_994/index.html\">\n",
            "             <img alt=\"The Dirty Little Secrets of Getting Your Dream Job\" class=\"thumbnail\" src=\"media/cache/92/27/92274a95b7c251fea59a2b8a78275ab4.jpg\"/>\n",
            "            </a>\n",
            "           </div>\n",
            "           <p class=\"star-rating Four\">\n",
            "            <i class=\"icon-star\">\n",
            "            </i>\n",
            "            <i class=\"icon-star\">\n",
            "            </i>\n",
            "            <i class=\"icon-star\">\n",
            "            </i>\n",
            "            <i class=\"icon-star\">\n",
            "            </i>\n",
            "            <i class=\"icon-star\">\n",
            "            </i>\n",
            "           </p>\n",
            "           <h3>\n",
            "            <a href=\"catalogue/the-dirty-little-secrets-of-getting-your-dream-job_994/index.html\" title=\"The Dirty Little Secrets of Getting Your Dream Job\">\n",
            "             The Dirty Little Secrets ...\n",
            "            </a>\n",
            "           </h3>\n",
            "           <div class=\"product_price\">\n",
            "            <p class=\"price_color\">\n",
            "             £33.34\n",
            "            </p>\n",
            "            <p class=\"instock availability\">\n",
            "             <i class=\"icon-ok\">\n",
            "             </i>\n",
            "             In stock\n",
            "            </p>\n",
            "            <form>\n",
            "             <button class=\"btn btn-primary btn-block\" data-loading-text=\"Adding...\" type=\"submit\">\n",
            "              Add to basket\n",
            "             </button>\n",
            "            </form>\n",
            "           </div>\n",
            "          </article>\n",
            "         </li>\n",
            "         <li class=\"col-xs-6 col-sm-4 col-md-3 col-lg-3\">\n",
            "          <article class=\"product_pod\">\n",
            "           <div class=\"image_container\">\n",
            "            <a href=\"catalogue/the-coming-woman-a-novel-based-on-the-life-of-the-infamous-feminist-victoria-woodhull_993/index.html\">\n",
            "             <img alt=\"The Coming Woman: A Novel Based on the Life of the Infamous Feminist, Victoria Woodhull\" class=\"thumbnail\" src=\"media/cache/3d/54/3d54940e57e662c4dd1f3ff00c78cc64.jpg\"/>\n",
            "            </a>\n",
            "           </div>\n",
            "           <p class=\"star-rating Three\">\n",
            "            <i class=\"icon-star\">\n",
            "            </i>\n",
            "            <i class=\"icon-star\">\n",
            "            </i>\n",
            "            <i class=\"icon-star\">\n",
            "            </i>\n",
            "            <i class=\"icon-star\">\n",
            "            </i>\n",
            "            <i class=\"icon-star\">\n",
            "            </i>\n",
            "           </p>\n",
            "           <h3>\n",
            "            <a href=\"catalogue/the-coming-woman-a-novel-based-on-the-life-of-the-infamous-feminist-victoria-woodhull_993/index.html\" title=\"The Coming Woman: A Novel Based on the Life of the Infamous Feminist, Victoria Woodhull\">\n",
            "             The Coming Woman: A ...\n",
            "            </a>\n",
            "           </h3>\n",
            "           <div class=\"product_price\">\n",
            "            <p class=\"price_color\">\n",
            "             £17.93\n",
            "            </p>\n",
            "            <p class=\"instock availability\">\n",
            "             <i class=\"icon-ok\">\n",
            "             </i>\n",
            "             In stock\n",
            "            </p>\n",
            "            <form>\n",
            "             <button class=\"btn btn-primary btn-block\" data-loading-text=\"Adding...\" type=\"submit\">\n",
            "              Add to basket\n",
            "             </button>\n",
            "            </form>\n",
            "           </div>\n",
            "          </article>\n",
            "         </li>\n",
            "         <li class=\"col-xs-6 col-sm-4 col-md-3 col-lg-3\">\n",
            "          <article class=\"product_pod\">\n",
            "           <div class=\"image_container\">\n",
            "            <a href=\"catalogue/the-boys-in-the-boat-nine-americans-and-their-epic-quest-for-gold-at-the-1936-berlin-olympics_992/index.html\">\n",
            "             <img alt=\"The Boys in the Boat: Nine Americans and Their Epic Quest for Gold at the 1936 Berlin Olympics\" class=\"thumbnail\" src=\"media/cache/66/88/66883b91f6804b2323c8369331cb7dd1.jpg\"/>\n",
            "            </a>\n",
            "           </div>\n",
            "           <p class=\"star-rating Four\">\n",
            "            <i class=\"icon-star\">\n",
            "            </i>\n",
            "            <i class=\"icon-star\">\n",
            "            </i>\n",
            "            <i class=\"icon-star\">\n",
            "            </i>\n",
            "            <i class=\"icon-star\">\n",
            "            </i>\n",
            "            <i class=\"icon-star\">\n",
            "            </i>\n",
            "           </p>\n",
            "           <h3>\n",
            "            <a href=\"catalogue/the-boys-in-the-boat-nine-americans-and-their-epic-quest-for-gold-at-the-1936-berlin-olympics_992/index.html\" title=\"The Boys in the Boat: Nine Americans and Their Epic Quest for Gold at the 1936 Berlin Olympics\">\n",
            "             The Boys in the ...\n",
            "            </a>\n",
            "           </h3>\n",
            "           <div class=\"product_price\">\n",
            "            <p class=\"price_color\">\n",
            "             £22.60\n",
            "            </p>\n",
            "            <p class=\"instock availability\">\n",
            "             <i class=\"icon-ok\">\n",
            "             </i>\n",
            "             In stock\n",
            "            </p>\n",
            "            <form>\n",
            "             <button class=\"btn btn-primary btn-block\" data-loading-text=\"Adding...\" type=\"submit\">\n",
            "              Add to basket\n",
            "             </button>\n",
            "            </form>\n",
            "           </div>\n",
            "          </article>\n",
            "         </li>\n",
            "         <li class=\"col-xs-6 col-sm-4 col-md-3 col-lg-3\">\n",
            "          <article class=\"product_pod\">\n",
            "           <div class=\"image_container\">\n",
            "            <a href=\"catalogue/the-black-maria_991/index.html\">\n",
            "             <img alt=\"The Black Maria\" class=\"thumbnail\" src=\"media/cache/58/46/5846057e28022268153beff6d352b06c.jpg\"/>\n",
            "            </a>\n",
            "           </div>\n",
            "           <p class=\"star-rating One\">\n",
            "            <i class=\"icon-star\">\n",
            "            </i>\n",
            "            <i class=\"icon-star\">\n",
            "            </i>\n",
            "            <i class=\"icon-star\">\n",
            "            </i>\n",
            "            <i class=\"icon-star\">\n",
            "            </i>\n",
            "            <i class=\"icon-star\">\n",
            "            </i>\n",
            "           </p>\n",
            "           <h3>\n",
            "            <a href=\"catalogue/the-black-maria_991/index.html\" title=\"The Black Maria\">\n",
            "             The Black Maria\n",
            "            </a>\n",
            "           </h3>\n",
            "           <div class=\"product_price\">\n",
            "            <p class=\"price_color\">\n",
            "             £52.15\n",
            "            </p>\n",
            "            <p class=\"instock availability\">\n",
            "             <i class=\"icon-ok\">\n",
            "             </i>\n",
            "             In stock\n",
            "            </p>\n",
            "            <form>\n",
            "             <button class=\"btn btn-primary btn-block\" data-loading-text=\"Adding...\" type=\"submit\">\n",
            "              Add to basket\n",
            "             </button>\n",
            "            </form>\n",
            "           </div>\n",
            "          </article>\n",
            "         </li>\n",
            "         <li class=\"col-xs-6 col-sm-4 col-md-3 col-lg-3\">\n",
            "          <article class=\"product_pod\">\n",
            "           <div class=\"image_container\">\n",
            "            <a href=\"catalogue/starving-hearts-triangular-trade-trilogy-1_990/index.html\">\n",
            "             <img alt=\"Starving Hearts (Triangular Trade Trilogy, #1)\" class=\"thumbnail\" src=\"media/cache/be/f4/bef44da28c98f905a3ebec0b87be8530.jpg\"/>\n",
            "            </a>\n",
            "           </div>\n",
            "           <p class=\"star-rating Two\">\n",
            "            <i class=\"icon-star\">\n",
            "            </i>\n",
            "            <i class=\"icon-star\">\n",
            "            </i>\n",
            "            <i class=\"icon-star\">\n",
            "            </i>\n",
            "            <i class=\"icon-star\">\n",
            "            </i>\n",
            "            <i class=\"icon-star\">\n",
            "            </i>\n",
            "           </p>\n",
            "           <h3>\n",
            "            <a href=\"catalogue/starving-hearts-triangular-trade-trilogy-1_990/index.html\" title=\"Starving Hearts (Triangular Trade Trilogy, #1)\">\n",
            "             Starving Hearts (Triangular Trade ...\n",
            "            </a>\n",
            "           </h3>\n",
            "           <div class=\"product_price\">\n",
            "            <p class=\"price_color\">\n",
            "             £13.99\n",
            "            </p>\n",
            "            <p class=\"instock availability\">\n",
            "             <i class=\"icon-ok\">\n",
            "             </i>\n",
            "             In stock\n",
            "            </p>\n",
            "            <form>\n",
            "             <button class=\"btn btn-primary btn-block\" data-loading-text=\"Adding...\" type=\"submit\">\n",
            "              Add to basket\n",
            "             </button>\n",
            "            </form>\n",
            "           </div>\n",
            "          </article>\n",
            "         </li>\n",
            "         <li class=\"col-xs-6 col-sm-4 col-md-3 col-lg-3\">\n",
            "          <article class=\"product_pod\">\n",
            "           <div class=\"image_container\">\n",
            "            <a href=\"catalogue/shakespeares-sonnets_989/index.html\">\n",
            "             <img alt=\"Shakespeare's Sonnets\" class=\"thumbnail\" src=\"media/cache/10/48/1048f63d3b5061cd2f424d20b3f9b666.jpg\"/>\n",
            "            </a>\n",
            "           </div>\n",
            "           <p class=\"star-rating Four\">\n",
            "            <i class=\"icon-star\">\n",
            "            </i>\n",
            "            <i class=\"icon-star\">\n",
            "            </i>\n",
            "            <i class=\"icon-star\">\n",
            "            </i>\n",
            "            <i class=\"icon-star\">\n",
            "            </i>\n",
            "            <i class=\"icon-star\">\n",
            "            </i>\n",
            "           </p>\n",
            "           <h3>\n",
            "            <a href=\"catalogue/shakespeares-sonnets_989/index.html\" title=\"Shakespeare's Sonnets\">\n",
            "             Shakespeare's Sonnets\n",
            "            </a>\n",
            "           </h3>\n",
            "           <div class=\"product_price\">\n",
            "            <p class=\"price_color\">\n",
            "             £20.66\n",
            "            </p>\n",
            "            <p class=\"instock availability\">\n",
            "             <i class=\"icon-ok\">\n",
            "             </i>\n",
            "             In stock\n",
            "            </p>\n",
            "            <form>\n",
            "             <button class=\"btn btn-primary btn-block\" data-loading-text=\"Adding...\" type=\"submit\">\n",
            "              Add to basket\n",
            "             </button>\n",
            "            </form>\n",
            "           </div>\n",
            "          </article>\n",
            "         </li>\n",
            "         <li class=\"col-xs-6 col-sm-4 col-md-3 col-lg-3\">\n",
            "          <article class=\"product_pod\">\n",
            "           <div class=\"image_container\">\n",
            "            <a href=\"catalogue/set-me-free_988/index.html\">\n",
            "             <img alt=\"Set Me Free\" class=\"thumbnail\" src=\"media/cache/5b/88/5b88c52633f53cacf162c15f4f823153.jpg\"/>\n",
            "            </a>\n",
            "           </div>\n",
            "           <p class=\"star-rating Five\">\n",
            "            <i class=\"icon-star\">\n",
            "            </i>\n",
            "            <i class=\"icon-star\">\n",
            "            </i>\n",
            "            <i class=\"icon-star\">\n",
            "            </i>\n",
            "            <i class=\"icon-star\">\n",
            "            </i>\n",
            "            <i class=\"icon-star\">\n",
            "            </i>\n",
            "           </p>\n",
            "           <h3>\n",
            "            <a href=\"catalogue/set-me-free_988/index.html\" title=\"Set Me Free\">\n",
            "             Set Me Free\n",
            "            </a>\n",
            "           </h3>\n",
            "           <div class=\"product_price\">\n",
            "            <p class=\"price_color\">\n",
            "             £17.46\n",
            "            </p>\n",
            "            <p class=\"instock availability\">\n",
            "             <i class=\"icon-ok\">\n",
            "             </i>\n",
            "             In stock\n",
            "            </p>\n",
            "            <form>\n",
            "             <button class=\"btn btn-primary btn-block\" data-loading-text=\"Adding...\" type=\"submit\">\n",
            "              Add to basket\n",
            "             </button>\n",
            "            </form>\n",
            "           </div>\n",
            "          </article>\n",
            "         </li>\n",
            "         <li class=\"col-xs-6 col-sm-4 col-md-3 col-lg-3\">\n",
            "          <article class=\"product_pod\">\n",
            "           <div class=\"image_container\">\n",
            "            <a href=\"catalogue/scott-pilgrims-precious-little-life-scott-pilgrim-1_987/index.html\">\n",
            "             <img alt=\"Scott Pilgrim's Precious Little Life (Scott Pilgrim #1)\" class=\"thumbnail\" src=\"media/cache/94/b1/94b1b8b244bce9677c2f29ccc890d4d2.jpg\"/>\n",
            "            </a>\n",
            "           </div>\n",
            "           <p class=\"star-rating Five\">\n",
            "            <i class=\"icon-star\">\n",
            "            </i>\n",
            "            <i class=\"icon-star\">\n",
            "            </i>\n",
            "            <i class=\"icon-star\">\n",
            "            </i>\n",
            "            <i class=\"icon-star\">\n",
            "            </i>\n",
            "            <i class=\"icon-star\">\n",
            "            </i>\n",
            "           </p>\n",
            "           <h3>\n",
            "            <a href=\"catalogue/scott-pilgrims-precious-little-life-scott-pilgrim-1_987/index.html\" title=\"Scott Pilgrim's Precious Little Life (Scott Pilgrim #1)\">\n",
            "             Scott Pilgrim's Precious Little ...\n",
            "            </a>\n",
            "           </h3>\n",
            "           <div class=\"product_price\">\n",
            "            <p class=\"price_color\">\n",
            "             £52.29\n",
            "            </p>\n",
            "            <p class=\"instock availability\">\n",
            "             <i class=\"icon-ok\">\n",
            "             </i>\n",
            "             In stock\n",
            "            </p>\n",
            "            <form>\n",
            "             <button class=\"btn btn-primary btn-block\" data-loading-text=\"Adding...\" type=\"submit\">\n",
            "              Add to basket\n",
            "             </button>\n",
            "            </form>\n",
            "           </div>\n",
            "          </article>\n",
            "         </li>\n",
            "         <li class=\"col-xs-6 col-sm-4 col-md-3 col-lg-3\">\n",
            "          <article class=\"product_pod\">\n",
            "           <div class=\"image_container\">\n",
            "            <a href=\"catalogue/rip-it-up-and-start-again_986/index.html\">\n",
            "             <img alt=\"Rip it Up and Start Again\" class=\"thumbnail\" src=\"media/cache/81/c4/81c4a973364e17d01f217e1188253d5e.jpg\"/>\n",
            "            </a>\n",
            "           </div>\n",
            "           <p class=\"star-rating Five\">\n",
            "            <i class=\"icon-star\">\n",
            "            </i>\n",
            "            <i class=\"icon-star\">\n",
            "            </i>\n",
            "            <i class=\"icon-star\">\n",
            "            </i>\n",
            "            <i class=\"icon-star\">\n",
            "            </i>\n",
            "            <i class=\"icon-star\">\n",
            "            </i>\n",
            "           </p>\n",
            "           <h3>\n",
            "            <a href=\"catalogue/rip-it-up-and-start-again_986/index.html\" title=\"Rip it Up and Start Again\">\n",
            "             Rip it Up and ...\n",
            "            </a>\n",
            "           </h3>\n",
            "           <div class=\"product_price\">\n",
            "            <p class=\"price_color\">\n",
            "             £35.02\n",
            "            </p>\n",
            "            <p class=\"instock availability\">\n",
            "             <i class=\"icon-ok\">\n",
            "             </i>\n",
            "             In stock\n",
            "            </p>\n",
            "            <form>\n",
            "             <button class=\"btn btn-primary btn-block\" data-loading-text=\"Adding...\" type=\"submit\">\n",
            "              Add to basket\n",
            "             </button>\n",
            "            </form>\n",
            "           </div>\n",
            "          </article>\n",
            "         </li>\n",
            "         <li class=\"col-xs-6 col-sm-4 col-md-3 col-lg-3\">\n",
            "          <article class=\"product_pod\">\n",
            "           <div class=\"image_container\">\n",
            "            <a href=\"catalogue/our-band-could-be-your-life-scenes-from-the-american-indie-underground-1981-1991_985/index.html\">\n",
            "             <img alt=\"Our Band Could Be Your Life: Scenes from the American Indie Underground, 1981-1991\" class=\"thumbnail\" src=\"media/cache/54/60/54607fe8945897cdcced0044103b10b6.jpg\"/>\n",
            "            </a>\n",
            "           </div>\n",
            "           <p class=\"star-rating Three\">\n",
            "            <i class=\"icon-star\">\n",
            "            </i>\n",
            "            <i class=\"icon-star\">\n",
            "            </i>\n",
            "            <i class=\"icon-star\">\n",
            "            </i>\n",
            "            <i class=\"icon-star\">\n",
            "            </i>\n",
            "            <i class=\"icon-star\">\n",
            "            </i>\n",
            "           </p>\n",
            "           <h3>\n",
            "            <a href=\"catalogue/our-band-could-be-your-life-scenes-from-the-american-indie-underground-1981-1991_985/index.html\" title=\"Our Band Could Be Your Life: Scenes from the American Indie Underground, 1981-1991\">\n",
            "             Our Band Could Be ...\n",
            "            </a>\n",
            "           </h3>\n",
            "           <div class=\"product_price\">\n",
            "            <p class=\"price_color\">\n",
            "             £57.25\n",
            "            </p>\n",
            "            <p class=\"instock availability\">\n",
            "             <i class=\"icon-ok\">\n",
            "             </i>\n",
            "             In stock\n",
            "            </p>\n",
            "            <form>\n",
            "             <button class=\"btn btn-primary btn-block\" data-loading-text=\"Adding...\" type=\"submit\">\n",
            "              Add to basket\n",
            "             </button>\n",
            "            </form>\n",
            "           </div>\n",
            "          </article>\n",
            "         </li>\n",
            "         <li class=\"col-xs-6 col-sm-4 col-md-3 col-lg-3\">\n",
            "          <article class=\"product_pod\">\n",
            "           <div class=\"image_container\">\n",
            "            <a href=\"catalogue/olio_984/index.html\">\n",
            "             <img alt=\"Olio\" class=\"thumbnail\" src=\"media/cache/55/33/553310a7162dfbc2c6d19a84da0df9e1.jpg\"/>\n",
            "            </a>\n",
            "           </div>\n",
            "           <p class=\"star-rating One\">\n",
            "            <i class=\"icon-star\">\n",
            "            </i>\n",
            "            <i class=\"icon-star\">\n",
            "            </i>\n",
            "            <i class=\"icon-star\">\n",
            "            </i>\n",
            "            <i class=\"icon-star\">\n",
            "            </i>\n",
            "            <i class=\"icon-star\">\n",
            "            </i>\n",
            "           </p>\n",
            "           <h3>\n",
            "            <a href=\"catalogue/olio_984/index.html\" title=\"Olio\">\n",
            "             Olio\n",
            "            </a>\n",
            "           </h3>\n",
            "           <div class=\"product_price\">\n",
            "            <p class=\"price_color\">\n",
            "             £23.88\n",
            "            </p>\n",
            "            <p class=\"instock availability\">\n",
            "             <i class=\"icon-ok\">\n",
            "             </i>\n",
            "             In stock\n",
            "            </p>\n",
            "            <form>\n",
            "             <button class=\"btn btn-primary btn-block\" data-loading-text=\"Adding...\" type=\"submit\">\n",
            "              Add to basket\n",
            "             </button>\n",
            "            </form>\n",
            "           </div>\n",
            "          </article>\n",
            "         </li>\n",
            "         <li class=\"col-xs-6 col-sm-4 col-md-3 col-lg-3\">\n",
            "          <article class=\"product_pod\">\n",
            "           <div class=\"image_container\">\n",
            "            <a href=\"catalogue/mesaerion-the-best-science-fiction-stories-1800-1849_983/index.html\">\n",
            "             <img alt=\"Mesaerion: The Best Science Fiction Stories 1800-1849\" class=\"thumbnail\" src=\"media/cache/09/a3/09a3aef48557576e1a85ba7efea8ecb7.jpg\"/>\n",
            "            </a>\n",
            "           </div>\n",
            "           <p class=\"star-rating One\">\n",
            "            <i class=\"icon-star\">\n",
            "            </i>\n",
            "            <i class=\"icon-star\">\n",
            "            </i>\n",
            "            <i class=\"icon-star\">\n",
            "            </i>\n",
            "            <i class=\"icon-star\">\n",
            "            </i>\n",
            "            <i class=\"icon-star\">\n",
            "            </i>\n",
            "           </p>\n",
            "           <h3>\n",
            "            <a href=\"catalogue/mesaerion-the-best-science-fiction-stories-1800-1849_983/index.html\" title=\"Mesaerion: The Best Science Fiction Stories 1800-1849\">\n",
            "             Mesaerion: The Best Science ...\n",
            "            </a>\n",
            "           </h3>\n",
            "           <div class=\"product_price\">\n",
            "            <p class=\"price_color\">\n",
            "             £37.59\n",
            "            </p>\n",
            "            <p class=\"instock availability\">\n",
            "             <i class=\"icon-ok\">\n",
            "             </i>\n",
            "             In stock\n",
            "            </p>\n",
            "            <form>\n",
            "             <button class=\"btn btn-primary btn-block\" data-loading-text=\"Adding...\" type=\"submit\">\n",
            "              Add to basket\n",
            "             </button>\n",
            "            </form>\n",
            "           </div>\n",
            "          </article>\n",
            "         </li>\n",
            "         <li class=\"col-xs-6 col-sm-4 col-md-3 col-lg-3\">\n",
            "          <article class=\"product_pod\">\n",
            "           <div class=\"image_container\">\n",
            "            <a href=\"catalogue/libertarianism-for-beginners_982/index.html\">\n",
            "             <img alt=\"Libertarianism for Beginners\" class=\"thumbnail\" src=\"media/cache/0b/bc/0bbcd0a6f4bcd81ccb1049a52736406e.jpg\"/>\n",
            "            </a>\n",
            "           </div>\n",
            "           <p class=\"star-rating Two\">\n",
            "            <i class=\"icon-star\">\n",
            "            </i>\n",
            "            <i class=\"icon-star\">\n",
            "            </i>\n",
            "            <i class=\"icon-star\">\n",
            "            </i>\n",
            "            <i class=\"icon-star\">\n",
            "            </i>\n",
            "            <i class=\"icon-star\">\n",
            "            </i>\n",
            "           </p>\n",
            "           <h3>\n",
            "            <a href=\"catalogue/libertarianism-for-beginners_982/index.html\" title=\"Libertarianism for Beginners\">\n",
            "             Libertarianism for Beginners\n",
            "            </a>\n",
            "           </h3>\n",
            "           <div class=\"product_price\">\n",
            "            <p class=\"price_color\">\n",
            "             £51.33\n",
            "            </p>\n",
            "            <p class=\"instock availability\">\n",
            "             <i class=\"icon-ok\">\n",
            "             </i>\n",
            "             In stock\n",
            "            </p>\n",
            "            <form>\n",
            "             <button class=\"btn btn-primary btn-block\" data-loading-text=\"Adding...\" type=\"submit\">\n",
            "              Add to basket\n",
            "             </button>\n",
            "            </form>\n",
            "           </div>\n",
            "          </article>\n",
            "         </li>\n",
            "         <li class=\"col-xs-6 col-sm-4 col-md-3 col-lg-3\">\n",
            "          <article class=\"product_pod\">\n",
            "           <div class=\"image_container\">\n",
            "            <a href=\"catalogue/its-only-the-himalayas_981/index.html\">\n",
            "             <img alt=\"It's Only the Himalayas\" class=\"thumbnail\" src=\"media/cache/27/a5/27a53d0bb95bdd88288eaf66c9230d7e.jpg\"/>\n",
            "            </a>\n",
            "           </div>\n",
            "           <p class=\"star-rating Two\">\n",
            "            <i class=\"icon-star\">\n",
            "            </i>\n",
            "            <i class=\"icon-star\">\n",
            "            </i>\n",
            "            <i class=\"icon-star\">\n",
            "            </i>\n",
            "            <i class=\"icon-star\">\n",
            "            </i>\n",
            "            <i class=\"icon-star\">\n",
            "            </i>\n",
            "           </p>\n",
            "           <h3>\n",
            "            <a href=\"catalogue/its-only-the-himalayas_981/index.html\" title=\"It's Only the Himalayas\">\n",
            "             It's Only the Himalayas\n",
            "            </a>\n",
            "           </h3>\n",
            "           <div class=\"product_price\">\n",
            "            <p class=\"price_color\">\n",
            "             £45.17\n",
            "            </p>\n",
            "            <p class=\"instock availability\">\n",
            "             <i class=\"icon-ok\">\n",
            "             </i>\n",
            "             In stock\n",
            "            </p>\n",
            "            <form>\n",
            "             <button class=\"btn btn-primary btn-block\" data-loading-text=\"Adding...\" type=\"submit\">\n",
            "              Add to basket\n",
            "             </button>\n",
            "            </form>\n",
            "           </div>\n",
            "          </article>\n",
            "         </li>\n",
            "        </ol>\n",
            "        <div>\n",
            "         <ul class=\"pager\">\n",
            "          <li class=\"current\">\n",
            "           Page 1 of 50\n",
            "          </li>\n",
            "          <li class=\"next\">\n",
            "           <a href=\"catalogue/page-2.html\">\n",
            "            next\n",
            "           </a>\n",
            "          </li>\n",
            "         </ul>\n",
            "        </div>\n",
            "       </div>\n",
            "      </section>\n",
            "     </div>\n",
            "    </div>\n",
            "    <!-- /row -->\n",
            "   </div>\n",
            "   <!-- /page_inner -->\n",
            "  </div>\n",
            "  <!-- /container-fluid -->\n",
            "  <footer class=\"footer container-fluid\">\n",
            "  </footer>\n",
            "  <!-- jQuery -->\n",
            "  <script src=\"http://ajax.googleapis.com/ajax/libs/jquery/1.9.1/jquery.min.js\">\n",
            "  </script>\n",
            "  <script>\n",
            "   window.jQuery || document.write('<script src=\"static/oscar/js/jquery/jquery-1.9.1.min.js\"><\\/script>')\n",
            "  </script>\n",
            "  <!-- Twitter Bootstrap -->\n",
            "  <script src=\"static/oscar/js/bootstrap3/bootstrap.min.js\" type=\"text/javascript\">\n",
            "  </script>\n",
            "  <!-- Oscar -->\n",
            "  <script charset=\"utf-8\" src=\"static/oscar/js/oscar/ui.js\" type=\"text/javascript\">\n",
            "  </script>\n",
            "  <script charset=\"utf-8\" src=\"static/oscar/js/bootstrap-datetimepicker/bootstrap-datetimepicker.js\" type=\"text/javascript\">\n",
            "  </script>\n",
            "  <script charset=\"utf-8\" src=\"static/oscar/js/bootstrap-datetimepicker/locales/bootstrap-datetimepicker.all.js\" type=\"text/javascript\">\n",
            "  </script>\n",
            "  <script type=\"text/javascript\">\n",
            "   $(function() {\n",
            "                \n",
            "    \n",
            "    \n",
            "    oscar.init();\n",
            "\n",
            "    oscar.search.init();\n",
            "\n",
            "            });\n",
            "  </script>\n",
            "  <!-- Version: N/A -->\n",
            " </body>\n",
            "</html>\n",
            "\n"
          ]
        }
      ]
    },
    {
      "cell_type": "code",
      "source": [
        "soup.html"
      ],
      "metadata": {
        "colab": {
          "base_uri": "https://localhost:8080/"
        },
        "collapsed": true,
        "id": "slyT47rHus7O",
        "outputId": "216545a3-7030-4e97-f3e5-351565826a3f"
      },
      "execution_count": 99,
      "outputs": [
        {
          "output_type": "execute_result",
          "data": {
            "text/plain": [
              "<html class=\"no-js\" lang=\"en-us\"> <!--<![endif]-->\n",
              "<head>\n",
              "<title>\n",
              "    All products | Books to Scrape - Sandbox\n",
              "</title>\n",
              "<meta content=\"text/html; charset=utf-8\" http-equiv=\"content-type\"/>\n",
              "<meta content=\"24th Jun 2016 09:29\" name=\"created\"/>\n",
              "<meta content=\"\" name=\"description\"/>\n",
              "<meta content=\"width=device-width\" name=\"viewport\"/>\n",
              "<meta content=\"NOARCHIVE,NOCACHE\" name=\"robots\"/>\n",
              "<!-- Le HTML5 shim, for IE6-8 support of HTML elements -->\n",
              "<!--[if lt IE 9]>\n",
              "        <script src=\"//html5shim.googlecode.com/svn/trunk/html5.js\"></script>\n",
              "        <![endif]-->\n",
              "<link href=\"static/oscar/favicon.ico\" rel=\"shortcut icon\"/>\n",
              "<link href=\"static/oscar/css/styles.css\" rel=\"stylesheet\" type=\"text/css\"/>\n",
              "<link href=\"static/oscar/js/bootstrap-datetimepicker/bootstrap-datetimepicker.css\" rel=\"stylesheet\"/>\n",
              "<link href=\"static/oscar/css/datetimepicker.css\" rel=\"stylesheet\" type=\"text/css\"/>\n",
              "</head>\n",
              "<body class=\"default\" id=\"default\">\n",
              "<header class=\"header container-fluid\">\n",
              "<div class=\"page_inner\">\n",
              "<div class=\"row\">\n",
              "<div class=\"col-sm-8 h1\"><a href=\"index.html\">Books to Scrape</a><small> We love being scraped!</small>\n",
              "</div>\n",
              "</div>\n",
              "</div>\n",
              "</header>\n",
              "<div class=\"container-fluid page\">\n",
              "<div class=\"page_inner\">\n",
              "<ul class=\"breadcrumb\">\n",
              "<li>\n",
              "<a href=\"index.html\">Home</a>\n",
              "</li>\n",
              "<li class=\"active\">All products</li>\n",
              "</ul>\n",
              "<div class=\"row\">\n",
              "<aside class=\"sidebar col-sm-4 col-md-3\">\n",
              "<div id=\"promotions_left\">\n",
              "</div>\n",
              "<div class=\"side_categories\">\n",
              "<ul class=\"nav nav-list\">\n",
              "<li>\n",
              "<a href=\"catalogue/category/books_1/index.html\">\n",
              "                            \n",
              "                                Books\n",
              "                            \n",
              "                        </a>\n",
              "<ul>\n",
              "<li>\n",
              "<a href=\"catalogue/category/books/travel_2/index.html\">\n",
              "                            \n",
              "                                Travel\n",
              "                            \n",
              "                        </a>\n",
              "</li>\n",
              "<li>\n",
              "<a href=\"catalogue/category/books/mystery_3/index.html\">\n",
              "                            \n",
              "                                Mystery\n",
              "                            \n",
              "                        </a>\n",
              "</li>\n",
              "<li>\n",
              "<a href=\"catalogue/category/books/historical-fiction_4/index.html\">\n",
              "                            \n",
              "                                Historical Fiction\n",
              "                            \n",
              "                        </a>\n",
              "</li>\n",
              "<li>\n",
              "<a href=\"catalogue/category/books/sequential-art_5/index.html\">\n",
              "                            \n",
              "                                Sequential Art\n",
              "                            \n",
              "                        </a>\n",
              "</li>\n",
              "<li>\n",
              "<a href=\"catalogue/category/books/classics_6/index.html\">\n",
              "                            \n",
              "                                Classics\n",
              "                            \n",
              "                        </a>\n",
              "</li>\n",
              "<li>\n",
              "<a href=\"catalogue/category/books/philosophy_7/index.html\">\n",
              "                            \n",
              "                                Philosophy\n",
              "                            \n",
              "                        </a>\n",
              "</li>\n",
              "<li>\n",
              "<a href=\"catalogue/category/books/romance_8/index.html\">\n",
              "                            \n",
              "                                Romance\n",
              "                            \n",
              "                        </a>\n",
              "</li>\n",
              "<li>\n",
              "<a href=\"catalogue/category/books/womens-fiction_9/index.html\">\n",
              "                            \n",
              "                                Womens Fiction\n",
              "                            \n",
              "                        </a>\n",
              "</li>\n",
              "<li>\n",
              "<a href=\"catalogue/category/books/fiction_10/index.html\">\n",
              "                            \n",
              "                                Fiction\n",
              "                            \n",
              "                        </a>\n",
              "</li>\n",
              "<li>\n",
              "<a href=\"catalogue/category/books/childrens_11/index.html\">\n",
              "                            \n",
              "                                Childrens\n",
              "                            \n",
              "                        </a>\n",
              "</li>\n",
              "<li>\n",
              "<a href=\"catalogue/category/books/religion_12/index.html\">\n",
              "                            \n",
              "                                Religion\n",
              "                            \n",
              "                        </a>\n",
              "</li>\n",
              "<li>\n",
              "<a href=\"catalogue/category/books/nonfiction_13/index.html\">\n",
              "                            \n",
              "                                Nonfiction\n",
              "                            \n",
              "                        </a>\n",
              "</li>\n",
              "<li>\n",
              "<a href=\"catalogue/category/books/music_14/index.html\">\n",
              "                            \n",
              "                                Music\n",
              "                            \n",
              "                        </a>\n",
              "</li>\n",
              "<li>\n",
              "<a href=\"catalogue/category/books/default_15/index.html\">\n",
              "                            \n",
              "                                Default\n",
              "                            \n",
              "                        </a>\n",
              "</li>\n",
              "<li>\n",
              "<a href=\"catalogue/category/books/science-fiction_16/index.html\">\n",
              "                            \n",
              "                                Science Fiction\n",
              "                            \n",
              "                        </a>\n",
              "</li>\n",
              "<li>\n",
              "<a href=\"catalogue/category/books/sports-and-games_17/index.html\">\n",
              "                            \n",
              "                                Sports and Games\n",
              "                            \n",
              "                        </a>\n",
              "</li>\n",
              "<li>\n",
              "<a href=\"catalogue/category/books/add-a-comment_18/index.html\">\n",
              "                            \n",
              "                                Add a comment\n",
              "                            \n",
              "                        </a>\n",
              "</li>\n",
              "<li>\n",
              "<a href=\"catalogue/category/books/fantasy_19/index.html\">\n",
              "                            \n",
              "                                Fantasy\n",
              "                            \n",
              "                        </a>\n",
              "</li>\n",
              "<li>\n",
              "<a href=\"catalogue/category/books/new-adult_20/index.html\">\n",
              "                            \n",
              "                                New Adult\n",
              "                            \n",
              "                        </a>\n",
              "</li>\n",
              "<li>\n",
              "<a href=\"catalogue/category/books/young-adult_21/index.html\">\n",
              "                            \n",
              "                                Young Adult\n",
              "                            \n",
              "                        </a>\n",
              "</li>\n",
              "<li>\n",
              "<a href=\"catalogue/category/books/science_22/index.html\">\n",
              "                            \n",
              "                                Science\n",
              "                            \n",
              "                        </a>\n",
              "</li>\n",
              "<li>\n",
              "<a href=\"catalogue/category/books/poetry_23/index.html\">\n",
              "                            \n",
              "                                Poetry\n",
              "                            \n",
              "                        </a>\n",
              "</li>\n",
              "<li>\n",
              "<a href=\"catalogue/category/books/paranormal_24/index.html\">\n",
              "                            \n",
              "                                Paranormal\n",
              "                            \n",
              "                        </a>\n",
              "</li>\n",
              "<li>\n",
              "<a href=\"catalogue/category/books/art_25/index.html\">\n",
              "                            \n",
              "                                Art\n",
              "                            \n",
              "                        </a>\n",
              "</li>\n",
              "<li>\n",
              "<a href=\"catalogue/category/books/psychology_26/index.html\">\n",
              "                            \n",
              "                                Psychology\n",
              "                            \n",
              "                        </a>\n",
              "</li>\n",
              "<li>\n",
              "<a href=\"catalogue/category/books/autobiography_27/index.html\">\n",
              "                            \n",
              "                                Autobiography\n",
              "                            \n",
              "                        </a>\n",
              "</li>\n",
              "<li>\n",
              "<a href=\"catalogue/category/books/parenting_28/index.html\">\n",
              "                            \n",
              "                                Parenting\n",
              "                            \n",
              "                        </a>\n",
              "</li>\n",
              "<li>\n",
              "<a href=\"catalogue/category/books/adult-fiction_29/index.html\">\n",
              "                            \n",
              "                                Adult Fiction\n",
              "                            \n",
              "                        </a>\n",
              "</li>\n",
              "<li>\n",
              "<a href=\"catalogue/category/books/humor_30/index.html\">\n",
              "                            \n",
              "                                Humor\n",
              "                            \n",
              "                        </a>\n",
              "</li>\n",
              "<li>\n",
              "<a href=\"catalogue/category/books/horror_31/index.html\">\n",
              "                            \n",
              "                                Horror\n",
              "                            \n",
              "                        </a>\n",
              "</li>\n",
              "<li>\n",
              "<a href=\"catalogue/category/books/history_32/index.html\">\n",
              "                            \n",
              "                                History\n",
              "                            \n",
              "                        </a>\n",
              "</li>\n",
              "<li>\n",
              "<a href=\"catalogue/category/books/food-and-drink_33/index.html\">\n",
              "                            \n",
              "                                Food and Drink\n",
              "                            \n",
              "                        </a>\n",
              "</li>\n",
              "<li>\n",
              "<a href=\"catalogue/category/books/christian-fiction_34/index.html\">\n",
              "                            \n",
              "                                Christian Fiction\n",
              "                            \n",
              "                        </a>\n",
              "</li>\n",
              "<li>\n",
              "<a href=\"catalogue/category/books/business_35/index.html\">\n",
              "                            \n",
              "                                Business\n",
              "                            \n",
              "                        </a>\n",
              "</li>\n",
              "<li>\n",
              "<a href=\"catalogue/category/books/biography_36/index.html\">\n",
              "                            \n",
              "                                Biography\n",
              "                            \n",
              "                        </a>\n",
              "</li>\n",
              "<li>\n",
              "<a href=\"catalogue/category/books/thriller_37/index.html\">\n",
              "                            \n",
              "                                Thriller\n",
              "                            \n",
              "                        </a>\n",
              "</li>\n",
              "<li>\n",
              "<a href=\"catalogue/category/books/contemporary_38/index.html\">\n",
              "                            \n",
              "                                Contemporary\n",
              "                            \n",
              "                        </a>\n",
              "</li>\n",
              "<li>\n",
              "<a href=\"catalogue/category/books/spirituality_39/index.html\">\n",
              "                            \n",
              "                                Spirituality\n",
              "                            \n",
              "                        </a>\n",
              "</li>\n",
              "<li>\n",
              "<a href=\"catalogue/category/books/academic_40/index.html\">\n",
              "                            \n",
              "                                Academic\n",
              "                            \n",
              "                        </a>\n",
              "</li>\n",
              "<li>\n",
              "<a href=\"catalogue/category/books/self-help_41/index.html\">\n",
              "                            \n",
              "                                Self Help\n",
              "                            \n",
              "                        </a>\n",
              "</li>\n",
              "<li>\n",
              "<a href=\"catalogue/category/books/historical_42/index.html\">\n",
              "                            \n",
              "                                Historical\n",
              "                            \n",
              "                        </a>\n",
              "</li>\n",
              "<li>\n",
              "<a href=\"catalogue/category/books/christian_43/index.html\">\n",
              "                            \n",
              "                                Christian\n",
              "                            \n",
              "                        </a>\n",
              "</li>\n",
              "<li>\n",
              "<a href=\"catalogue/category/books/suspense_44/index.html\">\n",
              "                            \n",
              "                                Suspense\n",
              "                            \n",
              "                        </a>\n",
              "</li>\n",
              "<li>\n",
              "<a href=\"catalogue/category/books/short-stories_45/index.html\">\n",
              "                            \n",
              "                                Short Stories\n",
              "                            \n",
              "                        </a>\n",
              "</li>\n",
              "<li>\n",
              "<a href=\"catalogue/category/books/novels_46/index.html\">\n",
              "                            \n",
              "                                Novels\n",
              "                            \n",
              "                        </a>\n",
              "</li>\n",
              "<li>\n",
              "<a href=\"catalogue/category/books/health_47/index.html\">\n",
              "                            \n",
              "                                Health\n",
              "                            \n",
              "                        </a>\n",
              "</li>\n",
              "<li>\n",
              "<a href=\"catalogue/category/books/politics_48/index.html\">\n",
              "                            \n",
              "                                Politics\n",
              "                            \n",
              "                        </a>\n",
              "</li>\n",
              "<li>\n",
              "<a href=\"catalogue/category/books/cultural_49/index.html\">\n",
              "                            \n",
              "                                Cultural\n",
              "                            \n",
              "                        </a>\n",
              "</li>\n",
              "<li>\n",
              "<a href=\"catalogue/category/books/erotica_50/index.html\">\n",
              "                            \n",
              "                                Erotica\n",
              "                            \n",
              "                        </a>\n",
              "</li>\n",
              "<li>\n",
              "<a href=\"catalogue/category/books/crime_51/index.html\">\n",
              "                            \n",
              "                                Crime\n",
              "                            \n",
              "                        </a>\n",
              "</li>\n",
              "</ul></li>\n",
              "</ul>\n",
              "</div>\n",
              "</aside>\n",
              "<div class=\"col-sm-8 col-md-9\">\n",
              "<div class=\"page-header action\">\n",
              "<h1>All products</h1>\n",
              "</div>\n",
              "<div id=\"messages\">\n",
              "</div>\n",
              "<div id=\"promotions\">\n",
              "</div>\n",
              "<form class=\"form-horizontal\" method=\"get\">\n",
              "<div style=\"display:none\">\n",
              "</div>\n",
              "<strong>1000</strong> results - showing <strong>1</strong> to <strong>20</strong>.\n",
              "                \n",
              "            \n",
              "            \n",
              "        \n",
              "    </form>\n",
              "<section>\n",
              "<div class=\"alert alert-warning\" role=\"alert\"><strong>Warning!</strong> This is a demo website for web scraping purposes. Prices and ratings here were randomly assigned and have no real meaning.</div>\n",
              "<div>\n",
              "<ol class=\"row\">\n",
              "<li class=\"col-xs-6 col-sm-4 col-md-3 col-lg-3\">\n",
              "<article class=\"product_pod\">\n",
              "<div class=\"image_container\">\n",
              "<a href=\"catalogue/a-light-in-the-attic_1000/index.html\"><img alt=\"A Light in the Attic\" class=\"thumbnail\" src=\"media/cache/2c/da/2cdad67c44b002e7ead0cc35693c0e8b.jpg\"/></a>\n",
              "</div>\n",
              "<p class=\"star-rating Three\">\n",
              "<i class=\"icon-star\"></i>\n",
              "<i class=\"icon-star\"></i>\n",
              "<i class=\"icon-star\"></i>\n",
              "<i class=\"icon-star\"></i>\n",
              "<i class=\"icon-star\"></i>\n",
              "</p>\n",
              "<h3><a href=\"catalogue/a-light-in-the-attic_1000/index.html\" title=\"A Light in the Attic\">A Light in the ...</a></h3>\n",
              "<div class=\"product_price\">\n",
              "<p class=\"price_color\">£51.77</p>\n",
              "<p class=\"instock availability\">\n",
              "<i class=\"icon-ok\"></i>\n",
              "    \n",
              "        In stock\n",
              "    \n",
              "</p>\n",
              "<form>\n",
              "<button class=\"btn btn-primary btn-block\" data-loading-text=\"Adding...\" type=\"submit\">Add to basket</button>\n",
              "</form>\n",
              "</div>\n",
              "</article>\n",
              "</li>\n",
              "<li class=\"col-xs-6 col-sm-4 col-md-3 col-lg-3\">\n",
              "<article class=\"product_pod\">\n",
              "<div class=\"image_container\">\n",
              "<a href=\"catalogue/tipping-the-velvet_999/index.html\"><img alt=\"Tipping the Velvet\" class=\"thumbnail\" src=\"media/cache/26/0c/260c6ae16bce31c8f8c95daddd9f4a1c.jpg\"/></a>\n",
              "</div>\n",
              "<p class=\"star-rating One\">\n",
              "<i class=\"icon-star\"></i>\n",
              "<i class=\"icon-star\"></i>\n",
              "<i class=\"icon-star\"></i>\n",
              "<i class=\"icon-star\"></i>\n",
              "<i class=\"icon-star\"></i>\n",
              "</p>\n",
              "<h3><a href=\"catalogue/tipping-the-velvet_999/index.html\" title=\"Tipping the Velvet\">Tipping the Velvet</a></h3>\n",
              "<div class=\"product_price\">\n",
              "<p class=\"price_color\">£53.74</p>\n",
              "<p class=\"instock availability\">\n",
              "<i class=\"icon-ok\"></i>\n",
              "    \n",
              "        In stock\n",
              "    \n",
              "</p>\n",
              "<form>\n",
              "<button class=\"btn btn-primary btn-block\" data-loading-text=\"Adding...\" type=\"submit\">Add to basket</button>\n",
              "</form>\n",
              "</div>\n",
              "</article>\n",
              "</li>\n",
              "<li class=\"col-xs-6 col-sm-4 col-md-3 col-lg-3\">\n",
              "<article class=\"product_pod\">\n",
              "<div class=\"image_container\">\n",
              "<a href=\"catalogue/soumission_998/index.html\"><img alt=\"Soumission\" class=\"thumbnail\" src=\"media/cache/3e/ef/3eef99c9d9adef34639f510662022830.jpg\"/></a>\n",
              "</div>\n",
              "<p class=\"star-rating One\">\n",
              "<i class=\"icon-star\"></i>\n",
              "<i class=\"icon-star\"></i>\n",
              "<i class=\"icon-star\"></i>\n",
              "<i class=\"icon-star\"></i>\n",
              "<i class=\"icon-star\"></i>\n",
              "</p>\n",
              "<h3><a href=\"catalogue/soumission_998/index.html\" title=\"Soumission\">Soumission</a></h3>\n",
              "<div class=\"product_price\">\n",
              "<p class=\"price_color\">£50.10</p>\n",
              "<p class=\"instock availability\">\n",
              "<i class=\"icon-ok\"></i>\n",
              "    \n",
              "        In stock\n",
              "    \n",
              "</p>\n",
              "<form>\n",
              "<button class=\"btn btn-primary btn-block\" data-loading-text=\"Adding...\" type=\"submit\">Add to basket</button>\n",
              "</form>\n",
              "</div>\n",
              "</article>\n",
              "</li>\n",
              "<li class=\"col-xs-6 col-sm-4 col-md-3 col-lg-3\">\n",
              "<article class=\"product_pod\">\n",
              "<div class=\"image_container\">\n",
              "<a href=\"catalogue/sharp-objects_997/index.html\"><img alt=\"Sharp Objects\" class=\"thumbnail\" src=\"media/cache/32/51/3251cf3a3412f53f339e42cac2134093.jpg\"/></a>\n",
              "</div>\n",
              "<p class=\"star-rating Four\">\n",
              "<i class=\"icon-star\"></i>\n",
              "<i class=\"icon-star\"></i>\n",
              "<i class=\"icon-star\"></i>\n",
              "<i class=\"icon-star\"></i>\n",
              "<i class=\"icon-star\"></i>\n",
              "</p>\n",
              "<h3><a href=\"catalogue/sharp-objects_997/index.html\" title=\"Sharp Objects\">Sharp Objects</a></h3>\n",
              "<div class=\"product_price\">\n",
              "<p class=\"price_color\">£47.82</p>\n",
              "<p class=\"instock availability\">\n",
              "<i class=\"icon-ok\"></i>\n",
              "    \n",
              "        In stock\n",
              "    \n",
              "</p>\n",
              "<form>\n",
              "<button class=\"btn btn-primary btn-block\" data-loading-text=\"Adding...\" type=\"submit\">Add to basket</button>\n",
              "</form>\n",
              "</div>\n",
              "</article>\n",
              "</li>\n",
              "<li class=\"col-xs-6 col-sm-4 col-md-3 col-lg-3\">\n",
              "<article class=\"product_pod\">\n",
              "<div class=\"image_container\">\n",
              "<a href=\"catalogue/sapiens-a-brief-history-of-humankind_996/index.html\"><img alt=\"Sapiens: A Brief History of Humankind\" class=\"thumbnail\" src=\"media/cache/be/a5/bea5697f2534a2f86a3ef27b5a8c12a6.jpg\"/></a>\n",
              "</div>\n",
              "<p class=\"star-rating Five\">\n",
              "<i class=\"icon-star\"></i>\n",
              "<i class=\"icon-star\"></i>\n",
              "<i class=\"icon-star\"></i>\n",
              "<i class=\"icon-star\"></i>\n",
              "<i class=\"icon-star\"></i>\n",
              "</p>\n",
              "<h3><a href=\"catalogue/sapiens-a-brief-history-of-humankind_996/index.html\" title=\"Sapiens: A Brief History of Humankind\">Sapiens: A Brief History ...</a></h3>\n",
              "<div class=\"product_price\">\n",
              "<p class=\"price_color\">£54.23</p>\n",
              "<p class=\"instock availability\">\n",
              "<i class=\"icon-ok\"></i>\n",
              "    \n",
              "        In stock\n",
              "    \n",
              "</p>\n",
              "<form>\n",
              "<button class=\"btn btn-primary btn-block\" data-loading-text=\"Adding...\" type=\"submit\">Add to basket</button>\n",
              "</form>\n",
              "</div>\n",
              "</article>\n",
              "</li>\n",
              "<li class=\"col-xs-6 col-sm-4 col-md-3 col-lg-3\">\n",
              "<article class=\"product_pod\">\n",
              "<div class=\"image_container\">\n",
              "<a href=\"catalogue/the-requiem-red_995/index.html\"><img alt=\"The Requiem Red\" class=\"thumbnail\" src=\"media/cache/68/33/68339b4c9bc034267e1da611ab3b34f8.jpg\"/></a>\n",
              "</div>\n",
              "<p class=\"star-rating One\">\n",
              "<i class=\"icon-star\"></i>\n",
              "<i class=\"icon-star\"></i>\n",
              "<i class=\"icon-star\"></i>\n",
              "<i class=\"icon-star\"></i>\n",
              "<i class=\"icon-star\"></i>\n",
              "</p>\n",
              "<h3><a href=\"catalogue/the-requiem-red_995/index.html\" title=\"The Requiem Red\">The Requiem Red</a></h3>\n",
              "<div class=\"product_price\">\n",
              "<p class=\"price_color\">£22.65</p>\n",
              "<p class=\"instock availability\">\n",
              "<i class=\"icon-ok\"></i>\n",
              "    \n",
              "        In stock\n",
              "    \n",
              "</p>\n",
              "<form>\n",
              "<button class=\"btn btn-primary btn-block\" data-loading-text=\"Adding...\" type=\"submit\">Add to basket</button>\n",
              "</form>\n",
              "</div>\n",
              "</article>\n",
              "</li>\n",
              "<li class=\"col-xs-6 col-sm-4 col-md-3 col-lg-3\">\n",
              "<article class=\"product_pod\">\n",
              "<div class=\"image_container\">\n",
              "<a href=\"catalogue/the-dirty-little-secrets-of-getting-your-dream-job_994/index.html\"><img alt=\"The Dirty Little Secrets of Getting Your Dream Job\" class=\"thumbnail\" src=\"media/cache/92/27/92274a95b7c251fea59a2b8a78275ab4.jpg\"/></a>\n",
              "</div>\n",
              "<p class=\"star-rating Four\">\n",
              "<i class=\"icon-star\"></i>\n",
              "<i class=\"icon-star\"></i>\n",
              "<i class=\"icon-star\"></i>\n",
              "<i class=\"icon-star\"></i>\n",
              "<i class=\"icon-star\"></i>\n",
              "</p>\n",
              "<h3><a href=\"catalogue/the-dirty-little-secrets-of-getting-your-dream-job_994/index.html\" title=\"The Dirty Little Secrets of Getting Your Dream Job\">The Dirty Little Secrets ...</a></h3>\n",
              "<div class=\"product_price\">\n",
              "<p class=\"price_color\">£33.34</p>\n",
              "<p class=\"instock availability\">\n",
              "<i class=\"icon-ok\"></i>\n",
              "    \n",
              "        In stock\n",
              "    \n",
              "</p>\n",
              "<form>\n",
              "<button class=\"btn btn-primary btn-block\" data-loading-text=\"Adding...\" type=\"submit\">Add to basket</button>\n",
              "</form>\n",
              "</div>\n",
              "</article>\n",
              "</li>\n",
              "<li class=\"col-xs-6 col-sm-4 col-md-3 col-lg-3\">\n",
              "<article class=\"product_pod\">\n",
              "<div class=\"image_container\">\n",
              "<a href=\"catalogue/the-coming-woman-a-novel-based-on-the-life-of-the-infamous-feminist-victoria-woodhull_993/index.html\"><img alt=\"The Coming Woman: A Novel Based on the Life of the Infamous Feminist, Victoria Woodhull\" class=\"thumbnail\" src=\"media/cache/3d/54/3d54940e57e662c4dd1f3ff00c78cc64.jpg\"/></a>\n",
              "</div>\n",
              "<p class=\"star-rating Three\">\n",
              "<i class=\"icon-star\"></i>\n",
              "<i class=\"icon-star\"></i>\n",
              "<i class=\"icon-star\"></i>\n",
              "<i class=\"icon-star\"></i>\n",
              "<i class=\"icon-star\"></i>\n",
              "</p>\n",
              "<h3><a href=\"catalogue/the-coming-woman-a-novel-based-on-the-life-of-the-infamous-feminist-victoria-woodhull_993/index.html\" title=\"The Coming Woman: A Novel Based on the Life of the Infamous Feminist, Victoria Woodhull\">The Coming Woman: A ...</a></h3>\n",
              "<div class=\"product_price\">\n",
              "<p class=\"price_color\">£17.93</p>\n",
              "<p class=\"instock availability\">\n",
              "<i class=\"icon-ok\"></i>\n",
              "    \n",
              "        In stock\n",
              "    \n",
              "</p>\n",
              "<form>\n",
              "<button class=\"btn btn-primary btn-block\" data-loading-text=\"Adding...\" type=\"submit\">Add to basket</button>\n",
              "</form>\n",
              "</div>\n",
              "</article>\n",
              "</li>\n",
              "<li class=\"col-xs-6 col-sm-4 col-md-3 col-lg-3\">\n",
              "<article class=\"product_pod\">\n",
              "<div class=\"image_container\">\n",
              "<a href=\"catalogue/the-boys-in-the-boat-nine-americans-and-their-epic-quest-for-gold-at-the-1936-berlin-olympics_992/index.html\"><img alt=\"The Boys in the Boat: Nine Americans and Their Epic Quest for Gold at the 1936 Berlin Olympics\" class=\"thumbnail\" src=\"media/cache/66/88/66883b91f6804b2323c8369331cb7dd1.jpg\"/></a>\n",
              "</div>\n",
              "<p class=\"star-rating Four\">\n",
              "<i class=\"icon-star\"></i>\n",
              "<i class=\"icon-star\"></i>\n",
              "<i class=\"icon-star\"></i>\n",
              "<i class=\"icon-star\"></i>\n",
              "<i class=\"icon-star\"></i>\n",
              "</p>\n",
              "<h3><a href=\"catalogue/the-boys-in-the-boat-nine-americans-and-their-epic-quest-for-gold-at-the-1936-berlin-olympics_992/index.html\" title=\"The Boys in the Boat: Nine Americans and Their Epic Quest for Gold at the 1936 Berlin Olympics\">The Boys in the ...</a></h3>\n",
              "<div class=\"product_price\">\n",
              "<p class=\"price_color\">£22.60</p>\n",
              "<p class=\"instock availability\">\n",
              "<i class=\"icon-ok\"></i>\n",
              "    \n",
              "        In stock\n",
              "    \n",
              "</p>\n",
              "<form>\n",
              "<button class=\"btn btn-primary btn-block\" data-loading-text=\"Adding...\" type=\"submit\">Add to basket</button>\n",
              "</form>\n",
              "</div>\n",
              "</article>\n",
              "</li>\n",
              "<li class=\"col-xs-6 col-sm-4 col-md-3 col-lg-3\">\n",
              "<article class=\"product_pod\">\n",
              "<div class=\"image_container\">\n",
              "<a href=\"catalogue/the-black-maria_991/index.html\"><img alt=\"The Black Maria\" class=\"thumbnail\" src=\"media/cache/58/46/5846057e28022268153beff6d352b06c.jpg\"/></a>\n",
              "</div>\n",
              "<p class=\"star-rating One\">\n",
              "<i class=\"icon-star\"></i>\n",
              "<i class=\"icon-star\"></i>\n",
              "<i class=\"icon-star\"></i>\n",
              "<i class=\"icon-star\"></i>\n",
              "<i class=\"icon-star\"></i>\n",
              "</p>\n",
              "<h3><a href=\"catalogue/the-black-maria_991/index.html\" title=\"The Black Maria\">The Black Maria</a></h3>\n",
              "<div class=\"product_price\">\n",
              "<p class=\"price_color\">£52.15</p>\n",
              "<p class=\"instock availability\">\n",
              "<i class=\"icon-ok\"></i>\n",
              "    \n",
              "        In stock\n",
              "    \n",
              "</p>\n",
              "<form>\n",
              "<button class=\"btn btn-primary btn-block\" data-loading-text=\"Adding...\" type=\"submit\">Add to basket</button>\n",
              "</form>\n",
              "</div>\n",
              "</article>\n",
              "</li>\n",
              "<li class=\"col-xs-6 col-sm-4 col-md-3 col-lg-3\">\n",
              "<article class=\"product_pod\">\n",
              "<div class=\"image_container\">\n",
              "<a href=\"catalogue/starving-hearts-triangular-trade-trilogy-1_990/index.html\"><img alt=\"Starving Hearts (Triangular Trade Trilogy, #1)\" class=\"thumbnail\" src=\"media/cache/be/f4/bef44da28c98f905a3ebec0b87be8530.jpg\"/></a>\n",
              "</div>\n",
              "<p class=\"star-rating Two\">\n",
              "<i class=\"icon-star\"></i>\n",
              "<i class=\"icon-star\"></i>\n",
              "<i class=\"icon-star\"></i>\n",
              "<i class=\"icon-star\"></i>\n",
              "<i class=\"icon-star\"></i>\n",
              "</p>\n",
              "<h3><a href=\"catalogue/starving-hearts-triangular-trade-trilogy-1_990/index.html\" title=\"Starving Hearts (Triangular Trade Trilogy, #1)\">Starving Hearts (Triangular Trade ...</a></h3>\n",
              "<div class=\"product_price\">\n",
              "<p class=\"price_color\">£13.99</p>\n",
              "<p class=\"instock availability\">\n",
              "<i class=\"icon-ok\"></i>\n",
              "    \n",
              "        In stock\n",
              "    \n",
              "</p>\n",
              "<form>\n",
              "<button class=\"btn btn-primary btn-block\" data-loading-text=\"Adding...\" type=\"submit\">Add to basket</button>\n",
              "</form>\n",
              "</div>\n",
              "</article>\n",
              "</li>\n",
              "<li class=\"col-xs-6 col-sm-4 col-md-3 col-lg-3\">\n",
              "<article class=\"product_pod\">\n",
              "<div class=\"image_container\">\n",
              "<a href=\"catalogue/shakespeares-sonnets_989/index.html\"><img alt=\"Shakespeare's Sonnets\" class=\"thumbnail\" src=\"media/cache/10/48/1048f63d3b5061cd2f424d20b3f9b666.jpg\"/></a>\n",
              "</div>\n",
              "<p class=\"star-rating Four\">\n",
              "<i class=\"icon-star\"></i>\n",
              "<i class=\"icon-star\"></i>\n",
              "<i class=\"icon-star\"></i>\n",
              "<i class=\"icon-star\"></i>\n",
              "<i class=\"icon-star\"></i>\n",
              "</p>\n",
              "<h3><a href=\"catalogue/shakespeares-sonnets_989/index.html\" title=\"Shakespeare's Sonnets\">Shakespeare's Sonnets</a></h3>\n",
              "<div class=\"product_price\">\n",
              "<p class=\"price_color\">£20.66</p>\n",
              "<p class=\"instock availability\">\n",
              "<i class=\"icon-ok\"></i>\n",
              "    \n",
              "        In stock\n",
              "    \n",
              "</p>\n",
              "<form>\n",
              "<button class=\"btn btn-primary btn-block\" data-loading-text=\"Adding...\" type=\"submit\">Add to basket</button>\n",
              "</form>\n",
              "</div>\n",
              "</article>\n",
              "</li>\n",
              "<li class=\"col-xs-6 col-sm-4 col-md-3 col-lg-3\">\n",
              "<article class=\"product_pod\">\n",
              "<div class=\"image_container\">\n",
              "<a href=\"catalogue/set-me-free_988/index.html\"><img alt=\"Set Me Free\" class=\"thumbnail\" src=\"media/cache/5b/88/5b88c52633f53cacf162c15f4f823153.jpg\"/></a>\n",
              "</div>\n",
              "<p class=\"star-rating Five\">\n",
              "<i class=\"icon-star\"></i>\n",
              "<i class=\"icon-star\"></i>\n",
              "<i class=\"icon-star\"></i>\n",
              "<i class=\"icon-star\"></i>\n",
              "<i class=\"icon-star\"></i>\n",
              "</p>\n",
              "<h3><a href=\"catalogue/set-me-free_988/index.html\" title=\"Set Me Free\">Set Me Free</a></h3>\n",
              "<div class=\"product_price\">\n",
              "<p class=\"price_color\">£17.46</p>\n",
              "<p class=\"instock availability\">\n",
              "<i class=\"icon-ok\"></i>\n",
              "    \n",
              "        In stock\n",
              "    \n",
              "</p>\n",
              "<form>\n",
              "<button class=\"btn btn-primary btn-block\" data-loading-text=\"Adding...\" type=\"submit\">Add to basket</button>\n",
              "</form>\n",
              "</div>\n",
              "</article>\n",
              "</li>\n",
              "<li class=\"col-xs-6 col-sm-4 col-md-3 col-lg-3\">\n",
              "<article class=\"product_pod\">\n",
              "<div class=\"image_container\">\n",
              "<a href=\"catalogue/scott-pilgrims-precious-little-life-scott-pilgrim-1_987/index.html\"><img alt=\"Scott Pilgrim's Precious Little Life (Scott Pilgrim #1)\" class=\"thumbnail\" src=\"media/cache/94/b1/94b1b8b244bce9677c2f29ccc890d4d2.jpg\"/></a>\n",
              "</div>\n",
              "<p class=\"star-rating Five\">\n",
              "<i class=\"icon-star\"></i>\n",
              "<i class=\"icon-star\"></i>\n",
              "<i class=\"icon-star\"></i>\n",
              "<i class=\"icon-star\"></i>\n",
              "<i class=\"icon-star\"></i>\n",
              "</p>\n",
              "<h3><a href=\"catalogue/scott-pilgrims-precious-little-life-scott-pilgrim-1_987/index.html\" title=\"Scott Pilgrim's Precious Little Life (Scott Pilgrim #1)\">Scott Pilgrim's Precious Little ...</a></h3>\n",
              "<div class=\"product_price\">\n",
              "<p class=\"price_color\">£52.29</p>\n",
              "<p class=\"instock availability\">\n",
              "<i class=\"icon-ok\"></i>\n",
              "    \n",
              "        In stock\n",
              "    \n",
              "</p>\n",
              "<form>\n",
              "<button class=\"btn btn-primary btn-block\" data-loading-text=\"Adding...\" type=\"submit\">Add to basket</button>\n",
              "</form>\n",
              "</div>\n",
              "</article>\n",
              "</li>\n",
              "<li class=\"col-xs-6 col-sm-4 col-md-3 col-lg-3\">\n",
              "<article class=\"product_pod\">\n",
              "<div class=\"image_container\">\n",
              "<a href=\"catalogue/rip-it-up-and-start-again_986/index.html\"><img alt=\"Rip it Up and Start Again\" class=\"thumbnail\" src=\"media/cache/81/c4/81c4a973364e17d01f217e1188253d5e.jpg\"/></a>\n",
              "</div>\n",
              "<p class=\"star-rating Five\">\n",
              "<i class=\"icon-star\"></i>\n",
              "<i class=\"icon-star\"></i>\n",
              "<i class=\"icon-star\"></i>\n",
              "<i class=\"icon-star\"></i>\n",
              "<i class=\"icon-star\"></i>\n",
              "</p>\n",
              "<h3><a href=\"catalogue/rip-it-up-and-start-again_986/index.html\" title=\"Rip it Up and Start Again\">Rip it Up and ...</a></h3>\n",
              "<div class=\"product_price\">\n",
              "<p class=\"price_color\">£35.02</p>\n",
              "<p class=\"instock availability\">\n",
              "<i class=\"icon-ok\"></i>\n",
              "    \n",
              "        In stock\n",
              "    \n",
              "</p>\n",
              "<form>\n",
              "<button class=\"btn btn-primary btn-block\" data-loading-text=\"Adding...\" type=\"submit\">Add to basket</button>\n",
              "</form>\n",
              "</div>\n",
              "</article>\n",
              "</li>\n",
              "<li class=\"col-xs-6 col-sm-4 col-md-3 col-lg-3\">\n",
              "<article class=\"product_pod\">\n",
              "<div class=\"image_container\">\n",
              "<a href=\"catalogue/our-band-could-be-your-life-scenes-from-the-american-indie-underground-1981-1991_985/index.html\"><img alt=\"Our Band Could Be Your Life: Scenes from the American Indie Underground, 1981-1991\" class=\"thumbnail\" src=\"media/cache/54/60/54607fe8945897cdcced0044103b10b6.jpg\"/></a>\n",
              "</div>\n",
              "<p class=\"star-rating Three\">\n",
              "<i class=\"icon-star\"></i>\n",
              "<i class=\"icon-star\"></i>\n",
              "<i class=\"icon-star\"></i>\n",
              "<i class=\"icon-star\"></i>\n",
              "<i class=\"icon-star\"></i>\n",
              "</p>\n",
              "<h3><a href=\"catalogue/our-band-could-be-your-life-scenes-from-the-american-indie-underground-1981-1991_985/index.html\" title=\"Our Band Could Be Your Life: Scenes from the American Indie Underground, 1981-1991\">Our Band Could Be ...</a></h3>\n",
              "<div class=\"product_price\">\n",
              "<p class=\"price_color\">£57.25</p>\n",
              "<p class=\"instock availability\">\n",
              "<i class=\"icon-ok\"></i>\n",
              "    \n",
              "        In stock\n",
              "    \n",
              "</p>\n",
              "<form>\n",
              "<button class=\"btn btn-primary btn-block\" data-loading-text=\"Adding...\" type=\"submit\">Add to basket</button>\n",
              "</form>\n",
              "</div>\n",
              "</article>\n",
              "</li>\n",
              "<li class=\"col-xs-6 col-sm-4 col-md-3 col-lg-3\">\n",
              "<article class=\"product_pod\">\n",
              "<div class=\"image_container\">\n",
              "<a href=\"catalogue/olio_984/index.html\"><img alt=\"Olio\" class=\"thumbnail\" src=\"media/cache/55/33/553310a7162dfbc2c6d19a84da0df9e1.jpg\"/></a>\n",
              "</div>\n",
              "<p class=\"star-rating One\">\n",
              "<i class=\"icon-star\"></i>\n",
              "<i class=\"icon-star\"></i>\n",
              "<i class=\"icon-star\"></i>\n",
              "<i class=\"icon-star\"></i>\n",
              "<i class=\"icon-star\"></i>\n",
              "</p>\n",
              "<h3><a href=\"catalogue/olio_984/index.html\" title=\"Olio\">Olio</a></h3>\n",
              "<div class=\"product_price\">\n",
              "<p class=\"price_color\">£23.88</p>\n",
              "<p class=\"instock availability\">\n",
              "<i class=\"icon-ok\"></i>\n",
              "    \n",
              "        In stock\n",
              "    \n",
              "</p>\n",
              "<form>\n",
              "<button class=\"btn btn-primary btn-block\" data-loading-text=\"Adding...\" type=\"submit\">Add to basket</button>\n",
              "</form>\n",
              "</div>\n",
              "</article>\n",
              "</li>\n",
              "<li class=\"col-xs-6 col-sm-4 col-md-3 col-lg-3\">\n",
              "<article class=\"product_pod\">\n",
              "<div class=\"image_container\">\n",
              "<a href=\"catalogue/mesaerion-the-best-science-fiction-stories-1800-1849_983/index.html\"><img alt=\"Mesaerion: The Best Science Fiction Stories 1800-1849\" class=\"thumbnail\" src=\"media/cache/09/a3/09a3aef48557576e1a85ba7efea8ecb7.jpg\"/></a>\n",
              "</div>\n",
              "<p class=\"star-rating One\">\n",
              "<i class=\"icon-star\"></i>\n",
              "<i class=\"icon-star\"></i>\n",
              "<i class=\"icon-star\"></i>\n",
              "<i class=\"icon-star\"></i>\n",
              "<i class=\"icon-star\"></i>\n",
              "</p>\n",
              "<h3><a href=\"catalogue/mesaerion-the-best-science-fiction-stories-1800-1849_983/index.html\" title=\"Mesaerion: The Best Science Fiction Stories 1800-1849\">Mesaerion: The Best Science ...</a></h3>\n",
              "<div class=\"product_price\">\n",
              "<p class=\"price_color\">£37.59</p>\n",
              "<p class=\"instock availability\">\n",
              "<i class=\"icon-ok\"></i>\n",
              "    \n",
              "        In stock\n",
              "    \n",
              "</p>\n",
              "<form>\n",
              "<button class=\"btn btn-primary btn-block\" data-loading-text=\"Adding...\" type=\"submit\">Add to basket</button>\n",
              "</form>\n",
              "</div>\n",
              "</article>\n",
              "</li>\n",
              "<li class=\"col-xs-6 col-sm-4 col-md-3 col-lg-3\">\n",
              "<article class=\"product_pod\">\n",
              "<div class=\"image_container\">\n",
              "<a href=\"catalogue/libertarianism-for-beginners_982/index.html\"><img alt=\"Libertarianism for Beginners\" class=\"thumbnail\" src=\"media/cache/0b/bc/0bbcd0a6f4bcd81ccb1049a52736406e.jpg\"/></a>\n",
              "</div>\n",
              "<p class=\"star-rating Two\">\n",
              "<i class=\"icon-star\"></i>\n",
              "<i class=\"icon-star\"></i>\n",
              "<i class=\"icon-star\"></i>\n",
              "<i class=\"icon-star\"></i>\n",
              "<i class=\"icon-star\"></i>\n",
              "</p>\n",
              "<h3><a href=\"catalogue/libertarianism-for-beginners_982/index.html\" title=\"Libertarianism for Beginners\">Libertarianism for Beginners</a></h3>\n",
              "<div class=\"product_price\">\n",
              "<p class=\"price_color\">£51.33</p>\n",
              "<p class=\"instock availability\">\n",
              "<i class=\"icon-ok\"></i>\n",
              "    \n",
              "        In stock\n",
              "    \n",
              "</p>\n",
              "<form>\n",
              "<button class=\"btn btn-primary btn-block\" data-loading-text=\"Adding...\" type=\"submit\">Add to basket</button>\n",
              "</form>\n",
              "</div>\n",
              "</article>\n",
              "</li>\n",
              "<li class=\"col-xs-6 col-sm-4 col-md-3 col-lg-3\">\n",
              "<article class=\"product_pod\">\n",
              "<div class=\"image_container\">\n",
              "<a href=\"catalogue/its-only-the-himalayas_981/index.html\"><img alt=\"It's Only the Himalayas\" class=\"thumbnail\" src=\"media/cache/27/a5/27a53d0bb95bdd88288eaf66c9230d7e.jpg\"/></a>\n",
              "</div>\n",
              "<p class=\"star-rating Two\">\n",
              "<i class=\"icon-star\"></i>\n",
              "<i class=\"icon-star\"></i>\n",
              "<i class=\"icon-star\"></i>\n",
              "<i class=\"icon-star\"></i>\n",
              "<i class=\"icon-star\"></i>\n",
              "</p>\n",
              "<h3><a href=\"catalogue/its-only-the-himalayas_981/index.html\" title=\"It's Only the Himalayas\">It's Only the Himalayas</a></h3>\n",
              "<div class=\"product_price\">\n",
              "<p class=\"price_color\">£45.17</p>\n",
              "<p class=\"instock availability\">\n",
              "<i class=\"icon-ok\"></i>\n",
              "    \n",
              "        In stock\n",
              "    \n",
              "</p>\n",
              "<form>\n",
              "<button class=\"btn btn-primary btn-block\" data-loading-text=\"Adding...\" type=\"submit\">Add to basket</button>\n",
              "</form>\n",
              "</div>\n",
              "</article>\n",
              "</li>\n",
              "</ol>\n",
              "<div>\n",
              "<ul class=\"pager\">\n",
              "<li class=\"current\">\n",
              "            \n",
              "                Page 1 of 50\n",
              "            \n",
              "            </li>\n",
              "<li class=\"next\"><a href=\"catalogue/page-2.html\">next</a></li>\n",
              "</ul>\n",
              "</div>\n",
              "</div>\n",
              "</section>\n",
              "</div>\n",
              "</div><!-- /row -->\n",
              "</div><!-- /page_inner -->\n",
              "</div><!-- /container-fluid -->\n",
              "<footer class=\"footer container-fluid\">\n",
              "</footer>\n",
              "<!-- jQuery -->\n",
              "<script src=\"http://ajax.googleapis.com/ajax/libs/jquery/1.9.1/jquery.min.js\"></script>\n",
              "<script>window.jQuery || document.write('<script src=\"static/oscar/js/jquery/jquery-1.9.1.min.js\"><\\/script>')</script>\n",
              "<!-- Twitter Bootstrap -->\n",
              "<script src=\"static/oscar/js/bootstrap3/bootstrap.min.js\" type=\"text/javascript\"></script>\n",
              "<!-- Oscar -->\n",
              "<script charset=\"utf-8\" src=\"static/oscar/js/oscar/ui.js\" type=\"text/javascript\"></script>\n",
              "<script charset=\"utf-8\" src=\"static/oscar/js/bootstrap-datetimepicker/bootstrap-datetimepicker.js\" type=\"text/javascript\"></script>\n",
              "<script charset=\"utf-8\" src=\"static/oscar/js/bootstrap-datetimepicker/locales/bootstrap-datetimepicker.all.js\" type=\"text/javascript\"></script>\n",
              "<script type=\"text/javascript\">\n",
              "            $(function() {\n",
              "                \n",
              "    \n",
              "    \n",
              "    oscar.init();\n",
              "\n",
              "    oscar.search.init();\n",
              "\n",
              "            });\n",
              "        </script>\n",
              "<!-- Version: N/A -->\n",
              "</body>\n",
              "</html>"
            ]
          },
          "metadata": {},
          "execution_count": 99
        }
      ]
    },
    {
      "cell_type": "code",
      "source": [
        "soup.name"
      ],
      "metadata": {
        "colab": {
          "base_uri": "https://localhost:8080/",
          "height": 35
        },
        "id": "MOmeZGnuvS58",
        "outputId": "c5287dc0-2f94-4695-b627-dbe53fc221b1"
      },
      "execution_count": 100,
      "outputs": [
        {
          "output_type": "execute_result",
          "data": {
            "text/plain": [
              "'[document]'"
            ],
            "application/vnd.google.colaboratory.intrinsic+json": {
              "type": "string"
            }
          },
          "metadata": {},
          "execution_count": 100
        }
      ]
    },
    {
      "cell_type": "markdown",
      "source": [
        "#### Tags"
      ],
      "metadata": {
        "id": "Z9dnXufSwoTS"
      }
    },
    {
      "cell_type": "code",
      "source": [
        "soup.div"
      ],
      "metadata": {
        "colab": {
          "base_uri": "https://localhost:8080/"
        },
        "id": "NVWfRtZbvds4",
        "outputId": "b06ab7be-761a-4f3d-e32d-fd7eb74847e2"
      },
      "execution_count": 101,
      "outputs": [
        {
          "output_type": "execute_result",
          "data": {
            "text/plain": [
              "<div class=\"page_inner\">\n",
              "<div class=\"row\">\n",
              "<div class=\"col-sm-8 h1\"><a href=\"index.html\">Books to Scrape</a><small> We love being scraped!</small>\n",
              "</div>\n",
              "</div>\n",
              "</div>"
            ]
          },
          "metadata": {},
          "execution_count": 101
        }
      ]
    },
    {
      "cell_type": "code",
      "source": [
        "first_div = soup.div\n",
        "first_div"
      ],
      "metadata": {
        "colab": {
          "base_uri": "https://localhost:8080/"
        },
        "id": "klVTQdWFvjjZ",
        "outputId": "0a867e32-b064-40b4-ecb5-99b414d945da"
      },
      "execution_count": 105,
      "outputs": [
        {
          "output_type": "execute_result",
          "data": {
            "text/plain": [
              "<div class=\"page_inner\">\n",
              "<div class=\"row\">\n",
              "<div class=\"col-sm-8 h1\"><a href=\"index.html\">Books to Scrape</a><small> We love being scraped!</small>\n",
              "</div>\n",
              "</div>\n",
              "</div>"
            ]
          },
          "metadata": {},
          "execution_count": 105
        }
      ]
    },
    {
      "cell_type": "code",
      "source": [
        "type(first_div)"
      ],
      "metadata": {
        "colab": {
          "base_uri": "https://localhost:8080/",
          "height": 239
        },
        "id": "ZSKvx1QlvlZt",
        "outputId": "e1889afa-344c-407e-a229-a50986848eb4"
      },
      "execution_count": 103,
      "outputs": [
        {
          "output_type": "execute_result",
          "data": {
            "text/plain": [
              "bs4.element.Tag"
            ],
            "text/html": [
              "<div style=\"max-width:800px; border: 1px solid var(--colab-border-color);\"><style>\n",
              "      pre.function-repr-contents {\n",
              "        overflow-x: auto;\n",
              "        padding: 8px 12px;\n",
              "        max-height: 500px;\n",
              "      }\n",
              "\n",
              "      pre.function-repr-contents.function-repr-contents-collapsed {\n",
              "        cursor: pointer;\n",
              "        max-height: 100px;\n",
              "      }\n",
              "    </style>\n",
              "    <pre style=\"white-space: initial; background:\n",
              "         var(--colab-secondary-surface-color); padding: 8px 12px;\n",
              "         border-bottom: 1px solid var(--colab-border-color);\"><b>bs4.element.Tag</b><br/>def __call__(name: Optional[_StrainableElement]=None, attrs: _StrainableAttributes={}, recursive: bool=True, string: Optional[_StrainableString]=None, limit: Optional[int]=None, _stacklevel: int=2, **kwargs: _StrainableAttribute) -&gt; _QueryResults</pre><pre class=\"function-repr-contents function-repr-contents-collapsed\" style=\"\"><a class=\"filepath\" style=\"display:none\" href=\"#\">/usr/local/lib/python3.11/dist-packages/bs4/element.py</a>An HTML or XML tag that is part of a parse tree, along with its\n",
              "attributes, contents, and relationships to other parts of the tree.\n",
              "\n",
              "When Beautiful Soup parses the markup ``&lt;b&gt;penguin&lt;/b&gt;``, it will\n",
              "create a `Tag` object representing the ``&lt;b&gt;`` tag. You can\n",
              "instantiate `Tag` objects directly, but it&#x27;s not necessary unless\n",
              "you&#x27;re adding entirely new markup to a parsed document. Most of\n",
              "the constructor arguments are intended for use by the `TreeBuilder`\n",
              "that&#x27;s parsing a document.\n",
              "\n",
              ":param parser: A `BeautifulSoup` object representing the parse tree this\n",
              "    `Tag` will be part of.\n",
              ":param builder: The `TreeBuilder` being used to build the tree.\n",
              ":param name: The name of the tag.\n",
              ":param namespace: The URI of this tag&#x27;s XML namespace, if any.\n",
              ":param prefix: The prefix for this tag&#x27;s XML namespace, if any.\n",
              ":param attrs: A dictionary of attribute values.\n",
              ":param parent: The `Tag` to use as the parent of this `Tag`. May be\n",
              "   the `BeautifulSoup` object itself.\n",
              ":param previous: The `PageElement` that was parsed immediately before\n",
              "    parsing this tag.\n",
              ":param is_xml: If True, this is an XML tag. Otherwise, this is an\n",
              "    HTML tag.\n",
              ":param sourceline: The line number where this tag was found in its\n",
              "    source document.\n",
              ":param sourcepos: The character position within ``sourceline`` where this\n",
              "    tag was found.\n",
              ":param can_be_empty_element: If True, this tag should be\n",
              "    represented as &lt;tag/&gt;. If False, this tag should be represented\n",
              "    as &lt;tag&gt;&lt;/tag&gt;.\n",
              ":param cdata_list_attributes: A dictionary of attributes whose values should\n",
              "    be parsed as lists of strings if they ever show up on this tag.\n",
              ":param preserve_whitespace_tags: Names of tags whose contents\n",
              "    should have their whitespace preserved if they are encountered inside\n",
              "    this tag.\n",
              ":param interesting_string_types: When iterating over this tag&#x27;s\n",
              "    string contents in methods like `Tag.strings` or\n",
              "    `PageElement.get_text`, these are the types of strings that are\n",
              "    interesting enough to be considered. By default,\n",
              "    `NavigableString` (normal strings) and `CData` (CDATA\n",
              "    sections) are the only interesting string subtypes.\n",
              ":param namespaces: A dictionary mapping currently active\n",
              "    namespace prefixes to URIs, as of the point in the parsing process when\n",
              "    this tag was encountered. This can be used later to\n",
              "    construct CSS selectors.</pre>\n",
              "      <script>\n",
              "      if (google.colab.kernel.accessAllowed && google.colab.files && google.colab.files.view) {\n",
              "        for (const element of document.querySelectorAll('.filepath')) {\n",
              "          element.style.display = 'block'\n",
              "          element.onclick = (event) => {\n",
              "            event.preventDefault();\n",
              "            event.stopPropagation();\n",
              "            google.colab.files.view(element.textContent, 1569);\n",
              "          };\n",
              "        }\n",
              "      }\n",
              "      for (const element of document.querySelectorAll('.function-repr-contents')) {\n",
              "        element.onclick = (event) => {\n",
              "          event.preventDefault();\n",
              "          event.stopPropagation();\n",
              "          element.classList.toggle('function-repr-contents-collapsed');\n",
              "        };\n",
              "      }\n",
              "      </script>\n",
              "      </div>"
            ]
          },
          "metadata": {},
          "execution_count": 103
        }
      ]
    },
    {
      "cell_type": "code",
      "source": [
        "first_div.attrs"
      ],
      "metadata": {
        "colab": {
          "base_uri": "https://localhost:8080/"
        },
        "id": "cB7s0dFDvnOO",
        "outputId": "6cf1bbe8-9daf-4e70-a6e3-705a9d6311d8"
      },
      "execution_count": 104,
      "outputs": [
        {
          "output_type": "execute_result",
          "data": {
            "text/plain": [
              "{'class': ['page_inner']}"
            ]
          },
          "metadata": {},
          "execution_count": 104
        }
      ]
    },
    {
      "cell_type": "code",
      "source": [
        "first_div.div.div.attrs"
      ],
      "metadata": {
        "colab": {
          "base_uri": "https://localhost:8080/"
        },
        "id": "h5zfVRY9vqNF",
        "outputId": "cb2c07b6-030f-4727-9a0a-1d1f2242acbe"
      },
      "execution_count": 106,
      "outputs": [
        {
          "output_type": "execute_result",
          "data": {
            "text/plain": [
              "{'class': ['col-sm-8', 'h1']}"
            ]
          },
          "metadata": {},
          "execution_count": 106
        }
      ]
    },
    {
      "cell_type": "code",
      "source": [
        "first_div.attrs['class'].append(\"some-other-class\") # modifying attrs"
      ],
      "metadata": {
        "id": "neXdusofv3nG"
      },
      "execution_count": 107,
      "outputs": []
    },
    {
      "cell_type": "code",
      "source": [
        "first_div # modified attrs"
      ],
      "metadata": {
        "colab": {
          "base_uri": "https://localhost:8080/"
        },
        "id": "fwpmg69-wP4M",
        "outputId": "f5fb50d9-bd53-4ea8-cd9e-c822bf2a69b7"
      },
      "execution_count": 108,
      "outputs": [
        {
          "output_type": "execute_result",
          "data": {
            "text/plain": [
              "<div class=\"page_inner some-other-class\">\n",
              "<div class=\"row\">\n",
              "<div class=\"col-sm-8 h1\"><a href=\"index.html\">Books to Scrape</a><small> We love being scraped!</small>\n",
              "</div>\n",
              "</div>\n",
              "</div>"
            ]
          },
          "metadata": {},
          "execution_count": 108
        }
      ]
    },
    {
      "cell_type": "code",
      "source": [
        "soup.div # attrs is changed here as well"
      ],
      "metadata": {
        "colab": {
          "base_uri": "https://localhost:8080/"
        },
        "id": "6M2WlnfXwQ-v",
        "outputId": "0a47d1d6-aebd-40a0-cd8e-61597b33634b"
      },
      "execution_count": 109,
      "outputs": [
        {
          "output_type": "execute_result",
          "data": {
            "text/plain": [
              "<div class=\"page_inner some-other-class\">\n",
              "<div class=\"row\">\n",
              "<div class=\"col-sm-8 h1\"><a href=\"index.html\">Books to Scrape</a><small> We love being scraped!</small>\n",
              "</div>\n",
              "</div>\n",
              "</div>"
            ]
          },
          "metadata": {},
          "execution_count": 109
        }
      ]
    },
    {
      "cell_type": "markdown",
      "source": [
        "#### Parents, Children, And Descendants"
      ],
      "metadata": {
        "id": "p3fIsCibwqf6"
      }
    },
    {
      "cell_type": "code",
      "source": [
        "soup.ul"
      ],
      "metadata": {
        "colab": {
          "base_uri": "https://localhost:8080/"
        },
        "id": "IP0nfHEmwS2E",
        "outputId": "e87d26c1-81b7-4ad9-95ad-b1f5f2b29a9d"
      },
      "execution_count": 110,
      "outputs": [
        {
          "output_type": "execute_result",
          "data": {
            "text/plain": [
              "<ul class=\"breadcrumb\">\n",
              "<li>\n",
              "<a href=\"index.html\">Home</a>\n",
              "</li>\n",
              "<li class=\"active\">All products</li>\n",
              "</ul>"
            ]
          },
          "metadata": {},
          "execution_count": 110
        }
      ]
    },
    {
      "cell_type": "code",
      "source": [
        "print(soup.ul.prettify())"
      ],
      "metadata": {
        "colab": {
          "base_uri": "https://localhost:8080/"
        },
        "id": "FMrMbZZMwwud",
        "outputId": "62136161-a9b7-4c72-ea51-33f8e24d3697"
      },
      "execution_count": 111,
      "outputs": [
        {
          "output_type": "stream",
          "name": "stdout",
          "text": [
            "<ul class=\"breadcrumb\">\n",
            " <li>\n",
            "  <a href=\"index.html\">\n",
            "   Home\n",
            "  </a>\n",
            " </li>\n",
            " <li class=\"active\">\n",
            "  All products\n",
            " </li>\n",
            "</ul>\n",
            "\n"
          ]
        }
      ]
    },
    {
      "cell_type": "code",
      "source": [
        "soup.ul.children, next(soup.ul.children), list(soup.ul.children)"
      ],
      "metadata": {
        "colab": {
          "base_uri": "https://localhost:8080/"
        },
        "id": "oWLSNG_Wwz1P",
        "outputId": "956a3ec0-4b1d-4f20-a2c3-91b6a888fc20"
      },
      "execution_count": 117,
      "outputs": [
        {
          "output_type": "execute_result",
          "data": {
            "text/plain": [
              "(<generator object Tag.children.<locals>.<genexpr> at 0x7fec37211e50>,\n",
              " '\\n',\n",
              " ['\\n',\n",
              "  <li>\n",
              "  <a href=\"index.html\">Home</a>\n",
              "  </li>,\n",
              "  '\\n',\n",
              "  <li class=\"active\">All products</li>,\n",
              "  '\\n'])"
            ]
          },
          "metadata": {},
          "execution_count": 117
        }
      ]
    },
    {
      "cell_type": "code",
      "source": [
        "from bs4.element import NavigableString\n",
        "list(filter(lambda x: type(x) != NavigableString, soup.ul.children)) # To remove '\\n' strings from children"
      ],
      "metadata": {
        "colab": {
          "base_uri": "https://localhost:8080/"
        },
        "id": "j-qzed0qxBaK",
        "outputId": "1d1eb66b-ce1b-4962-b9b2-84a39f191a0d"
      },
      "execution_count": 119,
      "outputs": [
        {
          "output_type": "execute_result",
          "data": {
            "text/plain": [
              "[<li>\n",
              " <a href=\"index.html\">Home</a>\n",
              " </li>,\n",
              " <li class=\"active\">All products</li>]"
            ]
          },
          "metadata": {},
          "execution_count": 119
        }
      ]
    },
    {
      "cell_type": "code",
      "source": [
        "def no_nav_strings(iterable):\n",
        "    return list(filter(lambda x: type(x) != NavigableString, iterable)) # To remove '\\n' strings from children"
      ],
      "metadata": {
        "id": "yZpLsBcYx-7g"
      },
      "execution_count": 122,
      "outputs": []
    },
    {
      "cell_type": "code",
      "source": [
        "no_nav_strings(soup.ul.children)"
      ],
      "metadata": {
        "colab": {
          "base_uri": "https://localhost:8080/"
        },
        "id": "PSzm4SC-yQXx",
        "outputId": "b3163b58-28a3-4239-e835-e0743e81cf6c"
      },
      "execution_count": 123,
      "outputs": [
        {
          "output_type": "execute_result",
          "data": {
            "text/plain": [
              "[<li>\n",
              " <a href=\"index.html\">Home</a>\n",
              " </li>,\n",
              " <li class=\"active\">All products</li>]"
            ]
          },
          "metadata": {},
          "execution_count": 123
        }
      ]
    },
    {
      "cell_type": "code",
      "source": [
        "# Descendents\n",
        "no_nav_strings(soup.ul.descendants)"
      ],
      "metadata": {
        "colab": {
          "base_uri": "https://localhost:8080/"
        },
        "id": "CQ9odmO8yWgQ",
        "outputId": "f027bad0-b5ac-4e81-cdf7-1feeee342fa2"
      },
      "execution_count": 124,
      "outputs": [
        {
          "output_type": "execute_result",
          "data": {
            "text/plain": [
              "[<li>\n",
              " <a href=\"index.html\">Home</a>\n",
              " </li>,\n",
              " <a href=\"index.html\">Home</a>,\n",
              " <li class=\"active\">All products</li>]"
            ]
          },
          "metadata": {},
          "execution_count": 124
        }
      ]
    },
    {
      "cell_type": "code",
      "source": [
        "# parent\n",
        "desc = no_nav_strings(soup.ul.descendants)\n",
        "desc[0]"
      ],
      "metadata": {
        "colab": {
          "base_uri": "https://localhost:8080/"
        },
        "id": "b7Nw7IQBylGQ",
        "outputId": "1a2f78af-2acd-4625-c90b-7f4de09076d7"
      },
      "execution_count": 128,
      "outputs": [
        {
          "output_type": "execute_result",
          "data": {
            "text/plain": [
              "<li>\n",
              "<a href=\"index.html\">Home</a>\n",
              "</li>"
            ]
          },
          "metadata": {},
          "execution_count": 128
        }
      ]
    },
    {
      "cell_type": "code",
      "source": [
        "desc[0].parent"
      ],
      "metadata": {
        "colab": {
          "base_uri": "https://localhost:8080/"
        },
        "id": "29QFyfTezBL1",
        "outputId": "f67c1d8c-4fe5-4353-a331-1977b2857e5e"
      },
      "execution_count": 129,
      "outputs": [
        {
          "output_type": "execute_result",
          "data": {
            "text/plain": [
              "<ul class=\"breadcrumb\">\n",
              "<li>\n",
              "<a href=\"index.html\">Home</a>\n",
              "</li>\n",
              "<li class=\"active\">All products</li>\n",
              "</ul>"
            ]
          },
          "metadata": {},
          "execution_count": 129
        }
      ]
    },
    {
      "cell_type": "markdown",
      "source": [
        "#### Siblings"
      ],
      "metadata": {
        "id": "VuS5K-GzzKoN"
      }
    },
    {
      "cell_type": "code",
      "source": [
        "soup.ul"
      ],
      "metadata": {
        "colab": {
          "base_uri": "https://localhost:8080/"
        },
        "id": "X9lybFpLzpdu",
        "outputId": "20fdeb1a-9dce-45ad-b719-ea7fd0afe5f7"
      },
      "execution_count": 134,
      "outputs": [
        {
          "output_type": "execute_result",
          "data": {
            "text/plain": [
              "<ul class=\"breadcrumb\">\n",
              "<li>\n",
              "<a href=\"index.html\">Home</a>\n",
              "</li>\n",
              "<li class=\"active\">All products</li>\n",
              "</ul>"
            ]
          },
          "metadata": {},
          "execution_count": 134
        }
      ]
    },
    {
      "cell_type": "code",
      "source": [
        "soup.ul.li"
      ],
      "metadata": {
        "colab": {
          "base_uri": "https://localhost:8080/"
        },
        "id": "Gcm8dwG9zGqz",
        "outputId": "5f1d10b6-c94e-40b8-9681-d80a70e37f6f"
      },
      "execution_count": 131,
      "outputs": [
        {
          "output_type": "execute_result",
          "data": {
            "text/plain": [
              "<li>\n",
              "<a href=\"index.html\">Home</a>\n",
              "</li>"
            ]
          },
          "metadata": {},
          "execution_count": 131
        }
      ]
    },
    {
      "cell_type": "code",
      "source": [
        "soup.ul.li.next_sibling, soup.ul.li.next_sibling.next_sibling"
      ],
      "metadata": {
        "colab": {
          "base_uri": "https://localhost:8080/"
        },
        "id": "LS04qSLtzVn7",
        "outputId": "8c3c5c7d-5233-41f5-bd36-0c8daabdbab1"
      },
      "execution_count": 133,
      "outputs": [
        {
          "output_type": "execute_result",
          "data": {
            "text/plain": [
              "('\\n', <li class=\"active\">All products</li>)"
            ]
          },
          "metadata": {},
          "execution_count": 133
        }
      ]
    },
    {
      "cell_type": "code",
      "source": [
        "list(soup.ul.li.next_siblings)"
      ],
      "metadata": {
        "colab": {
          "base_uri": "https://localhost:8080/"
        },
        "id": "y9-FH6AbzgYu",
        "outputId": "61702cf5-6943-436e-a47c-83195a2b5718"
      },
      "execution_count": 136,
      "outputs": [
        {
          "output_type": "execute_result",
          "data": {
            "text/plain": [
              "['\\n', <li class=\"active\">All products</li>, '\\n']"
            ]
          },
          "metadata": {},
          "execution_count": 136
        }
      ]
    },
    {
      "cell_type": "code",
      "source": [
        "soup.ul.li\\\n",
        "    .next_sibling\\\n",
        "    .next_sibling\\\n",
        "    .previous_sibling\\\n",
        "    .previous_sibling"
      ],
      "metadata": {
        "colab": {
          "base_uri": "https://localhost:8080/"
        },
        "id": "9DGFpj_1zsdx",
        "outputId": "b24669cb-de58-437c-a89a-74a228877584"
      },
      "execution_count": 137,
      "outputs": [
        {
          "output_type": "execute_result",
          "data": {
            "text/plain": [
              "<li>\n",
              "<a href=\"index.html\">Home</a>\n",
              "</li>"
            ]
          },
          "metadata": {},
          "execution_count": 137
        }
      ]
    },
    {
      "cell_type": "markdown",
      "source": [
        "#### Extracting Text"
      ],
      "metadata": {
        "id": "0NEqmOjc0E64"
      }
    },
    {
      "cell_type": "code",
      "source": [
        "soup.a"
      ],
      "metadata": {
        "colab": {
          "base_uri": "https://localhost:8080/"
        },
        "id": "bK_68KeWz-Vj",
        "outputId": "b0c7cb24-c75f-433a-b062-21fc6d9c5602"
      },
      "execution_count": 138,
      "outputs": [
        {
          "output_type": "execute_result",
          "data": {
            "text/plain": [
              "<a href=\"index.html\">Books to Scrape</a>"
            ]
          },
          "metadata": {},
          "execution_count": 138
        }
      ]
    },
    {
      "cell_type": "code",
      "source": [
        "soup.a.get_text()"
      ],
      "metadata": {
        "colab": {
          "base_uri": "https://localhost:8080/",
          "height": 35
        },
        "id": "JVXnR-vd0JuW",
        "outputId": "475b1286-9096-4c63-9d94-d35866558fbf"
      },
      "execution_count": 139,
      "outputs": [
        {
          "output_type": "execute_result",
          "data": {
            "text/plain": [
              "'Books to Scrape'"
            ],
            "application/vnd.google.colaboratory.intrinsic+json": {
              "type": "string"
            }
          },
          "metadata": {},
          "execution_count": 139
        }
      ]
    },
    {
      "cell_type": "code",
      "source": [
        "soup.a.text, soup.a.string"
      ],
      "metadata": {
        "colab": {
          "base_uri": "https://localhost:8080/"
        },
        "id": "E_mca4pR0LuS",
        "outputId": "c9db2374-0048-4998-a994-755a35af1154"
      },
      "execution_count": 140,
      "outputs": [
        {
          "output_type": "execute_result",
          "data": {
            "text/plain": [
              "('Books to Scrape', 'Books to Scrape')"
            ]
          },
          "metadata": {},
          "execution_count": 140
        }
      ]
    },
    {
      "cell_type": "code",
      "source": [
        "soup.ul"
      ],
      "metadata": {
        "colab": {
          "base_uri": "https://localhost:8080/"
        },
        "id": "KVR2xWDM0Qrc",
        "outputId": "f6623831-3f4e-414e-b75b-96147d4bbf9a"
      },
      "execution_count": 141,
      "outputs": [
        {
          "output_type": "execute_result",
          "data": {
            "text/plain": [
              "<ul class=\"breadcrumb\">\n",
              "<li>\n",
              "<a href=\"index.html\">Home</a>\n",
              "</li>\n",
              "<li class=\"active\">All products</li>\n",
              "</ul>"
            ]
          },
          "metadata": {},
          "execution_count": 141
        }
      ]
    },
    {
      "cell_type": "code",
      "source": [
        "soup.ul.get_text(), soup.ul.text # Multiple text content of children"
      ],
      "metadata": {
        "colab": {
          "base_uri": "https://localhost:8080/"
        },
        "id": "YmCpAUta0X1a",
        "outputId": "431419f5-a992-4400-9206-8ef00ad7a915"
      },
      "execution_count": 143,
      "outputs": [
        {
          "output_type": "execute_result",
          "data": {
            "text/plain": [
              "('\\n\\nHome\\n\\nAll products\\n', '\\n\\nHome\\n\\nAll products\\n', None)"
            ]
          },
          "metadata": {},
          "execution_count": 143
        }
      ]
    },
    {
      "cell_type": "code",
      "source": [
        "print(soup.ul.string) # Since ul itself doesn't haveany text, we will get 'None' as output"
      ],
      "metadata": {
        "colab": {
          "base_uri": "https://localhost:8080/"
        },
        "id": "Nj7niS1-0dev",
        "outputId": "3aa070aa-215b-4c9d-e5b6-71be2ae8b87a"
      },
      "execution_count": 146,
      "outputs": [
        {
          "output_type": "stream",
          "name": "stdout",
          "text": [
            "None\n"
          ]
        }
      ]
    },
    {
      "cell_type": "code",
      "source": [
        "print(soup.a.text, \" of type \",type(soup.a.text))\n",
        "print(soup.a.get_text(), \" of type \",type(soup.a.get_text()))\n",
        "print(soup.a.string, \" of type \",type(soup.a.string))"
      ],
      "metadata": {
        "colab": {
          "base_uri": "https://localhost:8080/"
        },
        "id": "Y-8a29uY0uWB",
        "outputId": "a89d7197-d939-4f45-d5e8-61ced158f00c"
      },
      "execution_count": 147,
      "outputs": [
        {
          "output_type": "stream",
          "name": "stdout",
          "text": [
            "Books to Scrape  of type  <class 'str'>\n",
            "Books to Scrape  of type  <class 'str'>\n",
            "Books to Scrape  of type  <class 'bs4.element.NavigableString'>\n"
          ]
        }
      ]
    },
    {
      "cell_type": "code",
      "source": [
        "soup.ul.get_text(separator=', ', strip=True)"
      ],
      "metadata": {
        "colab": {
          "base_uri": "https://localhost:8080/",
          "height": 35
        },
        "id": "EbOnXyZG1EZr",
        "outputId": "6ffdd08c-1504-4a40-f54e-c0c712f29759"
      },
      "execution_count": 149,
      "outputs": [
        {
          "output_type": "execute_result",
          "data": {
            "text/plain": [
              "'Home, All products'"
            ],
            "application/vnd.google.colaboratory.intrinsic+json": {
              "type": "string"
            }
          },
          "metadata": {},
          "execution_count": 149
        }
      ]
    },
    {
      "cell_type": "markdown",
      "source": [
        "#### All Strings"
      ],
      "metadata": {
        "id": "3sJ7mHbO1fXH"
      }
    },
    {
      "cell_type": "code",
      "source": [
        "soup.stripped_strings"
      ],
      "metadata": {
        "colab": {
          "base_uri": "https://localhost:8080/"
        },
        "id": "HUhQMvVH1MqW",
        "outputId": "ec21d68d-7a25-4959-832e-221dee9843af"
      },
      "execution_count": 150,
      "outputs": [
        {
          "output_type": "execute_result",
          "data": {
            "text/plain": [
              "<generator object PageElement.stripped_strings at 0x7fec3717dff0>"
            ]
          },
          "metadata": {},
          "execution_count": 150
        }
      ]
    },
    {
      "cell_type": "code",
      "source": [
        "all_strings = list(soup.stripped_strings)"
      ],
      "metadata": {
        "id": "DkOaeRWo1i2U"
      },
      "execution_count": 151,
      "outputs": []
    },
    {
      "cell_type": "code",
      "source": [
        "all_strings"
      ],
      "metadata": {
        "collapsed": true,
        "colab": {
          "base_uri": "https://localhost:8080/"
        },
        "id": "8X-CnpMK1nV1",
        "outputId": "64f1c33a-8714-47de-ee5a-481c0e10cdd7"
      },
      "execution_count": 152,
      "outputs": [
        {
          "output_type": "execute_result",
          "data": {
            "text/plain": [
              "['All products | Books to Scrape - Sandbox',\n",
              " 'Books to Scrape',\n",
              " 'We love being scraped!',\n",
              " 'Home',\n",
              " 'All products',\n",
              " 'Books',\n",
              " 'Travel',\n",
              " 'Mystery',\n",
              " 'Historical Fiction',\n",
              " 'Sequential Art',\n",
              " 'Classics',\n",
              " 'Philosophy',\n",
              " 'Romance',\n",
              " 'Womens Fiction',\n",
              " 'Fiction',\n",
              " 'Childrens',\n",
              " 'Religion',\n",
              " 'Nonfiction',\n",
              " 'Music',\n",
              " 'Default',\n",
              " 'Science Fiction',\n",
              " 'Sports and Games',\n",
              " 'Add a comment',\n",
              " 'Fantasy',\n",
              " 'New Adult',\n",
              " 'Young Adult',\n",
              " 'Science',\n",
              " 'Poetry',\n",
              " 'Paranormal',\n",
              " 'Art',\n",
              " 'Psychology',\n",
              " 'Autobiography',\n",
              " 'Parenting',\n",
              " 'Adult Fiction',\n",
              " 'Humor',\n",
              " 'Horror',\n",
              " 'History',\n",
              " 'Food and Drink',\n",
              " 'Christian Fiction',\n",
              " 'Business',\n",
              " 'Biography',\n",
              " 'Thriller',\n",
              " 'Contemporary',\n",
              " 'Spirituality',\n",
              " 'Academic',\n",
              " 'Self Help',\n",
              " 'Historical',\n",
              " 'Christian',\n",
              " 'Suspense',\n",
              " 'Short Stories',\n",
              " 'Novels',\n",
              " 'Health',\n",
              " 'Politics',\n",
              " 'Cultural',\n",
              " 'Erotica',\n",
              " 'Crime',\n",
              " 'All products',\n",
              " '1000',\n",
              " 'results - showing',\n",
              " '1',\n",
              " 'to',\n",
              " '20',\n",
              " '.',\n",
              " 'Warning!',\n",
              " 'This is a demo website for web scraping purposes. Prices and ratings here were randomly assigned and have no real meaning.',\n",
              " 'A Light in the ...',\n",
              " '£51.77',\n",
              " 'In stock',\n",
              " 'Add to basket',\n",
              " 'Tipping the Velvet',\n",
              " '£53.74',\n",
              " 'In stock',\n",
              " 'Add to basket',\n",
              " 'Soumission',\n",
              " '£50.10',\n",
              " 'In stock',\n",
              " 'Add to basket',\n",
              " 'Sharp Objects',\n",
              " '£47.82',\n",
              " 'In stock',\n",
              " 'Add to basket',\n",
              " 'Sapiens: A Brief History ...',\n",
              " '£54.23',\n",
              " 'In stock',\n",
              " 'Add to basket',\n",
              " 'The Requiem Red',\n",
              " '£22.65',\n",
              " 'In stock',\n",
              " 'Add to basket',\n",
              " 'The Dirty Little Secrets ...',\n",
              " '£33.34',\n",
              " 'In stock',\n",
              " 'Add to basket',\n",
              " 'The Coming Woman: A ...',\n",
              " '£17.93',\n",
              " 'In stock',\n",
              " 'Add to basket',\n",
              " 'The Boys in the ...',\n",
              " '£22.60',\n",
              " 'In stock',\n",
              " 'Add to basket',\n",
              " 'The Black Maria',\n",
              " '£52.15',\n",
              " 'In stock',\n",
              " 'Add to basket',\n",
              " 'Starving Hearts (Triangular Trade ...',\n",
              " '£13.99',\n",
              " 'In stock',\n",
              " 'Add to basket',\n",
              " \"Shakespeare's Sonnets\",\n",
              " '£20.66',\n",
              " 'In stock',\n",
              " 'Add to basket',\n",
              " 'Set Me Free',\n",
              " '£17.46',\n",
              " 'In stock',\n",
              " 'Add to basket',\n",
              " \"Scott Pilgrim's Precious Little ...\",\n",
              " '£52.29',\n",
              " 'In stock',\n",
              " 'Add to basket',\n",
              " 'Rip it Up and ...',\n",
              " '£35.02',\n",
              " 'In stock',\n",
              " 'Add to basket',\n",
              " 'Our Band Could Be ...',\n",
              " '£57.25',\n",
              " 'In stock',\n",
              " 'Add to basket',\n",
              " 'Olio',\n",
              " '£23.88',\n",
              " 'In stock',\n",
              " 'Add to basket',\n",
              " 'Mesaerion: The Best Science ...',\n",
              " '£37.59',\n",
              " 'In stock',\n",
              " 'Add to basket',\n",
              " 'Libertarianism for Beginners',\n",
              " '£51.33',\n",
              " 'In stock',\n",
              " 'Add to basket',\n",
              " \"It's Only the Himalayas\",\n",
              " '£45.17',\n",
              " 'In stock',\n",
              " 'Add to basket',\n",
              " 'Page 1 of 50',\n",
              " 'next']"
            ]
          },
          "metadata": {},
          "execution_count": 152
        }
      ]
    },
    {
      "cell_type": "code",
      "source": [
        "all_strings_unstripped = list(soup.strings)\n",
        "all_strings_unstripped"
      ],
      "metadata": {
        "colab": {
          "base_uri": "https://localhost:8080/"
        },
        "collapsed": true,
        "id": "FqzJEx4Q1ohe",
        "outputId": "4b9a0e57-d156-4fdc-a24f-22002536ec3e"
      },
      "execution_count": 155,
      "outputs": [
        {
          "output_type": "execute_result",
          "data": {
            "text/plain": [
              "[' ',\n",
              " '\\n',\n",
              " '\\n',\n",
              " '\\n    All products | Books to Scrape - Sandbox\\n',\n",
              " '\\n',\n",
              " '\\n',\n",
              " '\\n',\n",
              " '\\n',\n",
              " '\\n',\n",
              " '\\n',\n",
              " '\\n',\n",
              " '\\n',\n",
              " '\\n',\n",
              " '\\n',\n",
              " '\\n',\n",
              " '\\n',\n",
              " '\\n',\n",
              " '\\n',\n",
              " '\\n',\n",
              " '\\n',\n",
              " '\\n',\n",
              " 'Books to Scrape',\n",
              " ' We love being scraped!',\n",
              " '\\n',\n",
              " '\\n',\n",
              " '\\n',\n",
              " '\\n',\n",
              " '\\n',\n",
              " '\\n',\n",
              " '\\n',\n",
              " '\\n',\n",
              " '\\n',\n",
              " 'Home',\n",
              " '\\n',\n",
              " '\\n',\n",
              " 'All products',\n",
              " '\\n',\n",
              " '\\n',\n",
              " '\\n',\n",
              " '\\n',\n",
              " '\\n',\n",
              " '\\n',\n",
              " '\\n',\n",
              " '\\n',\n",
              " '\\n',\n",
              " '\\n                            \\n                                Books\\n                            \\n                        ',\n",
              " '\\n',\n",
              " '\\n',\n",
              " '\\n',\n",
              " '\\n                            \\n                                Travel\\n                            \\n                        ',\n",
              " '\\n',\n",
              " '\\n',\n",
              " '\\n',\n",
              " '\\n                            \\n                                Mystery\\n                            \\n                        ',\n",
              " '\\n',\n",
              " '\\n',\n",
              " '\\n',\n",
              " '\\n                            \\n                                Historical Fiction\\n                            \\n                        ',\n",
              " '\\n',\n",
              " '\\n',\n",
              " '\\n',\n",
              " '\\n                            \\n                                Sequential Art\\n                            \\n                        ',\n",
              " '\\n',\n",
              " '\\n',\n",
              " '\\n',\n",
              " '\\n                            \\n                                Classics\\n                            \\n                        ',\n",
              " '\\n',\n",
              " '\\n',\n",
              " '\\n',\n",
              " '\\n                            \\n                                Philosophy\\n                            \\n                        ',\n",
              " '\\n',\n",
              " '\\n',\n",
              " '\\n',\n",
              " '\\n                            \\n                                Romance\\n                            \\n                        ',\n",
              " '\\n',\n",
              " '\\n',\n",
              " '\\n',\n",
              " '\\n                            \\n                                Womens Fiction\\n                            \\n                        ',\n",
              " '\\n',\n",
              " '\\n',\n",
              " '\\n',\n",
              " '\\n                            \\n                                Fiction\\n                            \\n                        ',\n",
              " '\\n',\n",
              " '\\n',\n",
              " '\\n',\n",
              " '\\n                            \\n                                Childrens\\n                            \\n                        ',\n",
              " '\\n',\n",
              " '\\n',\n",
              " '\\n',\n",
              " '\\n                            \\n                                Religion\\n                            \\n                        ',\n",
              " '\\n',\n",
              " '\\n',\n",
              " '\\n',\n",
              " '\\n                            \\n                                Nonfiction\\n                            \\n                        ',\n",
              " '\\n',\n",
              " '\\n',\n",
              " '\\n',\n",
              " '\\n                            \\n                                Music\\n                            \\n                        ',\n",
              " '\\n',\n",
              " '\\n',\n",
              " '\\n',\n",
              " '\\n                            \\n                                Default\\n                            \\n                        ',\n",
              " '\\n',\n",
              " '\\n',\n",
              " '\\n',\n",
              " '\\n                            \\n                                Science Fiction\\n                            \\n                        ',\n",
              " '\\n',\n",
              " '\\n',\n",
              " '\\n',\n",
              " '\\n                            \\n                                Sports and Games\\n                            \\n                        ',\n",
              " '\\n',\n",
              " '\\n',\n",
              " '\\n',\n",
              " '\\n                            \\n                                Add a comment\\n                            \\n                        ',\n",
              " '\\n',\n",
              " '\\n',\n",
              " '\\n',\n",
              " '\\n                            \\n                                Fantasy\\n                            \\n                        ',\n",
              " '\\n',\n",
              " '\\n',\n",
              " '\\n',\n",
              " '\\n                            \\n                                New Adult\\n                            \\n                        ',\n",
              " '\\n',\n",
              " '\\n',\n",
              " '\\n',\n",
              " '\\n                            \\n                                Young Adult\\n                            \\n                        ',\n",
              " '\\n',\n",
              " '\\n',\n",
              " '\\n',\n",
              " '\\n                            \\n                                Science\\n                            \\n                        ',\n",
              " '\\n',\n",
              " '\\n',\n",
              " '\\n',\n",
              " '\\n                            \\n                                Poetry\\n                            \\n                        ',\n",
              " '\\n',\n",
              " '\\n',\n",
              " '\\n',\n",
              " '\\n                            \\n                                Paranormal\\n                            \\n                        ',\n",
              " '\\n',\n",
              " '\\n',\n",
              " '\\n',\n",
              " '\\n                            \\n                                Art\\n                            \\n                        ',\n",
              " '\\n',\n",
              " '\\n',\n",
              " '\\n',\n",
              " '\\n                            \\n                                Psychology\\n                            \\n                        ',\n",
              " '\\n',\n",
              " '\\n',\n",
              " '\\n',\n",
              " '\\n                            \\n                                Autobiography\\n                            \\n                        ',\n",
              " '\\n',\n",
              " '\\n',\n",
              " '\\n',\n",
              " '\\n                            \\n                                Parenting\\n                            \\n                        ',\n",
              " '\\n',\n",
              " '\\n',\n",
              " '\\n',\n",
              " '\\n                            \\n                                Adult Fiction\\n                            \\n                        ',\n",
              " '\\n',\n",
              " '\\n',\n",
              " '\\n',\n",
              " '\\n                            \\n                                Humor\\n                            \\n                        ',\n",
              " '\\n',\n",
              " '\\n',\n",
              " '\\n',\n",
              " '\\n                            \\n                                Horror\\n                            \\n                        ',\n",
              " '\\n',\n",
              " '\\n',\n",
              " '\\n',\n",
              " '\\n                            \\n                                History\\n                            \\n                        ',\n",
              " '\\n',\n",
              " '\\n',\n",
              " '\\n',\n",
              " '\\n                            \\n                                Food and Drink\\n                            \\n                        ',\n",
              " '\\n',\n",
              " '\\n',\n",
              " '\\n',\n",
              " '\\n                            \\n                                Christian Fiction\\n                            \\n                        ',\n",
              " '\\n',\n",
              " '\\n',\n",
              " '\\n',\n",
              " '\\n                            \\n                                Business\\n                            \\n                        ',\n",
              " '\\n',\n",
              " '\\n',\n",
              " '\\n',\n",
              " '\\n                            \\n                                Biography\\n                            \\n                        ',\n",
              " '\\n',\n",
              " '\\n',\n",
              " '\\n',\n",
              " '\\n                            \\n                                Thriller\\n                            \\n                        ',\n",
              " '\\n',\n",
              " '\\n',\n",
              " '\\n',\n",
              " '\\n                            \\n                                Contemporary\\n                            \\n                        ',\n",
              " '\\n',\n",
              " '\\n',\n",
              " '\\n',\n",
              " '\\n                            \\n                                Spirituality\\n                            \\n                        ',\n",
              " '\\n',\n",
              " '\\n',\n",
              " '\\n',\n",
              " '\\n                            \\n                                Academic\\n                            \\n                        ',\n",
              " '\\n',\n",
              " '\\n',\n",
              " '\\n',\n",
              " '\\n                            \\n                                Self Help\\n                            \\n                        ',\n",
              " '\\n',\n",
              " '\\n',\n",
              " '\\n',\n",
              " '\\n                            \\n                                Historical\\n                            \\n                        ',\n",
              " '\\n',\n",
              " '\\n',\n",
              " '\\n',\n",
              " '\\n                            \\n                                Christian\\n                            \\n                        ',\n",
              " '\\n',\n",
              " '\\n',\n",
              " '\\n',\n",
              " '\\n                            \\n                                Suspense\\n                            \\n                        ',\n",
              " '\\n',\n",
              " '\\n',\n",
              " '\\n',\n",
              " '\\n                            \\n                                Short Stories\\n                            \\n                        ',\n",
              " '\\n',\n",
              " '\\n',\n",
              " '\\n',\n",
              " '\\n                            \\n                                Novels\\n                            \\n                        ',\n",
              " '\\n',\n",
              " '\\n',\n",
              " '\\n',\n",
              " '\\n                            \\n                                Health\\n                            \\n                        ',\n",
              " '\\n',\n",
              " '\\n',\n",
              " '\\n',\n",
              " '\\n                            \\n                                Politics\\n                            \\n                        ',\n",
              " '\\n',\n",
              " '\\n',\n",
              " '\\n',\n",
              " '\\n                            \\n                                Cultural\\n                            \\n                        ',\n",
              " '\\n',\n",
              " '\\n',\n",
              " '\\n',\n",
              " '\\n                            \\n                                Erotica\\n                            \\n                        ',\n",
              " '\\n',\n",
              " '\\n',\n",
              " '\\n',\n",
              " '\\n                            \\n                                Crime\\n                            \\n                        ',\n",
              " '\\n',\n",
              " '\\n',\n",
              " '\\n',\n",
              " '\\n',\n",
              " '\\n',\n",
              " '\\n',\n",
              " '\\n',\n",
              " '\\n',\n",
              " 'All products',\n",
              " '\\n',\n",
              " '\\n',\n",
              " '\\n',\n",
              " '\\n',\n",
              " '\\n',\n",
              " '\\n',\n",
              " '\\n',\n",
              " '\\n',\n",
              " '\\n',\n",
              " '1000',\n",
              " ' results - showing ',\n",
              " '1',\n",
              " ' to ',\n",
              " '20',\n",
              " '.\\n                \\n            \\n            \\n        \\n    ',\n",
              " '\\n',\n",
              " '\\n',\n",
              " 'Warning!',\n",
              " ' This is a demo website for web scraping purposes. Prices and ratings here were randomly assigned and have no real meaning.',\n",
              " '\\n',\n",
              " '\\n',\n",
              " '\\n',\n",
              " '\\n',\n",
              " '\\n',\n",
              " '\\n',\n",
              " '\\n',\n",
              " '\\n',\n",
              " '\\n',\n",
              " '\\n',\n",
              " '\\n',\n",
              " '\\n',\n",
              " '\\n',\n",
              " '\\n',\n",
              " '\\n',\n",
              " 'A Light in the ...',\n",
              " '\\n',\n",
              " '\\n',\n",
              " '£51.77',\n",
              " '\\n',\n",
              " '\\n',\n",
              " '\\n    \\n        In stock\\n    \\n',\n",
              " '\\n',\n",
              " '\\n',\n",
              " 'Add to basket',\n",
              " '\\n',\n",
              " '\\n',\n",
              " '\\n',\n",
              " '\\n',\n",
              " '\\n',\n",
              " '\\n',\n",
              " '\\n',\n",
              " '\\n',\n",
              " '\\n',\n",
              " '\\n',\n",
              " '\\n',\n",
              " '\\n',\n",
              " '\\n',\n",
              " '\\n',\n",
              " '\\n',\n",
              " '\\n',\n",
              " '\\n',\n",
              " 'Tipping the Velvet',\n",
              " '\\n',\n",
              " '\\n',\n",
              " '£53.74',\n",
              " '\\n',\n",
              " '\\n',\n",
              " '\\n    \\n        In stock\\n    \\n',\n",
              " '\\n',\n",
              " '\\n',\n",
              " 'Add to basket',\n",
              " '\\n',\n",
              " '\\n',\n",
              " '\\n',\n",
              " '\\n',\n",
              " '\\n',\n",
              " '\\n',\n",
              " '\\n',\n",
              " '\\n',\n",
              " '\\n',\n",
              " '\\n',\n",
              " '\\n',\n",
              " '\\n',\n",
              " '\\n',\n",
              " '\\n',\n",
              " '\\n',\n",
              " '\\n',\n",
              " '\\n',\n",
              " 'Soumission',\n",
              " '\\n',\n",
              " '\\n',\n",
              " '£50.10',\n",
              " '\\n',\n",
              " '\\n',\n",
              " '\\n    \\n        In stock\\n    \\n',\n",
              " '\\n',\n",
              " '\\n',\n",
              " 'Add to basket',\n",
              " '\\n',\n",
              " '\\n',\n",
              " '\\n',\n",
              " '\\n',\n",
              " '\\n',\n",
              " '\\n',\n",
              " '\\n',\n",
              " '\\n',\n",
              " '\\n',\n",
              " '\\n',\n",
              " '\\n',\n",
              " '\\n',\n",
              " '\\n',\n",
              " '\\n',\n",
              " '\\n',\n",
              " '\\n',\n",
              " '\\n',\n",
              " 'Sharp Objects',\n",
              " '\\n',\n",
              " '\\n',\n",
              " '£47.82',\n",
              " '\\n',\n",
              " '\\n',\n",
              " '\\n    \\n        In stock\\n    \\n',\n",
              " '\\n',\n",
              " '\\n',\n",
              " 'Add to basket',\n",
              " '\\n',\n",
              " '\\n',\n",
              " '\\n',\n",
              " '\\n',\n",
              " '\\n',\n",
              " '\\n',\n",
              " '\\n',\n",
              " '\\n',\n",
              " '\\n',\n",
              " '\\n',\n",
              " '\\n',\n",
              " '\\n',\n",
              " '\\n',\n",
              " '\\n',\n",
              " '\\n',\n",
              " '\\n',\n",
              " '\\n',\n",
              " 'Sapiens: A Brief History ...',\n",
              " '\\n',\n",
              " '\\n',\n",
              " '£54.23',\n",
              " '\\n',\n",
              " '\\n',\n",
              " '\\n    \\n        In stock\\n    \\n',\n",
              " '\\n',\n",
              " '\\n',\n",
              " 'Add to basket',\n",
              " '\\n',\n",
              " '\\n',\n",
              " '\\n',\n",
              " '\\n',\n",
              " '\\n',\n",
              " '\\n',\n",
              " '\\n',\n",
              " '\\n',\n",
              " '\\n',\n",
              " '\\n',\n",
              " '\\n',\n",
              " '\\n',\n",
              " '\\n',\n",
              " '\\n',\n",
              " '\\n',\n",
              " '\\n',\n",
              " '\\n',\n",
              " 'The Requiem Red',\n",
              " '\\n',\n",
              " '\\n',\n",
              " '£22.65',\n",
              " '\\n',\n",
              " '\\n',\n",
              " '\\n    \\n        In stock\\n    \\n',\n",
              " '\\n',\n",
              " '\\n',\n",
              " 'Add to basket',\n",
              " '\\n',\n",
              " '\\n',\n",
              " '\\n',\n",
              " '\\n',\n",
              " '\\n',\n",
              " '\\n',\n",
              " '\\n',\n",
              " '\\n',\n",
              " '\\n',\n",
              " '\\n',\n",
              " '\\n',\n",
              " '\\n',\n",
              " '\\n',\n",
              " '\\n',\n",
              " '\\n',\n",
              " '\\n',\n",
              " '\\n',\n",
              " 'The Dirty Little Secrets ...',\n",
              " '\\n',\n",
              " '\\n',\n",
              " '£33.34',\n",
              " '\\n',\n",
              " '\\n',\n",
              " '\\n    \\n        In stock\\n    \\n',\n",
              " '\\n',\n",
              " '\\n',\n",
              " 'Add to basket',\n",
              " '\\n',\n",
              " '\\n',\n",
              " '\\n',\n",
              " '\\n',\n",
              " '\\n',\n",
              " '\\n',\n",
              " '\\n',\n",
              " '\\n',\n",
              " '\\n',\n",
              " '\\n',\n",
              " '\\n',\n",
              " '\\n',\n",
              " '\\n',\n",
              " '\\n',\n",
              " '\\n',\n",
              " '\\n',\n",
              " '\\n',\n",
              " 'The Coming Woman: A ...',\n",
              " '\\n',\n",
              " '\\n',\n",
              " '£17.93',\n",
              " '\\n',\n",
              " '\\n',\n",
              " '\\n    \\n        In stock\\n    \\n',\n",
              " '\\n',\n",
              " '\\n',\n",
              " 'Add to basket',\n",
              " '\\n',\n",
              " '\\n',\n",
              " '\\n',\n",
              " '\\n',\n",
              " '\\n',\n",
              " '\\n',\n",
              " '\\n',\n",
              " '\\n',\n",
              " '\\n',\n",
              " '\\n',\n",
              " '\\n',\n",
              " '\\n',\n",
              " '\\n',\n",
              " '\\n',\n",
              " '\\n',\n",
              " '\\n',\n",
              " '\\n',\n",
              " 'The Boys in the ...',\n",
              " '\\n',\n",
              " '\\n',\n",
              " '£22.60',\n",
              " '\\n',\n",
              " '\\n',\n",
              " '\\n    \\n        In stock\\n    \\n',\n",
              " '\\n',\n",
              " '\\n',\n",
              " 'Add to basket',\n",
              " '\\n',\n",
              " '\\n',\n",
              " '\\n',\n",
              " '\\n',\n",
              " '\\n',\n",
              " '\\n',\n",
              " '\\n',\n",
              " '\\n',\n",
              " '\\n',\n",
              " '\\n',\n",
              " '\\n',\n",
              " '\\n',\n",
              " '\\n',\n",
              " '\\n',\n",
              " '\\n',\n",
              " '\\n',\n",
              " '\\n',\n",
              " 'The Black Maria',\n",
              " '\\n',\n",
              " '\\n',\n",
              " '£52.15',\n",
              " '\\n',\n",
              " '\\n',\n",
              " '\\n    \\n        In stock\\n    \\n',\n",
              " '\\n',\n",
              " '\\n',\n",
              " 'Add to basket',\n",
              " '\\n',\n",
              " '\\n',\n",
              " '\\n',\n",
              " '\\n',\n",
              " '\\n',\n",
              " '\\n',\n",
              " '\\n',\n",
              " '\\n',\n",
              " '\\n',\n",
              " '\\n',\n",
              " '\\n',\n",
              " '\\n',\n",
              " '\\n',\n",
              " '\\n',\n",
              " '\\n',\n",
              " '\\n',\n",
              " '\\n',\n",
              " 'Starving Hearts (Triangular Trade ...',\n",
              " '\\n',\n",
              " '\\n',\n",
              " '£13.99',\n",
              " '\\n',\n",
              " '\\n',\n",
              " '\\n    \\n        In stock\\n    \\n',\n",
              " '\\n',\n",
              " '\\n',\n",
              " 'Add to basket',\n",
              " '\\n',\n",
              " '\\n',\n",
              " '\\n',\n",
              " '\\n',\n",
              " '\\n',\n",
              " '\\n',\n",
              " '\\n',\n",
              " '\\n',\n",
              " '\\n',\n",
              " '\\n',\n",
              " '\\n',\n",
              " '\\n',\n",
              " '\\n',\n",
              " '\\n',\n",
              " '\\n',\n",
              " '\\n',\n",
              " '\\n',\n",
              " \"Shakespeare's Sonnets\",\n",
              " '\\n',\n",
              " '\\n',\n",
              " '£20.66',\n",
              " '\\n',\n",
              " '\\n',\n",
              " '\\n    \\n        In stock\\n    \\n',\n",
              " '\\n',\n",
              " '\\n',\n",
              " 'Add to basket',\n",
              " '\\n',\n",
              " '\\n',\n",
              " '\\n',\n",
              " '\\n',\n",
              " '\\n',\n",
              " '\\n',\n",
              " '\\n',\n",
              " '\\n',\n",
              " '\\n',\n",
              " '\\n',\n",
              " '\\n',\n",
              " '\\n',\n",
              " '\\n',\n",
              " '\\n',\n",
              " '\\n',\n",
              " '\\n',\n",
              " '\\n',\n",
              " 'Set Me Free',\n",
              " '\\n',\n",
              " '\\n',\n",
              " '£17.46',\n",
              " '\\n',\n",
              " '\\n',\n",
              " '\\n    \\n        In stock\\n    \\n',\n",
              " '\\n',\n",
              " '\\n',\n",
              " 'Add to basket',\n",
              " '\\n',\n",
              " '\\n',\n",
              " '\\n',\n",
              " '\\n',\n",
              " '\\n',\n",
              " '\\n',\n",
              " '\\n',\n",
              " '\\n',\n",
              " '\\n',\n",
              " '\\n',\n",
              " '\\n',\n",
              " '\\n',\n",
              " '\\n',\n",
              " '\\n',\n",
              " '\\n',\n",
              " '\\n',\n",
              " '\\n',\n",
              " \"Scott Pilgrim's Precious Little ...\",\n",
              " '\\n',\n",
              " '\\n',\n",
              " '£52.29',\n",
              " '\\n',\n",
              " '\\n',\n",
              " '\\n    \\n        In stock\\n    \\n',\n",
              " '\\n',\n",
              " '\\n',\n",
              " 'Add to basket',\n",
              " '\\n',\n",
              " '\\n',\n",
              " '\\n',\n",
              " '\\n',\n",
              " '\\n',\n",
              " '\\n',\n",
              " '\\n',\n",
              " '\\n',\n",
              " '\\n',\n",
              " '\\n',\n",
              " '\\n',\n",
              " '\\n',\n",
              " '\\n',\n",
              " '\\n',\n",
              " '\\n',\n",
              " '\\n',\n",
              " '\\n',\n",
              " 'Rip it Up and ...',\n",
              " '\\n',\n",
              " '\\n',\n",
              " '£35.02',\n",
              " '\\n',\n",
              " '\\n',\n",
              " '\\n    \\n        In stock\\n    \\n',\n",
              " '\\n',\n",
              " '\\n',\n",
              " 'Add to basket',\n",
              " '\\n',\n",
              " '\\n',\n",
              " '\\n',\n",
              " '\\n',\n",
              " '\\n',\n",
              " '\\n',\n",
              " '\\n',\n",
              " '\\n',\n",
              " '\\n',\n",
              " '\\n',\n",
              " '\\n',\n",
              " '\\n',\n",
              " '\\n',\n",
              " '\\n',\n",
              " '\\n',\n",
              " '\\n',\n",
              " '\\n',\n",
              " 'Our Band Could Be ...',\n",
              " '\\n',\n",
              " '\\n',\n",
              " '£57.25',\n",
              " '\\n',\n",
              " '\\n',\n",
              " '\\n    \\n        In stock\\n    \\n',\n",
              " '\\n',\n",
              " '\\n',\n",
              " 'Add to basket',\n",
              " '\\n',\n",
              " '\\n',\n",
              " '\\n',\n",
              " '\\n',\n",
              " '\\n',\n",
              " '\\n',\n",
              " '\\n',\n",
              " '\\n',\n",
              " '\\n',\n",
              " '\\n',\n",
              " '\\n',\n",
              " '\\n',\n",
              " '\\n',\n",
              " '\\n',\n",
              " '\\n',\n",
              " '\\n',\n",
              " '\\n',\n",
              " 'Olio',\n",
              " '\\n',\n",
              " '\\n',\n",
              " '£23.88',\n",
              " '\\n',\n",
              " '\\n',\n",
              " '\\n    \\n        In stock\\n    \\n',\n",
              " '\\n',\n",
              " '\\n',\n",
              " 'Add to basket',\n",
              " '\\n',\n",
              " '\\n',\n",
              " '\\n',\n",
              " '\\n',\n",
              " '\\n',\n",
              " '\\n',\n",
              " '\\n',\n",
              " '\\n',\n",
              " '\\n',\n",
              " '\\n',\n",
              " '\\n',\n",
              " '\\n',\n",
              " '\\n',\n",
              " '\\n',\n",
              " '\\n',\n",
              " '\\n',\n",
              " '\\n',\n",
              " 'Mesaerion: The Best Science ...',\n",
              " '\\n',\n",
              " '\\n',\n",
              " '£37.59',\n",
              " '\\n',\n",
              " '\\n',\n",
              " '\\n    \\n        In stock\\n    \\n',\n",
              " '\\n',\n",
              " '\\n',\n",
              " 'Add to basket',\n",
              " '\\n',\n",
              " '\\n',\n",
              " '\\n',\n",
              " '\\n',\n",
              " '\\n',\n",
              " '\\n',\n",
              " '\\n',\n",
              " '\\n',\n",
              " '\\n',\n",
              " '\\n',\n",
              " '\\n',\n",
              " '\\n',\n",
              " '\\n',\n",
              " '\\n',\n",
              " '\\n',\n",
              " '\\n',\n",
              " '\\n',\n",
              " 'Libertarianism for Beginners',\n",
              " '\\n',\n",
              " '\\n',\n",
              " '£51.33',\n",
              " '\\n',\n",
              " '\\n',\n",
              " '\\n    \\n        In stock\\n    \\n',\n",
              " '\\n',\n",
              " '\\n',\n",
              " 'Add to basket',\n",
              " '\\n',\n",
              " '\\n',\n",
              " '\\n',\n",
              " '\\n',\n",
              " '\\n',\n",
              " '\\n',\n",
              " '\\n',\n",
              " '\\n',\n",
              " '\\n',\n",
              " '\\n',\n",
              " '\\n',\n",
              " '\\n',\n",
              " '\\n',\n",
              " '\\n',\n",
              " '\\n',\n",
              " '\\n',\n",
              " '\\n',\n",
              " \"It's Only the Himalayas\",\n",
              " '\\n',\n",
              " '\\n',\n",
              " '£45.17',\n",
              " '\\n',\n",
              " '\\n',\n",
              " '\\n    \\n        In stock\\n    \\n',\n",
              " '\\n',\n",
              " '\\n',\n",
              " 'Add to basket',\n",
              " '\\n',\n",
              " '\\n',\n",
              " '\\n',\n",
              " '\\n',\n",
              " '\\n',\n",
              " '\\n',\n",
              " '\\n',\n",
              " '\\n',\n",
              " '\\n            \\n                Page 1 of 50\\n            \\n            ',\n",
              " '\\n',\n",
              " 'next',\n",
              " '\\n',\n",
              " '\\n',\n",
              " '\\n',\n",
              " '\\n',\n",
              " '\\n',\n",
              " '\\n',\n",
              " '\\n',\n",
              " '\\n',\n",
              " '\\n',\n",
              " '\\n',\n",
              " '\\n',\n",
              " '\\n',\n",
              " '\\n',\n",
              " '\\n',\n",
              " '\\n',\n",
              " '\\n',\n",
              " '\\n',\n",
              " '\\n',\n",
              " '\\n',\n",
              " '\\n',\n",
              " '\\n',\n",
              " '\\n',\n",
              " '\\n',\n",
              " '\\n']"
            ]
          },
          "metadata": {},
          "execution_count": 155
        }
      ]
    },
    {
      "cell_type": "code",
      "source": [
        "len(all_strings_unstripped), len(all_strings)"
      ],
      "metadata": {
        "colab": {
          "base_uri": "https://localhost:8080/"
        },
        "id": "RHX9k6XU1xtE",
        "outputId": "6d71ed7c-8383-438f-a482-ccbc31925d6e"
      },
      "execution_count": 154,
      "outputs": [
        {
          "output_type": "execute_result",
          "data": {
            "text/plain": [
              "(847, 147)"
            ]
          },
          "metadata": {},
          "execution_count": 154
        }
      ]
    },
    {
      "cell_type": "markdown",
      "source": [
        "#### Search"
      ],
      "metadata": {
        "id": "uzLKzAzG2CFm"
      }
    },
    {
      "cell_type": "markdown",
      "source": [
        "- find() -> like find_all(), but returns only 1st result\n",
        "\n",
        "- find_all()"
      ],
      "metadata": {
        "id": "naoR-k1V2FOz"
      }
    },
    {
      "cell_type": "code",
      "source": [
        "len(soup.find_all())"
      ],
      "metadata": {
        "colab": {
          "base_uri": "https://localhost:8080/"
        },
        "id": "VrBr-vfD10sV",
        "outputId": "32a277a6-89fa-4521-fcc5-bcde276e40b8"
      },
      "execution_count": 156,
      "outputs": [
        {
          "output_type": "execute_result",
          "data": {
            "text/plain": [
              "541"
            ]
          },
          "metadata": {},
          "execution_count": 156
        }
      ]
    },
    {
      "cell_type": "code",
      "source": [
        "soup.find_all('a')"
      ],
      "metadata": {
        "colab": {
          "base_uri": "https://localhost:8080/"
        },
        "collapsed": true,
        "id": "TUcBnVow2bTR",
        "outputId": "6a2f2943-841d-4e21-d9f5-af96208041f4"
      },
      "execution_count": 157,
      "outputs": [
        {
          "output_type": "execute_result",
          "data": {
            "text/plain": [
              "[<a href=\"index.html\">Books to Scrape</a>,\n",
              " <a href=\"index.html\">Home</a>,\n",
              " <a href=\"catalogue/category/books_1/index.html\">\n",
              "                             \n",
              "                                 Books\n",
              "                             \n",
              "                         </a>,\n",
              " <a href=\"catalogue/category/books/travel_2/index.html\">\n",
              "                             \n",
              "                                 Travel\n",
              "                             \n",
              "                         </a>,\n",
              " <a href=\"catalogue/category/books/mystery_3/index.html\">\n",
              "                             \n",
              "                                 Mystery\n",
              "                             \n",
              "                         </a>,\n",
              " <a href=\"catalogue/category/books/historical-fiction_4/index.html\">\n",
              "                             \n",
              "                                 Historical Fiction\n",
              "                             \n",
              "                         </a>,\n",
              " <a href=\"catalogue/category/books/sequential-art_5/index.html\">\n",
              "                             \n",
              "                                 Sequential Art\n",
              "                             \n",
              "                         </a>,\n",
              " <a href=\"catalogue/category/books/classics_6/index.html\">\n",
              "                             \n",
              "                                 Classics\n",
              "                             \n",
              "                         </a>,\n",
              " <a href=\"catalogue/category/books/philosophy_7/index.html\">\n",
              "                             \n",
              "                                 Philosophy\n",
              "                             \n",
              "                         </a>,\n",
              " <a href=\"catalogue/category/books/romance_8/index.html\">\n",
              "                             \n",
              "                                 Romance\n",
              "                             \n",
              "                         </a>,\n",
              " <a href=\"catalogue/category/books/womens-fiction_9/index.html\">\n",
              "                             \n",
              "                                 Womens Fiction\n",
              "                             \n",
              "                         </a>,\n",
              " <a href=\"catalogue/category/books/fiction_10/index.html\">\n",
              "                             \n",
              "                                 Fiction\n",
              "                             \n",
              "                         </a>,\n",
              " <a href=\"catalogue/category/books/childrens_11/index.html\">\n",
              "                             \n",
              "                                 Childrens\n",
              "                             \n",
              "                         </a>,\n",
              " <a href=\"catalogue/category/books/religion_12/index.html\">\n",
              "                             \n",
              "                                 Religion\n",
              "                             \n",
              "                         </a>,\n",
              " <a href=\"catalogue/category/books/nonfiction_13/index.html\">\n",
              "                             \n",
              "                                 Nonfiction\n",
              "                             \n",
              "                         </a>,\n",
              " <a href=\"catalogue/category/books/music_14/index.html\">\n",
              "                             \n",
              "                                 Music\n",
              "                             \n",
              "                         </a>,\n",
              " <a href=\"catalogue/category/books/default_15/index.html\">\n",
              "                             \n",
              "                                 Default\n",
              "                             \n",
              "                         </a>,\n",
              " <a href=\"catalogue/category/books/science-fiction_16/index.html\">\n",
              "                             \n",
              "                                 Science Fiction\n",
              "                             \n",
              "                         </a>,\n",
              " <a href=\"catalogue/category/books/sports-and-games_17/index.html\">\n",
              "                             \n",
              "                                 Sports and Games\n",
              "                             \n",
              "                         </a>,\n",
              " <a href=\"catalogue/category/books/add-a-comment_18/index.html\">\n",
              "                             \n",
              "                                 Add a comment\n",
              "                             \n",
              "                         </a>,\n",
              " <a href=\"catalogue/category/books/fantasy_19/index.html\">\n",
              "                             \n",
              "                                 Fantasy\n",
              "                             \n",
              "                         </a>,\n",
              " <a href=\"catalogue/category/books/new-adult_20/index.html\">\n",
              "                             \n",
              "                                 New Adult\n",
              "                             \n",
              "                         </a>,\n",
              " <a href=\"catalogue/category/books/young-adult_21/index.html\">\n",
              "                             \n",
              "                                 Young Adult\n",
              "                             \n",
              "                         </a>,\n",
              " <a href=\"catalogue/category/books/science_22/index.html\">\n",
              "                             \n",
              "                                 Science\n",
              "                             \n",
              "                         </a>,\n",
              " <a href=\"catalogue/category/books/poetry_23/index.html\">\n",
              "                             \n",
              "                                 Poetry\n",
              "                             \n",
              "                         </a>,\n",
              " <a href=\"catalogue/category/books/paranormal_24/index.html\">\n",
              "                             \n",
              "                                 Paranormal\n",
              "                             \n",
              "                         </a>,\n",
              " <a href=\"catalogue/category/books/art_25/index.html\">\n",
              "                             \n",
              "                                 Art\n",
              "                             \n",
              "                         </a>,\n",
              " <a href=\"catalogue/category/books/psychology_26/index.html\">\n",
              "                             \n",
              "                                 Psychology\n",
              "                             \n",
              "                         </a>,\n",
              " <a href=\"catalogue/category/books/autobiography_27/index.html\">\n",
              "                             \n",
              "                                 Autobiography\n",
              "                             \n",
              "                         </a>,\n",
              " <a href=\"catalogue/category/books/parenting_28/index.html\">\n",
              "                             \n",
              "                                 Parenting\n",
              "                             \n",
              "                         </a>,\n",
              " <a href=\"catalogue/category/books/adult-fiction_29/index.html\">\n",
              "                             \n",
              "                                 Adult Fiction\n",
              "                             \n",
              "                         </a>,\n",
              " <a href=\"catalogue/category/books/humor_30/index.html\">\n",
              "                             \n",
              "                                 Humor\n",
              "                             \n",
              "                         </a>,\n",
              " <a href=\"catalogue/category/books/horror_31/index.html\">\n",
              "                             \n",
              "                                 Horror\n",
              "                             \n",
              "                         </a>,\n",
              " <a href=\"catalogue/category/books/history_32/index.html\">\n",
              "                             \n",
              "                                 History\n",
              "                             \n",
              "                         </a>,\n",
              " <a href=\"catalogue/category/books/food-and-drink_33/index.html\">\n",
              "                             \n",
              "                                 Food and Drink\n",
              "                             \n",
              "                         </a>,\n",
              " <a href=\"catalogue/category/books/christian-fiction_34/index.html\">\n",
              "                             \n",
              "                                 Christian Fiction\n",
              "                             \n",
              "                         </a>,\n",
              " <a href=\"catalogue/category/books/business_35/index.html\">\n",
              "                             \n",
              "                                 Business\n",
              "                             \n",
              "                         </a>,\n",
              " <a href=\"catalogue/category/books/biography_36/index.html\">\n",
              "                             \n",
              "                                 Biography\n",
              "                             \n",
              "                         </a>,\n",
              " <a href=\"catalogue/category/books/thriller_37/index.html\">\n",
              "                             \n",
              "                                 Thriller\n",
              "                             \n",
              "                         </a>,\n",
              " <a href=\"catalogue/category/books/contemporary_38/index.html\">\n",
              "                             \n",
              "                                 Contemporary\n",
              "                             \n",
              "                         </a>,\n",
              " <a href=\"catalogue/category/books/spirituality_39/index.html\">\n",
              "                             \n",
              "                                 Spirituality\n",
              "                             \n",
              "                         </a>,\n",
              " <a href=\"catalogue/category/books/academic_40/index.html\">\n",
              "                             \n",
              "                                 Academic\n",
              "                             \n",
              "                         </a>,\n",
              " <a href=\"catalogue/category/books/self-help_41/index.html\">\n",
              "                             \n",
              "                                 Self Help\n",
              "                             \n",
              "                         </a>,\n",
              " <a href=\"catalogue/category/books/historical_42/index.html\">\n",
              "                             \n",
              "                                 Historical\n",
              "                             \n",
              "                         </a>,\n",
              " <a href=\"catalogue/category/books/christian_43/index.html\">\n",
              "                             \n",
              "                                 Christian\n",
              "                             \n",
              "                         </a>,\n",
              " <a href=\"catalogue/category/books/suspense_44/index.html\">\n",
              "                             \n",
              "                                 Suspense\n",
              "                             \n",
              "                         </a>,\n",
              " <a href=\"catalogue/category/books/short-stories_45/index.html\">\n",
              "                             \n",
              "                                 Short Stories\n",
              "                             \n",
              "                         </a>,\n",
              " <a href=\"catalogue/category/books/novels_46/index.html\">\n",
              "                             \n",
              "                                 Novels\n",
              "                             \n",
              "                         </a>,\n",
              " <a href=\"catalogue/category/books/health_47/index.html\">\n",
              "                             \n",
              "                                 Health\n",
              "                             \n",
              "                         </a>,\n",
              " <a href=\"catalogue/category/books/politics_48/index.html\">\n",
              "                             \n",
              "                                 Politics\n",
              "                             \n",
              "                         </a>,\n",
              " <a href=\"catalogue/category/books/cultural_49/index.html\">\n",
              "                             \n",
              "                                 Cultural\n",
              "                             \n",
              "                         </a>,\n",
              " <a href=\"catalogue/category/books/erotica_50/index.html\">\n",
              "                             \n",
              "                                 Erotica\n",
              "                             \n",
              "                         </a>,\n",
              " <a href=\"catalogue/category/books/crime_51/index.html\">\n",
              "                             \n",
              "                                 Crime\n",
              "                             \n",
              "                         </a>,\n",
              " <a href=\"catalogue/a-light-in-the-attic_1000/index.html\"><img alt=\"A Light in the Attic\" class=\"thumbnail\" src=\"media/cache/2c/da/2cdad67c44b002e7ead0cc35693c0e8b.jpg\"/></a>,\n",
              " <a href=\"catalogue/a-light-in-the-attic_1000/index.html\" title=\"A Light in the Attic\">A Light in the ...</a>,\n",
              " <a href=\"catalogue/tipping-the-velvet_999/index.html\"><img alt=\"Tipping the Velvet\" class=\"thumbnail\" src=\"media/cache/26/0c/260c6ae16bce31c8f8c95daddd9f4a1c.jpg\"/></a>,\n",
              " <a href=\"catalogue/tipping-the-velvet_999/index.html\" title=\"Tipping the Velvet\">Tipping the Velvet</a>,\n",
              " <a href=\"catalogue/soumission_998/index.html\"><img alt=\"Soumission\" class=\"thumbnail\" src=\"media/cache/3e/ef/3eef99c9d9adef34639f510662022830.jpg\"/></a>,\n",
              " <a href=\"catalogue/soumission_998/index.html\" title=\"Soumission\">Soumission</a>,\n",
              " <a href=\"catalogue/sharp-objects_997/index.html\"><img alt=\"Sharp Objects\" class=\"thumbnail\" src=\"media/cache/32/51/3251cf3a3412f53f339e42cac2134093.jpg\"/></a>,\n",
              " <a href=\"catalogue/sharp-objects_997/index.html\" title=\"Sharp Objects\">Sharp Objects</a>,\n",
              " <a href=\"catalogue/sapiens-a-brief-history-of-humankind_996/index.html\"><img alt=\"Sapiens: A Brief History of Humankind\" class=\"thumbnail\" src=\"media/cache/be/a5/bea5697f2534a2f86a3ef27b5a8c12a6.jpg\"/></a>,\n",
              " <a href=\"catalogue/sapiens-a-brief-history-of-humankind_996/index.html\" title=\"Sapiens: A Brief History of Humankind\">Sapiens: A Brief History ...</a>,\n",
              " <a href=\"catalogue/the-requiem-red_995/index.html\"><img alt=\"The Requiem Red\" class=\"thumbnail\" src=\"media/cache/68/33/68339b4c9bc034267e1da611ab3b34f8.jpg\"/></a>,\n",
              " <a href=\"catalogue/the-requiem-red_995/index.html\" title=\"The Requiem Red\">The Requiem Red</a>,\n",
              " <a href=\"catalogue/the-dirty-little-secrets-of-getting-your-dream-job_994/index.html\"><img alt=\"The Dirty Little Secrets of Getting Your Dream Job\" class=\"thumbnail\" src=\"media/cache/92/27/92274a95b7c251fea59a2b8a78275ab4.jpg\"/></a>,\n",
              " <a href=\"catalogue/the-dirty-little-secrets-of-getting-your-dream-job_994/index.html\" title=\"The Dirty Little Secrets of Getting Your Dream Job\">The Dirty Little Secrets ...</a>,\n",
              " <a href=\"catalogue/the-coming-woman-a-novel-based-on-the-life-of-the-infamous-feminist-victoria-woodhull_993/index.html\"><img alt=\"The Coming Woman: A Novel Based on the Life of the Infamous Feminist, Victoria Woodhull\" class=\"thumbnail\" src=\"media/cache/3d/54/3d54940e57e662c4dd1f3ff00c78cc64.jpg\"/></a>,\n",
              " <a href=\"catalogue/the-coming-woman-a-novel-based-on-the-life-of-the-infamous-feminist-victoria-woodhull_993/index.html\" title=\"The Coming Woman: A Novel Based on the Life of the Infamous Feminist, Victoria Woodhull\">The Coming Woman: A ...</a>,\n",
              " <a href=\"catalogue/the-boys-in-the-boat-nine-americans-and-their-epic-quest-for-gold-at-the-1936-berlin-olympics_992/index.html\"><img alt=\"The Boys in the Boat: Nine Americans and Their Epic Quest for Gold at the 1936 Berlin Olympics\" class=\"thumbnail\" src=\"media/cache/66/88/66883b91f6804b2323c8369331cb7dd1.jpg\"/></a>,\n",
              " <a href=\"catalogue/the-boys-in-the-boat-nine-americans-and-their-epic-quest-for-gold-at-the-1936-berlin-olympics_992/index.html\" title=\"The Boys in the Boat: Nine Americans and Their Epic Quest for Gold at the 1936 Berlin Olympics\">The Boys in the ...</a>,\n",
              " <a href=\"catalogue/the-black-maria_991/index.html\"><img alt=\"The Black Maria\" class=\"thumbnail\" src=\"media/cache/58/46/5846057e28022268153beff6d352b06c.jpg\"/></a>,\n",
              " <a href=\"catalogue/the-black-maria_991/index.html\" title=\"The Black Maria\">The Black Maria</a>,\n",
              " <a href=\"catalogue/starving-hearts-triangular-trade-trilogy-1_990/index.html\"><img alt=\"Starving Hearts (Triangular Trade Trilogy, #1)\" class=\"thumbnail\" src=\"media/cache/be/f4/bef44da28c98f905a3ebec0b87be8530.jpg\"/></a>,\n",
              " <a href=\"catalogue/starving-hearts-triangular-trade-trilogy-1_990/index.html\" title=\"Starving Hearts (Triangular Trade Trilogy, #1)\">Starving Hearts (Triangular Trade ...</a>,\n",
              " <a href=\"catalogue/shakespeares-sonnets_989/index.html\"><img alt=\"Shakespeare's Sonnets\" class=\"thumbnail\" src=\"media/cache/10/48/1048f63d3b5061cd2f424d20b3f9b666.jpg\"/></a>,\n",
              " <a href=\"catalogue/shakespeares-sonnets_989/index.html\" title=\"Shakespeare's Sonnets\">Shakespeare's Sonnets</a>,\n",
              " <a href=\"catalogue/set-me-free_988/index.html\"><img alt=\"Set Me Free\" class=\"thumbnail\" src=\"media/cache/5b/88/5b88c52633f53cacf162c15f4f823153.jpg\"/></a>,\n",
              " <a href=\"catalogue/set-me-free_988/index.html\" title=\"Set Me Free\">Set Me Free</a>,\n",
              " <a href=\"catalogue/scott-pilgrims-precious-little-life-scott-pilgrim-1_987/index.html\"><img alt=\"Scott Pilgrim's Precious Little Life (Scott Pilgrim #1)\" class=\"thumbnail\" src=\"media/cache/94/b1/94b1b8b244bce9677c2f29ccc890d4d2.jpg\"/></a>,\n",
              " <a href=\"catalogue/scott-pilgrims-precious-little-life-scott-pilgrim-1_987/index.html\" title=\"Scott Pilgrim's Precious Little Life (Scott Pilgrim #1)\">Scott Pilgrim's Precious Little ...</a>,\n",
              " <a href=\"catalogue/rip-it-up-and-start-again_986/index.html\"><img alt=\"Rip it Up and Start Again\" class=\"thumbnail\" src=\"media/cache/81/c4/81c4a973364e17d01f217e1188253d5e.jpg\"/></a>,\n",
              " <a href=\"catalogue/rip-it-up-and-start-again_986/index.html\" title=\"Rip it Up and Start Again\">Rip it Up and ...</a>,\n",
              " <a href=\"catalogue/our-band-could-be-your-life-scenes-from-the-american-indie-underground-1981-1991_985/index.html\"><img alt=\"Our Band Could Be Your Life: Scenes from the American Indie Underground, 1981-1991\" class=\"thumbnail\" src=\"media/cache/54/60/54607fe8945897cdcced0044103b10b6.jpg\"/></a>,\n",
              " <a href=\"catalogue/our-band-could-be-your-life-scenes-from-the-american-indie-underground-1981-1991_985/index.html\" title=\"Our Band Could Be Your Life: Scenes from the American Indie Underground, 1981-1991\">Our Band Could Be ...</a>,\n",
              " <a href=\"catalogue/olio_984/index.html\"><img alt=\"Olio\" class=\"thumbnail\" src=\"media/cache/55/33/553310a7162dfbc2c6d19a84da0df9e1.jpg\"/></a>,\n",
              " <a href=\"catalogue/olio_984/index.html\" title=\"Olio\">Olio</a>,\n",
              " <a href=\"catalogue/mesaerion-the-best-science-fiction-stories-1800-1849_983/index.html\"><img alt=\"Mesaerion: The Best Science Fiction Stories 1800-1849\" class=\"thumbnail\" src=\"media/cache/09/a3/09a3aef48557576e1a85ba7efea8ecb7.jpg\"/></a>,\n",
              " <a href=\"catalogue/mesaerion-the-best-science-fiction-stories-1800-1849_983/index.html\" title=\"Mesaerion: The Best Science Fiction Stories 1800-1849\">Mesaerion: The Best Science ...</a>,\n",
              " <a href=\"catalogue/libertarianism-for-beginners_982/index.html\"><img alt=\"Libertarianism for Beginners\" class=\"thumbnail\" src=\"media/cache/0b/bc/0bbcd0a6f4bcd81ccb1049a52736406e.jpg\"/></a>,\n",
              " <a href=\"catalogue/libertarianism-for-beginners_982/index.html\" title=\"Libertarianism for Beginners\">Libertarianism for Beginners</a>,\n",
              " <a href=\"catalogue/its-only-the-himalayas_981/index.html\"><img alt=\"It's Only the Himalayas\" class=\"thumbnail\" src=\"media/cache/27/a5/27a53d0bb95bdd88288eaf66c9230d7e.jpg\"/></a>,\n",
              " <a href=\"catalogue/its-only-the-himalayas_981/index.html\" title=\"It's Only the Himalayas\">It's Only the Himalayas</a>,\n",
              " <a href=\"catalogue/page-2.html\">next</a>]"
            ]
          },
          "metadata": {},
          "execution_count": 157
        }
      ]
    },
    {
      "cell_type": "code",
      "source": [
        "len(soup.find_all('a'))"
      ],
      "metadata": {
        "colab": {
          "base_uri": "https://localhost:8080/"
        },
        "id": "ssPdfE-02e5S",
        "outputId": "346ef2c2-08e3-4904-d97a-e4df4646a578"
      },
      "execution_count": 158,
      "outputs": [
        {
          "output_type": "execute_result",
          "data": {
            "text/plain": [
              "94"
            ]
          },
          "metadata": {},
          "execution_count": 158
        }
      ]
    },
    {
      "cell_type": "code",
      "source": [
        "soup.find_all(['a','p'])"
      ],
      "metadata": {
        "colab": {
          "base_uri": "https://localhost:8080/"
        },
        "collapsed": true,
        "id": "eDO39HmF2ioN",
        "outputId": "bc4fd257-5e7c-4eab-848a-09ae19fffb8a"
      },
      "execution_count": 159,
      "outputs": [
        {
          "output_type": "execute_result",
          "data": {
            "text/plain": [
              "[<a href=\"index.html\">Books to Scrape</a>,\n",
              " <a href=\"index.html\">Home</a>,\n",
              " <a href=\"catalogue/category/books_1/index.html\">\n",
              "                             \n",
              "                                 Books\n",
              "                             \n",
              "                         </a>,\n",
              " <a href=\"catalogue/category/books/travel_2/index.html\">\n",
              "                             \n",
              "                                 Travel\n",
              "                             \n",
              "                         </a>,\n",
              " <a href=\"catalogue/category/books/mystery_3/index.html\">\n",
              "                             \n",
              "                                 Mystery\n",
              "                             \n",
              "                         </a>,\n",
              " <a href=\"catalogue/category/books/historical-fiction_4/index.html\">\n",
              "                             \n",
              "                                 Historical Fiction\n",
              "                             \n",
              "                         </a>,\n",
              " <a href=\"catalogue/category/books/sequential-art_5/index.html\">\n",
              "                             \n",
              "                                 Sequential Art\n",
              "                             \n",
              "                         </a>,\n",
              " <a href=\"catalogue/category/books/classics_6/index.html\">\n",
              "                             \n",
              "                                 Classics\n",
              "                             \n",
              "                         </a>,\n",
              " <a href=\"catalogue/category/books/philosophy_7/index.html\">\n",
              "                             \n",
              "                                 Philosophy\n",
              "                             \n",
              "                         </a>,\n",
              " <a href=\"catalogue/category/books/romance_8/index.html\">\n",
              "                             \n",
              "                                 Romance\n",
              "                             \n",
              "                         </a>,\n",
              " <a href=\"catalogue/category/books/womens-fiction_9/index.html\">\n",
              "                             \n",
              "                                 Womens Fiction\n",
              "                             \n",
              "                         </a>,\n",
              " <a href=\"catalogue/category/books/fiction_10/index.html\">\n",
              "                             \n",
              "                                 Fiction\n",
              "                             \n",
              "                         </a>,\n",
              " <a href=\"catalogue/category/books/childrens_11/index.html\">\n",
              "                             \n",
              "                                 Childrens\n",
              "                             \n",
              "                         </a>,\n",
              " <a href=\"catalogue/category/books/religion_12/index.html\">\n",
              "                             \n",
              "                                 Religion\n",
              "                             \n",
              "                         </a>,\n",
              " <a href=\"catalogue/category/books/nonfiction_13/index.html\">\n",
              "                             \n",
              "                                 Nonfiction\n",
              "                             \n",
              "                         </a>,\n",
              " <a href=\"catalogue/category/books/music_14/index.html\">\n",
              "                             \n",
              "                                 Music\n",
              "                             \n",
              "                         </a>,\n",
              " <a href=\"catalogue/category/books/default_15/index.html\">\n",
              "                             \n",
              "                                 Default\n",
              "                             \n",
              "                         </a>,\n",
              " <a href=\"catalogue/category/books/science-fiction_16/index.html\">\n",
              "                             \n",
              "                                 Science Fiction\n",
              "                             \n",
              "                         </a>,\n",
              " <a href=\"catalogue/category/books/sports-and-games_17/index.html\">\n",
              "                             \n",
              "                                 Sports and Games\n",
              "                             \n",
              "                         </a>,\n",
              " <a href=\"catalogue/category/books/add-a-comment_18/index.html\">\n",
              "                             \n",
              "                                 Add a comment\n",
              "                             \n",
              "                         </a>,\n",
              " <a href=\"catalogue/category/books/fantasy_19/index.html\">\n",
              "                             \n",
              "                                 Fantasy\n",
              "                             \n",
              "                         </a>,\n",
              " <a href=\"catalogue/category/books/new-adult_20/index.html\">\n",
              "                             \n",
              "                                 New Adult\n",
              "                             \n",
              "                         </a>,\n",
              " <a href=\"catalogue/category/books/young-adult_21/index.html\">\n",
              "                             \n",
              "                                 Young Adult\n",
              "                             \n",
              "                         </a>,\n",
              " <a href=\"catalogue/category/books/science_22/index.html\">\n",
              "                             \n",
              "                                 Science\n",
              "                             \n",
              "                         </a>,\n",
              " <a href=\"catalogue/category/books/poetry_23/index.html\">\n",
              "                             \n",
              "                                 Poetry\n",
              "                             \n",
              "                         </a>,\n",
              " <a href=\"catalogue/category/books/paranormal_24/index.html\">\n",
              "                             \n",
              "                                 Paranormal\n",
              "                             \n",
              "                         </a>,\n",
              " <a href=\"catalogue/category/books/art_25/index.html\">\n",
              "                             \n",
              "                                 Art\n",
              "                             \n",
              "                         </a>,\n",
              " <a href=\"catalogue/category/books/psychology_26/index.html\">\n",
              "                             \n",
              "                                 Psychology\n",
              "                             \n",
              "                         </a>,\n",
              " <a href=\"catalogue/category/books/autobiography_27/index.html\">\n",
              "                             \n",
              "                                 Autobiography\n",
              "                             \n",
              "                         </a>,\n",
              " <a href=\"catalogue/category/books/parenting_28/index.html\">\n",
              "                             \n",
              "                                 Parenting\n",
              "                             \n",
              "                         </a>,\n",
              " <a href=\"catalogue/category/books/adult-fiction_29/index.html\">\n",
              "                             \n",
              "                                 Adult Fiction\n",
              "                             \n",
              "                         </a>,\n",
              " <a href=\"catalogue/category/books/humor_30/index.html\">\n",
              "                             \n",
              "                                 Humor\n",
              "                             \n",
              "                         </a>,\n",
              " <a href=\"catalogue/category/books/horror_31/index.html\">\n",
              "                             \n",
              "                                 Horror\n",
              "                             \n",
              "                         </a>,\n",
              " <a href=\"catalogue/category/books/history_32/index.html\">\n",
              "                             \n",
              "                                 History\n",
              "                             \n",
              "                         </a>,\n",
              " <a href=\"catalogue/category/books/food-and-drink_33/index.html\">\n",
              "                             \n",
              "                                 Food and Drink\n",
              "                             \n",
              "                         </a>,\n",
              " <a href=\"catalogue/category/books/christian-fiction_34/index.html\">\n",
              "                             \n",
              "                                 Christian Fiction\n",
              "                             \n",
              "                         </a>,\n",
              " <a href=\"catalogue/category/books/business_35/index.html\">\n",
              "                             \n",
              "                                 Business\n",
              "                             \n",
              "                         </a>,\n",
              " <a href=\"catalogue/category/books/biography_36/index.html\">\n",
              "                             \n",
              "                                 Biography\n",
              "                             \n",
              "                         </a>,\n",
              " <a href=\"catalogue/category/books/thriller_37/index.html\">\n",
              "                             \n",
              "                                 Thriller\n",
              "                             \n",
              "                         </a>,\n",
              " <a href=\"catalogue/category/books/contemporary_38/index.html\">\n",
              "                             \n",
              "                                 Contemporary\n",
              "                             \n",
              "                         </a>,\n",
              " <a href=\"catalogue/category/books/spirituality_39/index.html\">\n",
              "                             \n",
              "                                 Spirituality\n",
              "                             \n",
              "                         </a>,\n",
              " <a href=\"catalogue/category/books/academic_40/index.html\">\n",
              "                             \n",
              "                                 Academic\n",
              "                             \n",
              "                         </a>,\n",
              " <a href=\"catalogue/category/books/self-help_41/index.html\">\n",
              "                             \n",
              "                                 Self Help\n",
              "                             \n",
              "                         </a>,\n",
              " <a href=\"catalogue/category/books/historical_42/index.html\">\n",
              "                             \n",
              "                                 Historical\n",
              "                             \n",
              "                         </a>,\n",
              " <a href=\"catalogue/category/books/christian_43/index.html\">\n",
              "                             \n",
              "                                 Christian\n",
              "                             \n",
              "                         </a>,\n",
              " <a href=\"catalogue/category/books/suspense_44/index.html\">\n",
              "                             \n",
              "                                 Suspense\n",
              "                             \n",
              "                         </a>,\n",
              " <a href=\"catalogue/category/books/short-stories_45/index.html\">\n",
              "                             \n",
              "                                 Short Stories\n",
              "                             \n",
              "                         </a>,\n",
              " <a href=\"catalogue/category/books/novels_46/index.html\">\n",
              "                             \n",
              "                                 Novels\n",
              "                             \n",
              "                         </a>,\n",
              " <a href=\"catalogue/category/books/health_47/index.html\">\n",
              "                             \n",
              "                                 Health\n",
              "                             \n",
              "                         </a>,\n",
              " <a href=\"catalogue/category/books/politics_48/index.html\">\n",
              "                             \n",
              "                                 Politics\n",
              "                             \n",
              "                         </a>,\n",
              " <a href=\"catalogue/category/books/cultural_49/index.html\">\n",
              "                             \n",
              "                                 Cultural\n",
              "                             \n",
              "                         </a>,\n",
              " <a href=\"catalogue/category/books/erotica_50/index.html\">\n",
              "                             \n",
              "                                 Erotica\n",
              "                             \n",
              "                         </a>,\n",
              " <a href=\"catalogue/category/books/crime_51/index.html\">\n",
              "                             \n",
              "                                 Crime\n",
              "                             \n",
              "                         </a>,\n",
              " <a href=\"catalogue/a-light-in-the-attic_1000/index.html\"><img alt=\"A Light in the Attic\" class=\"thumbnail\" src=\"media/cache/2c/da/2cdad67c44b002e7ead0cc35693c0e8b.jpg\"/></a>,\n",
              " <p class=\"star-rating Three\">\n",
              " <i class=\"icon-star\"></i>\n",
              " <i class=\"icon-star\"></i>\n",
              " <i class=\"icon-star\"></i>\n",
              " <i class=\"icon-star\"></i>\n",
              " <i class=\"icon-star\"></i>\n",
              " </p>,\n",
              " <a href=\"catalogue/a-light-in-the-attic_1000/index.html\" title=\"A Light in the Attic\">A Light in the ...</a>,\n",
              " <p class=\"price_color\">£51.77</p>,\n",
              " <p class=\"instock availability\">\n",
              " <i class=\"icon-ok\"></i>\n",
              "     \n",
              "         In stock\n",
              "     \n",
              " </p>,\n",
              " <a href=\"catalogue/tipping-the-velvet_999/index.html\"><img alt=\"Tipping the Velvet\" class=\"thumbnail\" src=\"media/cache/26/0c/260c6ae16bce31c8f8c95daddd9f4a1c.jpg\"/></a>,\n",
              " <p class=\"star-rating One\">\n",
              " <i class=\"icon-star\"></i>\n",
              " <i class=\"icon-star\"></i>\n",
              " <i class=\"icon-star\"></i>\n",
              " <i class=\"icon-star\"></i>\n",
              " <i class=\"icon-star\"></i>\n",
              " </p>,\n",
              " <a href=\"catalogue/tipping-the-velvet_999/index.html\" title=\"Tipping the Velvet\">Tipping the Velvet</a>,\n",
              " <p class=\"price_color\">£53.74</p>,\n",
              " <p class=\"instock availability\">\n",
              " <i class=\"icon-ok\"></i>\n",
              "     \n",
              "         In stock\n",
              "     \n",
              " </p>,\n",
              " <a href=\"catalogue/soumission_998/index.html\"><img alt=\"Soumission\" class=\"thumbnail\" src=\"media/cache/3e/ef/3eef99c9d9adef34639f510662022830.jpg\"/></a>,\n",
              " <p class=\"star-rating One\">\n",
              " <i class=\"icon-star\"></i>\n",
              " <i class=\"icon-star\"></i>\n",
              " <i class=\"icon-star\"></i>\n",
              " <i class=\"icon-star\"></i>\n",
              " <i class=\"icon-star\"></i>\n",
              " </p>,\n",
              " <a href=\"catalogue/soumission_998/index.html\" title=\"Soumission\">Soumission</a>,\n",
              " <p class=\"price_color\">£50.10</p>,\n",
              " <p class=\"instock availability\">\n",
              " <i class=\"icon-ok\"></i>\n",
              "     \n",
              "         In stock\n",
              "     \n",
              " </p>,\n",
              " <a href=\"catalogue/sharp-objects_997/index.html\"><img alt=\"Sharp Objects\" class=\"thumbnail\" src=\"media/cache/32/51/3251cf3a3412f53f339e42cac2134093.jpg\"/></a>,\n",
              " <p class=\"star-rating Four\">\n",
              " <i class=\"icon-star\"></i>\n",
              " <i class=\"icon-star\"></i>\n",
              " <i class=\"icon-star\"></i>\n",
              " <i class=\"icon-star\"></i>\n",
              " <i class=\"icon-star\"></i>\n",
              " </p>,\n",
              " <a href=\"catalogue/sharp-objects_997/index.html\" title=\"Sharp Objects\">Sharp Objects</a>,\n",
              " <p class=\"price_color\">£47.82</p>,\n",
              " <p class=\"instock availability\">\n",
              " <i class=\"icon-ok\"></i>\n",
              "     \n",
              "         In stock\n",
              "     \n",
              " </p>,\n",
              " <a href=\"catalogue/sapiens-a-brief-history-of-humankind_996/index.html\"><img alt=\"Sapiens: A Brief History of Humankind\" class=\"thumbnail\" src=\"media/cache/be/a5/bea5697f2534a2f86a3ef27b5a8c12a6.jpg\"/></a>,\n",
              " <p class=\"star-rating Five\">\n",
              " <i class=\"icon-star\"></i>\n",
              " <i class=\"icon-star\"></i>\n",
              " <i class=\"icon-star\"></i>\n",
              " <i class=\"icon-star\"></i>\n",
              " <i class=\"icon-star\"></i>\n",
              " </p>,\n",
              " <a href=\"catalogue/sapiens-a-brief-history-of-humankind_996/index.html\" title=\"Sapiens: A Brief History of Humankind\">Sapiens: A Brief History ...</a>,\n",
              " <p class=\"price_color\">£54.23</p>,\n",
              " <p class=\"instock availability\">\n",
              " <i class=\"icon-ok\"></i>\n",
              "     \n",
              "         In stock\n",
              "     \n",
              " </p>,\n",
              " <a href=\"catalogue/the-requiem-red_995/index.html\"><img alt=\"The Requiem Red\" class=\"thumbnail\" src=\"media/cache/68/33/68339b4c9bc034267e1da611ab3b34f8.jpg\"/></a>,\n",
              " <p class=\"star-rating One\">\n",
              " <i class=\"icon-star\"></i>\n",
              " <i class=\"icon-star\"></i>\n",
              " <i class=\"icon-star\"></i>\n",
              " <i class=\"icon-star\"></i>\n",
              " <i class=\"icon-star\"></i>\n",
              " </p>,\n",
              " <a href=\"catalogue/the-requiem-red_995/index.html\" title=\"The Requiem Red\">The Requiem Red</a>,\n",
              " <p class=\"price_color\">£22.65</p>,\n",
              " <p class=\"instock availability\">\n",
              " <i class=\"icon-ok\"></i>\n",
              "     \n",
              "         In stock\n",
              "     \n",
              " </p>,\n",
              " <a href=\"catalogue/the-dirty-little-secrets-of-getting-your-dream-job_994/index.html\"><img alt=\"The Dirty Little Secrets of Getting Your Dream Job\" class=\"thumbnail\" src=\"media/cache/92/27/92274a95b7c251fea59a2b8a78275ab4.jpg\"/></a>,\n",
              " <p class=\"star-rating Four\">\n",
              " <i class=\"icon-star\"></i>\n",
              " <i class=\"icon-star\"></i>\n",
              " <i class=\"icon-star\"></i>\n",
              " <i class=\"icon-star\"></i>\n",
              " <i class=\"icon-star\"></i>\n",
              " </p>,\n",
              " <a href=\"catalogue/the-dirty-little-secrets-of-getting-your-dream-job_994/index.html\" title=\"The Dirty Little Secrets of Getting Your Dream Job\">The Dirty Little Secrets ...</a>,\n",
              " <p class=\"price_color\">£33.34</p>,\n",
              " <p class=\"instock availability\">\n",
              " <i class=\"icon-ok\"></i>\n",
              "     \n",
              "         In stock\n",
              "     \n",
              " </p>,\n",
              " <a href=\"catalogue/the-coming-woman-a-novel-based-on-the-life-of-the-infamous-feminist-victoria-woodhull_993/index.html\"><img alt=\"The Coming Woman: A Novel Based on the Life of the Infamous Feminist, Victoria Woodhull\" class=\"thumbnail\" src=\"media/cache/3d/54/3d54940e57e662c4dd1f3ff00c78cc64.jpg\"/></a>,\n",
              " <p class=\"star-rating Three\">\n",
              " <i class=\"icon-star\"></i>\n",
              " <i class=\"icon-star\"></i>\n",
              " <i class=\"icon-star\"></i>\n",
              " <i class=\"icon-star\"></i>\n",
              " <i class=\"icon-star\"></i>\n",
              " </p>,\n",
              " <a href=\"catalogue/the-coming-woman-a-novel-based-on-the-life-of-the-infamous-feminist-victoria-woodhull_993/index.html\" title=\"The Coming Woman: A Novel Based on the Life of the Infamous Feminist, Victoria Woodhull\">The Coming Woman: A ...</a>,\n",
              " <p class=\"price_color\">£17.93</p>,\n",
              " <p class=\"instock availability\">\n",
              " <i class=\"icon-ok\"></i>\n",
              "     \n",
              "         In stock\n",
              "     \n",
              " </p>,\n",
              " <a href=\"catalogue/the-boys-in-the-boat-nine-americans-and-their-epic-quest-for-gold-at-the-1936-berlin-olympics_992/index.html\"><img alt=\"The Boys in the Boat: Nine Americans and Their Epic Quest for Gold at the 1936 Berlin Olympics\" class=\"thumbnail\" src=\"media/cache/66/88/66883b91f6804b2323c8369331cb7dd1.jpg\"/></a>,\n",
              " <p class=\"star-rating Four\">\n",
              " <i class=\"icon-star\"></i>\n",
              " <i class=\"icon-star\"></i>\n",
              " <i class=\"icon-star\"></i>\n",
              " <i class=\"icon-star\"></i>\n",
              " <i class=\"icon-star\"></i>\n",
              " </p>,\n",
              " <a href=\"catalogue/the-boys-in-the-boat-nine-americans-and-their-epic-quest-for-gold-at-the-1936-berlin-olympics_992/index.html\" title=\"The Boys in the Boat: Nine Americans and Their Epic Quest for Gold at the 1936 Berlin Olympics\">The Boys in the ...</a>,\n",
              " <p class=\"price_color\">£22.60</p>,\n",
              " <p class=\"instock availability\">\n",
              " <i class=\"icon-ok\"></i>\n",
              "     \n",
              "         In stock\n",
              "     \n",
              " </p>,\n",
              " <a href=\"catalogue/the-black-maria_991/index.html\"><img alt=\"The Black Maria\" class=\"thumbnail\" src=\"media/cache/58/46/5846057e28022268153beff6d352b06c.jpg\"/></a>,\n",
              " <p class=\"star-rating One\">\n",
              " <i class=\"icon-star\"></i>\n",
              " <i class=\"icon-star\"></i>\n",
              " <i class=\"icon-star\"></i>\n",
              " <i class=\"icon-star\"></i>\n",
              " <i class=\"icon-star\"></i>\n",
              " </p>,\n",
              " <a href=\"catalogue/the-black-maria_991/index.html\" title=\"The Black Maria\">The Black Maria</a>,\n",
              " <p class=\"price_color\">£52.15</p>,\n",
              " <p class=\"instock availability\">\n",
              " <i class=\"icon-ok\"></i>\n",
              "     \n",
              "         In stock\n",
              "     \n",
              " </p>,\n",
              " <a href=\"catalogue/starving-hearts-triangular-trade-trilogy-1_990/index.html\"><img alt=\"Starving Hearts (Triangular Trade Trilogy, #1)\" class=\"thumbnail\" src=\"media/cache/be/f4/bef44da28c98f905a3ebec0b87be8530.jpg\"/></a>,\n",
              " <p class=\"star-rating Two\">\n",
              " <i class=\"icon-star\"></i>\n",
              " <i class=\"icon-star\"></i>\n",
              " <i class=\"icon-star\"></i>\n",
              " <i class=\"icon-star\"></i>\n",
              " <i class=\"icon-star\"></i>\n",
              " </p>,\n",
              " <a href=\"catalogue/starving-hearts-triangular-trade-trilogy-1_990/index.html\" title=\"Starving Hearts (Triangular Trade Trilogy, #1)\">Starving Hearts (Triangular Trade ...</a>,\n",
              " <p class=\"price_color\">£13.99</p>,\n",
              " <p class=\"instock availability\">\n",
              " <i class=\"icon-ok\"></i>\n",
              "     \n",
              "         In stock\n",
              "     \n",
              " </p>,\n",
              " <a href=\"catalogue/shakespeares-sonnets_989/index.html\"><img alt=\"Shakespeare's Sonnets\" class=\"thumbnail\" src=\"media/cache/10/48/1048f63d3b5061cd2f424d20b3f9b666.jpg\"/></a>,\n",
              " <p class=\"star-rating Four\">\n",
              " <i class=\"icon-star\"></i>\n",
              " <i class=\"icon-star\"></i>\n",
              " <i class=\"icon-star\"></i>\n",
              " <i class=\"icon-star\"></i>\n",
              " <i class=\"icon-star\"></i>\n",
              " </p>,\n",
              " <a href=\"catalogue/shakespeares-sonnets_989/index.html\" title=\"Shakespeare's Sonnets\">Shakespeare's Sonnets</a>,\n",
              " <p class=\"price_color\">£20.66</p>,\n",
              " <p class=\"instock availability\">\n",
              " <i class=\"icon-ok\"></i>\n",
              "     \n",
              "         In stock\n",
              "     \n",
              " </p>,\n",
              " <a href=\"catalogue/set-me-free_988/index.html\"><img alt=\"Set Me Free\" class=\"thumbnail\" src=\"media/cache/5b/88/5b88c52633f53cacf162c15f4f823153.jpg\"/></a>,\n",
              " <p class=\"star-rating Five\">\n",
              " <i class=\"icon-star\"></i>\n",
              " <i class=\"icon-star\"></i>\n",
              " <i class=\"icon-star\"></i>\n",
              " <i class=\"icon-star\"></i>\n",
              " <i class=\"icon-star\"></i>\n",
              " </p>,\n",
              " <a href=\"catalogue/set-me-free_988/index.html\" title=\"Set Me Free\">Set Me Free</a>,\n",
              " <p class=\"price_color\">£17.46</p>,\n",
              " <p class=\"instock availability\">\n",
              " <i class=\"icon-ok\"></i>\n",
              "     \n",
              "         In stock\n",
              "     \n",
              " </p>,\n",
              " <a href=\"catalogue/scott-pilgrims-precious-little-life-scott-pilgrim-1_987/index.html\"><img alt=\"Scott Pilgrim's Precious Little Life (Scott Pilgrim #1)\" class=\"thumbnail\" src=\"media/cache/94/b1/94b1b8b244bce9677c2f29ccc890d4d2.jpg\"/></a>,\n",
              " <p class=\"star-rating Five\">\n",
              " <i class=\"icon-star\"></i>\n",
              " <i class=\"icon-star\"></i>\n",
              " <i class=\"icon-star\"></i>\n",
              " <i class=\"icon-star\"></i>\n",
              " <i class=\"icon-star\"></i>\n",
              " </p>,\n",
              " <a href=\"catalogue/scott-pilgrims-precious-little-life-scott-pilgrim-1_987/index.html\" title=\"Scott Pilgrim's Precious Little Life (Scott Pilgrim #1)\">Scott Pilgrim's Precious Little ...</a>,\n",
              " <p class=\"price_color\">£52.29</p>,\n",
              " <p class=\"instock availability\">\n",
              " <i class=\"icon-ok\"></i>\n",
              "     \n",
              "         In stock\n",
              "     \n",
              " </p>,\n",
              " <a href=\"catalogue/rip-it-up-and-start-again_986/index.html\"><img alt=\"Rip it Up and Start Again\" class=\"thumbnail\" src=\"media/cache/81/c4/81c4a973364e17d01f217e1188253d5e.jpg\"/></a>,\n",
              " <p class=\"star-rating Five\">\n",
              " <i class=\"icon-star\"></i>\n",
              " <i class=\"icon-star\"></i>\n",
              " <i class=\"icon-star\"></i>\n",
              " <i class=\"icon-star\"></i>\n",
              " <i class=\"icon-star\"></i>\n",
              " </p>,\n",
              " <a href=\"catalogue/rip-it-up-and-start-again_986/index.html\" title=\"Rip it Up and Start Again\">Rip it Up and ...</a>,\n",
              " <p class=\"price_color\">£35.02</p>,\n",
              " <p class=\"instock availability\">\n",
              " <i class=\"icon-ok\"></i>\n",
              "     \n",
              "         In stock\n",
              "     \n",
              " </p>,\n",
              " <a href=\"catalogue/our-band-could-be-your-life-scenes-from-the-american-indie-underground-1981-1991_985/index.html\"><img alt=\"Our Band Could Be Your Life: Scenes from the American Indie Underground, 1981-1991\" class=\"thumbnail\" src=\"media/cache/54/60/54607fe8945897cdcced0044103b10b6.jpg\"/></a>,\n",
              " <p class=\"star-rating Three\">\n",
              " <i class=\"icon-star\"></i>\n",
              " <i class=\"icon-star\"></i>\n",
              " <i class=\"icon-star\"></i>\n",
              " <i class=\"icon-star\"></i>\n",
              " <i class=\"icon-star\"></i>\n",
              " </p>,\n",
              " <a href=\"catalogue/our-band-could-be-your-life-scenes-from-the-american-indie-underground-1981-1991_985/index.html\" title=\"Our Band Could Be Your Life: Scenes from the American Indie Underground, 1981-1991\">Our Band Could Be ...</a>,\n",
              " <p class=\"price_color\">£57.25</p>,\n",
              " <p class=\"instock availability\">\n",
              " <i class=\"icon-ok\"></i>\n",
              "     \n",
              "         In stock\n",
              "     \n",
              " </p>,\n",
              " <a href=\"catalogue/olio_984/index.html\"><img alt=\"Olio\" class=\"thumbnail\" src=\"media/cache/55/33/553310a7162dfbc2c6d19a84da0df9e1.jpg\"/></a>,\n",
              " <p class=\"star-rating One\">\n",
              " <i class=\"icon-star\"></i>\n",
              " <i class=\"icon-star\"></i>\n",
              " <i class=\"icon-star\"></i>\n",
              " <i class=\"icon-star\"></i>\n",
              " <i class=\"icon-star\"></i>\n",
              " </p>,\n",
              " <a href=\"catalogue/olio_984/index.html\" title=\"Olio\">Olio</a>,\n",
              " <p class=\"price_color\">£23.88</p>,\n",
              " <p class=\"instock availability\">\n",
              " <i class=\"icon-ok\"></i>\n",
              "     \n",
              "         In stock\n",
              "     \n",
              " </p>,\n",
              " <a href=\"catalogue/mesaerion-the-best-science-fiction-stories-1800-1849_983/index.html\"><img alt=\"Mesaerion: The Best Science Fiction Stories 1800-1849\" class=\"thumbnail\" src=\"media/cache/09/a3/09a3aef48557576e1a85ba7efea8ecb7.jpg\"/></a>,\n",
              " <p class=\"star-rating One\">\n",
              " <i class=\"icon-star\"></i>\n",
              " <i class=\"icon-star\"></i>\n",
              " <i class=\"icon-star\"></i>\n",
              " <i class=\"icon-star\"></i>\n",
              " <i class=\"icon-star\"></i>\n",
              " </p>,\n",
              " <a href=\"catalogue/mesaerion-the-best-science-fiction-stories-1800-1849_983/index.html\" title=\"Mesaerion: The Best Science Fiction Stories 1800-1849\">Mesaerion: The Best Science ...</a>,\n",
              " <p class=\"price_color\">£37.59</p>,\n",
              " <p class=\"instock availability\">\n",
              " <i class=\"icon-ok\"></i>\n",
              "     \n",
              "         In stock\n",
              "     \n",
              " </p>,\n",
              " <a href=\"catalogue/libertarianism-for-beginners_982/index.html\"><img alt=\"Libertarianism for Beginners\" class=\"thumbnail\" src=\"media/cache/0b/bc/0bbcd0a6f4bcd81ccb1049a52736406e.jpg\"/></a>,\n",
              " <p class=\"star-rating Two\">\n",
              " <i class=\"icon-star\"></i>\n",
              " <i class=\"icon-star\"></i>\n",
              " <i class=\"icon-star\"></i>\n",
              " <i class=\"icon-star\"></i>\n",
              " <i class=\"icon-star\"></i>\n",
              " </p>,\n",
              " <a href=\"catalogue/libertarianism-for-beginners_982/index.html\" title=\"Libertarianism for Beginners\">Libertarianism for Beginners</a>,\n",
              " <p class=\"price_color\">£51.33</p>,\n",
              " <p class=\"instock availability\">\n",
              " <i class=\"icon-ok\"></i>\n",
              "     \n",
              "         In stock\n",
              "     \n",
              " </p>,\n",
              " <a href=\"catalogue/its-only-the-himalayas_981/index.html\"><img alt=\"It's Only the Himalayas\" class=\"thumbnail\" src=\"media/cache/27/a5/27a53d0bb95bdd88288eaf66c9230d7e.jpg\"/></a>,\n",
              " <p class=\"star-rating Two\">\n",
              " <i class=\"icon-star\"></i>\n",
              " <i class=\"icon-star\"></i>\n",
              " <i class=\"icon-star\"></i>\n",
              " <i class=\"icon-star\"></i>\n",
              " <i class=\"icon-star\"></i>\n",
              " </p>,\n",
              " <a href=\"catalogue/its-only-the-himalayas_981/index.html\" title=\"It's Only the Himalayas\">It's Only the Himalayas</a>,\n",
              " <p class=\"price_color\">£45.17</p>,\n",
              " <p class=\"instock availability\">\n",
              " <i class=\"icon-ok\"></i>\n",
              "     \n",
              "         In stock\n",
              "     \n",
              " </p>,\n",
              " <a href=\"catalogue/page-2.html\">next</a>]"
            ]
          },
          "metadata": {},
          "execution_count": 159
        }
      ]
    },
    {
      "cell_type": "code",
      "source": [
        "len(soup.find_all(['a','p']))"
      ],
      "metadata": {
        "colab": {
          "base_uri": "https://localhost:8080/"
        },
        "id": "aXnPFyDJ2nR0",
        "outputId": "de60dc35-2e6b-4029-b1c8-99eb6836b7b1"
      },
      "execution_count": 160,
      "outputs": [
        {
          "output_type": "execute_result",
          "data": {
            "text/plain": [
              "154"
            ]
          },
          "metadata": {},
          "execution_count": 160
        }
      ]
    },
    {
      "cell_type": "code",
      "source": [
        "soup.find_all('p', attrs={'class':'price_color'})"
      ],
      "metadata": {
        "colab": {
          "base_uri": "https://localhost:8080/"
        },
        "id": "Ruq6pL-52p9R",
        "outputId": "383f0ea7-5807-46c7-f20d-51cce3090760"
      },
      "execution_count": 163,
      "outputs": [
        {
          "output_type": "execute_result",
          "data": {
            "text/plain": [
              "[<p class=\"price_color\">£51.77</p>,\n",
              " <p class=\"price_color\">£53.74</p>,\n",
              " <p class=\"price_color\">£50.10</p>,\n",
              " <p class=\"price_color\">£47.82</p>,\n",
              " <p class=\"price_color\">£54.23</p>,\n",
              " <p class=\"price_color\">£22.65</p>,\n",
              " <p class=\"price_color\">£33.34</p>,\n",
              " <p class=\"price_color\">£17.93</p>,\n",
              " <p class=\"price_color\">£22.60</p>,\n",
              " <p class=\"price_color\">£52.15</p>,\n",
              " <p class=\"price_color\">£13.99</p>,\n",
              " <p class=\"price_color\">£20.66</p>,\n",
              " <p class=\"price_color\">£17.46</p>,\n",
              " <p class=\"price_color\">£52.29</p>,\n",
              " <p class=\"price_color\">£35.02</p>,\n",
              " <p class=\"price_color\">£57.25</p>,\n",
              " <p class=\"price_color\">£23.88</p>,\n",
              " <p class=\"price_color\">£37.59</p>,\n",
              " <p class=\"price_color\">£51.33</p>,\n",
              " <p class=\"price_color\">£45.17</p>]"
            ]
          },
          "metadata": {},
          "execution_count": 163
        }
      ]
    },
    {
      "cell_type": "code",
      "source": [
        "price_tags = soup.find_all('p', attrs={'class':'price_color'})\n",
        "[price.get_text() for price in price_tags]"
      ],
      "metadata": {
        "colab": {
          "base_uri": "https://localhost:8080/"
        },
        "id": "71V_6knZ28em",
        "outputId": "afc2f855-0323-4ebc-be52-14312a3f4948"
      },
      "execution_count": 164,
      "outputs": [
        {
          "output_type": "execute_result",
          "data": {
            "text/plain": [
              "['£51.77',\n",
              " '£53.74',\n",
              " '£50.10',\n",
              " '£47.82',\n",
              " '£54.23',\n",
              " '£22.65',\n",
              " '£33.34',\n",
              " '£17.93',\n",
              " '£22.60',\n",
              " '£52.15',\n",
              " '£13.99',\n",
              " '£20.66',\n",
              " '£17.46',\n",
              " '£52.29',\n",
              " '£35.02',\n",
              " '£57.25',\n",
              " '£23.88',\n",
              " '£37.59',\n",
              " '£51.33',\n",
              " '£45.17']"
            ]
          },
          "metadata": {},
          "execution_count": 164
        }
      ]
    },
    {
      "cell_type": "code",
      "source": [
        "price_tags = soup.find_all('p', class_='price_color')\n",
        "price_tags"
      ],
      "metadata": {
        "colab": {
          "base_uri": "https://localhost:8080/"
        },
        "id": "7gzUP8h53OI0",
        "outputId": "2b342b96-9648-40ff-c63a-5365fc6f1b08"
      },
      "execution_count": 166,
      "outputs": [
        {
          "output_type": "execute_result",
          "data": {
            "text/plain": [
              "[<p class=\"price_color\">£51.77</p>,\n",
              " <p class=\"price_color\">£53.74</p>,\n",
              " <p class=\"price_color\">£50.10</p>,\n",
              " <p class=\"price_color\">£47.82</p>,\n",
              " <p class=\"price_color\">£54.23</p>,\n",
              " <p class=\"price_color\">£22.65</p>,\n",
              " <p class=\"price_color\">£33.34</p>,\n",
              " <p class=\"price_color\">£17.93</p>,\n",
              " <p class=\"price_color\">£22.60</p>,\n",
              " <p class=\"price_color\">£52.15</p>,\n",
              " <p class=\"price_color\">£13.99</p>,\n",
              " <p class=\"price_color\">£20.66</p>,\n",
              " <p class=\"price_color\">£17.46</p>,\n",
              " <p class=\"price_color\">£52.29</p>,\n",
              " <p class=\"price_color\">£35.02</p>,\n",
              " <p class=\"price_color\">£57.25</p>,\n",
              " <p class=\"price_color\">£23.88</p>,\n",
              " <p class=\"price_color\">£37.59</p>,\n",
              " <p class=\"price_color\">£51.33</p>,\n",
              " <p class=\"price_color\">£45.17</p>]"
            ]
          },
          "metadata": {},
          "execution_count": 166
        }
      ]
    },
    {
      "cell_type": "code",
      "source": [
        "add_buttons = soup.find_all('button',\n",
        "                            attrs={'data-loading-text':'Adding...'})\n",
        "add_buttons, len(add_buttons)"
      ],
      "metadata": {
        "colab": {
          "base_uri": "https://localhost:8080/"
        },
        "id": "BUSWl9N_3VLW",
        "outputId": "b38d0f4a-2d13-4c0c-d458-572fee2dea11"
      },
      "execution_count": 169,
      "outputs": [
        {
          "output_type": "execute_result",
          "data": {
            "text/plain": [
              "([<button class=\"btn btn-primary btn-block\" data-loading-text=\"Adding...\" type=\"submit\">Add to basket</button>,\n",
              "  <button class=\"btn btn-primary btn-block\" data-loading-text=\"Adding...\" type=\"submit\">Add to basket</button>,\n",
              "  <button class=\"btn btn-primary btn-block\" data-loading-text=\"Adding...\" type=\"submit\">Add to basket</button>,\n",
              "  <button class=\"btn btn-primary btn-block\" data-loading-text=\"Adding...\" type=\"submit\">Add to basket</button>,\n",
              "  <button class=\"btn btn-primary btn-block\" data-loading-text=\"Adding...\" type=\"submit\">Add to basket</button>,\n",
              "  <button class=\"btn btn-primary btn-block\" data-loading-text=\"Adding...\" type=\"submit\">Add to basket</button>,\n",
              "  <button class=\"btn btn-primary btn-block\" data-loading-text=\"Adding...\" type=\"submit\">Add to basket</button>,\n",
              "  <button class=\"btn btn-primary btn-block\" data-loading-text=\"Adding...\" type=\"submit\">Add to basket</button>,\n",
              "  <button class=\"btn btn-primary btn-block\" data-loading-text=\"Adding...\" type=\"submit\">Add to basket</button>,\n",
              "  <button class=\"btn btn-primary btn-block\" data-loading-text=\"Adding...\" type=\"submit\">Add to basket</button>,\n",
              "  <button class=\"btn btn-primary btn-block\" data-loading-text=\"Adding...\" type=\"submit\">Add to basket</button>,\n",
              "  <button class=\"btn btn-primary btn-block\" data-loading-text=\"Adding...\" type=\"submit\">Add to basket</button>,\n",
              "  <button class=\"btn btn-primary btn-block\" data-loading-text=\"Adding...\" type=\"submit\">Add to basket</button>,\n",
              "  <button class=\"btn btn-primary btn-block\" data-loading-text=\"Adding...\" type=\"submit\">Add to basket</button>,\n",
              "  <button class=\"btn btn-primary btn-block\" data-loading-text=\"Adding...\" type=\"submit\">Add to basket</button>,\n",
              "  <button class=\"btn btn-primary btn-block\" data-loading-text=\"Adding...\" type=\"submit\">Add to basket</button>,\n",
              "  <button class=\"btn btn-primary btn-block\" data-loading-text=\"Adding...\" type=\"submit\">Add to basket</button>,\n",
              "  <button class=\"btn btn-primary btn-block\" data-loading-text=\"Adding...\" type=\"submit\">Add to basket</button>,\n",
              "  <button class=\"btn btn-primary btn-block\" data-loading-text=\"Adding...\" type=\"submit\">Add to basket</button>,\n",
              "  <button class=\"btn btn-primary btn-block\" data-loading-text=\"Adding...\" type=\"submit\">Add to basket</button>],\n",
              " 20)"
            ]
          },
          "metadata": {},
          "execution_count": 169
        }
      ]
    },
    {
      "cell_type": "code",
      "source": [
        "add_remove_buttons = soup.find_all('button',\n",
        "                            attrs={'data-loading-text':lambda x: 'add' in x.lower() or 'remove' in x.lower()})\n",
        "add_remove_buttons, len(add_remove_buttons)"
      ],
      "metadata": {
        "colab": {
          "base_uri": "https://localhost:8080/"
        },
        "id": "rgK7TqaO3stm",
        "outputId": "2f5679c4-2ed3-46f9-80af-ea72ca81ab04"
      },
      "execution_count": 171,
      "outputs": [
        {
          "output_type": "execute_result",
          "data": {
            "text/plain": [
              "([<button class=\"btn btn-primary btn-block\" data-loading-text=\"Adding...\" type=\"submit\">Add to basket</button>,\n",
              "  <button class=\"btn btn-primary btn-block\" data-loading-text=\"Adding...\" type=\"submit\">Add to basket</button>,\n",
              "  <button class=\"btn btn-primary btn-block\" data-loading-text=\"Adding...\" type=\"submit\">Add to basket</button>,\n",
              "  <button class=\"btn btn-primary btn-block\" data-loading-text=\"Adding...\" type=\"submit\">Add to basket</button>,\n",
              "  <button class=\"btn btn-primary btn-block\" data-loading-text=\"Adding...\" type=\"submit\">Add to basket</button>,\n",
              "  <button class=\"btn btn-primary btn-block\" data-loading-text=\"Adding...\" type=\"submit\">Add to basket</button>,\n",
              "  <button class=\"btn btn-primary btn-block\" data-loading-text=\"Adding...\" type=\"submit\">Add to basket</button>,\n",
              "  <button class=\"btn btn-primary btn-block\" data-loading-text=\"Adding...\" type=\"submit\">Add to basket</button>,\n",
              "  <button class=\"btn btn-primary btn-block\" data-loading-text=\"Adding...\" type=\"submit\">Add to basket</button>,\n",
              "  <button class=\"btn btn-primary btn-block\" data-loading-text=\"Adding...\" type=\"submit\">Add to basket</button>,\n",
              "  <button class=\"btn btn-primary btn-block\" data-loading-text=\"Adding...\" type=\"submit\">Add to basket</button>,\n",
              "  <button class=\"btn btn-primary btn-block\" data-loading-text=\"Adding...\" type=\"submit\">Add to basket</button>,\n",
              "  <button class=\"btn btn-primary btn-block\" data-loading-text=\"Adding...\" type=\"submit\">Add to basket</button>,\n",
              "  <button class=\"btn btn-primary btn-block\" data-loading-text=\"Adding...\" type=\"submit\">Add to basket</button>,\n",
              "  <button class=\"btn btn-primary btn-block\" data-loading-text=\"Adding...\" type=\"submit\">Add to basket</button>,\n",
              "  <button class=\"btn btn-primary btn-block\" data-loading-text=\"Adding...\" type=\"submit\">Add to basket</button>,\n",
              "  <button class=\"btn btn-primary btn-block\" data-loading-text=\"Adding...\" type=\"submit\">Add to basket</button>,\n",
              "  <button class=\"btn btn-primary btn-block\" data-loading-text=\"Adding...\" type=\"submit\">Add to basket</button>,\n",
              "  <button class=\"btn btn-primary btn-block\" data-loading-text=\"Adding...\" type=\"submit\">Add to basket</button>,\n",
              "  <button class=\"btn btn-primary btn-block\" data-loading-text=\"Adding...\" type=\"submit\">Add to basket</button>],\n",
              " 20)"
            ]
          },
          "metadata": {},
          "execution_count": 171
        }
      ]
    },
    {
      "cell_type": "code",
      "source": [],
      "metadata": {
        "id": "qnERHwTO4IzV"
      },
      "execution_count": null,
      "outputs": []
    }
  ]
}