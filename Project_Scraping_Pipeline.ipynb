{
  "nbformat": 4,
  "nbformat_minor": 0,
  "metadata": {
    "colab": {
      "provenance": [],
      "authorship_tag": "ABX9TyPlYAVoG4oY2H/FQmPeeTXW"
    },
    "kernelspec": {
      "name": "python3",
      "display_name": "Python 3"
    },
    "language_info": {
      "name": "python"
    }
  },
  "cells": [
    {
      "cell_type": "code",
      "execution_count": 1,
      "metadata": {
        "colab": {
          "base_uri": "https://localhost:8080/"
        },
        "id": "ON72Lbqpm5YP",
        "outputId": "99836f83-5ec5-4b9c-f701-3a15ca02ee2e"
      },
      "outputs": [
        {
          "output_type": "stream",
          "name": "stdout",
          "text": [
            "Collecting playwright\n",
            "  Downloading playwright-1.50.0-py3-none-manylinux1_x86_64.whl.metadata (3.5 kB)\n",
            "Collecting pyee<13,>=12 (from playwright)\n",
            "  Downloading pyee-12.1.1-py3-none-any.whl.metadata (2.9 kB)\n",
            "Requirement already satisfied: greenlet<4.0.0,>=3.1.1 in /usr/local/lib/python3.11/dist-packages (from playwright) (3.1.1)\n",
            "Requirement already satisfied: typing-extensions in /usr/local/lib/python3.11/dist-packages (from pyee<13,>=12->playwright) (4.12.2)\n",
            "Downloading playwright-1.50.0-py3-none-manylinux1_x86_64.whl (45.1 MB)\n",
            "\u001b[2K   \u001b[90m━━━━━━━━━━━━━━━━━━━━━━━━━━━━━━━━━━━━━━━━\u001b[0m \u001b[32m45.1/45.1 MB\u001b[0m \u001b[31m15.2 MB/s\u001b[0m eta \u001b[36m0:00:00\u001b[0m\n",
            "\u001b[?25hDownloading pyee-12.1.1-py3-none-any.whl (15 kB)\n",
            "Installing collected packages: pyee, playwright\n",
            "Successfully installed playwright-1.50.0 pyee-12.1.1\n",
            "Collecting selectolax\n",
            "  Downloading selectolax-0.3.28-cp311-cp311-manylinux_2_17_x86_64.manylinux2014_x86_64.whl.metadata (6.1 kB)\n",
            "Downloading selectolax-0.3.28-cp311-cp311-manylinux_2_17_x86_64.manylinux2014_x86_64.whl (5.7 MB)\n",
            "\u001b[2K   \u001b[90m━━━━━━━━━━━━━━━━━━━━━━━━━━━━━━━━━━━━━━━━\u001b[0m \u001b[32m5.7/5.7 MB\u001b[0m \u001b[31m34.6 MB/s\u001b[0m eta \u001b[36m0:00:00\u001b[0m\n",
            "\u001b[?25hInstalling collected packages: selectolax\n",
            "Successfully installed selectolax-0.3.28\n"
          ]
        }
      ],
      "source": [
        "!pip3 install playwright\n",
        "!pip3 install selectolax"
      ]
    },
    {
      "cell_type": "code",
      "source": [
        "!playwright install chromium"
      ],
      "metadata": {
        "id": "EC2DxfcYnMv0",
        "colab": {
          "base_uri": "https://localhost:8080/"
        },
        "outputId": "36a40766-0af1-4d47-c2ce-b82bee51bb7b"
      },
      "execution_count": 2,
      "outputs": [
        {
          "output_type": "stream",
          "name": "stdout",
          "text": [
            "Downloading Chromium 133.0.6943.16 (playwright build v1155)\u001b[2m from https://cdn.playwright.dev/dbazure/download/playwright/builds/chromium/1155/chromium-linux.zip\u001b[22m\n",
            "\u001b[1G163.5 MiB [] 0% 124.4s\u001b[0K\u001b[1G163.5 MiB [] 0% 788.0s\u001b[0K\u001b[1G163.5 MiB [] 0% 435.5s\u001b[0K\u001b[1G163.5 MiB [] 0% 325.3s\u001b[0K\u001b[1G163.5 MiB [] 0% 171.6s\u001b[0K\u001b[1G163.5 MiB [] 0% 34.3s\u001b[0K\u001b[1G163.5 MiB [] 0% 18.8s\u001b[0K\u001b[1G163.5 MiB [] 0% 16.3s\u001b[0K\u001b[1G163.5 MiB [] 1% 12.6s\u001b[0K\u001b[1G163.5 MiB [] 1% 12.4s\u001b[0K\u001b[1G163.5 MiB [] 1% 12.2s\u001b[0K\u001b[1G163.5 MiB [] 1% 12.1s\u001b[0K\u001b[1G163.5 MiB [] 1% 11.7s\u001b[0K\u001b[1G163.5 MiB [] 2% 11.8s\u001b[0K\u001b[1G163.5 MiB [] 2% 12.2s\u001b[0K\u001b[1G163.5 MiB [] 2% 12.1s\u001b[0K\u001b[1G163.5 MiB [] 2% 12.0s\u001b[0K\u001b[1G163.5 MiB [] 3% 11.0s\u001b[0K\u001b[1G163.5 MiB [] 3% 10.4s\u001b[0K\u001b[1G163.5 MiB [] 3% 10.0s\u001b[0K\u001b[1G163.5 MiB [] 4% 9.2s\u001b[0K\u001b[1G163.5 MiB [] 4% 9.1s\u001b[0K\u001b[1G163.5 MiB [] 4% 9.3s\u001b[0K\u001b[1G163.5 MiB [] 4% 9.0s\u001b[0K\u001b[1G163.5 MiB [] 5% 9.0s\u001b[0K\u001b[1G163.5 MiB [] 5% 9.1s\u001b[0K\u001b[1G163.5 MiB [] 5% 8.7s\u001b[0K\u001b[1G163.5 MiB [] 5% 8.9s\u001b[0K\u001b[1G163.5 MiB [] 5% 9.1s\u001b[0K\u001b[1G163.5 MiB [] 5% 8.9s\u001b[0K\u001b[1G163.5 MiB [] 6% 8.5s\u001b[0K\u001b[1G163.5 MiB [] 6% 9.0s\u001b[0K\u001b[1G163.5 MiB [] 6% 9.4s\u001b[0K\u001b[1G163.5 MiB [] 6% 9.3s\u001b[0K\u001b[1G163.5 MiB [] 6% 9.2s\u001b[0K\u001b[1G163.5 MiB [] 6% 9.3s\u001b[0K\u001b[1G163.5 MiB [] 7% 8.9s\u001b[0K\u001b[1G163.5 MiB [] 7% 8.5s\u001b[0K\u001b[1G163.5 MiB [] 8% 8.5s\u001b[0K\u001b[1G163.5 MiB [] 8% 8.1s\u001b[0K\u001b[1G163.5 MiB [] 8% 8.2s\u001b[0K\u001b[1G163.5 MiB [] 8% 8.5s\u001b[0K\u001b[1G163.5 MiB [] 9% 8.2s\u001b[0K\u001b[1G163.5 MiB [] 9% 8.0s\u001b[0K\u001b[1G163.5 MiB [] 9% 8.1s\u001b[0K\u001b[1G163.5 MiB [] 9% 8.2s\u001b[0K\u001b[1G163.5 MiB [] 9% 8.3s\u001b[0K\u001b[1G163.5 MiB [] 9% 8.4s\u001b[0K\u001b[1G163.5 MiB [] 10% 8.3s\u001b[0K\u001b[1G163.5 MiB [] 10% 8.2s\u001b[0K\u001b[1G163.5 MiB [] 10% 7.9s\u001b[0K\u001b[1G163.5 MiB [] 11% 7.9s\u001b[0K\u001b[1G163.5 MiB [] 11% 8.0s\u001b[0K\u001b[1G163.5 MiB [] 11% 7.9s\u001b[0K\u001b[1G163.5 MiB [] 11% 7.8s\u001b[0K\u001b[1G163.5 MiB [] 12% 7.5s\u001b[0K\u001b[1G163.5 MiB [] 12% 7.4s\u001b[0K\u001b[1G163.5 MiB [] 13% 7.3s\u001b[0K\u001b[1G163.5 MiB [] 13% 7.2s\u001b[0K\u001b[1G163.5 MiB [] 13% 7.3s\u001b[0K\u001b[1G163.5 MiB [] 14% 7.2s\u001b[0K\u001b[1G163.5 MiB [] 14% 7.0s\u001b[0K\u001b[1G163.5 MiB [] 15% 6.8s\u001b[0K\u001b[1G163.5 MiB [] 15% 6.6s\u001b[0K\u001b[1G163.5 MiB [] 16% 6.4s\u001b[0K\u001b[1G163.5 MiB [] 16% 6.3s\u001b[0K\u001b[1G163.5 MiB [] 17% 6.2s\u001b[0K\u001b[1G163.5 MiB [] 17% 6.1s\u001b[0K\u001b[1G163.5 MiB [] 18% 6.1s\u001b[0K\u001b[1G163.5 MiB [] 18% 6.0s\u001b[0K\u001b[1G163.5 MiB [] 18% 5.9s\u001b[0K\u001b[1G163.5 MiB [] 19% 5.9s\u001b[0K\u001b[1G163.5 MiB [] 19% 5.8s\u001b[0K\u001b[1G163.5 MiB [] 20% 5.6s\u001b[0K\u001b[1G163.5 MiB [] 20% 5.5s\u001b[0K\u001b[1G163.5 MiB [] 21% 5.5s\u001b[0K\u001b[1G163.5 MiB [] 21% 5.6s\u001b[0K\u001b[1G163.5 MiB [] 21% 5.5s\u001b[0K\u001b[1G163.5 MiB [] 22% 5.6s\u001b[0K\u001b[1G163.5 MiB [] 22% 5.5s\u001b[0K\u001b[1G163.5 MiB [] 23% 5.4s\u001b[0K\u001b[1G163.5 MiB [] 23% 5.5s\u001b[0K\u001b[1G163.5 MiB [] 23% 5.6s\u001b[0K\u001b[1G163.5 MiB [] 23% 5.5s\u001b[0K\u001b[1G163.5 MiB [] 24% 5.4s\u001b[0K\u001b[1G163.5 MiB [] 24% 5.5s\u001b[0K\u001b[1G163.5 MiB [] 25% 5.4s\u001b[0K\u001b[1G163.5 MiB [] 25% 5.3s\u001b[0K\u001b[1G163.5 MiB [] 26% 5.4s\u001b[0K\u001b[1G163.5 MiB [] 26% 5.5s\u001b[0K\u001b[1G163.5 MiB [] 27% 5.4s\u001b[0K\u001b[1G163.5 MiB [] 28% 5.4s\u001b[0K\u001b[1G163.5 MiB [] 29% 5.2s\u001b[0K\u001b[1G163.5 MiB [] 29% 5.1s\u001b[0K\u001b[1G163.5 MiB [] 30% 5.1s\u001b[0K\u001b[1G163.5 MiB [] 30% 4.9s\u001b[0K\u001b[1G163.5 MiB [] 31% 4.9s\u001b[0K\u001b[1G163.5 MiB [] 32% 4.8s\u001b[0K\u001b[1G163.5 MiB [] 32% 4.7s\u001b[0K\u001b[1G163.5 MiB [] 33% 4.7s\u001b[0K\u001b[1G163.5 MiB [] 33% 4.6s\u001b[0K\u001b[1G163.5 MiB [] 34% 4.6s\u001b[0K\u001b[1G163.5 MiB [] 34% 4.5s\u001b[0K\u001b[1G163.5 MiB [] 35% 4.4s\u001b[0K\u001b[1G163.5 MiB [] 35% 4.3s\u001b[0K\u001b[1G163.5 MiB [] 36% 4.3s\u001b[0K\u001b[1G163.5 MiB [] 37% 4.3s\u001b[0K\u001b[1G163.5 MiB [] 37% 4.2s\u001b[0K\u001b[1G163.5 MiB [] 38% 4.1s\u001b[0K\u001b[1G163.5 MiB [] 39% 4.1s\u001b[0K\u001b[1G163.5 MiB [] 39% 4.0s\u001b[0K\u001b[1G163.5 MiB [] 40% 4.0s\u001b[0K\u001b[1G163.5 MiB [] 40% 3.9s\u001b[0K\u001b[1G163.5 MiB [] 41% 3.9s\u001b[0K\u001b[1G163.5 MiB [] 42% 3.8s\u001b[0K\u001b[1G163.5 MiB [] 42% 3.7s\u001b[0K\u001b[1G163.5 MiB [] 43% 3.7s\u001b[0K\u001b[1G163.5 MiB [] 43% 3.6s\u001b[0K\u001b[1G163.5 MiB [] 44% 3.6s\u001b[0K\u001b[1G163.5 MiB [] 44% 3.5s\u001b[0K\u001b[1G163.5 MiB [] 45% 3.4s\u001b[0K\u001b[1G163.5 MiB [] 46% 3.4s\u001b[0K\u001b[1G163.5 MiB [] 47% 3.3s\u001b[0K\u001b[1G163.5 MiB [] 47% 3.2s\u001b[0K\u001b[1G163.5 MiB [] 48% 3.2s\u001b[0K\u001b[1G163.5 MiB [] 48% 3.1s\u001b[0K\u001b[1G163.5 MiB [] 49% 3.0s\u001b[0K\u001b[1G163.5 MiB [] 50% 3.0s\u001b[0K\u001b[1G163.5 MiB [] 50% 2.9s\u001b[0K\u001b[1G163.5 MiB [] 51% 2.9s\u001b[0K\u001b[1G163.5 MiB [] 51% 2.8s\u001b[0K\u001b[1G163.5 MiB [] 52% 2.8s\u001b[0K\u001b[1G163.5 MiB [] 53% 2.8s\u001b[0K\u001b[1G163.5 MiB [] 54% 2.7s\u001b[0K\u001b[1G163.5 MiB [] 54% 2.8s\u001b[0K\u001b[1G163.5 MiB [] 54% 2.7s\u001b[0K\u001b[1G163.5 MiB [] 55% 2.7s\u001b[0K\u001b[1G163.5 MiB [] 55% 2.6s\u001b[0K\u001b[1G163.5 MiB [] 56% 2.6s\u001b[0K\u001b[1G163.5 MiB [] 57% 2.5s\u001b[0K\u001b[1G163.5 MiB [] 57% 2.6s\u001b[0K\u001b[1G163.5 MiB [] 58% 2.5s\u001b[0K\u001b[1G163.5 MiB [] 58% 2.6s\u001b[0K\u001b[1G163.5 MiB [] 59% 2.5s\u001b[0K\u001b[1G163.5 MiB [] 60% 2.5s\u001b[0K\u001b[1G163.5 MiB [] 61% 2.4s\u001b[0K\u001b[1G163.5 MiB [] 62% 2.4s\u001b[0K\u001b[1G163.5 MiB [] 62% 2.3s\u001b[0K\u001b[1G163.5 MiB [] 63% 2.3s\u001b[0K\u001b[1G163.5 MiB [] 64% 2.3s\u001b[0K\u001b[1G163.5 MiB [] 64% 2.2s\u001b[0K\u001b[1G163.5 MiB [] 65% 2.2s\u001b[0K\u001b[1G163.5 MiB [] 65% 2.1s\u001b[0K\u001b[1G163.5 MiB [] 66% 2.1s\u001b[0K\u001b[1G163.5 MiB [] 67% 2.0s\u001b[0K\u001b[1G163.5 MiB [] 68% 2.0s\u001b[0K\u001b[1G163.5 MiB [] 68% 1.9s\u001b[0K\u001b[1G163.5 MiB [] 68% 2.0s\u001b[0K\u001b[1G163.5 MiB [] 68% 1.9s\u001b[0K\u001b[1G163.5 MiB [] 69% 1.9s\u001b[0K\u001b[1G163.5 MiB [] 69% 1.8s\u001b[0K\u001b[1G163.5 MiB [] 70% 1.8s\u001b[0K\u001b[1G163.5 MiB [] 71% 1.8s\u001b[0K\u001b[1G163.5 MiB [] 71% 1.7s\u001b[0K\u001b[1G163.5 MiB [] 72% 1.7s\u001b[0K\u001b[1G163.5 MiB [] 73% 1.6s\u001b[0K\u001b[1G163.5 MiB [] 74% 1.5s\u001b[0K\u001b[1G163.5 MiB [] 75% 1.5s\u001b[0K\u001b[1G163.5 MiB [] 76% 1.4s\u001b[0K\u001b[1G163.5 MiB [] 77% 1.3s\u001b[0K\u001b[1G163.5 MiB [] 78% 1.2s\u001b[0K\u001b[1G163.5 MiB [] 79% 1.2s\u001b[0K\u001b[1G163.5 MiB [] 80% 1.1s\u001b[0K\u001b[1G163.5 MiB [] 81% 1.1s\u001b[0K\u001b[1G163.5 MiB [] 82% 1.0s\u001b[0K\u001b[1G163.5 MiB [] 83% 0.9s\u001b[0K\u001b[1G163.5 MiB [] 84% 0.9s\u001b[0K\u001b[1G163.5 MiB [] 84% 0.8s\u001b[0K\u001b[1G163.5 MiB [] 85% 0.8s\u001b[0K\u001b[1G163.5 MiB [] 86% 0.7s\u001b[0K\u001b[1G163.5 MiB [] 87% 0.7s\u001b[0K\u001b[1G163.5 MiB [] 88% 0.6s\u001b[0K\u001b[1G163.5 MiB [] 89% 0.6s\u001b[0K\u001b[1G163.5 MiB [] 90% 0.5s\u001b[0K\u001b[1G163.5 MiB [] 91% 0.5s\u001b[0K\u001b[1G163.5 MiB [] 92% 0.4s\u001b[0K\u001b[1G163.5 MiB [] 93% 0.4s\u001b[0K\u001b[1G163.5 MiB [] 94% 0.3s\u001b[0K\u001b[1G163.5 MiB [] 95% 0.3s\u001b[0K\u001b[1G163.5 MiB [] 95% 0.2s\u001b[0K\u001b[1G163.5 MiB [] 96% 0.2s\u001b[0K\u001b[1G163.5 MiB [] 97% 0.2s\u001b[0K\u001b[1G163.5 MiB [] 97% 0.1s\u001b[0K\u001b[1G163.5 MiB [] 98% 0.1s\u001b[0K\u001b[1G163.5 MiB [] 99% 0.0s\u001b[0K\u001b[1G163.5 MiB [] 100% 0.0s\u001b[0K\n",
            "Chromium 133.0.6943.16 (playwright build v1155) downloaded to /root/.cache/ms-playwright/chromium-1155\n",
            "Downloading FFMPEG playwright build v1011\u001b[2m from https://cdn.playwright.dev/dbazure/download/playwright/builds/ffmpeg/1011/ffmpeg-linux.zip\u001b[22m\n",
            "\u001b[1G2.3 MiB [] 0% 0.0s\u001b[0K\u001b[1G2.3 MiB [] 2% 0.6s\u001b[0K\u001b[1G2.3 MiB [] 10% 0.3s\u001b[0K\u001b[1G2.3 MiB [] 25% 0.2s\u001b[0K\u001b[1G2.3 MiB [] 66% 0.0s\u001b[0K\u001b[1G2.3 MiB [] 100% 0.0s\u001b[0K\n",
            "FFMPEG playwright build v1011 downloaded to /root/.cache/ms-playwright/ffmpeg-1011\n",
            "Downloading Chromium Headless Shell 133.0.6943.16 (playwright build v1155)\u001b[2m from https://cdn.playwright.dev/dbazure/download/playwright/builds/chromium/1155/chromium-headless-shell-linux.zip\u001b[22m\n",
            "\u001b[1G99.9 MiB [] 0% 0.0s\u001b[0K\u001b[1G99.9 MiB [] 0% 28.3s\u001b[0K\u001b[1G99.9 MiB [] 0% 14.1s\u001b[0K\u001b[1G99.9 MiB [] 0% 9.5s\u001b[0K\u001b[1G99.9 MiB [] 1% 6.2s\u001b[0K\u001b[1G99.9 MiB [] 1% 5.0s\u001b[0K\u001b[1G99.9 MiB [] 2% 4.0s\u001b[0K\u001b[1G99.9 MiB [] 3% 3.6s\u001b[0K\u001b[1G99.9 MiB [] 3% 3.4s\u001b[0K\u001b[1G99.9 MiB [] 4% 3.4s\u001b[0K\u001b[1G99.9 MiB [] 4% 3.5s\u001b[0K\u001b[1G99.9 MiB [] 5% 3.1s\u001b[0K\u001b[1G99.9 MiB [] 6% 3.0s\u001b[0K\u001b[1G99.9 MiB [] 7% 2.7s\u001b[0K\u001b[1G99.9 MiB [] 8% 2.6s\u001b[0K\u001b[1G99.9 MiB [] 8% 2.5s\u001b[0K\u001b[1G99.9 MiB [] 9% 2.4s\u001b[0K\u001b[1G99.9 MiB [] 10% 2.6s\u001b[0K\u001b[1G99.9 MiB [] 10% 2.7s\u001b[0K\u001b[1G99.9 MiB [] 11% 2.7s\u001b[0K\u001b[1G99.9 MiB [] 12% 2.6s\u001b[0K\u001b[1G99.9 MiB [] 13% 2.4s\u001b[0K\u001b[1G99.9 MiB [] 14% 2.3s\u001b[0K\u001b[1G99.9 MiB [] 15% 2.3s\u001b[0K\u001b[1G99.9 MiB [] 16% 2.3s\u001b[0K\u001b[1G99.9 MiB [] 16% 2.4s\u001b[0K\u001b[1G99.9 MiB [] 16% 2.3s\u001b[0K\u001b[1G99.9 MiB [] 18% 2.2s\u001b[0K\u001b[1G99.9 MiB [] 20% 2.1s\u001b[0K\u001b[1G99.9 MiB [] 21% 2.0s\u001b[0K\u001b[1G99.9 MiB [] 22% 2.0s\u001b[0K\u001b[1G99.9 MiB [] 23% 1.9s\u001b[0K\u001b[1G99.9 MiB [] 24% 1.9s\u001b[0K\u001b[1G99.9 MiB [] 25% 1.9s\u001b[0K\u001b[1G99.9 MiB [] 26% 1.8s\u001b[0K\u001b[1G99.9 MiB [] 27% 1.8s\u001b[0K\u001b[1G99.9 MiB [] 28% 1.7s\u001b[0K\u001b[1G99.9 MiB [] 29% 1.7s\u001b[0K\u001b[1G99.9 MiB [] 30% 1.6s\u001b[0K\u001b[1G99.9 MiB [] 32% 1.6s\u001b[0K\u001b[1G99.9 MiB [] 33% 1.5s\u001b[0K\u001b[1G99.9 MiB [] 34% 1.5s\u001b[0K\u001b[1G99.9 MiB [] 35% 1.4s\u001b[0K\u001b[1G99.9 MiB [] 36% 1.4s\u001b[0K\u001b[1G99.9 MiB [] 37% 1.4s\u001b[0K\u001b[1G99.9 MiB [] 39% 1.3s\u001b[0K\u001b[1G99.9 MiB [] 40% 1.3s\u001b[0K\u001b[1G99.9 MiB [] 42% 1.2s\u001b[0K\u001b[1G99.9 MiB [] 44% 1.1s\u001b[0K\u001b[1G99.9 MiB [] 45% 1.1s\u001b[0K\u001b[1G99.9 MiB [] 47% 1.1s\u001b[0K\u001b[1G99.9 MiB [] 49% 1.0s\u001b[0K\u001b[1G99.9 MiB [] 51% 0.9s\u001b[0K\u001b[1G99.9 MiB [] 53% 0.9s\u001b[0K\u001b[1G99.9 MiB [] 55% 0.8s\u001b[0K\u001b[1G99.9 MiB [] 57% 0.7s\u001b[0K\u001b[1G99.9 MiB [] 60% 0.7s\u001b[0K\u001b[1G99.9 MiB [] 61% 0.6s\u001b[0K\u001b[1G99.9 MiB [] 63% 0.6s\u001b[0K\u001b[1G99.9 MiB [] 64% 0.6s\u001b[0K\u001b[1G99.9 MiB [] 65% 0.6s\u001b[0K\u001b[1G99.9 MiB [] 66% 0.6s\u001b[0K\u001b[1G99.9 MiB [] 68% 0.5s\u001b[0K\u001b[1G99.9 MiB [] 69% 0.5s\u001b[0K\u001b[1G99.9 MiB [] 70% 0.5s\u001b[0K\u001b[1G99.9 MiB [] 71% 0.5s\u001b[0K\u001b[1G99.9 MiB [] 72% 0.5s\u001b[0K\u001b[1G99.9 MiB [] 73% 0.4s\u001b[0K\u001b[1G99.9 MiB [] 74% 0.4s\u001b[0K\u001b[1G99.9 MiB [] 75% 0.4s\u001b[0K\u001b[1G99.9 MiB [] 77% 0.4s\u001b[0K\u001b[1G99.9 MiB [] 78% 0.4s\u001b[0K\u001b[1G99.9 MiB [] 80% 0.3s\u001b[0K\u001b[1G99.9 MiB [] 81% 0.3s\u001b[0K\u001b[1G99.9 MiB [] 82% 0.3s\u001b[0K\u001b[1G99.9 MiB [] 83% 0.3s\u001b[0K\u001b[1G99.9 MiB [] 84% 0.3s\u001b[0K\u001b[1G99.9 MiB [] 87% 0.2s\u001b[0K\u001b[1G99.9 MiB [] 89% 0.2s\u001b[0K\u001b[1G99.9 MiB [] 91% 0.1s\u001b[0K\u001b[1G99.9 MiB [] 93% 0.1s\u001b[0K\u001b[1G99.9 MiB [] 95% 0.1s\u001b[0K\u001b[1G99.9 MiB [] 96% 0.1s\u001b[0K\u001b[1G99.9 MiB [] 97% 0.0s\u001b[0K\u001b[1G99.9 MiB [] 99% 0.0s\u001b[0K\u001b[1G99.9 MiB [] 100% 0.0s\u001b[0K\n",
            "Chromium Headless Shell 133.0.6943.16 (playwright build v1155) downloaded to /root/.cache/ms-playwright/chromium_headless_shell-1155\n"
          ]
        }
      ]
    },
    {
      "cell_type": "code",
      "source": [
        "url = \"https://store.steampowered.com/specials\" # Javascript-heavy website"
      ],
      "metadata": {
        "id": "r2b_5H6wnbNk"
      },
      "execution_count": 4,
      "outputs": []
    },
    {
      "cell_type": "code",
      "source": [
        "# import asyncio\n",
        "# from playwright.async_api import async_playwright\n",
        "\n",
        "# async with async_playwright() as p:\n",
        "#     browser = await p.chromium.launch(headless=True)\n",
        "#     page = await browser.new_page()\n",
        "#     await page.goto(url)\n",
        "#     # await page.screenshot(path=\"screenshot.png\", full_page=True) # From screenshot, we can see not everything is loaded in the webpage so our parsing strategy will fail.\n",
        "\n",
        "#     TIMEOUT = 300001\n",
        "#     await page.wait_for_load_state('networkidle', timeout=TIMEOUT) # When there is nothing left to render and network is literally idle\n",
        "#     await page.evaluate(\"() => window.scroll(0, document.body.scrollHeight)\") # Sometimes, for performance, websites renders information as user scrolls down to the page. So, to get full page content, we have to imitate scroll down on the website\n",
        "#     await page.screenshot(path=\"screenshot2.png\", full_page=True) # From screenshot2, we can see everything is loaded now.\n",
        "#     await browser.close()"
      ],
      "metadata": {
        "id": "E0W_oTmdnbW1"
      },
      "execution_count": 5,
      "outputs": []
    },
    {
      "cell_type": "code",
      "source": [
        "import asyncio\n",
        "from playwright.async_api import async_playwright\n",
        "\n",
        "async def extract_full_body_html(url):\n",
        "    async with async_playwright() as p:\n",
        "        browser = await p.chromium.launch(headless=True)\n",
        "        page = await browser.new_page()\n",
        "\n",
        "        await page.goto(url, wait_until=\"domcontentloaded\")\n",
        "\n",
        "        # Repeatedly scroll until we reach the bottom.\n",
        "        previous_height = 0\n",
        "        while True:\n",
        "            # Scroll to the bottom\n",
        "            await page.evaluate(\"window.scrollTo(0, document.body.scrollHeight)\")\n",
        "\n",
        "            # Wait briefly for any new content to load\n",
        "            await page.wait_for_timeout(2000)\n",
        "\n",
        "            # Check the new scroll height\n",
        "            new_height = await page.evaluate(\"document.body.scrollHeight\")\n",
        "            if new_height == previous_height:\n",
        "                # No new content was loaded, so we’re done\n",
        "                break\n",
        "            previous_height = new_height\n",
        "\n",
        "        html = await page.inner_html(\"body\")\n",
        "\n",
        "        await asyncio.sleep(2)\n",
        "\n",
        "        # Now that we've scrolled fully, take the screenshot\n",
        "        await page.screenshot(path=\"full_screenshot.png\", full_page=True)\n",
        "\n",
        "        await browser.close()\n",
        "\n",
        "        return html\n",
        "\n",
        "def get_divs(html):\n",
        "    tree = HTMLParser(html)\n",
        "    divs = tree.css('div[class*=\"gASJ2lL_xmVNuZkWGvrWg\"]') # This class name keeps changing. That is a problem\n",
        "    return divs\n",
        "\n",
        "# Running inside Jupyter Notebook\n",
        "async def main():\n",
        "    html = await extract_full_body_html(url)\n",
        "    print(get_divs(html), len(get_divs(html)))\n",
        "\n",
        "# Run the async function properly\n",
        "await main()\n",
        "\n"
      ],
      "metadata": {
        "id": "m9P1y99hnbZn",
        "colab": {
          "base_uri": "https://localhost:8080/"
        },
        "outputId": "243f73c4-0758-4c92-dd41-dbcf3fa6a088"
      },
      "execution_count": 25,
      "outputs": [
        {
          "output_type": "stream",
          "name": "stdout",
          "text": [
            "[<Node div>, <Node div>, <Node div>, <Node div>, <Node div>, <Node div>, <Node div>, <Node div>, <Node div>, <Node div>, <Node div>, <Node div>] 12\n"
          ]
        }
      ]
    },
    {
      "cell_type": "code",
      "source": [],
      "metadata": {
        "id": "JmLiJBnZnblL"
      },
      "execution_count": 6,
      "outputs": []
    },
    {
      "cell_type": "code",
      "source": [],
      "metadata": {
        "id": "zk9B3cbUnbn-"
      },
      "execution_count": 6,
      "outputs": []
    },
    {
      "cell_type": "code",
      "source": [],
      "metadata": {
        "id": "iUyIpo2Anbq4"
      },
      "execution_count": 6,
      "outputs": []
    },
    {
      "cell_type": "code",
      "source": [],
      "metadata": {
        "id": "4DpJ6X1Bnbtt"
      },
      "execution_count": 6,
      "outputs": []
    },
    {
      "cell_type": "code",
      "source": [],
      "metadata": {
        "id": "xs_E3z0Anbwv"
      },
      "execution_count": 6,
      "outputs": []
    },
    {
      "cell_type": "code",
      "source": [],
      "metadata": {
        "id": "QYXfnQPenbzZ"
      },
      "execution_count": 6,
      "outputs": []
    },
    {
      "cell_type": "code",
      "source": [],
      "metadata": {
        "id": "uofgADuXnb2d"
      },
      "execution_count": 6,
      "outputs": []
    },
    {
      "cell_type": "code",
      "source": [],
      "metadata": {
        "id": "sqc02gIGnb5N"
      },
      "execution_count": 6,
      "outputs": []
    },
    {
      "cell_type": "code",
      "source": [],
      "metadata": {
        "id": "Fj1hRR6mnb7s"
      },
      "execution_count": 6,
      "outputs": []
    },
    {
      "cell_type": "code",
      "source": [],
      "metadata": {
        "id": "k9w9t4plnb-X"
      },
      "execution_count": 6,
      "outputs": []
    },
    {
      "cell_type": "code",
      "source": [],
      "metadata": {
        "id": "acgZYwW4ncBE"
      },
      "execution_count": 6,
      "outputs": []
    },
    {
      "cell_type": "code",
      "source": [],
      "metadata": {
        "id": "SS6fkJmPncEB"
      },
      "execution_count": 6,
      "outputs": []
    },
    {
      "cell_type": "code",
      "source": [],
      "metadata": {
        "id": "Yo3aAVP5ncGw"
      },
      "execution_count": 6,
      "outputs": []
    },
    {
      "cell_type": "code",
      "source": [],
      "metadata": {
        "id": "ZZ-ekjyrncJJ"
      },
      "execution_count": 6,
      "outputs": []
    },
    {
      "cell_type": "code",
      "source": [],
      "metadata": {
        "id": "zOraY0HWncMA"
      },
      "execution_count": 6,
      "outputs": []
    },
    {
      "cell_type": "code",
      "source": [],
      "metadata": {
        "id": "bpVqlOSfncOz"
      },
      "execution_count": 6,
      "outputs": []
    },
    {
      "cell_type": "code",
      "source": [],
      "metadata": {
        "id": "0_lsLumcncSH"
      },
      "execution_count": 6,
      "outputs": []
    },
    {
      "cell_type": "code",
      "source": [],
      "metadata": {
        "id": "uUIMz2icncVm"
      },
      "execution_count": 6,
      "outputs": []
    }
  ]
}