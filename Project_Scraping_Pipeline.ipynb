{
  "nbformat": 4,
  "nbformat_minor": 0,
  "metadata": {
    "colab": {
      "provenance": [],
      "authorship_tag": "ABX9TyO0i87iFa/Q3wDKclu8vcYu"
    },
    "kernelspec": {
      "name": "python3",
      "display_name": "Python 3"
    },
    "language_info": {
      "name": "python"
    }
  },
  "cells": [
    {
      "cell_type": "code",
      "execution_count": 1,
      "metadata": {
        "colab": {
          "base_uri": "https://localhost:8080/"
        },
        "id": "ON72Lbqpm5YP",
        "outputId": "a2423d96-76ba-403f-bf27-dccd236aac9b"
      },
      "outputs": [
        {
          "output_type": "stream",
          "name": "stdout",
          "text": [
            "Collecting playwright\n",
            "  Downloading playwright-1.50.0-py3-none-manylinux1_x86_64.whl.metadata (3.5 kB)\n",
            "Collecting pyee<13,>=12 (from playwright)\n",
            "  Downloading pyee-12.1.1-py3-none-any.whl.metadata (2.9 kB)\n",
            "Requirement already satisfied: greenlet<4.0.0,>=3.1.1 in /usr/local/lib/python3.11/dist-packages (from playwright) (3.1.1)\n",
            "Requirement already satisfied: typing-extensions in /usr/local/lib/python3.11/dist-packages (from pyee<13,>=12->playwright) (4.12.2)\n",
            "Downloading playwright-1.50.0-py3-none-manylinux1_x86_64.whl (45.1 MB)\n",
            "\u001b[2K   \u001b[90m━━━━━━━━━━━━━━━━━━━━━━━━━━━━━━━━━━━━━━━━\u001b[0m \u001b[32m45.1/45.1 MB\u001b[0m \u001b[31m13.8 MB/s\u001b[0m eta \u001b[36m0:00:00\u001b[0m\n",
            "\u001b[?25hDownloading pyee-12.1.1-py3-none-any.whl (15 kB)\n",
            "Installing collected packages: pyee, playwright\n",
            "Successfully installed playwright-1.50.0 pyee-12.1.1\n",
            "Collecting selectolax\n",
            "  Downloading selectolax-0.3.28-cp311-cp311-manylinux_2_17_x86_64.manylinux2014_x86_64.whl.metadata (6.1 kB)\n",
            "Downloading selectolax-0.3.28-cp311-cp311-manylinux_2_17_x86_64.manylinux2014_x86_64.whl (5.7 MB)\n",
            "\u001b[2K   \u001b[90m━━━━━━━━━━━━━━━━━━━━━━━━━━━━━━━━━━━━━━━━\u001b[0m \u001b[32m5.7/5.7 MB\u001b[0m \u001b[31m37.6 MB/s\u001b[0m eta \u001b[36m0:00:00\u001b[0m\n",
            "\u001b[?25hInstalling collected packages: selectolax\n",
            "Successfully installed selectolax-0.3.28\n"
          ]
        }
      ],
      "source": [
        "!pip3 install playwright\n",
        "!pip3 install selectolax"
      ]
    },
    {
      "cell_type": "code",
      "source": [
        "!playwright install chromium"
      ],
      "metadata": {
        "id": "EC2DxfcYnMv0",
        "colab": {
          "base_uri": "https://localhost:8080/"
        },
        "outputId": "aedbc7ac-33ee-413c-f73a-d150dc19f2f2"
      },
      "execution_count": 2,
      "outputs": [
        {
          "output_type": "stream",
          "name": "stdout",
          "text": [
            "Downloading Chromium 133.0.6943.16 (playwright build v1155)\u001b[2m from https://cdn.playwright.dev/dbazure/download/playwright/builds/chromium/1155/chromium-linux.zip\u001b[22m\n",
            "\u001b[1G163.5 MiB [] 0% 0.0s\u001b[0K\u001b[1G163.5 MiB [] 0% 73.7s\u001b[0K\u001b[1G163.5 MiB [] 0% 84.2s\u001b[0K\u001b[1G163.5 MiB [] 0% 25.7s\u001b[0K\u001b[1G163.5 MiB [] 0% 18.1s\u001b[0K\u001b[1G163.5 MiB [] 0% 15.6s\u001b[0K\u001b[1G163.5 MiB [] 0% 15.1s\u001b[0K\u001b[1G163.5 MiB [] 0% 14.7s\u001b[0K\u001b[1G163.5 MiB [] 1% 13.8s\u001b[0K\u001b[1G163.5 MiB [] 1% 13.1s\u001b[0K\u001b[1G163.5 MiB [] 1% 12.0s\u001b[0K\u001b[1G163.5 MiB [] 1% 11.5s\u001b[0K\u001b[1G163.5 MiB [] 1% 11.2s\u001b[0K\u001b[1G163.5 MiB [] 2% 10.5s\u001b[0K\u001b[1G163.5 MiB [] 2% 10.1s\u001b[0K\u001b[1G163.5 MiB [] 2% 9.9s\u001b[0K\u001b[1G163.5 MiB [] 2% 9.6s\u001b[0K\u001b[1G163.5 MiB [] 3% 9.4s\u001b[0K\u001b[1G163.5 MiB [] 3% 9.5s\u001b[0K\u001b[1G163.5 MiB [] 3% 9.1s\u001b[0K\u001b[1G163.5 MiB [] 3% 9.0s\u001b[0K\u001b[1G163.5 MiB [] 4% 8.8s\u001b[0K\u001b[1G163.5 MiB [] 4% 8.9s\u001b[0K\u001b[1G163.5 MiB [] 4% 9.0s\u001b[0K\u001b[1G163.5 MiB [] 4% 9.3s\u001b[0K\u001b[1G163.5 MiB [] 4% 9.1s\u001b[0K\u001b[1G163.5 MiB [] 5% 8.9s\u001b[0K\u001b[1G163.5 MiB [] 5% 8.8s\u001b[0K\u001b[1G163.5 MiB [] 5% 8.4s\u001b[0K\u001b[1G163.5 MiB [] 6% 7.9s\u001b[0K\u001b[1G163.5 MiB [] 6% 8.3s\u001b[0K\u001b[1G163.5 MiB [] 6% 8.1s\u001b[0K\u001b[1G163.5 MiB [] 7% 7.9s\u001b[0K\u001b[1G163.5 MiB [] 7% 7.6s\u001b[0K\u001b[1G163.5 MiB [] 7% 7.4s\u001b[0K\u001b[1G163.5 MiB [] 8% 7.1s\u001b[0K\u001b[1G163.5 MiB [] 8% 7.0s\u001b[0K\u001b[1G163.5 MiB [] 9% 6.9s\u001b[0K\u001b[1G163.5 MiB [] 9% 7.0s\u001b[0K\u001b[1G163.5 MiB [] 9% 6.9s\u001b[0K\u001b[1G163.5 MiB [] 10% 6.8s\u001b[0K\u001b[1G163.5 MiB [] 10% 6.7s\u001b[0K\u001b[1G163.5 MiB [] 10% 6.8s\u001b[0K\u001b[1G163.5 MiB [] 10% 6.9s\u001b[0K\u001b[1G163.5 MiB [] 10% 6.8s\u001b[0K\u001b[1G163.5 MiB [] 11% 6.9s\u001b[0K\u001b[1G163.5 MiB [] 11% 6.7s\u001b[0K\u001b[1G163.5 MiB [] 12% 6.5s\u001b[0K\u001b[1G163.5 MiB [] 12% 6.3s\u001b[0K\u001b[1G163.5 MiB [] 13% 6.1s\u001b[0K\u001b[1G163.5 MiB [] 13% 6.0s\u001b[0K\u001b[1G163.5 MiB [] 14% 6.0s\u001b[0K\u001b[1G163.5 MiB [] 14% 6.1s\u001b[0K\u001b[1G163.5 MiB [] 14% 5.9s\u001b[0K\u001b[1G163.5 MiB [] 15% 5.7s\u001b[0K\u001b[1G163.5 MiB [] 15% 5.6s\u001b[0K\u001b[1G163.5 MiB [] 16% 5.6s\u001b[0K\u001b[1G163.5 MiB [] 16% 5.5s\u001b[0K\u001b[1G163.5 MiB [] 17% 5.4s\u001b[0K\u001b[1G163.5 MiB [] 18% 5.2s\u001b[0K\u001b[1G163.5 MiB [] 18% 5.0s\u001b[0K\u001b[1G163.5 MiB [] 19% 4.9s\u001b[0K\u001b[1G163.5 MiB [] 19% 4.8s\u001b[0K\u001b[1G163.5 MiB [] 20% 4.7s\u001b[0K\u001b[1G163.5 MiB [] 20% 4.6s\u001b[0K\u001b[1G163.5 MiB [] 21% 4.7s\u001b[0K\u001b[1G163.5 MiB [] 21% 4.6s\u001b[0K\u001b[1G163.5 MiB [] 21% 4.5s\u001b[0K\u001b[1G163.5 MiB [] 21% 4.6s\u001b[0K\u001b[1G163.5 MiB [] 22% 4.6s\u001b[0K\u001b[1G163.5 MiB [] 23% 4.6s\u001b[0K\u001b[1G163.5 MiB [] 23% 4.5s\u001b[0K\u001b[1G163.5 MiB [] 24% 4.5s\u001b[0K\u001b[1G163.5 MiB [] 24% 4.4s\u001b[0K\u001b[1G163.5 MiB [] 25% 4.4s\u001b[0K\u001b[1G163.5 MiB [] 25% 4.3s\u001b[0K\u001b[1G163.5 MiB [] 26% 4.3s\u001b[0K\u001b[1G163.5 MiB [] 26% 4.2s\u001b[0K\u001b[1G163.5 MiB [] 27% 4.2s\u001b[0K\u001b[1G163.5 MiB [] 27% 4.3s\u001b[0K\u001b[1G163.5 MiB [] 27% 4.4s\u001b[0K\u001b[1G163.5 MiB [] 27% 4.5s\u001b[0K\u001b[1G163.5 MiB [] 27% 4.4s\u001b[0K\u001b[1G163.5 MiB [] 28% 4.4s\u001b[0K\u001b[1G163.5 MiB [] 28% 4.3s\u001b[0K\u001b[1G163.5 MiB [] 29% 4.3s\u001b[0K\u001b[1G163.5 MiB [] 30% 4.2s\u001b[0K\u001b[1G163.5 MiB [] 31% 4.1s\u001b[0K\u001b[1G163.5 MiB [] 32% 4.1s\u001b[0K\u001b[1G163.5 MiB [] 32% 4.0s\u001b[0K\u001b[1G163.5 MiB [] 33% 4.0s\u001b[0K\u001b[1G163.5 MiB [] 33% 3.9s\u001b[0K\u001b[1G163.5 MiB [] 34% 3.9s\u001b[0K\u001b[1G163.5 MiB [] 35% 3.8s\u001b[0K\u001b[1G163.5 MiB [] 36% 3.7s\u001b[0K\u001b[1G163.5 MiB [] 37% 3.6s\u001b[0K\u001b[1G163.5 MiB [] 38% 3.6s\u001b[0K\u001b[1G163.5 MiB [] 39% 3.6s\u001b[0K\u001b[1G163.5 MiB [] 40% 3.5s\u001b[0K\u001b[1G163.5 MiB [] 40% 3.4s\u001b[0K\u001b[1G163.5 MiB [] 41% 3.4s\u001b[0K\u001b[1G163.5 MiB [] 41% 3.5s\u001b[0K\u001b[1G163.5 MiB [] 42% 3.5s\u001b[0K\u001b[1G163.5 MiB [] 43% 3.5s\u001b[0K\u001b[1G163.5 MiB [] 43% 3.4s\u001b[0K\u001b[1G163.5 MiB [] 44% 3.4s\u001b[0K\u001b[1G163.5 MiB [] 45% 3.4s\u001b[0K\u001b[1G163.5 MiB [] 46% 3.4s\u001b[0K\u001b[1G163.5 MiB [] 47% 3.4s\u001b[0K\u001b[1G163.5 MiB [] 48% 3.4s\u001b[0K\u001b[1G163.5 MiB [] 49% 3.3s\u001b[0K\u001b[1G163.5 MiB [] 50% 3.3s\u001b[0K\u001b[1G163.5 MiB [] 50% 3.2s\u001b[0K\u001b[1G163.5 MiB [] 51% 3.2s\u001b[0K\u001b[1G163.5 MiB [] 51% 3.1s\u001b[0K\u001b[1G163.5 MiB [] 52% 3.1s\u001b[0K\u001b[1G163.5 MiB [] 53% 3.0s\u001b[0K\u001b[1G163.5 MiB [] 53% 2.9s\u001b[0K\u001b[1G163.5 MiB [] 54% 2.9s\u001b[0K\u001b[1G163.5 MiB [] 55% 2.8s\u001b[0K\u001b[1G163.5 MiB [] 56% 2.8s\u001b[0K\u001b[1G163.5 MiB [] 57% 2.7s\u001b[0K\u001b[1G163.5 MiB [] 58% 2.7s\u001b[0K\u001b[1G163.5 MiB [] 58% 2.6s\u001b[0K\u001b[1G163.5 MiB [] 59% 2.6s\u001b[0K\u001b[1G163.5 MiB [] 60% 2.5s\u001b[0K\u001b[1G163.5 MiB [] 61% 2.4s\u001b[0K\u001b[1G163.5 MiB [] 62% 2.4s\u001b[0K\u001b[1G163.5 MiB [] 62% 2.3s\u001b[0K\u001b[1G163.5 MiB [] 63% 2.3s\u001b[0K\u001b[1G163.5 MiB [] 64% 2.2s\u001b[0K\u001b[1G163.5 MiB [] 65% 2.2s\u001b[0K\u001b[1G163.5 MiB [] 65% 2.1s\u001b[0K\u001b[1G163.5 MiB [] 66% 2.1s\u001b[0K\u001b[1G163.5 MiB [] 67% 2.0s\u001b[0K\u001b[1G163.5 MiB [] 68% 2.0s\u001b[0K\u001b[1G163.5 MiB [] 68% 1.9s\u001b[0K\u001b[1G163.5 MiB [] 69% 1.9s\u001b[0K\u001b[1G163.5 MiB [] 69% 1.8s\u001b[0K\u001b[1G163.5 MiB [] 70% 1.8s\u001b[0K\u001b[1G163.5 MiB [] 71% 1.7s\u001b[0K\u001b[1G163.5 MiB [] 72% 1.6s\u001b[0K\u001b[1G163.5 MiB [] 73% 1.6s\u001b[0K\u001b[1G163.5 MiB [] 74% 1.5s\u001b[0K\u001b[1G163.5 MiB [] 75% 1.4s\u001b[0K\u001b[1G163.5 MiB [] 76% 1.4s\u001b[0K\u001b[1G163.5 MiB [] 76% 1.3s\u001b[0K\u001b[1G163.5 MiB [] 77% 1.3s\u001b[0K\u001b[1G163.5 MiB [] 78% 1.3s\u001b[0K\u001b[1G163.5 MiB [] 78% 1.2s\u001b[0K\u001b[1G163.5 MiB [] 79% 1.2s\u001b[0K\u001b[1G163.5 MiB [] 80% 1.1s\u001b[0K\u001b[1G163.5 MiB [] 81% 1.0s\u001b[0K\u001b[1G163.5 MiB [] 82% 1.0s\u001b[0K\u001b[1G163.5 MiB [] 83% 0.9s\u001b[0K\u001b[1G163.5 MiB [] 84% 0.9s\u001b[0K\u001b[1G163.5 MiB [] 84% 0.8s\u001b[0K\u001b[1G163.5 MiB [] 85% 0.8s\u001b[0K\u001b[1G163.5 MiB [] 86% 0.8s\u001b[0K\u001b[1G163.5 MiB [] 86% 0.7s\u001b[0K\u001b[1G163.5 MiB [] 87% 0.7s\u001b[0K\u001b[1G163.5 MiB [] 88% 0.7s\u001b[0K\u001b[1G163.5 MiB [] 88% 0.6s\u001b[0K\u001b[1G163.5 MiB [] 89% 0.6s\u001b[0K\u001b[1G163.5 MiB [] 90% 0.5s\u001b[0K\u001b[1G163.5 MiB [] 91% 0.5s\u001b[0K\u001b[1G163.5 MiB [] 92% 0.4s\u001b[0K\u001b[1G163.5 MiB [] 93% 0.4s\u001b[0K\u001b[1G163.5 MiB [] 93% 0.3s\u001b[0K\u001b[1G163.5 MiB [] 94% 0.3s\u001b[0K\u001b[1G163.5 MiB [] 95% 0.3s\u001b[0K\u001b[1G163.5 MiB [] 95% 0.2s\u001b[0K\u001b[1G163.5 MiB [] 96% 0.2s\u001b[0K\u001b[1G163.5 MiB [] 97% 0.2s\u001b[0K\u001b[1G163.5 MiB [] 97% 0.1s\u001b[0K\u001b[1G163.5 MiB [] 98% 0.1s\u001b[0K\u001b[1G163.5 MiB [] 99% 0.1s\u001b[0K\u001b[1G163.5 MiB [] 99% 0.0s\u001b[0K\u001b[1G163.5 MiB [] 100% 0.0s\u001b[0K\n",
            "Chromium 133.0.6943.16 (playwright build v1155) downloaded to /root/.cache/ms-playwright/chromium-1155\n",
            "Downloading FFMPEG playwright build v1011\u001b[2m from https://cdn.playwright.dev/dbazure/download/playwright/builds/ffmpeg/1011/ffmpeg-linux.zip\u001b[22m\n",
            "\u001b[1G2.3 MiB [] 0% 0.0s\u001b[0K\u001b[1G2.3 MiB [] 2% 0.7s\u001b[0K\u001b[1G2.3 MiB [] 9% 0.3s\u001b[0K\u001b[1G2.3 MiB [] 22% 0.2s\u001b[0K\u001b[1G2.3 MiB [] 61% 0.0s\u001b[0K\u001b[1G2.3 MiB [] 100% 0.0s\u001b[0K\n",
            "FFMPEG playwright build v1011 downloaded to /root/.cache/ms-playwright/ffmpeg-1011\n",
            "Downloading Chromium Headless Shell 133.0.6943.16 (playwright build v1155)\u001b[2m from https://cdn.playwright.dev/dbazure/download/playwright/builds/chromium/1155/chromium-headless-shell-linux.zip\u001b[22m\n",
            "\u001b[1G99.9 MiB [] 0% 0.0s\u001b[0K\u001b[1G99.9 MiB [] 0% 33.0s\u001b[0K\u001b[1G99.9 MiB [] 0% 14.4s\u001b[0K\u001b[1G99.9 MiB [] 0% 9.3s\u001b[0K\u001b[1G99.9 MiB [] 1% 4.8s\u001b[0K\u001b[1G99.9 MiB [] 2% 3.6s\u001b[0K\u001b[1G99.9 MiB [] 3% 2.7s\u001b[0K\u001b[1G99.9 MiB [] 4% 2.3s\u001b[0K\u001b[1G99.9 MiB [] 6% 2.1s\u001b[0K\u001b[1G99.9 MiB [] 7% 2.0s\u001b[0K\u001b[1G99.9 MiB [] 8% 1.8s\u001b[0K\u001b[1G99.9 MiB [] 9% 1.7s\u001b[0K\u001b[1G99.9 MiB [] 10% 1.7s\u001b[0K\u001b[1G99.9 MiB [] 11% 1.7s\u001b[0K\u001b[1G99.9 MiB [] 12% 1.7s\u001b[0K\u001b[1G99.9 MiB [] 13% 1.6s\u001b[0K\u001b[1G99.9 MiB [] 13% 1.7s\u001b[0K\u001b[1G99.9 MiB [] 16% 1.5s\u001b[0K\u001b[1G99.9 MiB [] 17% 1.5s\u001b[0K\u001b[1G99.9 MiB [] 19% 1.4s\u001b[0K\u001b[1G99.9 MiB [] 20% 1.4s\u001b[0K\u001b[1G99.9 MiB [] 21% 1.4s\u001b[0K\u001b[1G99.9 MiB [] 22% 1.4s\u001b[0K\u001b[1G99.9 MiB [] 24% 1.3s\u001b[0K\u001b[1G99.9 MiB [] 25% 1.3s\u001b[0K\u001b[1G99.9 MiB [] 27% 1.2s\u001b[0K\u001b[1G99.9 MiB [] 28% 1.2s\u001b[0K\u001b[1G99.9 MiB [] 30% 1.1s\u001b[0K\u001b[1G99.9 MiB [] 31% 1.1s\u001b[0K\u001b[1G99.9 MiB [] 32% 1.1s\u001b[0K\u001b[1G99.9 MiB [] 34% 1.0s\u001b[0K\u001b[1G99.9 MiB [] 35% 1.0s\u001b[0K\u001b[1G99.9 MiB [] 37% 1.0s\u001b[0K\u001b[1G99.9 MiB [] 38% 0.9s\u001b[0K\u001b[1G99.9 MiB [] 40% 0.9s\u001b[0K\u001b[1G99.9 MiB [] 41% 0.9s\u001b[0K\u001b[1G99.9 MiB [] 43% 0.8s\u001b[0K\u001b[1G99.9 MiB [] 44% 0.8s\u001b[0K\u001b[1G99.9 MiB [] 46% 0.8s\u001b[0K\u001b[1G99.9 MiB [] 47% 0.8s\u001b[0K\u001b[1G99.9 MiB [] 49% 0.7s\u001b[0K\u001b[1G99.9 MiB [] 50% 0.7s\u001b[0K\u001b[1G99.9 MiB [] 53% 0.7s\u001b[0K\u001b[1G99.9 MiB [] 54% 0.6s\u001b[0K\u001b[1G99.9 MiB [] 56% 0.6s\u001b[0K\u001b[1G99.9 MiB [] 58% 0.6s\u001b[0K\u001b[1G99.9 MiB [] 59% 0.6s\u001b[0K\u001b[1G99.9 MiB [] 61% 0.5s\u001b[0K\u001b[1G99.9 MiB [] 62% 0.5s\u001b[0K\u001b[1G99.9 MiB [] 63% 0.5s\u001b[0K\u001b[1G99.9 MiB [] 65% 0.5s\u001b[0K\u001b[1G99.9 MiB [] 66% 0.4s\u001b[0K\u001b[1G99.9 MiB [] 68% 0.4s\u001b[0K\u001b[1G99.9 MiB [] 70% 0.4s\u001b[0K\u001b[1G99.9 MiB [] 71% 0.4s\u001b[0K\u001b[1G99.9 MiB [] 73% 0.4s\u001b[0K\u001b[1G99.9 MiB [] 75% 0.3s\u001b[0K\u001b[1G99.9 MiB [] 77% 0.3s\u001b[0K\u001b[1G99.9 MiB [] 78% 0.3s\u001b[0K\u001b[1G99.9 MiB [] 80% 0.2s\u001b[0K\u001b[1G99.9 MiB [] 81% 0.2s\u001b[0K\u001b[1G99.9 MiB [] 83% 0.2s\u001b[0K\u001b[1G99.9 MiB [] 85% 0.2s\u001b[0K\u001b[1G99.9 MiB [] 87% 0.2s\u001b[0K\u001b[1G99.9 MiB [] 89% 0.1s\u001b[0K\u001b[1G99.9 MiB [] 91% 0.1s\u001b[0K\u001b[1G99.9 MiB [] 92% 0.1s\u001b[0K\u001b[1G99.9 MiB [] 94% 0.1s\u001b[0K\u001b[1G99.9 MiB [] 95% 0.1s\u001b[0K\u001b[1G99.9 MiB [] 97% 0.0s\u001b[0K\u001b[1G99.9 MiB [] 99% 0.0s\u001b[0K\u001b[1G99.9 MiB [] 100% 0.0s\u001b[0K\n",
            "Chromium Headless Shell 133.0.6943.16 (playwright build v1155) downloaded to /root/.cache/ms-playwright/chromium_headless_shell-1155\n"
          ]
        }
      ]
    },
    {
      "cell_type": "code",
      "source": [
        "url = \"https://store.steampowered.com/specials\" # Javascript-heavy website"
      ],
      "metadata": {
        "id": "r2b_5H6wnbNk"
      },
      "execution_count": 3,
      "outputs": []
    },
    {
      "cell_type": "code",
      "source": [
        "# import asyncio\n",
        "# from playwright.async_api import async_playwright\n",
        "\n",
        "# async with async_playwright() as p:\n",
        "#     browser = await p.chromium.launch(headless=True)\n",
        "#     page = await browser.new_page()\n",
        "#     await page.goto(url)\n",
        "#     # await page.screenshot(path=\"screenshot.png\", full_page=True) # From screenshot, we can see not everything is loaded in the webpage so our parsing strategy will fail.\n",
        "\n",
        "#     TIMEOUT = 300001\n",
        "#     await page.wait_for_load_state('networkidle', timeout=TIMEOUT) # When there is nothing left to render and network is literally idle\n",
        "#     await page.evaluate(\"() => window.scroll(0, document.body.scrollHeight)\") # Sometimes, for performance, websites renders information as user scrolls down to the page. So, to get full page content, we have to imitate scroll down on the website\n",
        "#     await page.screenshot(path=\"screenshot2.png\", full_page=True) # From screenshot2, we can see everything is loaded now.\n",
        "#     await browser.close()"
      ],
      "metadata": {
        "id": "E0W_oTmdnbW1"
      },
      "execution_count": 4,
      "outputs": []
    },
    {
      "cell_type": "code",
      "source": [
        "import asyncio\n",
        "from playwright.async_api import async_playwright\n",
        "from selectolax.parser import HTMLParser\n",
        "\n",
        "async def extract_full_body_html(url):\n",
        "    async with async_playwright() as p:\n",
        "        browser = await p.chromium.launch(headless=True)\n",
        "        page = await browser.new_page()\n",
        "\n",
        "        await page.goto(url, wait_until=\"domcontentloaded\")\n",
        "\n",
        "        # Repeatedly scroll until we reach the bottom.\n",
        "        previous_height = 0\n",
        "        while True:\n",
        "            # Scroll to the bottom\n",
        "            await page.evaluate(\"window.scrollTo(0, document.body.scrollHeight)\")\n",
        "\n",
        "            await page.wait_for_load_state('domcontentloaded')\n",
        "\n",
        "            # await page.wait_for_selector('div[class*=\"gASJ2lL_xmVNuZkWGvrWg\"]')\n",
        "\n",
        "            # Wait briefly for any new content to load\n",
        "            await page.wait_for_timeout(2000)\n",
        "\n",
        "            # Check the new scroll height\n",
        "            new_height = await page.evaluate(\"document.body.scrollHeight\")\n",
        "            if new_height == previous_height:\n",
        "                # No new content was loaded, so we’re done\n",
        "                break\n",
        "            previous_height = new_height\n",
        "\n",
        "        html = await page.inner_html(\"body\")\n",
        "\n",
        "        await asyncio.sleep(2)\n",
        "\n",
        "        # Now that we've scrolled fully, take the screenshot\n",
        "        await page.screenshot(path=\"full_screenshot.png\", full_page=True)\n",
        "\n",
        "        await browser.close()\n",
        "\n",
        "        return html\n"
      ],
      "metadata": {
        "id": "m9P1y99hnbZn",
        "colab": {
          "base_uri": "https://localhost:8080/"
        },
        "outputId": "e2c952cc-2c44-41ad-dea0-95cbeb2813f2"
      },
      "execution_count": 8,
      "outputs": [
        {
          "output_type": "stream",
          "name": "stdout",
          "text": [
            "[<Node div>, <Node div>, <Node div>, <Node div>, <Node div>, <Node div>, <Node div>, <Node div>, <Node div>, <Node div>, <Node div>, <Node div>] 12\n"
          ]
        }
      ]
    },
    {
      "cell_type": "code",
      "source": [
        "def get_divs(html):\n",
        "    tree = HTMLParser(html)\n",
        "    divs = tree.css('div[class*=\"gASJ2lL_xmVNuZkWGvrWg\"]') # This class name keeps changing. That is a problem\n",
        "    return divs"
      ],
      "metadata": {
        "id": "JmLiJBnZnblL"
      },
      "execution_count": null,
      "outputs": []
    },
    {
      "cell_type": "code",
      "source": [
        "# # Running inside Jupyter Notebook\n",
        "# async def main():\n",
        "#     html = await extract_full_body_html(url)\n",
        "#     print(get_divs(html), len(get_divs(html)))\n",
        "\n",
        "# # Run the async function properly\n",
        "# await main()\n",
        "html = await extract_full_body_html(url)"
      ],
      "metadata": {
        "id": "zk9B3cbUnbn-",
        "colab": {
          "base_uri": "https://localhost:8080/"
        },
        "outputId": "c3c5640f-a5fb-4c9c-fbaa-bbb29bc1c9f5"
      },
      "execution_count": 9,
      "outputs": [
        {
          "output_type": "stream",
          "name": "stdout",
          "text": [
            "[<Node div>, <Node div>, <Node div>, <Node div>, <Node div>, <Node div>, <Node div>, <Node div>, <Node div>, <Node div>, <Node div>, <Node div>] 12\n"
          ]
        }
      ]
    },
    {
      "cell_type": "code",
      "source": [
        "# print(get_divs(html), len(get_divs(html)))\n",
        "divs = get_divs(html)"
      ],
      "metadata": {
        "id": "iUyIpo2Anbq4"
      },
      "execution_count": 10,
      "outputs": []
    },
    {
      "cell_type": "code",
      "source": [
        "for d in divs:\n",
        "    title = d.css_first('div[class*=\"StoreSaleWidgetTitle\"]').text(strip=True)\n",
        "    thumbnail = d.css_first('div[class*=\"CapsuleImageCtn\"] > img').attributes.get('src')\n",
        "    tags = [tag.text() for tag in d.css('div[class*=\"gASJ2lL_xmVNuZkWGvrWg\"] a[class*=\"WidgetTag\"]')[:5]]\n",
        "    review = d.css_first('div[class*=\"gASJ2lL_xmVNuZkWGvrWg\"] a[class*=\"ReviewScore\"] > div > div')\n",
        "\n",
        "    release_date_div = review.previous_sibling\n",
        "    release_date = d.css(f'{release_date_div} > div').text(strip=True)\n",
        "\n",
        "    attrs = {\n",
        "        'title': title,\n",
        "        'tags': tags,\n",
        "        'thumbnail': thumbnail,\n",
        "        'review': review.text(strip=True) if review else None,\n",
        "        'release_date': release_date_div\n",
        "    }\n",
        "    print(attrs)"
      ],
      "metadata": {
        "id": "4DpJ6X1Bnbtt",
        "colab": {
          "base_uri": "https://localhost:8080/",
          "height": 211
        },
        "outputId": "75d385fb-9eea-45cb-ea5e-3fffe355221e"
      },
      "execution_count": 31,
      "outputs": [
        {
          "output_type": "error",
          "ename": "AttributeError",
          "evalue": "'selectolax.parser.Node' object has no attribute 'previous_sibling'",
          "traceback": [
            "\u001b[0;31m---------------------------------------------------------------------------\u001b[0m",
            "\u001b[0;31mAttributeError\u001b[0m                            Traceback (most recent call last)",
            "\u001b[0;32m<ipython-input-31-3cee0bc22381>\u001b[0m in \u001b[0;36m<cell line: 0>\u001b[0;34m()\u001b[0m\n\u001b[1;32m      5\u001b[0m     \u001b[0mreview\u001b[0m \u001b[0;34m=\u001b[0m \u001b[0md\u001b[0m\u001b[0;34m.\u001b[0m\u001b[0mcss_first\u001b[0m\u001b[0;34m(\u001b[0m\u001b[0;34m'div[class*=\"gASJ2lL_xmVNuZkWGvrWg\"] a[class*=\"ReviewScore\"] > div > div'\u001b[0m\u001b[0;34m)\u001b[0m\u001b[0;34m\u001b[0m\u001b[0;34m\u001b[0m\u001b[0m\n\u001b[1;32m      6\u001b[0m \u001b[0;34m\u001b[0m\u001b[0m\n\u001b[0;32m----> 7\u001b[0;31m     \u001b[0mrelease_date_div\u001b[0m \u001b[0;34m=\u001b[0m \u001b[0mreview\u001b[0m\u001b[0;34m.\u001b[0m\u001b[0mprevious_sibling\u001b[0m\u001b[0;34m\u001b[0m\u001b[0;34m\u001b[0m\u001b[0m\n\u001b[0m\u001b[1;32m      8\u001b[0m     \u001b[0mrelease_date\u001b[0m \u001b[0;34m=\u001b[0m \u001b[0md\u001b[0m\u001b[0;34m.\u001b[0m\u001b[0mcss\u001b[0m\u001b[0;34m(\u001b[0m\u001b[0;34mf'{release_date_div} > div'\u001b[0m\u001b[0;34m)\u001b[0m\u001b[0;34m.\u001b[0m\u001b[0mtext\u001b[0m\u001b[0;34m(\u001b[0m\u001b[0mstrip\u001b[0m\u001b[0;34m=\u001b[0m\u001b[0;32mTrue\u001b[0m\u001b[0;34m)\u001b[0m\u001b[0;34m\u001b[0m\u001b[0;34m\u001b[0m\u001b[0m\n\u001b[1;32m      9\u001b[0m \u001b[0;34m\u001b[0m\u001b[0m\n",
            "\u001b[0;31mAttributeError\u001b[0m: 'selectolax.parser.Node' object has no attribute 'previous_sibling'"
          ]
        }
      ]
    },
    {
      "cell_type": "code",
      "source": [],
      "metadata": {
        "id": "xs_E3z0Anbwv"
      },
      "execution_count": null,
      "outputs": []
    },
    {
      "cell_type": "code",
      "source": [],
      "metadata": {
        "id": "QYXfnQPenbzZ"
      },
      "execution_count": null,
      "outputs": []
    },
    {
      "cell_type": "code",
      "source": [],
      "metadata": {
        "id": "uofgADuXnb2d"
      },
      "execution_count": null,
      "outputs": []
    },
    {
      "cell_type": "code",
      "source": [],
      "metadata": {
        "id": "sqc02gIGnb5N"
      },
      "execution_count": null,
      "outputs": []
    },
    {
      "cell_type": "code",
      "source": [],
      "metadata": {
        "id": "Fj1hRR6mnb7s"
      },
      "execution_count": null,
      "outputs": []
    },
    {
      "cell_type": "code",
      "source": [],
      "metadata": {
        "id": "k9w9t4plnb-X"
      },
      "execution_count": null,
      "outputs": []
    },
    {
      "cell_type": "code",
      "source": [],
      "metadata": {
        "id": "acgZYwW4ncBE"
      },
      "execution_count": null,
      "outputs": []
    },
    {
      "cell_type": "code",
      "source": [],
      "metadata": {
        "id": "SS6fkJmPncEB"
      },
      "execution_count": null,
      "outputs": []
    },
    {
      "cell_type": "code",
      "source": [],
      "metadata": {
        "id": "Yo3aAVP5ncGw"
      },
      "execution_count": null,
      "outputs": []
    },
    {
      "cell_type": "code",
      "source": [],
      "metadata": {
        "id": "ZZ-ekjyrncJJ"
      },
      "execution_count": null,
      "outputs": []
    },
    {
      "cell_type": "code",
      "source": [],
      "metadata": {
        "id": "zOraY0HWncMA"
      },
      "execution_count": null,
      "outputs": []
    },
    {
      "cell_type": "code",
      "source": [],
      "metadata": {
        "id": "bpVqlOSfncOz"
      },
      "execution_count": null,
      "outputs": []
    },
    {
      "cell_type": "code",
      "source": [],
      "metadata": {
        "id": "0_lsLumcncSH"
      },
      "execution_count": null,
      "outputs": []
    },
    {
      "cell_type": "code",
      "source": [],
      "metadata": {
        "id": "uUIMz2icncVm"
      },
      "execution_count": null,
      "outputs": []
    }
  ]
}